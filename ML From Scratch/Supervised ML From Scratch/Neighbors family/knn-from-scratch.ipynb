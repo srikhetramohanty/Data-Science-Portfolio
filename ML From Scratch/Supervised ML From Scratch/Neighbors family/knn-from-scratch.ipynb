{
 "cells": [
  {
   "cell_type": "code",
   "execution_count": 1,
   "id": "ordered-steel",
   "metadata": {
    "_cell_guid": "b1076dfc-b9ad-4769-8c92-a6c4dae69d19",
    "_uuid": "8f2839f25d086af736a60e9eeb907d3b93b6e0e5",
    "execution": {
     "iopub.execute_input": "2021-07-27T02:35:32.494458Z",
     "iopub.status.busy": "2021-07-27T02:35:32.492811Z",
     "iopub.status.idle": "2021-07-27T02:35:33.386094Z",
     "shell.execute_reply": "2021-07-27T02:35:33.386606Z",
     "shell.execute_reply.started": "2021-07-27T02:14:38.657408Z"
    },
    "papermill": {
     "duration": 0.912509,
     "end_time": "2021-07-27T02:35:33.386962",
     "exception": false,
     "start_time": "2021-07-27T02:35:32.474453",
     "status": "completed"
    },
    "tags": []
   },
   "outputs": [
    {
     "name": "stdout",
     "output_type": "stream",
     "text": [
      "/kaggle/input/titanic/train_data.csv\n",
      "/kaggle/input/titanic/test_data.csv\n",
      "/kaggle/input/classification-of-malwares/ClaMP_Integrated-5184.csv\n",
      "/kaggle/input/classification-of-malwares/ClaMP_Raw-5184.csv\n"
     ]
    }
   ],
   "source": [
    "# This Python 3 environment comes with many helpful analytics libraries installed\n",
    "# It is defined by the kaggle/python Docker image: https://github.com/kaggle/docker-python\n",
    "# For example, here's several helpful packages to load\n",
    "\n",
    "import numpy as np # linear algebra\n",
    "import pandas as pd # data processing, CSV file I/O (e.g. pd.read_csv)\n",
    "import math\n",
    "from sklearn.metrics import roc_auc_score\n",
    "from sklearn.metrics import accuracy_score\n",
    "from sklearn.metrics import classification_report\n",
    "from sklearn.metrics import confusion_matrix\n",
    "\n",
    "# Input data files are available in the read-only \"../input/\" directory\n",
    "# For example, running this (by clicking run or pressing Shift+Enter) will list all files under the input directory\n",
    "\n",
    "import os\n",
    "for dirname, _, filenames in os.walk('/kaggle/input'):\n",
    "    for filename in filenames:\n",
    "        print(os.path.join(dirname, filename))\n",
    "\n",
    "# You can write up to 20GB to the current directory (/kaggle/working/) that gets preserved as output when you create a version using \"Save & Run All\" \n",
    "# You can also write temporary files to /kaggle/temp/, but they won't be saved outside of the current session"
   ]
  },
  {
   "cell_type": "markdown",
   "id": "spiritual-plaintiff",
   "metadata": {
    "papermill": {
     "duration": 0.011871,
     "end_time": "2021-07-27T02:35:33.411875",
     "exception": false,
     "start_time": "2021-07-27T02:35:33.400004",
     "status": "completed"
    },
    "tags": []
   },
   "source": [
    "# Testing the major dimensionality reduction techniques on a new dataset - The malware classification dataset from the location :\n",
    "https://www.kaggle.com/saurabhshahane/classification-of-malwares"
   ]
  },
  {
   "cell_type": "code",
   "execution_count": 2,
   "id": "significant-variation",
   "metadata": {
    "execution": {
     "iopub.execute_input": "2021-07-27T02:35:33.441306Z",
     "iopub.status.busy": "2021-07-27T02:35:33.440571Z",
     "iopub.status.idle": "2021-07-27T02:35:33.544246Z",
     "shell.execute_reply": "2021-07-27T02:35:33.544843Z",
     "shell.execute_reply.started": "2021-07-27T02:10:02.098277Z"
    },
    "papermill": {
     "duration": 0.120906,
     "end_time": "2021-07-27T02:35:33.545070",
     "exception": false,
     "start_time": "2021-07-27T02:35:33.424164",
     "status": "completed"
    },
    "tags": []
   },
   "outputs": [
    {
     "name": "stdout",
     "output_type": "stream",
     "text": [
      "Total Shape : (5210, 70)\n"
     ]
    },
    {
     "data": {
      "text/html": [
       "<div>\n",
       "<style scoped>\n",
       "    .dataframe tbody tr th:only-of-type {\n",
       "        vertical-align: middle;\n",
       "    }\n",
       "\n",
       "    .dataframe tbody tr th {\n",
       "        vertical-align: top;\n",
       "    }\n",
       "\n",
       "    .dataframe thead th {\n",
       "        text-align: right;\n",
       "    }\n",
       "</style>\n",
       "<table border=\"1\" class=\"dataframe\">\n",
       "  <thead>\n",
       "    <tr style=\"text-align: right;\">\n",
       "      <th></th>\n",
       "      <th>e_cblp</th>\n",
       "      <th>e_cp</th>\n",
       "      <th>e_cparhdr</th>\n",
       "      <th>e_maxalloc</th>\n",
       "      <th>e_sp</th>\n",
       "      <th>e_lfanew</th>\n",
       "      <th>NumberOfSections</th>\n",
       "      <th>CreationYear</th>\n",
       "      <th>FH_char0</th>\n",
       "      <th>FH_char1</th>\n",
       "      <th>...</th>\n",
       "      <th>sus_sections</th>\n",
       "      <th>non_sus_sections</th>\n",
       "      <th>packer</th>\n",
       "      <th>packer_type</th>\n",
       "      <th>E_text</th>\n",
       "      <th>E_data</th>\n",
       "      <th>filesize</th>\n",
       "      <th>E_file</th>\n",
       "      <th>fileinfo</th>\n",
       "      <th>class</th>\n",
       "    </tr>\n",
       "  </thead>\n",
       "  <tbody>\n",
       "    <tr>\n",
       "      <th>0</th>\n",
       "      <td>144</td>\n",
       "      <td>3</td>\n",
       "      <td>4</td>\n",
       "      <td>65535</td>\n",
       "      <td>184</td>\n",
       "      <td>256</td>\n",
       "      <td>4</td>\n",
       "      <td>1</td>\n",
       "      <td>0</td>\n",
       "      <td>1</td>\n",
       "      <td>...</td>\n",
       "      <td>1</td>\n",
       "      <td>3</td>\n",
       "      <td>0</td>\n",
       "      <td>NoPacker</td>\n",
       "      <td>6.603616</td>\n",
       "      <td>5.443362</td>\n",
       "      <td>1181520</td>\n",
       "      <td>6.627552</td>\n",
       "      <td>1</td>\n",
       "      <td>0</td>\n",
       "    </tr>\n",
       "    <tr>\n",
       "      <th>1</th>\n",
       "      <td>144</td>\n",
       "      <td>3</td>\n",
       "      <td>4</td>\n",
       "      <td>65535</td>\n",
       "      <td>184</td>\n",
       "      <td>184</td>\n",
       "      <td>4</td>\n",
       "      <td>1</td>\n",
       "      <td>0</td>\n",
       "      <td>1</td>\n",
       "      <td>...</td>\n",
       "      <td>1</td>\n",
       "      <td>3</td>\n",
       "      <td>0</td>\n",
       "      <td>NoPacker</td>\n",
       "      <td>5.205926</td>\n",
       "      <td>2.123522</td>\n",
       "      <td>7680</td>\n",
       "      <td>5.318221</td>\n",
       "      <td>0</td>\n",
       "      <td>0</td>\n",
       "    </tr>\n",
       "    <tr>\n",
       "      <th>2</th>\n",
       "      <td>144</td>\n",
       "      <td>3</td>\n",
       "      <td>4</td>\n",
       "      <td>65535</td>\n",
       "      <td>184</td>\n",
       "      <td>272</td>\n",
       "      <td>5</td>\n",
       "      <td>1</td>\n",
       "      <td>0</td>\n",
       "      <td>1</td>\n",
       "      <td>...</td>\n",
       "      <td>1</td>\n",
       "      <td>4</td>\n",
       "      <td>0</td>\n",
       "      <td>NoPacker</td>\n",
       "      <td>6.238000</td>\n",
       "      <td>3.380859</td>\n",
       "      <td>57872</td>\n",
       "      <td>6.507758</td>\n",
       "      <td>1</td>\n",
       "      <td>0</td>\n",
       "    </tr>\n",
       "    <tr>\n",
       "      <th>3</th>\n",
       "      <td>144</td>\n",
       "      <td>3</td>\n",
       "      <td>4</td>\n",
       "      <td>65535</td>\n",
       "      <td>184</td>\n",
       "      <td>184</td>\n",
       "      <td>1</td>\n",
       "      <td>1</td>\n",
       "      <td>0</td>\n",
       "      <td>1</td>\n",
       "      <td>...</td>\n",
       "      <td>0</td>\n",
       "      <td>1</td>\n",
       "      <td>0</td>\n",
       "      <td>NoPacker</td>\n",
       "      <td>0.000000</td>\n",
       "      <td>0.000000</td>\n",
       "      <td>95616</td>\n",
       "      <td>4.575092</td>\n",
       "      <td>1</td>\n",
       "      <td>0</td>\n",
       "    </tr>\n",
       "    <tr>\n",
       "      <th>4</th>\n",
       "      <td>144</td>\n",
       "      <td>3</td>\n",
       "      <td>4</td>\n",
       "      <td>65535</td>\n",
       "      <td>184</td>\n",
       "      <td>224</td>\n",
       "      <td>5</td>\n",
       "      <td>1</td>\n",
       "      <td>0</td>\n",
       "      <td>1</td>\n",
       "      <td>...</td>\n",
       "      <td>1</td>\n",
       "      <td>4</td>\n",
       "      <td>0</td>\n",
       "      <td>NoPacker</td>\n",
       "      <td>6.355626</td>\n",
       "      <td>0.702621</td>\n",
       "      <td>48128</td>\n",
       "      <td>5.545531</td>\n",
       "      <td>1</td>\n",
       "      <td>0</td>\n",
       "    </tr>\n",
       "  </tbody>\n",
       "</table>\n",
       "<p>5 rows × 70 columns</p>\n",
       "</div>"
      ],
      "text/plain": [
       "   e_cblp  e_cp  e_cparhdr  e_maxalloc  e_sp  e_lfanew  NumberOfSections  \\\n",
       "0     144     3          4       65535   184       256                 4   \n",
       "1     144     3          4       65535   184       184                 4   \n",
       "2     144     3          4       65535   184       272                 5   \n",
       "3     144     3          4       65535   184       184                 1   \n",
       "4     144     3          4       65535   184       224                 5   \n",
       "\n",
       "   CreationYear  FH_char0  FH_char1  ...  sus_sections  non_sus_sections  \\\n",
       "0             1         0         1  ...             1                 3   \n",
       "1             1         0         1  ...             1                 3   \n",
       "2             1         0         1  ...             1                 4   \n",
       "3             1         0         1  ...             0                 1   \n",
       "4             1         0         1  ...             1                 4   \n",
       "\n",
       "   packer  packer_type    E_text    E_data  filesize    E_file  fileinfo  \\\n",
       "0       0     NoPacker  6.603616  5.443362   1181520  6.627552         1   \n",
       "1       0     NoPacker  5.205926  2.123522      7680  5.318221         0   \n",
       "2       0     NoPacker  6.238000  3.380859     57872  6.507758         1   \n",
       "3       0     NoPacker  0.000000  0.000000     95616  4.575092         1   \n",
       "4       0     NoPacker  6.355626  0.702621     48128  5.545531         1   \n",
       "\n",
       "   class  \n",
       "0      0  \n",
       "1      0  \n",
       "2      0  \n",
       "3      0  \n",
       "4      0  \n",
       "\n",
       "[5 rows x 70 columns]"
      ]
     },
     "execution_count": 2,
     "metadata": {},
     "output_type": "execute_result"
    }
   ],
   "source": [
    "dataset = pd.read_csv(r\"../input/classification-of-malwares/ClaMP_Integrated-5184.csv\")\n",
    "\n",
    "#------------------------------------------------------------------------------------------------\n",
    "#Summary\n",
    "print('Total Shape :',dataset.shape)\n",
    "dataset.head()"
   ]
  },
  {
   "cell_type": "markdown",
   "id": "serial-tension",
   "metadata": {
    "papermill": {
     "duration": 0.013123,
     "end_time": "2021-07-27T02:35:33.572080",
     "exception": false,
     "start_time": "2021-07-27T02:35:33.558957",
     "status": "completed"
    },
    "tags": []
   },
   "source": [
    "# Pre-Processing the data to enable one-hot encoding on the categorical columns"
   ]
  },
  {
   "cell_type": "code",
   "execution_count": 3,
   "id": "nervous-exploration",
   "metadata": {
    "execution": {
     "iopub.execute_input": "2021-07-27T02:35:33.613644Z",
     "iopub.status.busy": "2021-07-27T02:35:33.613018Z",
     "iopub.status.idle": "2021-07-27T02:35:33.655089Z",
     "shell.execute_reply": "2021-07-27T02:35:33.654235Z",
     "shell.execute_reply.started": "2021-07-27T02:10:02.200494Z"
    },
    "papermill": {
     "duration": 0.069979,
     "end_time": "2021-07-27T02:35:33.655275",
     "exception": false,
     "start_time": "2021-07-27T02:35:33.585296",
     "status": "completed"
    },
    "tags": []
   },
   "outputs": [
    {
     "name": "stdout",
     "output_type": "stream",
     "text": [
      "Total unique values in \"packer_type\": 40\n",
      "Shape of encode : (5210, 9)\n"
     ]
    },
    {
     "data": {
      "text/plain": [
       "(5210, 78)"
      ]
     },
     "execution_count": 3,
     "metadata": {},
     "output_type": "execute_result"
    }
   ],
   "source": [
    "type_df = pd.DataFrame(dataset.dtypes).reset_index()\n",
    "type_df.columns=['cols','type']\n",
    "type_df[type_df['type']=='object']['cols'].unique()\n",
    "\n",
    "#------------------------------------------------------------------------------------\n",
    "print('Total unique values in \"packer_type\":',dataset['packer_type'].nunique())\n",
    "#------------------------------------------------------------------------------------\n",
    "#Extracting the required levels only, based on value counts. \n",
    "packer_unique_df = pd.DataFrame(dataset['packer_type'].value_counts()).reset_index()\n",
    "packer_unique_df.columns = ['packer_type','unique_count']\n",
    "catg = packer_unique_df[packer_unique_df['unique_count']>10]['packer_type'].unique()\n",
    "#------------------------------------------------------------------------------------\n",
    "encoded = pd.get_dummies(dataset['packer_type'])\n",
    "encoded = encoded[[col for col in list(encoded.columns) if col in catg]]\n",
    "print('Shape of encode :',encoded.shape)\n",
    "#------------------------------------------------------------------------------------\n",
    "#Concatenating the encoded columns\n",
    "if set(catg).issubset(set(dataset.columns))==False: #Conditional automation \n",
    "    dataset = pd.concat([dataset,encoded],axis=1)\n",
    "    dataset.drop(columns='packer_type',inplace=True)\n",
    "\n",
    "dataset.shape"
   ]
  },
  {
   "cell_type": "markdown",
   "id": "second-david",
   "metadata": {
    "papermill": {
     "duration": 0.01361,
     "end_time": "2021-07-27T02:35:33.684227",
     "exception": false,
     "start_time": "2021-07-27T02:35:33.670617",
     "status": "completed"
    },
    "tags": []
   },
   "source": [
    "# Separating the target column for our analysis (Since it is an dependent column in this use-case) and scaling the data (standard scaler)"
   ]
  },
  {
   "cell_type": "code",
   "execution_count": 4,
   "id": "directed-membership",
   "metadata": {
    "execution": {
     "iopub.execute_input": "2021-07-27T02:35:33.715322Z",
     "iopub.status.busy": "2021-07-27T02:35:33.714466Z",
     "iopub.status.idle": "2021-07-27T02:35:33.768179Z",
     "shell.execute_reply": "2021-07-27T02:35:33.767574Z",
     "shell.execute_reply.started": "2021-07-27T02:10:02.274961Z"
    },
    "papermill": {
     "duration": 0.069891,
     "end_time": "2021-07-27T02:35:33.768296",
     "exception": false,
     "start_time": "2021-07-27T02:35:33.698405",
     "status": "completed"
    },
    "tags": []
   },
   "outputs": [
    {
     "name": "stdout",
     "output_type": "stream",
     "text": [
      "Total Shape of Train X: (3490, 77)\n",
      "Total Shape of Train Y: (3490, 1)\n",
      "Total Shape of Test X: (1720, 77)\n",
      "(3490, 77)\n",
      "(1720, 77)\n",
      "(3490, 1)\n"
     ]
    }
   ],
   "source": [
    "from sklearn.preprocessing import StandardScaler\n",
    "from sklearn.model_selection import train_test_split\n",
    "\n",
    "# Test Train Split for modelling purpose\n",
    "X = dataset.loc[:,[cols for cols in dataset.columns if ('class' not in cols)]] #Removing time since its a level column\n",
    "y = dataset.loc[:,[cols for cols in dataset.columns if 'class' in cols]]\n",
    "\n",
    "#----------------------------------------------------------------------------------------------------\n",
    "#Scaling the features\n",
    "scaler = StandardScaler()\n",
    "X = scaler.fit_transform(X)\n",
    "\n",
    "#Splitting data into train-test\n",
    "X_train, X_test, y_train, y_test = train_test_split(X, y, test_size=0.33,random_state=100)\n",
    "\n",
    "#----------------------------------------------------------------------------------------------------\n",
    "print('Total Shape of Train X:',X_train.shape)\n",
    "print('Total Shape of Train Y:',y_train.shape)\n",
    "print('Total Shape of Test X:',X_test.shape)\n",
    "\n",
    "#----------------------------------------------------------------------------------------------------\n",
    "\n",
    "X_arr = np.array(X_train)\n",
    "X_test_arr = np.array(X_test)\n",
    "\n",
    "y_arr = np.array(y_train).reshape(len(y_train),1)\n",
    "y_test_arr = np.array(y_test).reshape(len(y_test),1)\n",
    "\n",
    "#----------------------------------------------------------------------------------------------------\n",
    "print(X_arr.shape)\n",
    "print(X_test_arr.shape)\n",
    "print(y_arr.shape)"
   ]
  },
  {
   "cell_type": "markdown",
   "id": "drawn-kansas",
   "metadata": {
    "papermill": {
     "duration": 0.013478,
     "end_time": "2021-07-27T02:35:33.795935",
     "exception": false,
     "start_time": "2021-07-27T02:35:33.782457",
     "status": "completed"
    },
    "tags": []
   },
   "source": [
    "# KNN from scratch"
   ]
  },
  {
   "cell_type": "markdown",
   "id": "caring-parameter",
   "metadata": {
    "papermill": {
     "duration": 0.013842,
     "end_time": "2021-07-27T02:35:33.823840",
     "exception": false,
     "start_time": "2021-07-27T02:35:33.809998",
     "status": "completed"
    },
    "tags": []
   },
   "source": [
    "## Utility UDF's regarding distance calculation"
   ]
  },
  {
   "cell_type": "code",
   "execution_count": 5,
   "id": "through-importance",
   "metadata": {
    "execution": {
     "iopub.execute_input": "2021-07-27T02:35:33.853757Z",
     "iopub.status.busy": "2021-07-27T02:35:33.853224Z",
     "iopub.status.idle": "2021-07-27T02:35:33.860467Z",
     "shell.execute_reply": "2021-07-27T02:35:33.859884Z",
     "shell.execute_reply.started": "2021-07-27T02:10:03.456062Z"
    },
    "papermill": {
     "duration": 0.023159,
     "end_time": "2021-07-27T02:35:33.860586",
     "exception": false,
     "start_time": "2021-07-27T02:35:33.837427",
     "status": "completed"
    },
    "tags": []
   },
   "outputs": [],
   "source": [
    "#distance calculation udf\n",
    "def minkowski_(point_a,point_b,p=2):\n",
    "    \n",
    "    if p==1:\n",
    "        print('----> Manhattan')\n",
    "        dist = np.sum(abs(point_a-point_b))\n",
    "        print('Manual Distance :',dist)\n",
    "    elif p==2:\n",
    "        #print('----> Euclidean')\n",
    "        dist = np.sqrt(np.sum(np.square(point_a-point_b)))\n",
    "        #print('Manual Distance :',dist)\n",
    "        \n",
    "    return dist\n",
    "\n",
    "#------------------------------------------------------------------\n",
    "#Calculate distance from one point to all other points including itself\n",
    "def distance_to_all(curr_vec,data,p_=2):\n",
    "\n",
    "    distance_list = []\n",
    "\n",
    "    for vec_idx in range(len(data)):\n",
    "        dist = minkowski_(point_a=curr_vec,point_b=data[vec_idx],p=p_)\n",
    "        distance_list.append(dist)\n",
    "\n",
    "    return distance_list"
   ]
  },
  {
   "cell_type": "markdown",
   "id": "proper-expense",
   "metadata": {
    "papermill": {
     "duration": 0.01354,
     "end_time": "2021-07-27T02:35:33.887571",
     "exception": false,
     "start_time": "2021-07-27T02:35:33.874031",
     "status": "completed"
    },
    "tags": []
   },
   "source": [
    "## UDF for KNN operation"
   ]
  },
  {
   "cell_type": "code",
   "execution_count": 6,
   "id": "interior-sheffield",
   "metadata": {
    "execution": {
     "iopub.execute_input": "2021-07-27T02:35:33.924977Z",
     "iopub.status.busy": "2021-07-27T02:35:33.924361Z",
     "iopub.status.idle": "2021-07-27T02:35:33.927355Z",
     "shell.execute_reply": "2021-07-27T02:35:33.926730Z",
     "shell.execute_reply.started": "2021-07-27T02:11:22.343618Z"
    },
    "papermill": {
     "duration": 0.025947,
     "end_time": "2021-07-27T02:35:33.927505",
     "exception": false,
     "start_time": "2021-07-27T02:35:33.901558",
     "status": "completed"
    },
    "tags": []
   },
   "outputs": [],
   "source": [
    "predictions = []\n",
    "probabilities = []\n",
    "\n",
    "def knn_model(data_x=X_arr,data_y=y_arr,k=10,curr_vec_=X_test_arr[34],mode='predict',threshold=0.5):\n",
    "\n",
    "    #print('#--------------------------------------------------------------------------------')\n",
    "    #Calculating distance of that point to every other point\n",
    "    distance_list = distance_to_all(curr_vec=curr_vec_,data=data_x,p_=2)\n",
    "    distance_list_reshaped = np.array(distance_list).reshape(len(distance_list),1)\n",
    "\n",
    "    #print('#--------------------------------------------------------------------------------')\n",
    "    #Creating a unified array for ease of indexing\n",
    "    array_final = data_x\n",
    "    array_final = np.append(array_final,data_y,axis=-1)\n",
    "    array_final = np.append(array_final,distance_list_reshaped,axis=-1) #Appending distances\n",
    "    \n",
    "    #Sorting the datapoints by the distance column\n",
    "    array_final_argsorted = array_final[array_final[:, -1].argsort()]\n",
    "\n",
    "    if mode=='train':\n",
    "\n",
    "        array_final_argsorted_top_k = array_final_argsorted[1:k+1,-2] #k+1 as the minimum distance is always 0 (with itself)\n",
    "        ratio_ = np.sum(array_final_argsorted_top_k)/k #Total density around the point\n",
    "\n",
    "        if ratio_>threshold:\n",
    "            predictions.append(1)\n",
    "        else:\n",
    "            predictions.append(0)\n",
    "            \n",
    "    elif mode=='predict':\n",
    "\n",
    "        array_final_argsorted_top_k = array_final_argsorted[0:k,-2] #Not k+1 since test data is not present in the training data (0 dist doesnt occur)\n",
    "        ratio_ = np.sum(array_final_argsorted_top_k)/k\n",
    "\n",
    "        if ratio_>threshold:\n",
    "            pred = 1\n",
    "        else:\n",
    "            pred = 0\n",
    "\n",
    "    return pred,ratio_    "
   ]
  },
  {
   "cell_type": "markdown",
   "id": "bearing-jewel",
   "metadata": {
    "papermill": {
     "duration": 0.013993,
     "end_time": "2021-07-27T02:35:33.956468",
     "exception": false,
     "start_time": "2021-07-27T02:35:33.942475",
     "status": "completed"
    },
    "tags": []
   },
   "source": [
    "## Invoking the UDF for KNN for test data"
   ]
  },
  {
   "cell_type": "code",
   "execution_count": 7,
   "id": "retained-trial",
   "metadata": {
    "execution": {
     "iopub.execute_input": "2021-07-27T02:35:34.034026Z",
     "iopub.status.busy": "2021-07-27T02:35:34.022539Z",
     "iopub.status.idle": "2021-07-27T02:36:53.461942Z",
     "shell.execute_reply": "2021-07-27T02:36:53.462356Z",
     "shell.execute_reply.started": "2021-07-27T02:23:49.452879Z"
    },
    "papermill": {
     "duration": 79.492203,
     "end_time": "2021-07-27T02:36:53.462505",
     "exception": false,
     "start_time": "2021-07-27T02:35:33.970302",
     "status": "completed"
    },
    "tags": []
   },
   "outputs": [
    {
     "name": "stdout",
     "output_type": "stream",
     "text": [
      "1. ROC AUC: 0.973\n",
      "2. Accuracy : 0.9738372093023255\n",
      "3. Classification Report -\n",
      "               precision    recall  f1-score   support\n",
      "\n",
      "           0       0.98      0.96      0.97       821\n",
      "           1       0.97      0.98      0.98       899\n",
      "\n",
      "    accuracy                           0.97      1720\n",
      "   macro avg       0.97      0.97      0.97      1720\n",
      "weighted avg       0.97      0.97      0.97      1720\n",
      "\n",
      "4. Confusion Matrix - \n",
      " [[790  31]\n",
      " [ 14 885]]\n"
     ]
    }
   ],
   "source": [
    "predictions = [] #Initializing predictions tray for each test datapoint\n",
    "probabilities = [] #Initializing prediction probability tray for each test datapoint\n",
    "\n",
    "for idx in range(len(X_test)): #Iterating for datapoint in test data\n",
    "    #print('#-------------- ',idx,' --------------#')\n",
    "    pred,prob = knn_model(data_x=X_arr,data_y=y_arr,\n",
    "                          k=5,curr_vec_=X_test_arr[idx],\n",
    "                          mode='predict',threshold=0.5)\n",
    "    \n",
    "    predictions.append(pred) #Appending into the tray\n",
    "    probabilities.append(prob) #Appending into the tray\n",
    "    \n",
    "    \n",
    "#-----------------------------------------------\n",
    "#Evaluating the predictions from the KNN model\n",
    "score = roc_auc_score(y_test_arr, predictions)\n",
    "print('1. ROC AUC: %.3f' % score)\n",
    "print('2. Accuracy :',accuracy_score(y_test_arr, predictions))\n",
    "print('3. Classification Report -\\n',classification_report(y_test_arr, predictions))\n",
    "print('4. Confusion Matrix - \\n',confusion_matrix(y_test_arr, predictions))"
   ]
  },
  {
   "cell_type": "markdown",
   "id": "attractive-coordinator",
   "metadata": {
    "papermill": {
     "duration": 0.014379,
     "end_time": "2021-07-27T02:36:53.491317",
     "exception": false,
     "start_time": "2021-07-27T02:36:53.476938",
     "status": "completed"
    },
    "tags": []
   },
   "source": [
    "# Sklearn implementation for benchmarking"
   ]
  },
  {
   "cell_type": "code",
   "execution_count": 8,
   "id": "white-envelope",
   "metadata": {
    "execution": {
     "iopub.execute_input": "2021-07-27T02:36:53.526207Z",
     "iopub.status.busy": "2021-07-27T02:36:53.525606Z",
     "iopub.status.idle": "2021-07-27T02:36:53.930120Z",
     "shell.execute_reply": "2021-07-27T02:36:53.929500Z",
     "shell.execute_reply.started": "2021-07-27T02:15:19.066196Z"
    },
    "papermill": {
     "duration": 0.424536,
     "end_time": "2021-07-27T02:36:53.930268",
     "exception": false,
     "start_time": "2021-07-27T02:36:53.505732",
     "status": "completed"
    },
    "tags": []
   },
   "outputs": [
    {
     "name": "stderr",
     "output_type": "stream",
     "text": [
      "/opt/conda/lib/python3.7/site-packages/sklearn/neighbors/_classification.py:179: DataConversionWarning: A column-vector y was passed when a 1d array was expected. Please change the shape of y to (n_samples,), for example using ravel().\n",
      "  return self._fit(X, y)\n"
     ]
    },
    {
     "name": "stdout",
     "output_type": "stream",
     "text": [
      "1. ROC AUC: 0.973\n",
      "2. Accuracy : 0.9738372093023255\n",
      "3. Classification Report -\n",
      "               precision    recall  f1-score   support\n",
      "\n",
      "           0       0.98      0.96      0.97       821\n",
      "           1       0.97      0.98      0.98       899\n",
      "\n",
      "    accuracy                           0.97      1720\n",
      "   macro avg       0.97      0.97      0.97      1720\n",
      "weighted avg       0.97      0.97      0.97      1720\n",
      "\n",
      "4. Confusion Matrix - \n",
      " [[790  31]\n",
      " [ 14 885]]\n"
     ]
    }
   ],
   "source": [
    "from sklearn.neighbors import KNeighborsClassifier\n",
    "\n",
    "knn = KNeighborsClassifier(n_neighbors=5)\n",
    "knn.fit(X_arr,y_arr)\n",
    "sklearn_preds = knn.predict(X_test_arr)\n",
    "\n",
    "#------------------------------------------------------------------------------------\n",
    "score = roc_auc_score(y_test_arr, sklearn_preds)\n",
    "print('1. ROC AUC: %.3f' % score)\n",
    "print('2. Accuracy :',accuracy_score(y_test_arr, sklearn_preds))\n",
    "print('3. Classification Report -\\n',classification_report(y_test_arr, sklearn_preds))\n",
    "print('4. Confusion Matrix - \\n',confusion_matrix(y_test_arr, sklearn_preds))"
   ]
  },
  {
   "cell_type": "markdown",
   "id": "valuable-franchise",
   "metadata": {
    "papermill": {
     "duration": 0.015524,
     "end_time": "2021-07-27T02:36:53.961802",
     "exception": false,
     "start_time": "2021-07-27T02:36:53.946278",
     "status": "completed"
    },
    "tags": []
   },
   "source": [
    "## Insights : \n",
    "1. The manual implementation gives exact result as the sklearn implementation suggesting that the implementation is correct"
   ]
  },
  {
   "cell_type": "markdown",
   "id": "occupied-subscription",
   "metadata": {
    "papermill": {
     "duration": 0.014947,
     "end_time": "2021-07-27T02:36:53.992004",
     "exception": false,
     "start_time": "2021-07-27T02:36:53.977057",
     "status": "completed"
    },
    "tags": []
   },
   "source": [
    "# END"
   ]
  },
  {
   "cell_type": "code",
   "execution_count": null,
   "id": "stone-representation",
   "metadata": {
    "papermill": {
     "duration": 0.015307,
     "end_time": "2021-07-27T02:36:54.022649",
     "exception": false,
     "start_time": "2021-07-27T02:36:54.007342",
     "status": "completed"
    },
    "tags": []
   },
   "outputs": [],
   "source": []
  }
 ],
 "metadata": {
  "kernelspec": {
   "display_name": "Python 3",
   "language": "python",
   "name": "python3"
  },
  "language_info": {
   "codemirror_mode": {
    "name": "ipython",
    "version": 3
   },
   "file_extension": ".py",
   "mimetype": "text/x-python",
   "name": "python",
   "nbconvert_exporter": "python",
   "pygments_lexer": "ipython3",
   "version": "3.7.10"
  },
  "papermill": {
   "default_parameters": {},
   "duration": 89.717082,
   "end_time": "2021-07-27T02:36:54.647868",
   "environment_variables": {},
   "exception": null,
   "input_path": "__notebook__.ipynb",
   "output_path": "__notebook__.ipynb",
   "parameters": {},
   "start_time": "2021-07-27T02:35:24.930786",
   "version": "2.3.3"
  }
 },
 "nbformat": 4,
 "nbformat_minor": 5
}
