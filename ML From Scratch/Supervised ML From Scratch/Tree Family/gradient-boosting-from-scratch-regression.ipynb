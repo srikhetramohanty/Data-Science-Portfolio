{
 "cells": [
  {
   "cell_type": "code",
   "execution_count": 1,
   "id": "e4bca631",
   "metadata": {
    "_cell_guid": "b1076dfc-b9ad-4769-8c92-a6c4dae69d19",
    "_uuid": "8f2839f25d086af736a60e9eeb907d3b93b6e0e5",
    "execution": {
     "iopub.execute_input": "2021-07-29T06:35:19.945536Z",
     "iopub.status.busy": "2021-07-29T06:35:19.944112Z",
     "iopub.status.idle": "2021-07-29T06:35:21.354058Z",
     "shell.execute_reply": "2021-07-29T06:35:21.354773Z",
     "shell.execute_reply.started": "2021-07-29T06:25:03.313854Z"
    },
    "papermill": {
     "duration": 1.429884,
     "end_time": "2021-07-29T06:35:21.355155",
     "exception": false,
     "start_time": "2021-07-29T06:35:19.925271",
     "status": "completed"
    },
    "tags": []
   },
   "outputs": [
    {
     "name": "stdout",
     "output_type": "stream",
     "text": [
      "/kaggle/input/bostonhoustingmlnd/housing.csv\n",
      "/kaggle/input/titanic/train_data.csv\n",
      "/kaggle/input/titanic/test_data.csv\n"
     ]
    }
   ],
   "source": [
    "# This Python 3 environment comes with many helpful analytics libraries installed\n",
    "# It is defined by the kaggle/python Docker image: https://github.com/kaggle/docker-python\n",
    "# For example, here's several helpful packages to load\n",
    "\n",
    "import numpy as np # linear algebra\n",
    "import pandas as pd # data processing, CSV file I/O (e.g. pd.read_csv)\n",
    "from sklearn.preprocessing import StandardScaler\n",
    "from sklearn.metrics import mean_squared_error\n",
    "from sklearn.metrics import accuracy_score\n",
    "from sklearn.metrics import roc_auc_score\n",
    "import matplotlib.pyplot as pt\n",
    "import seaborn as sns\n",
    "from sklearn.model_selection import train_test_split\n",
    "pd.set_option('display.max_columns', None)\n",
    "# Input data files are available in the read-only \"../input/\" directory\n",
    "# For example, running this (by clicking run or pressing Shift+Enter) will list all files under the input directory\n",
    "\n",
    "import os\n",
    "for dirname, _, filenames in os.walk('/kaggle/input'):\n",
    "    for filename in filenames:\n",
    "        print(os.path.join(dirname, filename))\n",
    "\n",
    "# You can write up to 20GB to the current directory (/kaggle/working/) that gets preserved as output when you create a version using \"Save & Run All\" \n",
    "# You can also write temporary files to /kaggle/temp/, but they won't be saved outside of the current session"
   ]
  },
  {
   "cell_type": "markdown",
   "id": "3578de58",
   "metadata": {
    "papermill": {
     "duration": 0.014596,
     "end_time": "2021-07-29T06:35:21.389439",
     "exception": false,
     "start_time": "2021-07-29T06:35:21.374843",
     "status": "completed"
    },
    "tags": []
   },
   "source": [
    "# Importing Data from the link :\n",
    "Link - https://www.kaggle.com/schirmerchad/bostonhoustingmlnd"
   ]
  },
  {
   "cell_type": "code",
   "execution_count": 2,
   "id": "52d2bd27",
   "metadata": {
    "execution": {
     "iopub.execute_input": "2021-07-29T06:35:21.425732Z",
     "iopub.status.busy": "2021-07-29T06:35:21.425046Z",
     "iopub.status.idle": "2021-07-29T06:35:21.470131Z",
     "shell.execute_reply": "2021-07-29T06:35:21.469368Z",
     "shell.execute_reply.started": "2021-07-29T06:25:04.943140Z"
    },
    "papermill": {
     "duration": 0.065409,
     "end_time": "2021-07-29T06:35:21.470320",
     "exception": false,
     "start_time": "2021-07-29T06:35:21.404911",
     "status": "completed"
    },
    "tags": []
   },
   "outputs": [
    {
     "name": "stdout",
     "output_type": "stream",
     "text": [
      "(489, 4)\n"
     ]
    },
    {
     "data": {
      "text/html": [
       "<div>\n",
       "<style scoped>\n",
       "    .dataframe tbody tr th:only-of-type {\n",
       "        vertical-align: middle;\n",
       "    }\n",
       "\n",
       "    .dataframe tbody tr th {\n",
       "        vertical-align: top;\n",
       "    }\n",
       "\n",
       "    .dataframe thead th {\n",
       "        text-align: right;\n",
       "    }\n",
       "</style>\n",
       "<table border=\"1\" class=\"dataframe\">\n",
       "  <thead>\n",
       "    <tr style=\"text-align: right;\">\n",
       "      <th></th>\n",
       "      <th>RM</th>\n",
       "      <th>LSTAT</th>\n",
       "      <th>PTRATIO</th>\n",
       "      <th>MEDV</th>\n",
       "    </tr>\n",
       "  </thead>\n",
       "  <tbody>\n",
       "    <tr>\n",
       "      <th>0</th>\n",
       "      <td>6.575</td>\n",
       "      <td>4.98</td>\n",
       "      <td>15.3</td>\n",
       "      <td>504000.0</td>\n",
       "    </tr>\n",
       "    <tr>\n",
       "      <th>1</th>\n",
       "      <td>6.421</td>\n",
       "      <td>9.14</td>\n",
       "      <td>17.8</td>\n",
       "      <td>453600.0</td>\n",
       "    </tr>\n",
       "    <tr>\n",
       "      <th>2</th>\n",
       "      <td>7.185</td>\n",
       "      <td>4.03</td>\n",
       "      <td>17.8</td>\n",
       "      <td>728700.0</td>\n",
       "    </tr>\n",
       "    <tr>\n",
       "      <th>3</th>\n",
       "      <td>6.998</td>\n",
       "      <td>2.94</td>\n",
       "      <td>18.7</td>\n",
       "      <td>701400.0</td>\n",
       "    </tr>\n",
       "    <tr>\n",
       "      <th>4</th>\n",
       "      <td>7.147</td>\n",
       "      <td>5.33</td>\n",
       "      <td>18.7</td>\n",
       "      <td>760200.0</td>\n",
       "    </tr>\n",
       "  </tbody>\n",
       "</table>\n",
       "</div>"
      ],
      "text/plain": [
       "      RM  LSTAT  PTRATIO      MEDV\n",
       "0  6.575   4.98     15.3  504000.0\n",
       "1  6.421   9.14     17.8  453600.0\n",
       "2  7.185   4.03     17.8  728700.0\n",
       "3  6.998   2.94     18.7  701400.0\n",
       "4  7.147   5.33     18.7  760200.0"
      ]
     },
     "execution_count": 2,
     "metadata": {},
     "output_type": "execute_result"
    }
   ],
   "source": [
    "input_ads = pd.read_csv('../input/bostonhoustingmlnd/housing.csv')\n",
    "\n",
    "#-----------------------------------------------------------------\n",
    "print(input_ads.shape)\n",
    "input_ads.head()"
   ]
  },
  {
   "cell_type": "markdown",
   "id": "282e18bb",
   "metadata": {
    "papermill": {
     "duration": 0.014643,
     "end_time": "2021-07-29T06:35:21.500651",
     "exception": false,
     "start_time": "2021-07-29T06:35:21.486008",
     "status": "completed"
    },
    "tags": []
   },
   "source": [
    "# Null Check"
   ]
  },
  {
   "cell_type": "code",
   "execution_count": 3,
   "id": "f595d0c4",
   "metadata": {
    "execution": {
     "iopub.execute_input": "2021-07-29T06:35:21.546722Z",
     "iopub.status.busy": "2021-07-29T06:35:21.545711Z",
     "iopub.status.idle": "2021-07-29T06:35:21.550696Z",
     "shell.execute_reply": "2021-07-29T06:35:21.550058Z",
     "shell.execute_reply.started": "2021-07-29T06:25:27.991540Z"
    },
    "papermill": {
     "duration": 0.034369,
     "end_time": "2021-07-29T06:35:21.550875",
     "exception": false,
     "start_time": "2021-07-29T06:35:21.516506",
     "status": "completed"
    },
    "tags": []
   },
   "outputs": [
    {
     "data": {
      "text/html": [
       "<div>\n",
       "<style scoped>\n",
       "    .dataframe tbody tr th:only-of-type {\n",
       "        vertical-align: middle;\n",
       "    }\n",
       "\n",
       "    .dataframe tbody tr th {\n",
       "        vertical-align: top;\n",
       "    }\n",
       "\n",
       "    .dataframe thead th {\n",
       "        text-align: right;\n",
       "    }\n",
       "</style>\n",
       "<table border=\"1\" class=\"dataframe\">\n",
       "  <thead>\n",
       "    <tr style=\"text-align: right;\">\n",
       "      <th></th>\n",
       "      <th>RM</th>\n",
       "      <th>LSTAT</th>\n",
       "      <th>PTRATIO</th>\n",
       "      <th>MEDV</th>\n",
       "    </tr>\n",
       "  </thead>\n",
       "  <tbody>\n",
       "    <tr>\n",
       "      <th>0</th>\n",
       "      <td>0</td>\n",
       "      <td>0</td>\n",
       "      <td>0</td>\n",
       "      <td>0</td>\n",
       "    </tr>\n",
       "  </tbody>\n",
       "</table>\n",
       "</div>"
      ],
      "text/plain": [
       "   RM  LSTAT  PTRATIO  MEDV\n",
       "0   0      0        0     0"
      ]
     },
     "execution_count": 3,
     "metadata": {},
     "output_type": "execute_result"
    }
   ],
   "source": [
    "pd.DataFrame(input_ads.isnull().sum()).T"
   ]
  },
  {
   "cell_type": "markdown",
   "id": "a0af201f",
   "metadata": {
    "papermill": {
     "duration": 0.01561,
     "end_time": "2021-07-29T06:35:21.582583",
     "exception": false,
     "start_time": "2021-07-29T06:35:21.566973",
     "status": "completed"
    },
    "tags": []
   },
   "source": [
    "# Description of target variable"
   ]
  },
  {
   "cell_type": "code",
   "execution_count": 4,
   "id": "3c006d6e",
   "metadata": {
    "execution": {
     "iopub.execute_input": "2021-07-29T06:35:21.626226Z",
     "iopub.status.busy": "2021-07-29T06:35:21.623183Z",
     "iopub.status.idle": "2021-07-29T06:35:21.638210Z",
     "shell.execute_reply": "2021-07-29T06:35:21.637543Z",
     "shell.execute_reply.started": "2021-07-29T06:25:30.180709Z"
    },
    "papermill": {
     "duration": 0.038584,
     "end_time": "2021-07-29T06:35:21.638372",
     "exception": false,
     "start_time": "2021-07-29T06:35:21.599788",
     "status": "completed"
    },
    "tags": []
   },
   "outputs": [
    {
     "data": {
      "text/plain": [
       "count    4.890000e+02\n",
       "mean     4.543429e+05\n",
       "std      1.653403e+05\n",
       "min      1.050000e+05\n",
       "25%      3.507000e+05\n",
       "50%      4.389000e+05\n",
       "75%      5.187000e+05\n",
       "max      1.024800e+06\n",
       "Name: MEDV, dtype: float64"
      ]
     },
     "execution_count": 4,
     "metadata": {},
     "output_type": "execute_result"
    }
   ],
   "source": [
    "input_ads['MEDV'].describe()"
   ]
  },
  {
   "cell_type": "markdown",
   "id": "256a30f5",
   "metadata": {
    "papermill": {
     "duration": 0.016032,
     "end_time": "2021-07-29T06:35:21.670041",
     "exception": false,
     "start_time": "2021-07-29T06:35:21.654009",
     "status": "completed"
    },
    "tags": []
   },
   "source": [
    "# Manipulation of dataset into train and test "
   ]
  },
  {
   "cell_type": "code",
   "execution_count": 5,
   "id": "57106d6e",
   "metadata": {
    "execution": {
     "iopub.execute_input": "2021-07-29T06:35:21.715234Z",
     "iopub.status.busy": "2021-07-29T06:35:21.712227Z",
     "iopub.status.idle": "2021-07-29T06:35:21.731084Z",
     "shell.execute_reply": "2021-07-29T06:35:21.729890Z",
     "shell.execute_reply.started": "2021-07-29T06:25:34.861244Z"
    },
    "papermill": {
     "duration": 0.045376,
     "end_time": "2021-07-29T06:35:21.731277",
     "exception": false,
     "start_time": "2021-07-29T06:35:21.685901",
     "status": "completed"
    },
    "tags": []
   },
   "outputs": [
    {
     "name": "stdout",
     "output_type": "stream",
     "text": [
      "(342, 3)\n",
      "(147, 3)\n",
      "(342, 1)\n"
     ]
    }
   ],
   "source": [
    "X = input_ads[[cols for cols in list(input_ads.columns) if 'MEDV' not in cols]]\n",
    "y = input_ads['MEDV']\n",
    "\n",
    "X, X_test, y, y_test = train_test_split(X, y, test_size=0.30, random_state=100)\n",
    "\n",
    "#--------------------------------------------------------------------------------\n",
    "#Scaling the datasets\n",
    "scaler = StandardScaler()\n",
    "\n",
    "X_arr = scaler.fit_transform(X)\n",
    "X_test_arr = scaler.fit_transform(X_test)\n",
    "\n",
    "y_arr = np.array(y).reshape(X_arr.shape[0],1)\n",
    "y_test_arr = np.array(y_test).reshape(X_test_arr.shape[0],1)\n",
    "\n",
    "#--------------------------------------------------------------------------------\n",
    "print(X_arr.shape)\n",
    "print(X_test_arr.shape)\n",
    "print(y_arr.shape)"
   ]
  },
  {
   "cell_type": "markdown",
   "id": "18ef4857",
   "metadata": {
    "papermill": {
     "duration": 0.021273,
     "end_time": "2021-07-29T06:35:21.768749",
     "exception": false,
     "start_time": "2021-07-29T06:35:21.747476",
     "status": "completed"
    },
    "tags": []
   },
   "source": [
    "# Manual Gradient Boosting Code"
   ]
  },
  {
   "cell_type": "markdown",
   "id": "d232de02",
   "metadata": {
    "papermill": {
     "duration": 0.016239,
     "end_time": "2021-07-29T06:35:21.802027",
     "exception": false,
     "start_time": "2021-07-29T06:35:21.785788",
     "status": "completed"
    },
    "tags": []
   },
   "source": [
    "## Defining some important UDF's for the training of gradient boosting"
   ]
  },
  {
   "cell_type": "code",
   "execution_count": 6,
   "id": "b8175f42",
   "metadata": {
    "execution": {
     "iopub.execute_input": "2021-07-29T06:35:21.844140Z",
     "iopub.status.busy": "2021-07-29T06:35:21.843364Z",
     "iopub.status.idle": "2021-07-29T06:35:22.037674Z",
     "shell.execute_reply": "2021-07-29T06:35:22.036967Z",
     "shell.execute_reply.started": "2021-07-29T06:32:44.354678Z"
    },
    "papermill": {
     "duration": 0.219321,
     "end_time": "2021-07-29T06:35:22.037841",
     "exception": false,
     "start_time": "2021-07-29T06:35:21.818520",
     "status": "completed"
    },
    "tags": []
   },
   "outputs": [],
   "source": [
    "from sklearn.tree import DecisionTreeRegressor\n",
    "\n",
    "#---------------------------------------------------------------------------------------------------------\n",
    "#Loss func\n",
    "def loss_calc(y_true,y_pred):\n",
    "    \n",
    "    loss = (1/len(y_true)) * 0.5*np.sum(np.square(y_true-y_pred))\n",
    "        \n",
    "    return loss\n",
    "\n",
    "#---------------------------------------------------------------------------------------------------------\n",
    "#Gradient Calc\n",
    "def gradient_calc(y_true,y_pred):\n",
    "    \n",
    "    grad = -(y_true-y_pred)\n",
    "    \n",
    "    return grad\n",
    "\n",
    "#---------------------------------------------------------------------------------------------------------\n",
    "#The base estimator\n",
    "def tree_creator(r_state,X,y):\n",
    "    \n",
    "    d_tree = DecisionTreeRegressor(random_state=r_state,criterion='mse',\n",
    "                                    max_depth=2,min_samples_split=5,\n",
    "                                    min_samples_leaf=5,max_features=3)\n",
    "    d_tree.fit(X,y)\n",
    "    \n",
    "    return d_tree\n",
    "\n",
    "#---------------------------------------------------------------------------------------------------------\n",
    "#Predicting through gradient boosting regression\n",
    "def predict_grad_boost(models_tray,alpha,test_x=X_test_arr,train_y=y_arr):\n",
    "    \n",
    "    initial_pred = np.array([np.mean(train_y)] * len(test_x))\n",
    "        \n",
    "    final_pred = initial_pred.reshape(len(initial_pred),1)\n",
    "    #print(final_pred.shape)\n",
    "    \n",
    "    for i in range(len(models_tray)):\n",
    "        \n",
    "        model = models_tray[i]\n",
    "        temp_pred = (model.predict(test_x)).reshape(len(test_x),1)\n",
    "        #print(temp_pred.shape)\n",
    "        final_pred -= alpha * temp_pred\n",
    "    \n",
    "    return final_pred\n",
    "    "
   ]
  },
  {
   "cell_type": "markdown",
   "id": "c821d4f0",
   "metadata": {
    "papermill": {
     "duration": 0.01602,
     "end_time": "2021-07-29T06:35:22.071363",
     "exception": false,
     "start_time": "2021-07-29T06:35:22.055343",
     "status": "completed"
    },
    "tags": []
   },
   "source": [
    "## UDF for Gradient Boosting training"
   ]
  },
  {
   "cell_type": "code",
   "execution_count": 7,
   "id": "48b0956f",
   "metadata": {
    "execution": {
     "iopub.execute_input": "2021-07-29T06:35:22.112465Z",
     "iopub.status.busy": "2021-07-29T06:35:22.111483Z",
     "iopub.status.idle": "2021-07-29T06:35:22.114581Z",
     "shell.execute_reply": "2021-07-29T06:35:22.114085Z",
     "shell.execute_reply.started": "2021-07-29T06:33:26.193972Z"
    },
    "papermill": {
     "duration": 0.02692,
     "end_time": "2021-07-29T06:35:22.114754",
     "exception": false,
     "start_time": "2021-07-29T06:35:22.087834",
     "status": "completed"
    },
    "tags": []
   },
   "outputs": [],
   "source": [
    "def grad_boost_train(train_x,train_y,alpha=0.01,r_state=100,n_iters=101):\n",
    "\n",
    "    model_tray = [] #Tray to collect the trained boosted stage estimators\n",
    "    loss_counter = [] #Tray for loss capture\n",
    "\n",
    "    \n",
    "    initial_pred = np.array([np.mean(train_y)] * len(train_y))\n",
    "\n",
    "    print('Initial val :',initial_pred.shape)\n",
    "    model_pred = initial_pred.reshape(len(initial_pred),1)\n",
    "\n",
    "    for epoch in range(n_iters): #Unit iteration\n",
    "\n",
    "        if epoch%100==0:\n",
    "            print('#---------- Epoch number :',epoch,' -----------#')\n",
    "        \n",
    "        #Calculating loss\n",
    "        loss = loss_calc(y_true=train_y,\n",
    "                         y_pred=model_pred)\n",
    "\n",
    "        loss_counter.append(loss)\n",
    "        \n",
    "        #Calculating the gradient (residuals)\n",
    "        grads = gradient_calc(y_true=train_y,\n",
    "                              y_pred=model_pred)\n",
    "        #print(grads.shape)\n",
    "        #Building the regression tree on the gradient (residuals)\n",
    "        tree_grad = tree_creator(r_state=r_state,\n",
    "                                 X=train_x,\n",
    "                                 y=grads)\n",
    "        #print(train_x.shape)\n",
    "        #print(tree_grad.predict(train_x).shape)\n",
    "        \n",
    "        #Predicting the residuals according to the tree fit above\n",
    "        pred_m = (tree_grad.predict(train_x)).reshape(len(train_x),1)\n",
    "        \n",
    "        #Updating model through learning rate\n",
    "        model_pred -= alpha * pred_m\n",
    "        \n",
    "        #Appending the model into tray\n",
    "        model_tray.append(tree_grad)\n",
    "        \n",
    "    return model_tray,loss_counter,initial_pred"
   ]
  },
  {
   "cell_type": "markdown",
   "id": "dee42b60",
   "metadata": {
    "papermill": {
     "duration": 0.015426,
     "end_time": "2021-07-29T06:35:22.146517",
     "exception": false,
     "start_time": "2021-07-29T06:35:22.131091",
     "status": "completed"
    },
    "tags": []
   },
   "source": [
    "## Invoking the gradient boosting training UDF"
   ]
  },
  {
   "cell_type": "code",
   "execution_count": 8,
   "id": "25797882",
   "metadata": {
    "execution": {
     "iopub.execute_input": "2021-07-29T06:35:22.187866Z",
     "iopub.status.busy": "2021-07-29T06:35:22.186887Z",
     "iopub.status.idle": "2021-07-29T06:35:22.966808Z",
     "shell.execute_reply": "2021-07-29T06:35:22.967554Z",
     "shell.execute_reply.started": "2021-07-29T06:33:52.574794Z"
    },
    "papermill": {
     "duration": 0.805376,
     "end_time": "2021-07-29T06:35:22.967911",
     "exception": false,
     "start_time": "2021-07-29T06:35:22.162535",
     "status": "completed"
    },
    "tags": []
   },
   "outputs": [
    {
     "name": "stdout",
     "output_type": "stream",
     "text": [
      "Initial val : (342,)\n",
      "#---------- Epoch number : 0  -----------#\n",
      "#---------- Epoch number : 100  -----------#\n",
      "#---------- Epoch number : 200  -----------#\n",
      "#---------- Epoch number : 300  -----------#\n",
      "#---------- Epoch number : 400  -----------#\n",
      "#---------- Epoch number : 500  -----------#\n",
      "#---------- Epoch number : 600  -----------#\n",
      "#---------- Epoch number : 700  -----------#\n",
      "#---------- Epoch number : 800  -----------#\n",
      "#---------- Epoch number : 900  -----------#\n",
      "#---------- Epoch number : 1000  -----------#\n"
     ]
    }
   ],
   "source": [
    "#-----------------------------------------------------------------------------------------------------------------------\n",
    "#Defining some hyper-params\n",
    "n_estimators = 1001 #No of boosting steps\n",
    "alpha =0.01 #Learning rate\n",
    "\n",
    "#Training gradient boosting regression\n",
    "models_list,loss_counter,initial_pred = grad_boost_train(train_x=X_arr,\n",
    "                                                         train_y=y_arr,\n",
    "                                                         alpha=alpha,\n",
    "                                                         r_state=100,\n",
    "                                                         n_iters=n_estimators)"
   ]
  },
  {
   "cell_type": "markdown",
   "id": "c2bdb61d",
   "metadata": {
    "papermill": {
     "duration": 0.017614,
     "end_time": "2021-07-29T06:35:23.003587",
     "exception": false,
     "start_time": "2021-07-29T06:35:22.985973",
     "status": "completed"
    },
    "tags": []
   },
   "source": [
    "## Plotting the Loss curve (There should be a decrease in training loss over boosting rounds)"
   ]
  },
  {
   "cell_type": "code",
   "execution_count": 9,
   "id": "b40166a6",
   "metadata": {
    "execution": {
     "iopub.execute_input": "2021-07-29T06:35:23.061306Z",
     "iopub.status.busy": "2021-07-29T06:35:23.048698Z",
     "iopub.status.idle": "2021-07-29T06:35:23.356871Z",
     "shell.execute_reply": "2021-07-29T06:35:23.357345Z",
     "shell.execute_reply.started": "2021-07-29T06:34:01.984006Z"
    },
    "papermill": {
     "duration": 0.33659,
     "end_time": "2021-07-29T06:35:23.357517",
     "exception": false,
     "start_time": "2021-07-29T06:35:23.020927",
     "status": "completed"
    },
    "tags": []
   },
   "outputs": [
    {
     "data": {
      "text/plain": [
       "[Text(0.5, 0, 'Number of boosting rounds'),\n",
       " Text(0, 0.5, 'Loss'),\n",
       " Text(0.5, 1.0, 'Loss vs Boosting rounds plot')]"
      ]
     },
     "execution_count": 9,
     "metadata": {},
     "output_type": "execute_result"
    },
    {
     "data": {
      "image/png": "[encoded data removed]",
      "text/plain": [
       "<Figure size 432x288 with 1 Axes>"
      ]
     },
     "metadata": {},
     "output_type": "display_data"
    }
   ],
   "source": [
    "sns.set_style('darkgrid')\n",
    "ax = sns.lineplot(x=range(n_estimators),y=loss_counter)\n",
    "ax.set(xlabel='Number of boosting rounds',ylabel='Loss',title='Loss vs Boosting rounds plot')"
   ]
  },
  {
   "cell_type": "markdown",
   "id": "68472a2e",
   "metadata": {
    "papermill": {
     "duration": 0.017669,
     "end_time": "2021-07-29T06:35:23.393792",
     "exception": false,
     "start_time": "2021-07-29T06:35:23.376123",
     "status": "completed"
    },
    "tags": []
   },
   "source": [
    "### Insights - We see that the loss decreases sharply after ~150 boosting rounds then flattens for a long period of time indicating that the model is approaching the global minima in terms of the loss function"
   ]
  },
  {
   "cell_type": "markdown",
   "id": "7af7c268",
   "metadata": {
    "papermill": {
     "duration": 0.017913,
     "end_time": "2021-07-29T06:35:23.430335",
     "exception": false,
     "start_time": "2021-07-29T06:35:23.412422",
     "status": "completed"
    },
    "tags": []
   },
   "source": [
    "## Predicting on the test dataset using the manual training above (Only the trained residual models are passed) "
   ]
  },
  {
   "cell_type": "code",
   "execution_count": 10,
   "id": "8ff617dd",
   "metadata": {
    "execution": {
     "iopub.execute_input": "2021-07-29T06:35:23.474219Z",
     "iopub.status.busy": "2021-07-29T06:35:23.473185Z",
     "iopub.status.idle": "2021-07-29T06:35:23.547468Z",
     "shell.execute_reply": "2021-07-29T06:35:23.546934Z",
     "shell.execute_reply.started": "2021-07-29T06:34:41.741442Z"
    },
    "papermill": {
     "duration": 0.097633,
     "end_time": "2021-07-29T06:35:23.547602",
     "exception": false,
     "start_time": "2021-07-29T06:35:23.449969",
     "status": "completed"
    },
    "tags": []
   },
   "outputs": [
    {
     "data": {
      "text/plain": [
       "(147, 1)"
      ]
     },
     "execution_count": 10,
     "metadata": {},
     "output_type": "execute_result"
    }
   ],
   "source": [
    "manual_gbm_pred = predict_grad_boost(models_tray=models_list, #Passing the fitted estimators into the predict function\n",
    "                                     alpha=alpha, #The alpha val used during training\n",
    "                                     test_x=X_test_arr) #Test dataset\n",
    "manual_gbm_pred.shape"
   ]
  },
  {
   "cell_type": "markdown",
   "id": "b2a0e10f",
   "metadata": {
    "papermill": {
     "duration": 0.017527,
     "end_time": "2021-07-29T06:35:23.582731",
     "exception": false,
     "start_time": "2021-07-29T06:35:23.565204",
     "status": "completed"
    },
    "tags": []
   },
   "source": [
    "## Evaluating the predictions from the manual gradient boosting model"
   ]
  },
  {
   "cell_type": "code",
   "execution_count": 11,
   "id": "9accf9f3",
   "metadata": {
    "execution": {
     "iopub.execute_input": "2021-07-29T06:35:23.625839Z",
     "iopub.status.busy": "2021-07-29T06:35:23.625131Z",
     "iopub.status.idle": "2021-07-29T06:35:23.628675Z",
     "shell.execute_reply": "2021-07-29T06:35:23.628203Z",
     "shell.execute_reply.started": "2021-07-29T06:34:45.492199Z"
    },
    "papermill": {
     "duration": 0.027522,
     "end_time": "2021-07-29T06:35:23.628817",
     "exception": false,
     "start_time": "2021-07-29T06:35:23.601295",
     "status": "completed"
    },
    "tags": []
   },
   "outputs": [
    {
     "name": "stdout",
     "output_type": "stream",
     "text": [
      "MSE of test set : 4235465698.4821563\n",
      "RMSE of test set : 65080.455579860194\n"
     ]
    }
   ],
   "source": [
    "print('MSE of test set :',mean_squared_error(y_test_arr,manual_gbm_pred))\n",
    "print('RMSE of test set :',np.sqrt(mean_squared_error(y_test_arr,manual_gbm_pred)))"
   ]
  },
  {
   "cell_type": "markdown",
   "id": "8113b9fb",
   "metadata": {
    "papermill": {
     "duration": 0.017833,
     "end_time": "2021-07-29T06:35:23.664914",
     "exception": false,
     "start_time": "2021-07-29T06:35:23.647081",
     "status": "completed"
    },
    "tags": []
   },
   "source": [
    "# Benchmarking against sklearn implementation of gradient boosting"
   ]
  },
  {
   "cell_type": "code",
   "execution_count": 12,
   "id": "d176ebc0",
   "metadata": {
    "execution": {
     "iopub.execute_input": "2021-07-29T06:35:23.709106Z",
     "iopub.status.busy": "2021-07-29T06:35:23.708428Z",
     "iopub.status.idle": "2021-07-29T06:35:24.187320Z",
     "shell.execute_reply": "2021-07-29T06:35:24.188016Z",
     "shell.execute_reply.started": "2021-07-29T06:34:49.172092Z"
    },
    "papermill": {
     "duration": 0.504571,
     "end_time": "2021-07-29T06:35:24.188405",
     "exception": false,
     "start_time": "2021-07-29T06:35:23.683834",
     "status": "completed"
    },
    "tags": []
   },
   "outputs": [
    {
     "name": "stderr",
     "output_type": "stream",
     "text": [
      "/opt/conda/lib/python3.7/site-packages/sklearn/utils/validation.py:72: DataConversionWarning: A column-vector y was passed when a 1d array was expected. Please change the shape of y to (n_samples, ), for example using ravel().\n",
      "  return f(**kwargs)\n"
     ]
    },
    {
     "name": "stdout",
     "output_type": "stream",
     "text": [
      "MSE of test set : 5234965332.037068\n",
      "RMSE of test set : 72353.06028107635\n"
     ]
    }
   ],
   "source": [
    "from sklearn.ensemble import GradientBoostingRegressor\n",
    "\n",
    "skl_gbm = GradientBoostingRegressor(random_state=100,n_estimators=1001,criterion='mse',\n",
    "                                    max_depth=2,min_samples_split=5,\n",
    "                                    min_samples_leaf=5,max_features=3)\n",
    "\n",
    "#-------------------------------------------------------------------------------\n",
    "skl_gbm.fit(X_arr,y_arr)\n",
    "skl_pred = skl_gbm.predict(X_test_arr)\n",
    "\n",
    "#-------------------------------------------------------------------------------\n",
    "print('MSE of test set :',mean_squared_error(y_test_arr,skl_pred))\n",
    "print('RMSE of test set :',np.sqrt(mean_squared_error(y_test_arr,skl_pred)))"
   ]
  },
  {
   "cell_type": "markdown",
   "id": "b6c45037",
   "metadata": {
    "papermill": {
     "duration": 0.018348,
     "end_time": "2021-07-29T06:35:24.225775",
     "exception": false,
     "start_time": "2021-07-29T06:35:24.207427",
     "status": "completed"
    },
    "tags": []
   },
   "source": [
    "# Final Comments :\n",
    "1. The manual implementation of the gradient boosting algorithm is providing similar results to its sklearn counterpart (Even better in terms of MSE and RMSE metric) \n",
    "2. This notebook can be easily scaled to other datasets as well for robust benchmarking"
   ]
  },
  {
   "cell_type": "markdown",
   "id": "f4d9305c",
   "metadata": {
    "papermill": {
     "duration": 0.019383,
     "end_time": "2021-07-29T06:35:24.263810",
     "exception": false,
     "start_time": "2021-07-29T06:35:24.244427",
     "status": "completed"
    },
    "tags": []
   },
   "source": [
    "# END"
   ]
  },
  {
   "cell_type": "code",
   "execution_count": null,
   "id": "74532ac4",
   "metadata": {
    "papermill": {
     "duration": 0.019023,
     "end_time": "2021-07-29T06:35:24.302167",
     "exception": false,
     "start_time": "2021-07-29T06:35:24.283144",
     "status": "completed"
    },
    "tags": []
   },
   "outputs": [],
   "source": []
  }
 ],
 "metadata": {
  "kernelspec": {
   "display_name": "Python 3",
   "language": "python",
   "name": "python3"
  },
  "language_info": {
   "codemirror_mode": {
    "name": "ipython",
    "version": 3
   },
   "file_extension": ".py",
   "mimetype": "text/x-python",
   "name": "python",
   "nbconvert_exporter": "python",
   "pygments_lexer": "ipython3",
   "version": "3.7.10"
  },
  "papermill": {
   "default_parameters": {},
   "duration": 13.916888,
   "end_time": "2021-07-29T06:35:25.705587",
   "environment_variables": {},
   "exception": null,
   "input_path": "__notebook__.ipynb",
   "output_path": "__notebook__.ipynb",
   "parameters": {},
   "start_time": "2021-07-29T06:35:11.788699",
   "version": "2.3.3"
  }
 },
 "nbformat": 4,
 "nbformat_minor": 5
}
