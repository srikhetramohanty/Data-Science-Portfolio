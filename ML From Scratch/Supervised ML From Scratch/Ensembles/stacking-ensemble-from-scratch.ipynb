{
 "cells": [
  {
   "cell_type": "code",
   "execution_count": 1,
   "id": "2210afc0",
   "metadata": {
    "_cell_guid": "b1076dfc-b9ad-4769-8c92-a6c4dae69d19",
    "_uuid": "8f2839f25d086af736a60e9eeb907d3b93b6e0e5",
    "execution": {
     "iopub.execute_input": "2021-07-27T04:19:54.290271Z",
     "iopub.status.busy": "2021-07-27T04:19:54.289631Z",
     "iopub.status.idle": "2021-07-27T04:19:54.300878Z",
     "shell.execute_reply": "2021-07-27T04:19:54.301328Z",
     "shell.execute_reply.started": "2021-07-27T04:06:18.342727Z"
    },
    "papermill": {
     "duration": 0.038582,
     "end_time": "2021-07-27T04:19:54.301601",
     "exception": false,
     "start_time": "2021-07-27T04:19:54.263019",
     "status": "completed"
    },
    "tags": []
   },
   "outputs": [
    {
     "name": "stdout",
     "output_type": "stream",
     "text": [
      "/kaggle/input/titanic/train_data.csv\n",
      "/kaggle/input/titanic/test_data.csv\n"
     ]
    }
   ],
   "source": [
    "# This Python 3 environment comes with many helpful analytics libraries installed\n",
    "# It is defined by the kaggle/python Docker image: https://github.com/kaggle/docker-python\n",
    "# For example, here's several helpful packages to load\n",
    "\n",
    "import numpy as np # linear algebra\n",
    "import pandas as pd # data processing, CSV file I/O (e.g. pd.read_csv)\n",
    "\n",
    "# Input data files are available in the read-only \"../input/\" directory\n",
    "# For example, running this (by clicking run or pressing Shift+Enter) will list all files under the input directory\n",
    "\n",
    "import os\n",
    "for dirname, _, filenames in os.walk('/kaggle/input'):\n",
    "    for filename in filenames:\n",
    "        print(os.path.join(dirname, filename))\n",
    "\n",
    "# You can write up to 20GB to the current directory (/kaggle/working/) that gets preserved as output when you create a version using \"Save & Run All\" \n",
    "# You can also write temporary files to /kaggle/temp/, but they won't be saved outside of the current session"
   ]
  },
  {
   "cell_type": "markdown",
   "id": "dba05a0e",
   "metadata": {
    "papermill": {
     "duration": 0.01469,
     "end_time": "2021-07-27T04:19:54.331741",
     "exception": false,
     "start_time": "2021-07-27T04:19:54.317051",
     "status": "completed"
    },
    "tags": []
   },
   "source": [
    "# Import ADS"
   ]
  },
  {
   "cell_type": "code",
   "execution_count": 2,
   "id": "0c3a4d86",
   "metadata": {
    "execution": {
     "iopub.execute_input": "2021-07-27T04:19:54.366594Z",
     "iopub.status.busy": "2021-07-27T04:19:54.365984Z",
     "iopub.status.idle": "2021-07-27T04:19:54.491051Z",
     "shell.execute_reply": "2021-07-27T04:19:54.490584Z",
     "shell.execute_reply.started": "2021-07-27T04:06:21.291459Z"
    },
    "papermill": {
     "duration": 0.144681,
     "end_time": "2021-07-27T04:19:54.491210",
     "exception": false,
     "start_time": "2021-07-27T04:19:54.346529",
     "status": "completed"
    },
    "tags": []
   },
   "outputs": [
    {
     "name": "stdout",
     "output_type": "stream",
     "text": [
      "(792, 12)\n"
     ]
    },
    {
     "data": {
      "text/html": [
       "<div>\n",
       "<style scoped>\n",
       "    .dataframe tbody tr th:only-of-type {\n",
       "        vertical-align: middle;\n",
       "    }\n",
       "\n",
       "    .dataframe tbody tr th {\n",
       "        vertical-align: top;\n",
       "    }\n",
       "\n",
       "    .dataframe thead th {\n",
       "        text-align: right;\n",
       "    }\n",
       "</style>\n",
       "<table border=\"1\" class=\"dataframe\">\n",
       "  <thead>\n",
       "    <tr style=\"text-align: right;\">\n",
       "      <th></th>\n",
       "      <th>PassengerId</th>\n",
       "      <th>Survived</th>\n",
       "      <th>Sex</th>\n",
       "      <th>Age</th>\n",
       "      <th>Fare</th>\n",
       "      <th>Pclass_1</th>\n",
       "      <th>Pclass_2</th>\n",
       "      <th>Pclass_3</th>\n",
       "      <th>Family_size</th>\n",
       "      <th>Emb_1</th>\n",
       "      <th>Emb_2</th>\n",
       "      <th>Emb_3</th>\n",
       "    </tr>\n",
       "  </thead>\n",
       "  <tbody>\n",
       "    <tr>\n",
       "      <th>0</th>\n",
       "      <td>1</td>\n",
       "      <td>0</td>\n",
       "      <td>1</td>\n",
       "      <td>0.2750</td>\n",
       "      <td>0.014151</td>\n",
       "      <td>0</td>\n",
       "      <td>0</td>\n",
       "      <td>1</td>\n",
       "      <td>0.1</td>\n",
       "      <td>0</td>\n",
       "      <td>0</td>\n",
       "      <td>1</td>\n",
       "    </tr>\n",
       "    <tr>\n",
       "      <th>1</th>\n",
       "      <td>2</td>\n",
       "      <td>1</td>\n",
       "      <td>0</td>\n",
       "      <td>0.4750</td>\n",
       "      <td>0.139136</td>\n",
       "      <td>1</td>\n",
       "      <td>0</td>\n",
       "      <td>0</td>\n",
       "      <td>0.1</td>\n",
       "      <td>1</td>\n",
       "      <td>0</td>\n",
       "      <td>0</td>\n",
       "    </tr>\n",
       "    <tr>\n",
       "      <th>2</th>\n",
       "      <td>3</td>\n",
       "      <td>1</td>\n",
       "      <td>0</td>\n",
       "      <td>0.3250</td>\n",
       "      <td>0.015469</td>\n",
       "      <td>0</td>\n",
       "      <td>0</td>\n",
       "      <td>1</td>\n",
       "      <td>0.0</td>\n",
       "      <td>0</td>\n",
       "      <td>0</td>\n",
       "      <td>1</td>\n",
       "    </tr>\n",
       "    <tr>\n",
       "      <th>3</th>\n",
       "      <td>4</td>\n",
       "      <td>1</td>\n",
       "      <td>0</td>\n",
       "      <td>0.4375</td>\n",
       "      <td>0.103644</td>\n",
       "      <td>1</td>\n",
       "      <td>0</td>\n",
       "      <td>0</td>\n",
       "      <td>0.1</td>\n",
       "      <td>0</td>\n",
       "      <td>0</td>\n",
       "      <td>1</td>\n",
       "    </tr>\n",
       "    <tr>\n",
       "      <th>4</th>\n",
       "      <td>5</td>\n",
       "      <td>0</td>\n",
       "      <td>1</td>\n",
       "      <td>0.4375</td>\n",
       "      <td>0.015713</td>\n",
       "      <td>0</td>\n",
       "      <td>0</td>\n",
       "      <td>1</td>\n",
       "      <td>0.0</td>\n",
       "      <td>0</td>\n",
       "      <td>0</td>\n",
       "      <td>1</td>\n",
       "    </tr>\n",
       "  </tbody>\n",
       "</table>\n",
       "</div>"
      ],
      "text/plain": [
       "   PassengerId  Survived  Sex     Age      Fare  Pclass_1  Pclass_2  Pclass_3  \\\n",
       "0            1         0    1  0.2750  0.014151         0         0         1   \n",
       "1            2         1    0  0.4750  0.139136         1         0         0   \n",
       "2            3         1    0  0.3250  0.015469         0         0         1   \n",
       "3            4         1    0  0.4375  0.103644         1         0         0   \n",
       "4            5         0    1  0.4375  0.015713         0         0         1   \n",
       "\n",
       "   Family_size  Emb_1  Emb_2  Emb_3  \n",
       "0          0.1      0      0      1  \n",
       "1          0.1      1      0      0  \n",
       "2          0.0      0      0      1  \n",
       "3          0.1      0      0      1  \n",
       "4          0.0      0      0      1  "
      ]
     },
     "execution_count": 2,
     "metadata": {},
     "output_type": "execute_result"
    }
   ],
   "source": [
    "input_ads_pre = pd.read_csv('../input/titanic/train_data.csv')\n",
    "input_ads_pre.drop(columns=['Unnamed: 0','Title_1','Title_2','Title_3','Title_4'],inplace=True) #Dropping un-necessary columns\n",
    "#-----------------------------------------------------------------\n",
    "print(input_ads_pre.shape)\n",
    "input_ads_pre.head()"
   ]
  },
  {
   "cell_type": "markdown",
   "id": "3b5f689f",
   "metadata": {
    "papermill": {
     "duration": 0.015311,
     "end_time": "2021-07-27T04:19:54.522614",
     "exception": false,
     "start_time": "2021-07-27T04:19:54.507303",
     "status": "completed"
    },
    "tags": []
   },
   "source": [
    "# Null Check"
   ]
  },
  {
   "cell_type": "code",
   "execution_count": 3,
   "id": "8eda4d0b",
   "metadata": {
    "execution": {
     "iopub.execute_input": "2021-07-27T04:19:54.567612Z",
     "iopub.status.busy": "2021-07-27T04:19:54.566707Z",
     "iopub.status.idle": "2021-07-27T04:19:54.570827Z",
     "shell.execute_reply": "2021-07-27T04:19:54.570399Z",
     "shell.execute_reply.started": "2021-07-27T04:06:33.502596Z"
    },
    "papermill": {
     "duration": 0.032187,
     "end_time": "2021-07-27T04:19:54.570968",
     "exception": false,
     "start_time": "2021-07-27T04:19:54.538781",
     "status": "completed"
    },
    "tags": []
   },
   "outputs": [
    {
     "data": {
      "text/html": [
       "<div>\n",
       "<style scoped>\n",
       "    .dataframe tbody tr th:only-of-type {\n",
       "        vertical-align: middle;\n",
       "    }\n",
       "\n",
       "    .dataframe tbody tr th {\n",
       "        vertical-align: top;\n",
       "    }\n",
       "\n",
       "    .dataframe thead th {\n",
       "        text-align: right;\n",
       "    }\n",
       "</style>\n",
       "<table border=\"1\" class=\"dataframe\">\n",
       "  <thead>\n",
       "    <tr style=\"text-align: right;\">\n",
       "      <th></th>\n",
       "      <th>PassengerId</th>\n",
       "      <th>Survived</th>\n",
       "      <th>Sex</th>\n",
       "      <th>Age</th>\n",
       "      <th>Fare</th>\n",
       "      <th>Pclass_1</th>\n",
       "      <th>Pclass_2</th>\n",
       "      <th>Pclass_3</th>\n",
       "      <th>Family_size</th>\n",
       "      <th>Emb_1</th>\n",
       "      <th>Emb_2</th>\n",
       "      <th>Emb_3</th>\n",
       "    </tr>\n",
       "  </thead>\n",
       "  <tbody>\n",
       "    <tr>\n",
       "      <th>0</th>\n",
       "      <td>0</td>\n",
       "      <td>0</td>\n",
       "      <td>0</td>\n",
       "      <td>0</td>\n",
       "      <td>0</td>\n",
       "      <td>0</td>\n",
       "      <td>0</td>\n",
       "      <td>0</td>\n",
       "      <td>0</td>\n",
       "      <td>0</td>\n",
       "      <td>0</td>\n",
       "      <td>0</td>\n",
       "    </tr>\n",
       "  </tbody>\n",
       "</table>\n",
       "</div>"
      ],
      "text/plain": [
       "   PassengerId  Survived  Sex  Age  Fare  Pclass_1  Pclass_2  Pclass_3  \\\n",
       "0            0         0    0    0     0         0         0         0   \n",
       "\n",
       "   Family_size  Emb_1  Emb_2  Emb_3  \n",
       "0            0      0      0      0  "
      ]
     },
     "execution_count": 3,
     "metadata": {},
     "output_type": "execute_result"
    }
   ],
   "source": [
    "pd.DataFrame(input_ads_pre.isnull().sum()).T"
   ]
  },
  {
   "cell_type": "markdown",
   "id": "32364e87",
   "metadata": {
    "papermill": {
     "duration": 0.015908,
     "end_time": "2021-07-27T04:19:54.603075",
     "exception": false,
     "start_time": "2021-07-27T04:19:54.587167",
     "status": "completed"
    },
    "tags": []
   },
   "source": [
    "# Description of Target Variable"
   ]
  },
  {
   "cell_type": "code",
   "execution_count": 4,
   "id": "0d1e998a",
   "metadata": {
    "execution": {
     "iopub.execute_input": "2021-07-27T04:19:54.643688Z",
     "iopub.status.busy": "2021-07-27T04:19:54.642922Z",
     "iopub.status.idle": "2021-07-27T04:19:54.646599Z",
     "shell.execute_reply": "2021-07-27T04:19:54.646165Z",
     "shell.execute_reply.started": "2021-07-27T04:06:51.087731Z"
    },
    "papermill": {
     "duration": 0.027182,
     "end_time": "2021-07-27T04:19:54.646727",
     "exception": false,
     "start_time": "2021-07-27T04:19:54.619545",
     "status": "completed"
    },
    "tags": []
   },
   "outputs": [
    {
     "data": {
      "text/plain": [
       "0    486\n",
       "1    306\n",
       "Name: Survived, dtype: int64"
      ]
     },
     "execution_count": 4,
     "metadata": {},
     "output_type": "execute_result"
    }
   ],
   "source": [
    "#Total survived vs not-survived split in the training data\n",
    "input_ads_pre['Survived'].value_counts()"
   ]
  },
  {
   "cell_type": "markdown",
   "id": "5fc6ee02",
   "metadata": {
    "papermill": {
     "duration": 0.015833,
     "end_time": "2021-07-27T04:19:54.678526",
     "exception": false,
     "start_time": "2021-07-27T04:19:54.662693",
     "status": "completed"
    },
    "tags": []
   },
   "source": [
    "# Shuffling the data"
   ]
  },
  {
   "cell_type": "code",
   "execution_count": 5,
   "id": "d12173ed",
   "metadata": {
    "execution": {
     "iopub.execute_input": "2021-07-27T04:19:54.714980Z",
     "iopub.status.busy": "2021-07-27T04:19:54.714368Z",
     "iopub.status.idle": "2021-07-27T04:19:55.504196Z",
     "shell.execute_reply": "2021-07-27T04:19:55.503693Z",
     "shell.execute_reply.started": "2021-07-27T04:06:59.077315Z"
    },
    "papermill": {
     "duration": 0.809783,
     "end_time": "2021-07-27T04:19:55.504336",
     "exception": false,
     "start_time": "2021-07-27T04:19:54.694553",
     "status": "completed"
    },
    "tags": []
   },
   "outputs": [
    {
     "name": "stdout",
     "output_type": "stream",
     "text": [
      "(792, 12)\n"
     ]
    },
    {
     "data": {
      "text/html": [
       "<div>\n",
       "<style scoped>\n",
       "    .dataframe tbody tr th:only-of-type {\n",
       "        vertical-align: middle;\n",
       "    }\n",
       "\n",
       "    .dataframe tbody tr th {\n",
       "        vertical-align: top;\n",
       "    }\n",
       "\n",
       "    .dataframe thead th {\n",
       "        text-align: right;\n",
       "    }\n",
       "</style>\n",
       "<table border=\"1\" class=\"dataframe\">\n",
       "  <thead>\n",
       "    <tr style=\"text-align: right;\">\n",
       "      <th></th>\n",
       "      <th>PassengerId</th>\n",
       "      <th>Survived</th>\n",
       "      <th>Sex</th>\n",
       "      <th>Age</th>\n",
       "      <th>Fare</th>\n",
       "      <th>Pclass_1</th>\n",
       "      <th>Pclass_2</th>\n",
       "      <th>Pclass_3</th>\n",
       "      <th>Family_size</th>\n",
       "      <th>Emb_1</th>\n",
       "      <th>Emb_2</th>\n",
       "      <th>Emb_3</th>\n",
       "    </tr>\n",
       "  </thead>\n",
       "  <tbody>\n",
       "    <tr>\n",
       "      <th>0</th>\n",
       "      <td>371</td>\n",
       "      <td>1</td>\n",
       "      <td>1</td>\n",
       "      <td>0.3125</td>\n",
       "      <td>0.108215</td>\n",
       "      <td>1</td>\n",
       "      <td>0</td>\n",
       "      <td>0</td>\n",
       "      <td>0.1</td>\n",
       "      <td>1</td>\n",
       "      <td>0</td>\n",
       "      <td>0</td>\n",
       "    </tr>\n",
       "    <tr>\n",
       "      <th>1</th>\n",
       "      <td>556</td>\n",
       "      <td>0</td>\n",
       "      <td>1</td>\n",
       "      <td>0.7750</td>\n",
       "      <td>0.051822</td>\n",
       "      <td>1</td>\n",
       "      <td>0</td>\n",
       "      <td>0</td>\n",
       "      <td>0.0</td>\n",
       "      <td>0</td>\n",
       "      <td>0</td>\n",
       "      <td>1</td>\n",
       "    </tr>\n",
       "    <tr>\n",
       "      <th>2</th>\n",
       "      <td>624</td>\n",
       "      <td>0</td>\n",
       "      <td>1</td>\n",
       "      <td>0.2625</td>\n",
       "      <td>0.015330</td>\n",
       "      <td>0</td>\n",
       "      <td>0</td>\n",
       "      <td>1</td>\n",
       "      <td>0.0</td>\n",
       "      <td>0</td>\n",
       "      <td>0</td>\n",
       "      <td>1</td>\n",
       "    </tr>\n",
       "  </tbody>\n",
       "</table>\n",
       "</div>"
      ],
      "text/plain": [
       "   PassengerId  Survived  Sex     Age      Fare  Pclass_1  Pclass_2  Pclass_3  \\\n",
       "0          371         1    1  0.3125  0.108215         1         0         0   \n",
       "1          556         0    1  0.7750  0.051822         1         0         0   \n",
       "2          624         0    1  0.2625  0.015330         0         0         1   \n",
       "\n",
       "   Family_size  Emb_1  Emb_2  Emb_3  \n",
       "0          0.1      1      0      0  \n",
       "1          0.0      0      0      1  \n",
       "2          0.0      0      0      1  "
      ]
     },
     "execution_count": 5,
     "metadata": {},
     "output_type": "execute_result"
    }
   ],
   "source": [
    "from sklearn.utils import shuffle\n",
    "#np.random.seed(100)\n",
    "\n",
    "#----------------------------------------------------\n",
    "input_ads = shuffle(input_ads_pre,random_state=100)\n",
    "print(input_ads.shape)\n",
    "input_ads = input_ads.reset_index(drop=True)\n",
    "input_ads.head(3)"
   ]
  },
  {
   "cell_type": "markdown",
   "id": "5d5798a7",
   "metadata": {
    "papermill": {
     "duration": 0.01636,
     "end_time": "2021-07-27T04:19:55.537389",
     "exception": false,
     "start_time": "2021-07-27T04:19:55.521029",
     "status": "completed"
    },
    "tags": []
   },
   "source": [
    "# Train-Test manipulation of data"
   ]
  },
  {
   "cell_type": "code",
   "execution_count": 6,
   "id": "94684015",
   "metadata": {
    "execution": {
     "iopub.execute_input": "2021-07-27T04:19:55.580749Z",
     "iopub.status.busy": "2021-07-27T04:19:55.580164Z",
     "iopub.status.idle": "2021-07-27T04:19:55.599164Z",
     "shell.execute_reply": "2021-07-27T04:19:55.598231Z",
     "shell.execute_reply.started": "2021-07-27T04:07:21.936654Z"
    },
    "papermill": {
     "duration": 0.045431,
     "end_time": "2021-07-27T04:19:55.599402",
     "exception": false,
     "start_time": "2021-07-27T04:19:55.553971",
     "status": "completed"
    },
    "tags": []
   },
   "outputs": [
    {
     "name": "stdout",
     "output_type": "stream",
     "text": [
      "Train % of total data: 88.78923766816143\n",
      "(792, 11)\n",
      "(100, 11)\n",
      "(792, 1)\n"
     ]
    }
   ],
   "source": [
    "target = 'Survived' #To predict\n",
    "\n",
    "#--------------------------------------------------------------------------------\n",
    "#Splitting into X & Y datasets (supervised training)\n",
    "X = input_ads[[cols for cols in list(input_ads.columns) if target not in cols]]\n",
    "y = input_ads[target]\n",
    "\n",
    "#--------------------------------------------------------------------------------\n",
    "#Since test data is already placed in the input folder separately, we will just import it\n",
    "test_ads_pre = pd.read_csv('../input/titanic/test_data.csv')\n",
    "test_ads_pre.drop(columns=['Unnamed: 0','Title_1','Title_2','Title_3','Title_4'],inplace=True) #Dropping un-necessary columns\n",
    "test_ads = shuffle(test_ads_pre,random_state=100)\n",
    "test_ads = test_ads.reset_index(drop=True)\n",
    "\n",
    "#Splitting into X & Y datasets (supervised training)\n",
    "X_test = test_ads[[cols for cols in list(test_ads.columns) if target not in cols]]\n",
    "y_test = test_ads[target]\n",
    "\n",
    "print('Train % of total data:',100 * X.shape[0]/(X.shape[0] + X_test.shape[0]))\n",
    "#--------------------------------------------------------------------------------\n",
    "#Manipulation of datasets for convenience and consistency\n",
    "X_arr = np.array(X)\n",
    "X_test_arr = np.array(X_test)\n",
    "\n",
    "y_arr = np.array(y).reshape(X_arr.shape[0],1)\n",
    "y_test_arr = np.array(y_test).reshape(X_test_arr.shape[0],1)\n",
    "\n",
    "#--------------------------------------------------------------------------------\n",
    "#Basic Summary\n",
    "print(X_arr.shape)\n",
    "print(X_test_arr.shape)\n",
    "print(y_arr.shape)"
   ]
  },
  {
   "cell_type": "markdown",
   "id": "ea75d3db",
   "metadata": {
    "papermill": {
     "duration": 0.016863,
     "end_time": "2021-07-27T04:19:55.634788",
     "exception": false,
     "start_time": "2021-07-27T04:19:55.617925",
     "status": "completed"
    },
    "tags": []
   },
   "source": [
    "# Stacking Wrapper Logic from scratch"
   ]
  },
  {
   "cell_type": "code",
   "execution_count": 7,
   "id": "3569dda9",
   "metadata": {
    "execution": {
     "iopub.execute_input": "2021-07-27T04:19:55.673576Z",
     "iopub.status.busy": "2021-07-27T04:19:55.672646Z",
     "iopub.status.idle": "2021-07-27T04:19:55.675556Z",
     "shell.execute_reply": "2021-07-27T04:19:55.675099Z",
     "shell.execute_reply.started": "2021-07-27T04:10:17.983747Z"
    },
    "papermill": {
     "duration": 0.023697,
     "end_time": "2021-07-27T04:19:55.675677",
     "exception": false,
     "start_time": "2021-07-27T04:19:55.651980",
     "status": "completed"
    },
    "tags": []
   },
   "outputs": [],
   "source": [
    "import warnings\n",
    "warnings.filterwarnings('ignore')"
   ]
  },
  {
   "cell_type": "markdown",
   "id": "49c7aacb",
   "metadata": {
    "papermill": {
     "duration": 0.017352,
     "end_time": "2021-07-27T04:19:55.710477",
     "exception": false,
     "start_time": "2021-07-27T04:19:55.693125",
     "status": "completed"
    },
    "tags": []
   },
   "source": [
    "# Importing all the necessary models for base model purpose"
   ]
  },
  {
   "cell_type": "code",
   "execution_count": 8,
   "id": "d6d1d3eb",
   "metadata": {
    "execution": {
     "iopub.execute_input": "2021-07-27T04:19:55.751478Z",
     "iopub.status.busy": "2021-07-27T04:19:55.750595Z",
     "iopub.status.idle": "2021-07-27T04:19:56.085571Z",
     "shell.execute_reply": "2021-07-27T04:19:56.086037Z",
     "shell.execute_reply.started": "2021-07-27T04:10:43.102639Z"
    },
    "papermill": {
     "duration": 0.357526,
     "end_time": "2021-07-27T04:19:56.086242",
     "exception": false,
     "start_time": "2021-07-27T04:19:55.728716",
     "status": "completed"
    },
    "tags": []
   },
   "outputs": [],
   "source": [
    "from sklearn.linear_model import LogisticRegression\n",
    "from sklearn.linear_model import SGDClassifier\n",
    "from sklearn.neighbors import KNeighborsClassifier\n",
    "from sklearn.tree import DecisionTreeClassifier\n",
    "from sklearn.ensemble import RandomForestClassifier\n",
    "from sklearn.svm import SVC\n",
    "import xgboost as xgb"
   ]
  },
  {
   "cell_type": "markdown",
   "id": "11ab3961",
   "metadata": {
    "papermill": {
     "duration": 0.016701,
     "end_time": "2021-07-27T04:19:56.120333",
     "exception": false,
     "start_time": "2021-07-27T04:19:56.103632",
     "status": "completed"
    },
    "tags": []
   },
   "source": [
    "## UDF for Stacking Ensemble Training (Clf)"
   ]
  },
  {
   "cell_type": "code",
   "execution_count": 9,
   "id": "c07bd5c6",
   "metadata": {
    "execution": {
     "iopub.execute_input": "2021-07-27T04:19:56.162863Z",
     "iopub.status.busy": "2021-07-27T04:19:56.161925Z",
     "iopub.status.idle": "2021-07-27T04:19:56.164228Z",
     "shell.execute_reply": "2021-07-27T04:19:56.164611Z",
     "shell.execute_reply.started": "2021-07-27T04:12:34.407339Z"
    },
    "papermill": {
     "duration": 0.027443,
     "end_time": "2021-07-27T04:19:56.164766",
     "exception": false,
     "start_time": "2021-07-27T04:19:56.137323",
     "status": "completed"
    },
    "tags": []
   },
   "outputs": [],
   "source": [
    "def stacking_ensemble_clf_training(data_x,data_y,estimator_tray,meta_estimator,passthrough=True):\n",
    "\n",
    "    fit_level_1 = [] #Model trays for level 1\n",
    "    fit_level_2 = [] #model Trays for level 2\n",
    "    train_pred_arr = np.array([np.nan] * len(data_x)).reshape(len(data_x),1)\n",
    "\n",
    "    for estimator in estimator_tray: #Creating level 1 models\n",
    "\n",
    "        estimator.fit(data_x,data_y)\n",
    "        pred_temp = np.array(estimator.predict(data_x)).reshape(len(data_x),1)\n",
    "        train_pred_arr = np.append(train_pred_arr,pred_temp,axis=-1)\n",
    "        fit_level_1.append(estimator)\n",
    "\n",
    "    train_pred_arr = train_pred_arr[:,1:] #Removing the first null column\n",
    "\n",
    "    if passthrough==False: #If training data doesnt needs to be passed to the level 2\n",
    "\n",
    "        meta_estimator.fit(train_pred_arr,data_y)\n",
    "        fit_level_2.append(meta_estimator)\n",
    "        #pred_meta = meta_estimator.predict(X_test_arr)\n",
    "\n",
    "    elif passthrough==True: #If training data needs to be passed to the level 2\n",
    "\n",
    "        train_pass = np.append(data_x,train_pred_arr,axis=-1)\n",
    "        meta_estimator.fit(train_pass,data_y)\n",
    "        fit_level_2.append(meta_estimator)\n",
    "        \n",
    "        #pred_meta = meta_estimator.predict(X_test_arr)\n",
    "\n",
    "    return fit_level_1,fit_level_2[0]\n"
   ]
  },
  {
   "cell_type": "markdown",
   "id": "2cd991b3",
   "metadata": {
    "papermill": {
     "duration": 0.016701,
     "end_time": "2021-07-27T04:19:56.198481",
     "exception": false,
     "start_time": "2021-07-27T04:19:56.181780",
     "status": "completed"
    },
    "tags": []
   },
   "source": [
    "## UDF for Stacking Ensemble Prediction"
   ]
  },
  {
   "cell_type": "code",
   "execution_count": 10,
   "id": "90a24749",
   "metadata": {
    "execution": {
     "iopub.execute_input": "2021-07-27T04:19:56.235929Z",
     "iopub.status.busy": "2021-07-27T04:19:56.235074Z",
     "iopub.status.idle": "2021-07-27T04:19:56.241202Z",
     "shell.execute_reply": "2021-07-27T04:19:56.241614Z",
     "shell.execute_reply.started": "2021-07-27T04:15:30.196891Z"
    },
    "papermill": {
     "duration": 0.026212,
     "end_time": "2021-07-27T04:19:56.241769",
     "exception": false,
     "start_time": "2021-07-27T04:19:56.215557",
     "status": "completed"
    },
    "tags": []
   },
   "outputs": [],
   "source": [
    "def stacking_ensemble_clf_predict(data_x_test,data_y_test,fit_level_1_tray,meta_estimator,passthrough=True):\n",
    "\n",
    "    train_pred_arr = np.array([np.nan] * len(data_x_test)).reshape(len(data_x_test),1) #Initializing level 1 prediction array\n",
    "\n",
    "    for estimator in fit_level_1_tray: #Predcitng for each base model\n",
    "\n",
    "        pred_temp = np.array(estimator.predict(data_x_test)).reshape(len(data_x_test),1)\n",
    "        train_pred_arr = np.append(train_pred_arr,pred_temp,axis=-1)\n",
    "\n",
    "    train_pred_arr = train_pred_arr[:,1:] #Removing the first null column\n",
    "\n",
    "    if passthrough==False: #Should match with training\n",
    "\n",
    "        pred_meta = meta_estimator.predict(train_pred_arr)\n",
    "\n",
    "    elif passthrough==True: #Should match with training\n",
    "\n",
    "        train_pass = np.append(data_x_test,train_pred_arr,axis=-1)\n",
    "        pred_meta = meta_estimator.predict(train_pass)\n",
    "\n",
    "    return pred_meta\n"
   ]
  },
  {
   "cell_type": "markdown",
   "id": "e861447f",
   "metadata": {
    "papermill": {
     "duration": 0.016703,
     "end_time": "2021-07-27T04:19:56.275420",
     "exception": false,
     "start_time": "2021-07-27T04:19:56.258717",
     "status": "completed"
    },
    "tags": []
   },
   "source": [
    "## Invoking UDF for Stacking Ensemble Training (Clf)"
   ]
  },
  {
   "cell_type": "code",
   "execution_count": 11,
   "id": "aebb11df",
   "metadata": {
    "execution": {
     "iopub.execute_input": "2021-07-27T04:19:56.312509Z",
     "iopub.status.busy": "2021-07-27T04:19:56.311642Z",
     "iopub.status.idle": "2021-07-27T04:19:56.865315Z",
     "shell.execute_reply": "2021-07-27T04:19:56.866140Z",
     "shell.execute_reply.started": "2021-07-27T04:15:27.417202Z"
    },
    "papermill": {
     "duration": 0.574108,
     "end_time": "2021-07-27T04:19:56.866431",
     "exception": false,
     "start_time": "2021-07-27T04:19:56.292323",
     "status": "completed"
    },
    "tags": []
   },
   "outputs": [
    {
     "name": "stdout",
     "output_type": "stream",
     "text": [
      "[04:19:56] WARNING: ../src/learner.cc:1095: Starting in XGBoost 1.3.0, the default evaluation metric used with the objective 'binary:logistic' was changed from 'error' to 'logloss'. Explicitly set eval_metric if you'd like to restore the old behavior.\n"
     ]
    }
   ],
   "source": [
    "#Level 1 models\n",
    "log_reg = LogisticRegression(solver='sag',random_state=100)\n",
    "sgd_clf = SGDClassifier(random_state=100)\n",
    "knn = KNeighborsClassifier(n_neighbors=3)\n",
    "dt_clf = DecisionTreeClassifier(random_state=100)\n",
    "rf_clf = RandomForestClassifier(random_state=100)\n",
    "svc = SVC(random_state=100)\n",
    "\n",
    "xgb_ = xgb.XGBClassifier(random_state=100) #Meta Classifier\n",
    "#-----------------------------------------------------------------------------------------------------------------\n",
    "level_1 = [log_reg,sgd_clf,knn,dt_clf,rf_clf,svc]\n",
    "#meta = xgb_\n",
    "\n",
    "#-----------------------------------------------------------------------------------------------------------------\n",
    "fit_level_1,meta_estimator = stacking_ensemble_clf_training(data_x=X_arr,\n",
    "                                                            data_y=y_arr,\n",
    "                                                            estimator_tray=level_1,\n",
    "                                                            meta_estimator=xgb_,\n",
    "                                                            passthrough=True)\n"
   ]
  },
  {
   "cell_type": "markdown",
   "id": "68d526a6",
   "metadata": {
    "papermill": {
     "duration": 0.017109,
     "end_time": "2021-07-27T04:19:56.901688",
     "exception": false,
     "start_time": "2021-07-27T04:19:56.884579",
     "status": "completed"
    },
    "tags": []
   },
   "source": [
    "## Invoking prediction UDF for Stacking Ensemble"
   ]
  },
  {
   "cell_type": "code",
   "execution_count": 12,
   "id": "77393f49",
   "metadata": {
    "execution": {
     "iopub.execute_input": "2021-07-27T04:19:56.942647Z",
     "iopub.status.busy": "2021-07-27T04:19:56.942061Z",
     "iopub.status.idle": "2021-07-27T04:19:56.970974Z",
     "shell.execute_reply": "2021-07-27T04:19:56.970486Z",
     "shell.execute_reply.started": "2021-07-27T04:16:14.802622Z"
    },
    "papermill": {
     "duration": 0.051925,
     "end_time": "2021-07-27T04:19:56.971126",
     "exception": false,
     "start_time": "2021-07-27T04:19:56.919201",
     "status": "completed"
    },
    "tags": []
   },
   "outputs": [
    {
     "name": "stdout",
     "output_type": "stream",
     "text": [
      "ROC AUC of test set : 0.7986111111111112\n",
      "Accuracy of test set : 0.82\n"
     ]
    }
   ],
   "source": [
    "from sklearn.metrics import roc_auc_score\n",
    "from sklearn.metrics import accuracy_score\n",
    "\n",
    "final_preds = stacking_ensemble_clf_predict(data_x_test=X_test_arr,\n",
    "                                            data_y_test=y_test_arr,\n",
    "                                            fit_level_1_tray=fit_level_1,\n",
    "                                            meta_estimator=meta_estimator,\n",
    "                                            passthrough=True)\n",
    "\n",
    "#-------------------------------------------------------------------------------\n",
    "#Evaluation of the manual ensemble\n",
    "print('ROC AUC of test set :',roc_auc_score(y_test_arr,final_preds))\n",
    "print('Accuracy of test set :',accuracy_score(y_test_arr,final_preds))"
   ]
  },
  {
   "cell_type": "markdown",
   "id": "9601a76b",
   "metadata": {
    "papermill": {
     "duration": 0.017206,
     "end_time": "2021-07-27T04:19:57.006150",
     "exception": false,
     "start_time": "2021-07-27T04:19:56.988944",
     "status": "completed"
    },
    "tags": []
   },
   "source": [
    "# Sklearn Benchmark"
   ]
  },
  {
   "cell_type": "code",
   "execution_count": 13,
   "id": "85227849",
   "metadata": {
    "execution": {
     "iopub.execute_input": "2021-07-27T04:19:57.046447Z",
     "iopub.status.busy": "2021-07-27T04:19:57.045599Z",
     "iopub.status.idle": "2021-07-27T04:19:57.051835Z",
     "shell.execute_reply": "2021-07-27T04:19:57.051298Z",
     "shell.execute_reply.started": "2021-07-27T04:16:37.673766Z"
    },
    "papermill": {
     "duration": 0.026405,
     "end_time": "2021-07-27T04:19:57.051962",
     "exception": false,
     "start_time": "2021-07-27T04:19:57.025557",
     "status": "completed"
    },
    "tags": []
   },
   "outputs": [],
   "source": [
    "#Base Estimators\n",
    "estimators_list = [\n",
    "('log_reg', LogisticRegression(solver='sag',random_state=100)),\n",
    "('sgd_clf', SGDClassifier(random_state=100)),\n",
    "('knn', KNeighborsClassifier(n_neighbors=3)),\n",
    "('dt_clf', DecisionTreeClassifier(random_state=100)),\n",
    "('rf_clf', RandomForestClassifier(random_state=100)),\n",
    "('svc', SVC(random_state=100))]\n",
    "\n",
    "xgb_ = xgb.XGBClassifier(random_state=100) #Meta Classifier"
   ]
  },
  {
   "cell_type": "markdown",
   "id": "48ecee09",
   "metadata": {
    "papermill": {
     "duration": 0.018068,
     "end_time": "2021-07-27T04:19:57.087935",
     "exception": false,
     "start_time": "2021-07-27T04:19:57.069867",
     "status": "completed"
    },
    "tags": []
   },
   "source": [
    "## Sklearn implementation of Stacking"
   ]
  },
  {
   "cell_type": "code",
   "execution_count": 14,
   "id": "80d05f52",
   "metadata": {
    "execution": {
     "iopub.execute_input": "2021-07-27T04:19:57.126850Z",
     "iopub.status.busy": "2021-07-27T04:19:57.126267Z",
     "iopub.status.idle": "2021-07-27T04:20:00.390387Z",
     "shell.execute_reply": "2021-07-27T04:20:00.390853Z",
     "shell.execute_reply.started": "2021-07-27T04:17:03.249204Z"
    },
    "papermill": {
     "duration": 3.284987,
     "end_time": "2021-07-27T04:20:00.391017",
     "exception": false,
     "start_time": "2021-07-27T04:19:57.106030",
     "status": "completed"
    },
    "tags": []
   },
   "outputs": [
    {
     "name": "stdout",
     "output_type": "stream",
     "text": [
      "[04:20:00] WARNING: ../src/learner.cc:1095: Starting in XGBoost 1.3.0, the default evaluation metric used with the objective 'binary:logistic' was changed from 'error' to 'logloss'. Explicitly set eval_metric if you'd like to restore the old behavior.\n",
      "ROC AUC of test set : 0.7864583333333333\n",
      "Accuracy of test set : 0.82\n"
     ]
    }
   ],
   "source": [
    "from sklearn.ensemble import StackingClassifier\n",
    "\n",
    "stacking = StackingClassifier(estimators=estimators_list,\n",
    "                              final_estimator=xgb_,\n",
    "                              stack_method='predict',\n",
    "                              passthrough=True,\n",
    "                              n_jobs=-1)\n",
    "\n",
    "stacking.fit(X_arr,y_arr)\n",
    "stacking_pred = stacking.predict(X_test_arr)\n",
    "\n",
    "#--------------------------------------------------------------------------\n",
    "#Evaluating\n",
    "print('ROC AUC of test set :',roc_auc_score(y_test_arr,stacking_pred))\n",
    "print('Accuracy of test set :',accuracy_score(y_test_arr,stacking_pred))"
   ]
  },
  {
   "cell_type": "markdown",
   "id": "2e0b9986",
   "metadata": {
    "papermill": {
     "duration": 0.01757,
     "end_time": "2021-07-27T04:20:00.426254",
     "exception": false,
     "start_time": "2021-07-27T04:20:00.408684",
     "status": "completed"
    },
    "tags": []
   },
   "source": [
    "### Insights: The accuracy and ROC-AUC scores for both sklearn and manual implementations are same indicating correct implementation of the logic"
   ]
  },
  {
   "cell_type": "markdown",
   "id": "c1f6276e",
   "metadata": {
    "papermill": {
     "duration": 0.017352,
     "end_time": "2021-07-27T04:20:00.461281",
     "exception": false,
     "start_time": "2021-07-27T04:20:00.443929",
     "status": "completed"
    },
    "tags": []
   },
   "source": [
    "# END"
   ]
  },
  {
   "cell_type": "code",
   "execution_count": null,
   "id": "7b0f06a3",
   "metadata": {
    "papermill": {
     "duration": 0.017556,
     "end_time": "2021-07-27T04:20:00.496721",
     "exception": false,
     "start_time": "2021-07-27T04:20:00.479165",
     "status": "completed"
    },
    "tags": []
   },
   "outputs": [],
   "source": []
  }
 ],
 "metadata": {
  "kernelspec": {
   "display_name": "Python 3",
   "language": "python",
   "name": "python3"
  },
  "language_info": {
   "codemirror_mode": {
    "name": "ipython",
    "version": 3
   },
   "file_extension": ".py",
   "mimetype": "text/x-python",
   "name": "python",
   "nbconvert_exporter": "python",
   "pygments_lexer": "ipython3",
   "version": "3.7.10"
  },
  "papermill": {
   "default_parameters": {},
   "duration": 13.512299,
   "end_time": "2021-07-27T04:20:01.223911",
   "environment_variables": {},
   "exception": null,
   "input_path": "__notebook__.ipynb",
   "output_path": "__notebook__.ipynb",
   "parameters": {},
   "start_time": "2021-07-27T04:19:47.711612",
   "version": "2.3.3"
  }
 },
 "nbformat": 4,
 "nbformat_minor": 5
}
