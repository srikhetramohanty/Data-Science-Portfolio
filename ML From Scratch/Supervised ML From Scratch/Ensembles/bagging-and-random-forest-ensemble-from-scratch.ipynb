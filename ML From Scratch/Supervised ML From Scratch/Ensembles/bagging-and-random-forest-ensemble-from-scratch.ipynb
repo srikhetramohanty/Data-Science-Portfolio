{
 "cells": [
  {
   "cell_type": "code",
   "execution_count": 1,
   "id": "a90b87cf",
   "metadata": {
    "_cell_guid": "b1076dfc-b9ad-4769-8c92-a6c4dae69d19",
    "_uuid": "8f2839f25d086af736a60e9eeb907d3b93b6e0e5",
    "execution": {
     "iopub.execute_input": "2021-07-27T03:58:26.234534Z",
     "iopub.status.busy": "2021-07-27T03:58:26.233833Z",
     "iopub.status.idle": "2021-07-27T03:58:26.246669Z",
     "shell.execute_reply": "2021-07-27T03:58:26.245956Z",
     "shell.execute_reply.started": "2021-07-27T03:48:49.919129Z"
    },
    "papermill": {
     "duration": 0.049083,
     "end_time": "2021-07-27T03:58:26.246858",
     "exception": false,
     "start_time": "2021-07-27T03:58:26.197775",
     "status": "completed"
    },
    "tags": []
   },
   "outputs": [
    {
     "name": "stdout",
     "output_type": "stream",
     "text": [
      "/kaggle/input/titanic/train_data.csv\n",
      "/kaggle/input/titanic/test_data.csv\n"
     ]
    }
   ],
   "source": [
    "# This Python 3 environment comes with many helpful analytics libraries installed\n",
    "# It is defined by the kaggle/python Docker image: https://github.com/kaggle/docker-python\n",
    "# For example, here's several helpful packages to load\n",
    "\n",
    "import numpy as np # linear algebra\n",
    "import pandas as pd # data processing, CSV file I/O (e.g. pd.read_csv)\n",
    "import warnings\n",
    "warnings.filterwarnings('ignore')\n",
    "\n",
    "# Input data files are available in the read-only \"../input/\" directory\n",
    "# For example, running this (by clicking run or pressing Shift+Enter) will list all files under the input directory\n",
    "\n",
    "import os\n",
    "for dirname, _, filenames in os.walk('/kaggle/input'):\n",
    "    for filename in filenames:\n",
    "        print(os.path.join(dirname, filename))\n",
    "\n",
    "# You can write up to 20GB to the current directory (/kaggle/working/) that gets preserved as output when you create a version using \"Save & Run All\" \n",
    "# You can also write temporary files to /kaggle/temp/, but they won't be saved outside of the current session"
   ]
  },
  {
   "cell_type": "markdown",
   "id": "bfb712b4",
   "metadata": {
    "papermill": {
     "duration": 0.020699,
     "end_time": "2021-07-27T03:58:26.289660",
     "exception": false,
     "start_time": "2021-07-27T03:58:26.268961",
     "status": "completed"
    },
    "tags": []
   },
   "source": [
    "# Input of ADS"
   ]
  },
  {
   "cell_type": "code",
   "execution_count": 2,
   "id": "c63405d5",
   "metadata": {
    "execution": {
     "iopub.execute_input": "2021-07-27T03:58:26.337702Z",
     "iopub.status.busy": "2021-07-27T03:58:26.337008Z",
     "iopub.status.idle": "2021-07-27T03:58:26.476762Z",
     "shell.execute_reply": "2021-07-27T03:58:26.475877Z",
     "shell.execute_reply.started": "2021-07-27T03:40:50.186732Z"
    },
    "papermill": {
     "duration": 0.166176,
     "end_time": "2021-07-27T03:58:26.476931",
     "exception": false,
     "start_time": "2021-07-27T03:58:26.310755",
     "status": "completed"
    },
    "tags": []
   },
   "outputs": [
    {
     "name": "stdout",
     "output_type": "stream",
     "text": [
      "(792, 12)\n"
     ]
    },
    {
     "data": {
      "text/html": [
       "<div>\n",
       "<style scoped>\n",
       "    .dataframe tbody tr th:only-of-type {\n",
       "        vertical-align: middle;\n",
       "    }\n",
       "\n",
       "    .dataframe tbody tr th {\n",
       "        vertical-align: top;\n",
       "    }\n",
       "\n",
       "    .dataframe thead th {\n",
       "        text-align: right;\n",
       "    }\n",
       "</style>\n",
       "<table border=\"1\" class=\"dataframe\">\n",
       "  <thead>\n",
       "    <tr style=\"text-align: right;\">\n",
       "      <th></th>\n",
       "      <th>PassengerId</th>\n",
       "      <th>Survived</th>\n",
       "      <th>Sex</th>\n",
       "      <th>Age</th>\n",
       "      <th>Fare</th>\n",
       "      <th>Pclass_1</th>\n",
       "      <th>Pclass_2</th>\n",
       "      <th>Pclass_3</th>\n",
       "      <th>Family_size</th>\n",
       "      <th>Emb_1</th>\n",
       "      <th>Emb_2</th>\n",
       "      <th>Emb_3</th>\n",
       "    </tr>\n",
       "  </thead>\n",
       "  <tbody>\n",
       "    <tr>\n",
       "      <th>0</th>\n",
       "      <td>1</td>\n",
       "      <td>0</td>\n",
       "      <td>1</td>\n",
       "      <td>0.2750</td>\n",
       "      <td>0.014151</td>\n",
       "      <td>0</td>\n",
       "      <td>0</td>\n",
       "      <td>1</td>\n",
       "      <td>0.1</td>\n",
       "      <td>0</td>\n",
       "      <td>0</td>\n",
       "      <td>1</td>\n",
       "    </tr>\n",
       "    <tr>\n",
       "      <th>1</th>\n",
       "      <td>2</td>\n",
       "      <td>1</td>\n",
       "      <td>0</td>\n",
       "      <td>0.4750</td>\n",
       "      <td>0.139136</td>\n",
       "      <td>1</td>\n",
       "      <td>0</td>\n",
       "      <td>0</td>\n",
       "      <td>0.1</td>\n",
       "      <td>1</td>\n",
       "      <td>0</td>\n",
       "      <td>0</td>\n",
       "    </tr>\n",
       "    <tr>\n",
       "      <th>2</th>\n",
       "      <td>3</td>\n",
       "      <td>1</td>\n",
       "      <td>0</td>\n",
       "      <td>0.3250</td>\n",
       "      <td>0.015469</td>\n",
       "      <td>0</td>\n",
       "      <td>0</td>\n",
       "      <td>1</td>\n",
       "      <td>0.0</td>\n",
       "      <td>0</td>\n",
       "      <td>0</td>\n",
       "      <td>1</td>\n",
       "    </tr>\n",
       "    <tr>\n",
       "      <th>3</th>\n",
       "      <td>4</td>\n",
       "      <td>1</td>\n",
       "      <td>0</td>\n",
       "      <td>0.4375</td>\n",
       "      <td>0.103644</td>\n",
       "      <td>1</td>\n",
       "      <td>0</td>\n",
       "      <td>0</td>\n",
       "      <td>0.1</td>\n",
       "      <td>0</td>\n",
       "      <td>0</td>\n",
       "      <td>1</td>\n",
       "    </tr>\n",
       "    <tr>\n",
       "      <th>4</th>\n",
       "      <td>5</td>\n",
       "      <td>0</td>\n",
       "      <td>1</td>\n",
       "      <td>0.4375</td>\n",
       "      <td>0.015713</td>\n",
       "      <td>0</td>\n",
       "      <td>0</td>\n",
       "      <td>1</td>\n",
       "      <td>0.0</td>\n",
       "      <td>0</td>\n",
       "      <td>0</td>\n",
       "      <td>1</td>\n",
       "    </tr>\n",
       "  </tbody>\n",
       "</table>\n",
       "</div>"
      ],
      "text/plain": [
       "   PassengerId  Survived  Sex     Age      Fare  Pclass_1  Pclass_2  Pclass_3  \\\n",
       "0            1         0    1  0.2750  0.014151         0         0         1   \n",
       "1            2         1    0  0.4750  0.139136         1         0         0   \n",
       "2            3         1    0  0.3250  0.015469         0         0         1   \n",
       "3            4         1    0  0.4375  0.103644         1         0         0   \n",
       "4            5         0    1  0.4375  0.015713         0         0         1   \n",
       "\n",
       "   Family_size  Emb_1  Emb_2  Emb_3  \n",
       "0          0.1      0      0      1  \n",
       "1          0.1      1      0      0  \n",
       "2          0.0      0      0      1  \n",
       "3          0.1      0      0      1  \n",
       "4          0.0      0      0      1  "
      ]
     },
     "execution_count": 2,
     "metadata": {},
     "output_type": "execute_result"
    }
   ],
   "source": [
    "input_ads_pre = pd.read_csv('../input/titanic/train_data.csv')\n",
    "input_ads_pre.drop(columns=['Unnamed: 0','Title_1','Title_2','Title_3','Title_4'],inplace=True) #Dropping un-necessary columns\n",
    "#-----------------------------------------------------------------\n",
    "print(input_ads_pre.shape)\n",
    "input_ads_pre.head()"
   ]
  },
  {
   "cell_type": "markdown",
   "id": "f1ecf375",
   "metadata": {
    "papermill": {
     "duration": 0.02447,
     "end_time": "2021-07-27T03:58:26.532060",
     "exception": false,
     "start_time": "2021-07-27T03:58:26.507590",
     "status": "completed"
    },
    "tags": []
   },
   "source": [
    "# Null Check"
   ]
  },
  {
   "cell_type": "code",
   "execution_count": 3,
   "id": "a82969b6",
   "metadata": {
    "execution": {
     "iopub.execute_input": "2021-07-27T03:58:26.600084Z",
     "iopub.status.busy": "2021-07-27T03:58:26.599135Z",
     "iopub.status.idle": "2021-07-27T03:58:26.603583Z",
     "shell.execute_reply": "2021-07-27T03:58:26.603091Z",
     "shell.execute_reply.started": "2021-07-27T03:41:02.854644Z"
    },
    "papermill": {
     "duration": 0.041612,
     "end_time": "2021-07-27T03:58:26.603822",
     "exception": false,
     "start_time": "2021-07-27T03:58:26.562210",
     "status": "completed"
    },
    "tags": []
   },
   "outputs": [
    {
     "data": {
      "text/html": [
       "<div>\n",
       "<style scoped>\n",
       "    .dataframe tbody tr th:only-of-type {\n",
       "        vertical-align: middle;\n",
       "    }\n",
       "\n",
       "    .dataframe tbody tr th {\n",
       "        vertical-align: top;\n",
       "    }\n",
       "\n",
       "    .dataframe thead th {\n",
       "        text-align: right;\n",
       "    }\n",
       "</style>\n",
       "<table border=\"1\" class=\"dataframe\">\n",
       "  <thead>\n",
       "    <tr style=\"text-align: right;\">\n",
       "      <th></th>\n",
       "      <th>PassengerId</th>\n",
       "      <th>Survived</th>\n",
       "      <th>Sex</th>\n",
       "      <th>Age</th>\n",
       "      <th>Fare</th>\n",
       "      <th>Pclass_1</th>\n",
       "      <th>Pclass_2</th>\n",
       "      <th>Pclass_3</th>\n",
       "      <th>Family_size</th>\n",
       "      <th>Emb_1</th>\n",
       "      <th>Emb_2</th>\n",
       "      <th>Emb_3</th>\n",
       "    </tr>\n",
       "  </thead>\n",
       "  <tbody>\n",
       "    <tr>\n",
       "      <th>0</th>\n",
       "      <td>0</td>\n",
       "      <td>0</td>\n",
       "      <td>0</td>\n",
       "      <td>0</td>\n",
       "      <td>0</td>\n",
       "      <td>0</td>\n",
       "      <td>0</td>\n",
       "      <td>0</td>\n",
       "      <td>0</td>\n",
       "      <td>0</td>\n",
       "      <td>0</td>\n",
       "      <td>0</td>\n",
       "    </tr>\n",
       "  </tbody>\n",
       "</table>\n",
       "</div>"
      ],
      "text/plain": [
       "   PassengerId  Survived  Sex  Age  Fare  Pclass_1  Pclass_2  Pclass_3  \\\n",
       "0            0         0    0    0     0         0         0         0   \n",
       "\n",
       "   Family_size  Emb_1  Emb_2  Emb_3  \n",
       "0            0      0      0      0  "
      ]
     },
     "execution_count": 3,
     "metadata": {},
     "output_type": "execute_result"
    }
   ],
   "source": [
    "pd.DataFrame(input_ads_pre.isnull().sum()).T"
   ]
  },
  {
   "cell_type": "markdown",
   "id": "4b4c0dea",
   "metadata": {
    "papermill": {
     "duration": 0.023035,
     "end_time": "2021-07-27T03:58:26.649716",
     "exception": false,
     "start_time": "2021-07-27T03:58:26.626681",
     "status": "completed"
    },
    "tags": []
   },
   "source": [
    "# Description of target variable"
   ]
  },
  {
   "cell_type": "code",
   "execution_count": 4,
   "id": "b945f671",
   "metadata": {
    "execution": {
     "iopub.execute_input": "2021-07-27T03:58:26.704843Z",
     "iopub.status.busy": "2021-07-27T03:58:26.704119Z",
     "iopub.status.idle": "2021-07-27T03:58:26.708150Z",
     "shell.execute_reply": "2021-07-27T03:58:26.707536Z",
     "shell.execute_reply.started": "2021-07-27T03:41:38.973738Z"
    },
    "papermill": {
     "duration": 0.034832,
     "end_time": "2021-07-27T03:58:26.708288",
     "exception": false,
     "start_time": "2021-07-27T03:58:26.673456",
     "status": "completed"
    },
    "tags": []
   },
   "outputs": [
    {
     "data": {
      "text/plain": [
       "0    486\n",
       "1    306\n",
       "Name: Survived, dtype: int64"
      ]
     },
     "execution_count": 4,
     "metadata": {},
     "output_type": "execute_result"
    }
   ],
   "source": [
    "#Total survived vs not-survived split in the training data\n",
    "input_ads_pre['Survived'].value_counts()"
   ]
  },
  {
   "cell_type": "markdown",
   "id": "f396fedb",
   "metadata": {
    "papermill": {
     "duration": 0.022768,
     "end_time": "2021-07-27T03:58:26.753970",
     "exception": false,
     "start_time": "2021-07-27T03:58:26.731202",
     "status": "completed"
    },
    "tags": []
   },
   "source": [
    "# Shuffling the ADS"
   ]
  },
  {
   "cell_type": "code",
   "execution_count": 5,
   "id": "b980b825",
   "metadata": {
    "execution": {
     "iopub.execute_input": "2021-07-27T03:58:26.803553Z",
     "iopub.status.busy": "2021-07-27T03:58:26.802548Z",
     "iopub.status.idle": "2021-07-27T03:58:27.774868Z",
     "shell.execute_reply": "2021-07-27T03:58:27.775594Z",
     "shell.execute_reply.started": "2021-07-27T03:41:37.025387Z"
    },
    "papermill": {
     "duration": 0.999038,
     "end_time": "2021-07-27T03:58:27.775818",
     "exception": false,
     "start_time": "2021-07-27T03:58:26.776780",
     "status": "completed"
    },
    "tags": []
   },
   "outputs": [
    {
     "name": "stdout",
     "output_type": "stream",
     "text": [
      "(792, 12)\n"
     ]
    },
    {
     "data": {
      "text/html": [
       "<div>\n",
       "<style scoped>\n",
       "    .dataframe tbody tr th:only-of-type {\n",
       "        vertical-align: middle;\n",
       "    }\n",
       "\n",
       "    .dataframe tbody tr th {\n",
       "        vertical-align: top;\n",
       "    }\n",
       "\n",
       "    .dataframe thead th {\n",
       "        text-align: right;\n",
       "    }\n",
       "</style>\n",
       "<table border=\"1\" class=\"dataframe\">\n",
       "  <thead>\n",
       "    <tr style=\"text-align: right;\">\n",
       "      <th></th>\n",
       "      <th>PassengerId</th>\n",
       "      <th>Survived</th>\n",
       "      <th>Sex</th>\n",
       "      <th>Age</th>\n",
       "      <th>Fare</th>\n",
       "      <th>Pclass_1</th>\n",
       "      <th>Pclass_2</th>\n",
       "      <th>Pclass_3</th>\n",
       "      <th>Family_size</th>\n",
       "      <th>Emb_1</th>\n",
       "      <th>Emb_2</th>\n",
       "      <th>Emb_3</th>\n",
       "    </tr>\n",
       "  </thead>\n",
       "  <tbody>\n",
       "    <tr>\n",
       "      <th>0</th>\n",
       "      <td>371</td>\n",
       "      <td>1</td>\n",
       "      <td>1</td>\n",
       "      <td>0.3125</td>\n",
       "      <td>0.108215</td>\n",
       "      <td>1</td>\n",
       "      <td>0</td>\n",
       "      <td>0</td>\n",
       "      <td>0.1</td>\n",
       "      <td>1</td>\n",
       "      <td>0</td>\n",
       "      <td>0</td>\n",
       "    </tr>\n",
       "    <tr>\n",
       "      <th>1</th>\n",
       "      <td>556</td>\n",
       "      <td>0</td>\n",
       "      <td>1</td>\n",
       "      <td>0.7750</td>\n",
       "      <td>0.051822</td>\n",
       "      <td>1</td>\n",
       "      <td>0</td>\n",
       "      <td>0</td>\n",
       "      <td>0.0</td>\n",
       "      <td>0</td>\n",
       "      <td>0</td>\n",
       "      <td>1</td>\n",
       "    </tr>\n",
       "    <tr>\n",
       "      <th>2</th>\n",
       "      <td>624</td>\n",
       "      <td>0</td>\n",
       "      <td>1</td>\n",
       "      <td>0.2625</td>\n",
       "      <td>0.015330</td>\n",
       "      <td>0</td>\n",
       "      <td>0</td>\n",
       "      <td>1</td>\n",
       "      <td>0.0</td>\n",
       "      <td>0</td>\n",
       "      <td>0</td>\n",
       "      <td>1</td>\n",
       "    </tr>\n",
       "  </tbody>\n",
       "</table>\n",
       "</div>"
      ],
      "text/plain": [
       "   PassengerId  Survived  Sex     Age      Fare  Pclass_1  Pclass_2  Pclass_3  \\\n",
       "0          371         1    1  0.3125  0.108215         1         0         0   \n",
       "1          556         0    1  0.7750  0.051822         1         0         0   \n",
       "2          624         0    1  0.2625  0.015330         0         0         1   \n",
       "\n",
       "   Family_size  Emb_1  Emb_2  Emb_3  \n",
       "0          0.1      1      0      0  \n",
       "1          0.0      0      0      1  \n",
       "2          0.0      0      0      1  "
      ]
     },
     "execution_count": 5,
     "metadata": {},
     "output_type": "execute_result"
    }
   ],
   "source": [
    "from sklearn.utils import shuffle\n",
    "#np.random.seed(100)\n",
    "\n",
    "input_ads = shuffle(input_ads_pre,random_state=100)\n",
    "print(input_ads.shape)\n",
    "input_ads = input_ads.reset_index(drop=True)\n",
    "input_ads.head(3)"
   ]
  },
  {
   "cell_type": "markdown",
   "id": "07e5c85c",
   "metadata": {
    "papermill": {
     "duration": 0.0239,
     "end_time": "2021-07-27T03:58:27.824436",
     "exception": false,
     "start_time": "2021-07-27T03:58:27.800536",
     "status": "completed"
    },
    "tags": []
   },
   "source": [
    "# Manipulation of data into train and test"
   ]
  },
  {
   "cell_type": "code",
   "execution_count": 6,
   "id": "2af7c509",
   "metadata": {
    "execution": {
     "iopub.execute_input": "2021-07-27T03:58:27.884957Z",
     "iopub.status.busy": "2021-07-27T03:58:27.884222Z",
     "iopub.status.idle": "2021-07-27T03:58:27.901790Z",
     "shell.execute_reply": "2021-07-27T03:58:27.902394Z",
     "shell.execute_reply.started": "2021-07-27T03:42:01.924989Z"
    },
    "papermill": {
     "duration": 0.053702,
     "end_time": "2021-07-27T03:58:27.902575",
     "exception": false,
     "start_time": "2021-07-27T03:58:27.848873",
     "status": "completed"
    },
    "tags": []
   },
   "outputs": [
    {
     "name": "stdout",
     "output_type": "stream",
     "text": [
      "Train % of total data: 88.78923766816143\n",
      "(792, 11)\n",
      "(100, 11)\n",
      "(792, 1)\n"
     ]
    }
   ],
   "source": [
    "target = 'Survived' #To predict\n",
    "\n",
    "#--------------------------------------------------------------------------------\n",
    "#Splitting into X & Y datasets (supervised training)\n",
    "X = input_ads[[cols for cols in list(input_ads.columns) if target not in cols]]\n",
    "y = input_ads[target]\n",
    "\n",
    "#--------------------------------------------------------------------------------\n",
    "#Since test data is already placed in the input folder separately, we will just import it\n",
    "test_ads_pre = pd.read_csv('../input/titanic/test_data.csv')\n",
    "test_ads_pre.drop(columns=['Unnamed: 0','Title_1','Title_2','Title_3','Title_4'],inplace=True) #Dropping un-necessary columns\n",
    "test_ads = shuffle(test_ads_pre,random_state=100)\n",
    "test_ads = test_ads.reset_index(drop=True)\n",
    "\n",
    "#Splitting into X & Y datasets (supervised training)\n",
    "X_test = test_ads[[cols for cols in list(test_ads.columns) if target not in cols]]\n",
    "y_test = test_ads[target]\n",
    "\n",
    "print('Train % of total data:',100 * X.shape[0]/(X.shape[0] + X_test.shape[0]))\n",
    "#--------------------------------------------------------------------------------\n",
    "#Manipulation of datasets for convenience and consistency\n",
    "X_arr = np.array(X)\n",
    "X_test_arr = np.array(X_test)\n",
    "\n",
    "y_arr = np.array(y).reshape(X_arr.shape[0],1)\n",
    "y_test_arr = np.array(y_test).reshape(X_test_arr.shape[0],1)\n",
    "\n",
    "#--------------------------------------------------------------------------------\n",
    "#Basic Summary\n",
    "print(X_arr.shape)\n",
    "print(X_test_arr.shape)\n",
    "print(y_arr.shape)"
   ]
  },
  {
   "cell_type": "markdown",
   "id": "33759a14",
   "metadata": {
    "papermill": {
     "duration": 0.025285,
     "end_time": "2021-07-27T03:58:27.952242",
     "exception": false,
     "start_time": "2021-07-27T03:58:27.926957",
     "status": "completed"
    },
    "tags": []
   },
   "source": [
    "# Independent Logistic Regression & Decision Tree model"
   ]
  },
  {
   "cell_type": "code",
   "execution_count": 7,
   "id": "42fa70df",
   "metadata": {
    "execution": {
     "iopub.execute_input": "2021-07-27T03:58:28.009599Z",
     "iopub.status.busy": "2021-07-27T03:58:28.008786Z",
     "iopub.status.idle": "2021-07-27T03:58:28.316257Z",
     "shell.execute_reply": "2021-07-27T03:58:28.315643Z",
     "shell.execute_reply.started": "2021-07-27T03:42:53.904030Z"
    },
    "papermill": {
     "duration": 0.339888,
     "end_time": "2021-07-27T03:58:28.316406",
     "exception": false,
     "start_time": "2021-07-27T03:58:27.976518",
     "status": "completed"
    },
    "tags": []
   },
   "outputs": [
    {
     "name": "stdout",
     "output_type": "stream",
     "text": [
      "#- Decision Tree ---------------------------------------------------#\n",
      "ROC AUC of test set : 0.7986111111111112\n",
      "Accuracy of test set : 0.82 \n",
      "\n",
      "#- Logistic Regression ---------------------------------------------#\n",
      "ROC AUC of test set : 0.5\n",
      "Accuracy of test set : 0.64 \n",
      "\n"
     ]
    }
   ],
   "source": [
    "from sklearn.tree import DecisionTreeClassifier\n",
    "from sklearn.linear_model import LogisticRegression\n",
    "from sklearn.metrics import roc_auc_score\n",
    "from sklearn.metrics import accuracy_score\n",
    "from sklearn import tree\n",
    "#max_depth=2,min_samples_split=7,min_samples_leaf=8,\n",
    "\n",
    "#Decision Tree Classifier\n",
    "dt_clf = DecisionTreeClassifier(random_state=100)\n",
    "dt_clf.fit(X_arr,y_arr)\n",
    "sklearn_preds_dt = dt_clf.predict(X_test_arr)\n",
    "\n",
    "#---------------------------------------------------------------------------\n",
    "#Logistic Regression\n",
    "lr_clf = LogisticRegression(solver='sag',random_state=100)\n",
    "lr_clf.fit(X_arr,y_arr)\n",
    "sklearn_preds_lr = lr_clf.predict(X_test_arr)\n",
    "\n",
    "#Evaluation of the predictions\n",
    "print('#- Decision Tree ---------------------------------------------------#')\n",
    "print('ROC AUC of test set :',roc_auc_score(y_test_arr,sklearn_preds_dt))\n",
    "print('Accuracy of test set :',accuracy_score(y_test_arr,sklearn_preds_dt),'\\n')\n",
    "\n",
    "print('#- Logistic Regression ---------------------------------------------#')\n",
    "print('ROC AUC of test set :',roc_auc_score(y_test_arr,sklearn_preds_lr))\n",
    "print('Accuracy of test set :',accuracy_score(y_test_arr,sklearn_preds_lr),'\\n')"
   ]
  },
  {
   "cell_type": "markdown",
   "id": "3eb7a811",
   "metadata": {
    "papermill": {
     "duration": 0.025187,
     "end_time": "2021-07-27T03:58:28.366517",
     "exception": false,
     "start_time": "2021-07-27T03:58:28.341330",
     "status": "completed"
    },
    "tags": []
   },
   "source": [
    "# Bagging wrapper logic from scratch"
   ]
  },
  {
   "cell_type": "markdown",
   "id": "985e0574",
   "metadata": {
    "papermill": {
     "duration": 0.024875,
     "end_time": "2021-07-27T03:58:28.417026",
     "exception": false,
     "start_time": "2021-07-27T03:58:28.392151",
     "status": "completed"
    },
    "tags": []
   },
   "source": [
    "## UDF for bootstrap sampling"
   ]
  },
  {
   "cell_type": "code",
   "execution_count": 8,
   "id": "37a72c42",
   "metadata": {
    "execution": {
     "iopub.execute_input": "2021-07-27T03:58:28.474632Z",
     "iopub.status.busy": "2021-07-27T03:58:28.473832Z",
     "iopub.status.idle": "2021-07-27T03:58:28.476930Z",
     "shell.execute_reply": "2021-07-27T03:58:28.477622Z",
     "shell.execute_reply.started": "2021-07-27T03:43:47.194535Z"
    },
    "papermill": {
     "duration": 0.034824,
     "end_time": "2021-07-27T03:58:28.477832",
     "exception": false,
     "start_time": "2021-07-27T03:58:28.443008",
     "status": "completed"
    },
    "tags": []
   },
   "outputs": [],
   "source": [
    "#UDF for bootstrapping sampling logic\n",
    "def bootstrapped_sample(arr,random_state):\n",
    "    \n",
    "    np.random.seed(random_state)\n",
    "    \n",
    "    boot_sample_idx = np.random.choice(a=range(len(arr)),size=len(arr),replace=True)\n",
    "    boot_sample = arr[boot_sample_idx]\n",
    "    \n",
    "    return boot_sample"
   ]
  },
  {
   "cell_type": "markdown",
   "id": "f468a990",
   "metadata": {
    "papermill": {
     "duration": 0.026665,
     "end_time": "2021-07-27T03:58:28.531621",
     "exception": false,
     "start_time": "2021-07-27T03:58:28.504956",
     "status": "completed"
    },
    "tags": []
   },
   "source": [
    "## UDF for Bagging (works very similar for regression as well)"
   ]
  },
  {
   "cell_type": "code",
   "execution_count": 9,
   "id": "461ac5f8",
   "metadata": {
    "execution": {
     "iopub.execute_input": "2021-07-27T03:58:28.595877Z",
     "iopub.status.busy": "2021-07-27T03:58:28.594680Z",
     "iopub.status.idle": "2021-07-27T03:58:28.598056Z",
     "shell.execute_reply": "2021-07-27T03:58:28.597303Z",
     "shell.execute_reply.started": "2021-07-27T03:46:42.980733Z"
    },
    "papermill": {
     "duration": 0.039637,
     "end_time": "2021-07-27T03:58:28.598206",
     "exception": false,
     "start_time": "2021-07-27T03:58:28.558569",
     "status": "completed"
    },
    "tags": []
   },
   "outputs": [],
   "source": [
    "def bagging_ensemble_clf(estimator,X_arr_,y_arr_,test,n_iters,threshold=0.5):\n",
    "\n",
    "    pred_array = np.array([np.nan]*len(test)).reshape((len(test)),1)\n",
    "\n",
    "    joint_arr = np.append(X_arr_,y_arr_,axis=-1)\n",
    "    \n",
    "    #Bootstrapping and model building interatively\n",
    "    for n in range(n_iters):\n",
    "\n",
    "        sample = bootstrapped_sample(arr=joint_arr,random_state=n)\n",
    "\n",
    "        #print('Shape before :',sample.shape)\n",
    "        X_sample = sample[:,0:-1]\n",
    "        y_sample = sample[:,-1]\n",
    "\n",
    "        estimator.fit(X_sample,y_sample)\n",
    "        pred_array_temp = np.array(estimator.predict(test)).reshape((len(test)),1)\n",
    "\n",
    "        pred_array = np.append(pred_array,pred_array_temp,axis=-1)\n",
    "        #print('Pred array shape :',pred_array.shape)\n",
    "\n",
    "\n",
    "    #--------------------------------------------------------------------------------------------------------\n",
    "    #Aggregation\n",
    "    pred_array = pred_array[:,1:]\n",
    "    #print(pred_array)\n",
    "    \n",
    "    pred = np.sum(pred_array,axis=1) \n",
    "    #print(pred)\n",
    "    \n",
    "    n_preds = pred_array.shape[1]\n",
    "    #print(n_preds)\n",
    "    \n",
    "    pred = pred/n_preds\n",
    "    #print(pred)\n",
    "    \n",
    "    pred = (pred>threshold).astype(int)\n",
    "    print('Unique preds :',np.unique(pred))\n",
    "    \n",
    "\n",
    "    return pred"
   ]
  },
  {
   "cell_type": "markdown",
   "id": "8477c65c",
   "metadata": {
    "papermill": {
     "duration": 0.024886,
     "end_time": "2021-07-27T03:58:28.647626",
     "exception": false,
     "start_time": "2021-07-27T03:58:28.622740",
     "status": "completed"
    },
    "tags": []
   },
   "source": [
    "## Invoking Bagginf UDF with Decision Tree model "
   ]
  },
  {
   "cell_type": "code",
   "execution_count": 10,
   "id": "a351b19a",
   "metadata": {
    "execution": {
     "iopub.execute_input": "2021-07-27T03:58:28.704137Z",
     "iopub.status.busy": "2021-07-27T03:58:28.703037Z",
     "iopub.status.idle": "2021-07-27T03:58:30.282527Z",
     "shell.execute_reply": "2021-07-27T03:58:30.281600Z",
     "shell.execute_reply.started": "2021-07-27T03:48:39.355297Z"
    },
    "papermill": {
     "duration": 1.610377,
     "end_time": "2021-07-27T03:58:30.282978",
     "exception": false,
     "start_time": "2021-07-27T03:58:28.672601",
     "status": "completed"
    },
    "tags": []
   },
   "outputs": [
    {
     "name": "stdout",
     "output_type": "stream",
     "text": [
      "Unique preds : [0 1]\n",
      "(100,)\n",
      "#- Manual Bagging w/ Decision Tree ---------------------------------------------------#\n",
      "ROC AUC of test set : 0.8081597222222222\n",
      "Accuracy of test set : 0.84 \n",
      "\n"
     ]
    }
   ],
   "source": [
    "decision_tree = DecisionTreeClassifier(random_state=100)\n",
    "\n",
    "preds_dt = bagging_ensemble_clf(estimator=decision_tree,X_arr_=X_arr,y_arr_=y_arr,test=X_test_arr,n_iters=500)\n",
    "print(preds_dt.shape)\n",
    "\n",
    "print('#- Manual Bagging w/ Decision Tree ---------------------------------------------------#')\n",
    "print('ROC AUC of test set :',roc_auc_score(y_test_arr,preds_dt))\n",
    "print('Accuracy of test set :',accuracy_score(y_test_arr,preds_dt),'\\n')"
   ]
  },
  {
   "cell_type": "markdown",
   "id": "6d972290",
   "metadata": {
    "papermill": {
     "duration": 0.025301,
     "end_time": "2021-07-27T03:58:30.334672",
     "exception": false,
     "start_time": "2021-07-27T03:58:30.309371",
     "status": "completed"
    },
    "tags": []
   },
   "source": [
    "## Invoking Bagginf UDF with Logistic Regression model "
   ]
  },
  {
   "cell_type": "code",
   "execution_count": 11,
   "id": "bf6cfc2a",
   "metadata": {
    "execution": {
     "iopub.execute_input": "2021-07-27T03:58:30.393720Z",
     "iopub.status.busy": "2021-07-27T03:58:30.392709Z",
     "iopub.status.idle": "2021-07-27T03:58:39.029382Z",
     "shell.execute_reply": "2021-07-27T03:58:39.030077Z",
     "shell.execute_reply.started": "2021-07-27T03:54:25.999447Z"
    },
    "papermill": {
     "duration": 8.66979,
     "end_time": "2021-07-27T03:58:39.030312",
     "exception": false,
     "start_time": "2021-07-27T03:58:30.360522",
     "status": "completed"
    },
    "tags": []
   },
   "outputs": [
    {
     "name": "stdout",
     "output_type": "stream",
     "text": [
      "Unique preds : [0]\n",
      "(100,)\n",
      "#- Manual Bagging w/ Logistic Regression Tree ---------------------------------------------------#\n",
      "ROC AUC of test set : 0.5\n",
      "Accuracy of test set : 0.64 \n",
      "\n"
     ]
    }
   ],
   "source": [
    "log_reg = LogisticRegression(solver='saga',random_state=100)\n",
    "\n",
    "preds_lr = bagging_ensemble_clf(estimator=log_reg,X_arr_=X_arr,y_arr_=y_arr,test=X_test_arr,n_iters=500)\n",
    "print(preds_lr.shape)\n",
    "\n",
    "print('#- Manual Bagging w/ Logistic Regression Tree ---------------------------------------------------#')\n",
    "print('ROC AUC of test set :',roc_auc_score(y_test_arr,preds_lr))\n",
    "print('Accuracy of test set :',accuracy_score(y_test_arr,preds_lr),'\\n')"
   ]
  },
  {
   "cell_type": "markdown",
   "id": "474b2015",
   "metadata": {
    "papermill": {
     "duration": 0.025379,
     "end_time": "2021-07-27T03:58:39.081463",
     "exception": false,
     "start_time": "2021-07-27T03:58:39.056084",
     "status": "completed"
    },
    "tags": []
   },
   "source": [
    "# Random Forest Classifier (Very simple after this point)"
   ]
  },
  {
   "cell_type": "code",
   "execution_count": 12,
   "id": "a70acf92",
   "metadata": {
    "execution": {
     "iopub.execute_input": "2021-07-27T03:58:39.139438Z",
     "iopub.status.busy": "2021-07-27T03:58:39.138681Z",
     "iopub.status.idle": "2021-07-27T03:58:40.146974Z",
     "shell.execute_reply": "2021-07-27T03:58:40.147493Z",
     "shell.execute_reply.started": "2021-07-27T03:54:45.619175Z"
    },
    "papermill": {
     "duration": 1.04109,
     "end_time": "2021-07-27T03:58:40.147668",
     "exception": false,
     "start_time": "2021-07-27T03:58:39.106578",
     "status": "completed"
    },
    "tags": []
   },
   "outputs": [
    {
     "name": "stdout",
     "output_type": "stream",
     "text": [
      "Unique preds : [0 1]\n",
      "(100,)\n",
      "#- Manual Random Forest ---------------------------------------------------#\n",
      "ROC AUC of test set : 0.8142361111111112\n",
      "Accuracy of test set : 0.84 \n",
      "\n"
     ]
    }
   ],
   "source": [
    "decision_tree = DecisionTreeClassifier(max_features='sqrt',random_state=100) #For RF only DT can be the estimator & max_features='sqrt'\n",
    "\n",
    "preds_rf = bagging_ensemble_clf(estimator=decision_tree,X_arr_=X_arr,y_arr_=y_arr,test=X_test_arr,n_iters=500)\n",
    "print(preds_rf.shape)\n",
    "\n",
    "print('#- Manual Random Forest ---------------------------------------------------#')\n",
    "print('ROC AUC of test set :',roc_auc_score(y_test_arr,preds_rf))\n",
    "print('Accuracy of test set :',accuracy_score(y_test_arr,preds_rf),'\\n')"
   ]
  },
  {
   "cell_type": "markdown",
   "id": "fb5eea0b",
   "metadata": {
    "papermill": {
     "duration": 0.025659,
     "end_time": "2021-07-27T03:58:40.198955",
     "exception": false,
     "start_time": "2021-07-27T03:58:40.173296",
     "status": "completed"
    },
    "tags": []
   },
   "source": [
    "# Sklearn Benchmarking"
   ]
  },
  {
   "cell_type": "markdown",
   "id": "3579997f",
   "metadata": {
    "papermill": {
     "duration": 0.025449,
     "end_time": "2021-07-27T03:58:40.250188",
     "exception": false,
     "start_time": "2021-07-27T03:58:40.224739",
     "status": "completed"
    },
    "tags": []
   },
   "source": [
    "# Bagging with DT"
   ]
  },
  {
   "cell_type": "code",
   "execution_count": 13,
   "id": "41a54b3c",
   "metadata": {
    "execution": {
     "iopub.execute_input": "2021-07-27T03:58:40.307842Z",
     "iopub.status.busy": "2021-07-27T03:58:40.307057Z",
     "iopub.status.idle": "2021-07-27T03:58:43.378686Z",
     "shell.execute_reply": "2021-07-27T03:58:43.379433Z",
     "shell.execute_reply.started": "2021-07-27T03:54:12.084897Z"
    },
    "papermill": {
     "duration": 3.104067,
     "end_time": "2021-07-27T03:58:43.379665",
     "exception": false,
     "start_time": "2021-07-27T03:58:40.275598",
     "status": "completed"
    },
    "tags": []
   },
   "outputs": [
    {
     "name": "stdout",
     "output_type": "stream",
     "text": [
      "#- Sklearn Bagging Classifier ---------------------------------------------------#\n",
      "ROC AUC of test set : 0.8081597222222222\n",
      "Accuracy of test set : 0.84 \n",
      "\n"
     ]
    }
   ],
   "source": [
    "from sklearn.ensemble import BaggingClassifier\n",
    "\n",
    "decision_tree = DecisionTreeClassifier(random_state=100)\n",
    "\n",
    "bagging_skl = BaggingClassifier(base_estimator=decision_tree,\n",
    "                                n_estimators=500,\n",
    "                                max_features=1.0,\n",
    "                                bootstrap=True,\n",
    "                                random_state=100,\n",
    "                                n_jobs=-1)\n",
    "bagging_skl.fit(X_arr,y_arr)\n",
    "bagging_skl_pred = bagging_skl.predict(X_test_arr)\n",
    "\n",
    "#--------------------------------------------------------------------------------------------------------\n",
    "print('#- Sklearn Bagging Classifier ---------------------------------------------------#')\n",
    "print('ROC AUC of test set :',roc_auc_score(y_test_arr,bagging_skl_pred))\n",
    "print('Accuracy of test set :',accuracy_score(y_test_arr,bagging_skl_pred),'\\n')"
   ]
  },
  {
   "cell_type": "markdown",
   "id": "9e19f7a1",
   "metadata": {
    "papermill": {
     "duration": 0.025326,
     "end_time": "2021-07-27T03:58:43.432028",
     "exception": false,
     "start_time": "2021-07-27T03:58:43.406702",
     "status": "completed"
    },
    "tags": []
   },
   "source": [
    "# Sklearn Random Forest"
   ]
  },
  {
   "cell_type": "code",
   "execution_count": 14,
   "id": "96f75c5c",
   "metadata": {
    "execution": {
     "iopub.execute_input": "2021-07-27T03:58:43.521657Z",
     "iopub.status.busy": "2021-07-27T03:58:43.490153Z",
     "iopub.status.idle": "2021-07-27T03:58:45.182980Z",
     "shell.execute_reply": "2021-07-27T03:58:45.183837Z",
     "shell.execute_reply.started": "2021-07-27T03:54:54.114019Z"
    },
    "papermill": {
     "duration": 1.726164,
     "end_time": "2021-07-27T03:58:45.184200",
     "exception": false,
     "start_time": "2021-07-27T03:58:43.458036",
     "status": "completed"
    },
    "tags": []
   },
   "outputs": [
    {
     "name": "stdout",
     "output_type": "stream",
     "text": [
      "#- Sklearn Bagging Classifier ---------------------------------------------------#\n",
      "ROC AUC of test set : 0.828125\n",
      "Accuracy of test set : 0.85 \n",
      "\n"
     ]
    }
   ],
   "source": [
    "from sklearn.ensemble import RandomForestClassifier\n",
    "\n",
    "rf_skl = RandomForestClassifier(n_estimators=500,\n",
    "                                max_features='sqrt',\n",
    "                                bootstrap=True,\n",
    "                                random_state=100,\n",
    "                                n_jobs=-1)\n",
    "rf_skl.fit(X_arr,y_arr)\n",
    "rf_skl_pred = rf_skl.predict(X_test_arr)\n",
    "\n",
    "#--------------------------------------------------------------------------------------------------------\n",
    "print('#- Sklearn Bagging Classifier ---------------------------------------------------#')\n",
    "print('ROC AUC of test set :',roc_auc_score(y_test_arr,rf_skl_pred))\n",
    "print('Accuracy of test set :',accuracy_score(y_test_arr,rf_skl_pred),'\\n')"
   ]
  },
  {
   "cell_type": "markdown",
   "id": "56d199cd",
   "metadata": {
    "papermill": {
     "duration": 0.03563,
     "end_time": "2021-07-27T03:58:45.246987",
     "exception": false,
     "start_time": "2021-07-27T03:58:45.211357",
     "status": "completed"
    },
    "tags": []
   },
   "source": [
    "## Insights : The manual implementations are giving almost identical quality of predictions for normal bagging and random forest with the sklearn versions"
   ]
  },
  {
   "cell_type": "markdown",
   "id": "f91d0a3b",
   "metadata": {
    "papermill": {
     "duration": 0.02626,
     "end_time": "2021-07-27T03:58:45.303308",
     "exception": false,
     "start_time": "2021-07-27T03:58:45.277048",
     "status": "completed"
    },
    "tags": []
   },
   "source": [
    "# END"
   ]
  },
  {
   "cell_type": "code",
   "execution_count": null,
   "id": "e88b78e8",
   "metadata": {
    "papermill": {
     "duration": 0.025381,
     "end_time": "2021-07-27T03:58:45.355791",
     "exception": false,
     "start_time": "2021-07-27T03:58:45.330410",
     "status": "completed"
    },
    "tags": []
   },
   "outputs": [],
   "source": []
  }
 ],
 "metadata": {
  "kernelspec": {
   "display_name": "Python 3",
   "language": "python",
   "name": "python3"
  },
  "language_info": {
   "codemirror_mode": {
    "name": "ipython",
    "version": 3
   },
   "file_extension": ".py",
   "mimetype": "text/x-python",
   "name": "python",
   "nbconvert_exporter": "python",
   "pygments_lexer": "ipython3",
   "version": "3.7.10"
  },
  "papermill": {
   "default_parameters": {},
   "duration": 28.904277,
   "end_time": "2021-07-27T03:58:46.676152",
   "environment_variables": {},
   "exception": null,
   "input_path": "__notebook__.ipynb",
   "output_path": "__notebook__.ipynb",
   "parameters": {},
   "start_time": "2021-07-27T03:58:17.771875",
   "version": "2.3.3"
  }
 },
 "nbformat": 4,
 "nbformat_minor": 5
}
