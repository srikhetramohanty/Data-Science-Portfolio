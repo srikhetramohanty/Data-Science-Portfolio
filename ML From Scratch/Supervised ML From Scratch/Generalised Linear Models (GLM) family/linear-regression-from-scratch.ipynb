{
 "cells": [
  {
   "cell_type": "code",
   "execution_count": 1,
   "id": "unlikely-duration",
   "metadata": {
    "_cell_guid": "b1076dfc-b9ad-4769-8c92-a6c4dae69d19",
    "_uuid": "8f2839f25d086af736a60e9eeb907d3b93b6e0e5",
    "execution": {
     "iopub.execute_input": "2021-07-26T04:01:46.803580Z",
     "iopub.status.busy": "2021-07-26T04:01:46.802365Z",
     "iopub.status.idle": "2021-07-26T04:01:47.896719Z",
     "shell.execute_reply": "2021-07-26T04:01:47.897279Z",
     "shell.execute_reply.started": "2021-07-26T03:16:47.732655Z"
    },
    "papermill": {
     "duration": 1.135341,
     "end_time": "2021-07-26T04:01:47.897564",
     "exception": false,
     "start_time": "2021-07-26T04:01:46.762223",
     "status": "completed"
    },
    "tags": []
   },
   "outputs": [
    {
     "name": "stdout",
     "output_type": "stream",
     "text": [
      "/kaggle/input/bostonhoustingmlnd/housing.csv\n"
     ]
    }
   ],
   "source": [
    "# This Python 3 environment comes with many helpful analytics libraries installed\n",
    "# It is defined by the kaggle/python Docker image: https://github.com/kaggle/docker-python\n",
    "# For example, here's several helpful packages to load\n",
    "\n",
    "import numpy as np # linear algebra\n",
    "import pandas as pd # data processing, CSV file I/O (e.g. pd.read_csv)\n",
    "from sklearn.preprocessing import StandardScaler\n",
    "from sklearn.metrics import mean_squared_error\n",
    "import matplotlib.pyplot as pt\n",
    "import seaborn as sns\n",
    "from sklearn.model_selection import train_test_split\n",
    "\n",
    "# Input data files are available in the read-only \"../input/\" directory\n",
    "# For example, running this (by clicking run or pressing Shift+Enter) will list all files under the input directory\n",
    "\n",
    "import os\n",
    "for dirname, _, filenames in os.walk('/kaggle/input'):\n",
    "    for filename in filenames:\n",
    "        print(os.path.join(dirname, filename))\n",
    "\n",
    "# You can write up to 20GB to the current directory (/kaggle/working/) that gets preserved as output when you create a version using \"Save & Run All\" \n",
    "# You can also write temporary files to /kaggle/temp/, but they won't be saved outside of the current session"
   ]
  },
  {
   "cell_type": "markdown",
   "id": "random-finance",
   "metadata": {
    "papermill": {
     "duration": 0.034778,
     "end_time": "2021-07-26T04:01:47.967852",
     "exception": false,
     "start_time": "2021-07-26T04:01:47.933074",
     "status": "completed"
    },
    "tags": []
   },
   "source": [
    "# Importing data (Boston Housing Data to predict house prices)\n",
    "1. Link - https://www.kaggle.com/schirmerchad/bostonhoustingmlnd"
   ]
  },
  {
   "cell_type": "code",
   "execution_count": 2,
   "id": "swiss-matrix",
   "metadata": {
    "execution": {
     "iopub.execute_input": "2021-07-26T04:01:48.044493Z",
     "iopub.status.busy": "2021-07-26T04:01:48.043702Z",
     "iopub.status.idle": "2021-07-26T04:01:48.081282Z",
     "shell.execute_reply": "2021-07-26T04:01:48.081979Z",
     "shell.execute_reply.started": "2021-07-26T03:20:24.726463Z"
    },
    "papermill": {
     "duration": 0.078212,
     "end_time": "2021-07-26T04:01:48.082203",
     "exception": false,
     "start_time": "2021-07-26T04:01:48.003991",
     "status": "completed"
    },
    "tags": []
   },
   "outputs": [
    {
     "name": "stdout",
     "output_type": "stream",
     "text": [
      "(489, 4)\n"
     ]
    },
    {
     "data": {
      "text/html": [
       "<div>\n",
       "<style scoped>\n",
       "    .dataframe tbody tr th:only-of-type {\n",
       "        vertical-align: middle;\n",
       "    }\n",
       "\n",
       "    .dataframe tbody tr th {\n",
       "        vertical-align: top;\n",
       "    }\n",
       "\n",
       "    .dataframe thead th {\n",
       "        text-align: right;\n",
       "    }\n",
       "</style>\n",
       "<table border=\"1\" class=\"dataframe\">\n",
       "  <thead>\n",
       "    <tr style=\"text-align: right;\">\n",
       "      <th></th>\n",
       "      <th>RM</th>\n",
       "      <th>LSTAT</th>\n",
       "      <th>PTRATIO</th>\n",
       "      <th>MEDV</th>\n",
       "    </tr>\n",
       "  </thead>\n",
       "  <tbody>\n",
       "    <tr>\n",
       "      <th>0</th>\n",
       "      <td>6.575</td>\n",
       "      <td>4.98</td>\n",
       "      <td>15.3</td>\n",
       "      <td>504000.0</td>\n",
       "    </tr>\n",
       "    <tr>\n",
       "      <th>1</th>\n",
       "      <td>6.421</td>\n",
       "      <td>9.14</td>\n",
       "      <td>17.8</td>\n",
       "      <td>453600.0</td>\n",
       "    </tr>\n",
       "    <tr>\n",
       "      <th>2</th>\n",
       "      <td>7.185</td>\n",
       "      <td>4.03</td>\n",
       "      <td>17.8</td>\n",
       "      <td>728700.0</td>\n",
       "    </tr>\n",
       "    <tr>\n",
       "      <th>3</th>\n",
       "      <td>6.998</td>\n",
       "      <td>2.94</td>\n",
       "      <td>18.7</td>\n",
       "      <td>701400.0</td>\n",
       "    </tr>\n",
       "    <tr>\n",
       "      <th>4</th>\n",
       "      <td>7.147</td>\n",
       "      <td>5.33</td>\n",
       "      <td>18.7</td>\n",
       "      <td>760200.0</td>\n",
       "    </tr>\n",
       "  </tbody>\n",
       "</table>\n",
       "</div>"
      ],
      "text/plain": [
       "      RM  LSTAT  PTRATIO      MEDV\n",
       "0  6.575   4.98     15.3  504000.0\n",
       "1  6.421   9.14     17.8  453600.0\n",
       "2  7.185   4.03     17.8  728700.0\n",
       "3  6.998   2.94     18.7  701400.0\n",
       "4  7.147   5.33     18.7  760200.0"
      ]
     },
     "execution_count": 2,
     "metadata": {},
     "output_type": "execute_result"
    }
   ],
   "source": [
    "input_ads = pd.read_csv('../input/bostonhoustingmlnd/housing.csv')\n",
    "\n",
    "#-----------------------------------------------------------------\n",
    "#Summary\n",
    "print(input_ads.shape)\n",
    "input_ads.head()"
   ]
  },
  {
   "cell_type": "markdown",
   "id": "attractive-philadelphia",
   "metadata": {
    "papermill": {
     "duration": 0.036759,
     "end_time": "2021-07-26T04:01:48.155583",
     "exception": false,
     "start_time": "2021-07-26T04:01:48.118824",
     "status": "completed"
    },
    "tags": []
   },
   "source": [
    "# Null Check"
   ]
  },
  {
   "cell_type": "code",
   "execution_count": 3,
   "id": "careful-option",
   "metadata": {
    "execution": {
     "iopub.execute_input": "2021-07-26T04:01:48.235670Z",
     "iopub.status.busy": "2021-07-26T04:01:48.235006Z",
     "iopub.status.idle": "2021-07-26T04:01:48.239171Z",
     "shell.execute_reply": "2021-07-26T04:01:48.238545Z",
     "shell.execute_reply.started": "2021-07-23T21:04:08.383991Z"
    },
    "papermill": {
     "duration": 0.047814,
     "end_time": "2021-07-26T04:01:48.239325",
     "exception": false,
     "start_time": "2021-07-26T04:01:48.191511",
     "status": "completed"
    },
    "tags": []
   },
   "outputs": [
    {
     "data": {
      "text/plain": [
       "RM         0\n",
       "LSTAT      0\n",
       "PTRATIO    0\n",
       "MEDV       0\n",
       "dtype: int64"
      ]
     },
     "execution_count": 3,
     "metadata": {},
     "output_type": "execute_result"
    }
   ],
   "source": [
    "input_ads.isnull().sum()"
   ]
  },
  {
   "cell_type": "markdown",
   "id": "choice-steering",
   "metadata": {
    "papermill": {
     "duration": 0.036039,
     "end_time": "2021-07-26T04:01:48.312082",
     "exception": false,
     "start_time": "2021-07-26T04:01:48.276043",
     "status": "completed"
    },
    "tags": []
   },
   "source": [
    "# Description of the target variable"
   ]
  },
  {
   "cell_type": "code",
   "execution_count": 4,
   "id": "amateur-detail",
   "metadata": {
    "execution": {
     "iopub.execute_input": "2021-07-26T04:01:48.394643Z",
     "iopub.status.busy": "2021-07-26T04:01:48.393992Z",
     "iopub.status.idle": "2021-07-26T04:01:48.403536Z",
     "shell.execute_reply": "2021-07-26T04:01:48.402981Z",
     "shell.execute_reply.started": "2021-07-23T21:04:08.398424Z"
    },
    "papermill": {
     "duration": 0.053531,
     "end_time": "2021-07-26T04:01:48.403690",
     "exception": false,
     "start_time": "2021-07-26T04:01:48.350159",
     "status": "completed"
    },
    "tags": []
   },
   "outputs": [
    {
     "data": {
      "text/plain": [
       "count    4.890000e+02\n",
       "mean     4.543429e+05\n",
       "std      1.653403e+05\n",
       "min      1.050000e+05\n",
       "25%      3.507000e+05\n",
       "50%      4.389000e+05\n",
       "75%      5.187000e+05\n",
       "max      1.024800e+06\n",
       "Name: MEDV, dtype: float64"
      ]
     },
     "execution_count": 4,
     "metadata": {},
     "output_type": "execute_result"
    }
   ],
   "source": [
    "input_ads['MEDV'].describe()"
   ]
  },
  {
   "cell_type": "markdown",
   "id": "under-conducting",
   "metadata": {
    "papermill": {
     "duration": 0.03598,
     "end_time": "2021-07-26T04:01:48.476246",
     "exception": false,
     "start_time": "2021-07-26T04:01:48.440266",
     "status": "completed"
    },
    "tags": []
   },
   "source": [
    "# Data Splitting & Pre-Processing "
   ]
  },
  {
   "cell_type": "code",
   "execution_count": 5,
   "id": "competent-front",
   "metadata": {
    "execution": {
     "iopub.execute_input": "2021-07-26T04:01:48.570217Z",
     "iopub.status.busy": "2021-07-26T04:01:48.567220Z",
     "iopub.status.idle": "2021-07-26T04:01:48.575286Z",
     "shell.execute_reply": "2021-07-26T04:01:48.574266Z",
     "shell.execute_reply.started": "2021-07-26T03:22:31.867705Z"
    },
    "papermill": {
     "duration": 0.06285,
     "end_time": "2021-07-26T04:01:48.575547",
     "exception": false,
     "start_time": "2021-07-26T04:01:48.512697",
     "status": "completed"
    },
    "tags": []
   },
   "outputs": [
    {
     "name": "stdout",
     "output_type": "stream",
     "text": [
      "Training x rows : (342, 3)\n",
      "Testing x rows : (147, 3)\n",
      "Training y rows : (342, 1)\n"
     ]
    }
   ],
   "source": [
    "#Splitting of the ADS into X and Y components\n",
    "X = input_ads[[cols for cols in list(input_ads.columns) if 'MEDV' not in cols]]\n",
    "y = input_ads['MEDV']\n",
    "\n",
    "#Train-test split creation\n",
    "X, X_test, y, y_test = train_test_split(X, y, test_size=0.30, random_state=100)\n",
    "\n",
    "#--------------------------------------------------------------------------------\n",
    "#Scaling the datasets\n",
    "scaler = StandardScaler()\n",
    "\n",
    "X_arr = scaler.fit_transform(X)\n",
    "X_test_arr = scaler.fit_transform(X_test)\n",
    "\n",
    "y_arr = np.array(y).reshape(X_arr.shape[0],1)\n",
    "y_test_arr = np.array(y_test).reshape(X_test_arr.shape[0],1)\n",
    "\n",
    "#--------------------------------------------------------------------------------\n",
    "#Summary\n",
    "print('Training x rows :',X_arr.shape)\n",
    "print('Testing x rows :',X_test_arr.shape)\n",
    "print('Training y rows :',y_arr.shape)"
   ]
  },
  {
   "cell_type": "markdown",
   "id": "beginning-aviation",
   "metadata": {
    "papermill": {
     "duration": 0.03684,
     "end_time": "2021-07-26T04:01:48.650323",
     "exception": false,
     "start_time": "2021-07-26T04:01:48.613483",
     "status": "completed"
    },
    "tags": []
   },
   "source": [
    "# Linear Regression from scratch"
   ]
  },
  {
   "cell_type": "markdown",
   "id": "tired-therapy",
   "metadata": {
    "papermill": {
     "duration": 0.036756,
     "end_time": "2021-07-26T04:01:48.723744",
     "exception": false,
     "start_time": "2021-07-26T04:01:48.686988",
     "status": "completed"
    },
    "tags": []
   },
   "source": [
    "### Defining fwd prop UDF, Cost function UDF & initiating weights and intercepts"
   ]
  },
  {
   "cell_type": "code",
   "execution_count": 6,
   "id": "greek-instrument",
   "metadata": {
    "execution": {
     "iopub.execute_input": "2021-07-26T04:01:48.807890Z",
     "iopub.status.busy": "2021-07-26T04:01:48.807200Z",
     "iopub.status.idle": "2021-07-26T04:01:48.810984Z",
     "shell.execute_reply": "2021-07-26T04:01:48.811556Z",
     "shell.execute_reply.started": "2021-07-26T03:24:51.917316Z"
    },
    "papermill": {
     "duration": 0.051347,
     "end_time": "2021-07-26T04:01:48.811734",
     "exception": false,
     "start_time": "2021-07-26T04:01:48.760387",
     "status": "completed"
    },
    "tags": []
   },
   "outputs": [
    {
     "name": "stdout",
     "output_type": "stream",
     "text": [
      "[[0.54340494]\n",
      " [0.27836939]\n",
      " [0.42451759]]\n"
     ]
    },
    {
     "data": {
      "text/plain": [
       "array([0.])"
      ]
     },
     "execution_count": 6,
     "metadata": {},
     "output_type": "execute_result"
    }
   ],
   "source": [
    "#For forward propagation in the model\n",
    "def fwd_prop(X_arr,w,b):\n",
    "    \n",
    "    a = np.dot(X_arr,w) + b\n",
    "    #print('Shape of a:',a.shape)\n",
    "    \n",
    "    return a\n",
    "\n",
    "#Cost function as per regularization\n",
    "def cost_fn(y_true,y_pred,n_examples,reg_alpha,reg_type,w_):\n",
    "    \n",
    "    if reg_type=='L1':\n",
    "        reg = np.sum(abs(w_))\n",
    "    elif reg_type=='L2':\n",
    "        reg = 0.5 * np.sum(np.square(w_))\n",
    "    \n",
    "    cost = (1/(2*n_examples)) * np.sum(np.square(y_pred-y_true)) + (reg_alpha*reg)\n",
    "    #print('Cost :',cost)\n",
    "    return cost    \n",
    "\n",
    "#Setting seed\n",
    "np.random.seed(100)\n",
    "\n",
    "#Initializing weights(w) and bias(b) vectors \n",
    "#-------------------------------------------\n",
    "w = np.random.rand(X.shape[1],1)\n",
    "print(w)\n",
    "#-------------------------------------------\n",
    "b = np.zeros(1)\n",
    "b"
   ]
  },
  {
   "cell_type": "markdown",
   "id": "hazardous-consent",
   "metadata": {
    "papermill": {
     "duration": 0.037948,
     "end_time": "2021-07-26T04:01:48.888291",
     "exception": false,
     "start_time": "2021-07-26T04:01:48.850343",
     "status": "completed"
    },
    "tags": []
   },
   "source": [
    "## UDF for batch_gradient_descent\n",
    "#### 1. If batch_size=1, it becomes stochastic gradient descent"
   ]
  },
  {
   "cell_type": "code",
   "execution_count": 7,
   "id": "worst-expense",
   "metadata": {
    "execution": {
     "iopub.execute_input": "2021-07-26T04:01:48.967211Z",
     "iopub.status.busy": "2021-07-26T04:01:48.966512Z",
     "iopub.status.idle": "2021-07-26T04:01:48.980976Z",
     "shell.execute_reply": "2021-07-26T04:01:48.981472Z",
     "shell.execute_reply.started": "2021-07-26T03:31:04.287197Z"
    },
    "papermill": {
     "duration": 0.055249,
     "end_time": "2021-07-26T04:01:48.981654",
     "exception": false,
     "start_time": "2021-07-26T04:01:48.926405",
     "status": "completed"
    },
    "tags": []
   },
   "outputs": [],
   "source": [
    "def batch_gradient_descent(y_arr_overall,n_examples,X_arr_overall,w_,b_,n_iters=10,lr=0.01,batch_size=1,reg_alpha=1,reg_type='L1'):\n",
    "    \n",
    "    print('Total training rows :',X_arr_overall.shape[0])\n",
    "    \n",
    "    #----------------------------------------------------------------------------------------\n",
    "    #Creating x-y batches according to the provided batch_size\n",
    "    \n",
    "    n_batches = X.shape[0]//batch_size\n",
    "    print('Total Batches to create in each epoch/iter :',n_batches)\n",
    "    \n",
    "    batches_x = np.array_split(X_arr_overall,n_batches)\n",
    "    print('Total Batches of X:',len(batches_x))\n",
    "\n",
    "    batches_y = np.array_split(y_arr,n_batches)\n",
    "    print('Total Batches of y:',len(batches_y))\n",
    "    \n",
    "    cost_history = [] #Cache for cost function o/p at necessary intervals for plotting later\n",
    "\n",
    "    #----------------------------------------------------------------------------------------\n",
    "    for i in range(n_iters): #Total iterations/epochs to train on\n",
    "        \n",
    "        if i%1000==0:\n",
    "            print('#-------------------- Epoch number :',i,'--------------------#')\n",
    "        \n",
    "        for j in range(len(batches_x)): #For each batch created for each epoch/iter\n",
    "            \n",
    "            #print('Batch No :',j)\n",
    "            \n",
    "            X_arr_ = batches_x[j]\n",
    "            y_arr_ = batches_y[j]\n",
    "\n",
    "            #----------------------------------------------------------------------------------------\n",
    "            #Forward propagation of the model - calculation of the model prediction\n",
    "            a_temp = fwd_prop(X_arr_,w_,b_)\n",
    "\n",
    "            cost = cost_fn(y_arr_,a_temp,n_examples,reg_alpha,reg_type,w_)\n",
    "            \n",
    "            if cost == np.inf: #If any inf is encountered due to exploding gradients\n",
    "                print('---- Inf encountered due to exploding gradients ----')\n",
    "                return w_,b_,cost_history\n",
    "\n",
    "            #----------------------------------------------------------------------------------------\n",
    "            error = a_temp-y_arr_ #The residual calculation\n",
    "            \n",
    "            #Applying regularization\n",
    "            if reg_type=='L1':\n",
    "                \n",
    "                reg_derivative = np.divide(w_, abs(w_), out=np.zeros_like(w_), where=abs(w_)!=0)\n",
    "                reg_derivative = np.where(reg_derivative==np.inf,0,reg_derivative)\n",
    "                \n",
    "            elif reg_type=='L2':\n",
    "                \n",
    "                reg_derivative = w_         \n",
    "            \n",
    "            #Calculating the gradients for the current batch\n",
    "            dw = 1/n_examples * (np.dot(X_arr_.T,error) + (reg_alpha*reg_derivative)) #Customized for regularization\n",
    "            db = 1/n_examples * np.sum(error)\n",
    "            \n",
    "            #Updating the weight and the intercept\n",
    "            w_ = w_ - (lr * dw)\n",
    "            b_ = b_ - (lr * db)\n",
    "        \n",
    "        #Updating cost into the cache\n",
    "        cost_history = cost_history + [cost]\n",
    "        #-------------------------------------------------\n",
    "        #Progress at regular intervals\n",
    "        if (i%5000==0):\n",
    "            print(i,': Cost ------->',cost)\n",
    "            \n",
    "            f_train_a = fwd_prop(X_arr_overall,w_,b_) #Results on whole training data after every 5k epochs\n",
    "            print(f_train_a.shape)\n",
    "        \n",
    "            print('MSE of training set :',mean_squared_error(y_arr_overall,f_train_a))\n",
    "            print('RMSE of training set :',np.sqrt(mean_squared_error(y_arr_overall,f_train_a)))\n",
    "        \n",
    "    return w_,b_,cost_history\n",
    "    \n"
   ]
  },
  {
   "cell_type": "markdown",
   "id": "referenced-circle",
   "metadata": {
    "papermill": {
     "duration": 0.03883,
     "end_time": "2021-07-26T04:01:49.058289",
     "exception": false,
     "start_time": "2021-07-26T04:01:49.019459",
     "status": "completed"
    },
    "tags": []
   },
   "source": [
    "### Training the linear regression model"
   ]
  },
  {
   "cell_type": "code",
   "execution_count": 8,
   "id": "associate-ukraine",
   "metadata": {
    "execution": {
     "iopub.execute_input": "2021-07-26T04:01:49.136757Z",
     "iopub.status.busy": "2021-07-26T04:01:49.136147Z",
     "iopub.status.idle": "2021-07-26T04:02:12.679381Z",
     "shell.execute_reply": "2021-07-26T04:02:12.678372Z",
     "shell.execute_reply.started": "2021-07-26T03:25:40.046321Z"
    },
    "papermill": {
     "duration": 23.583128,
     "end_time": "2021-07-26T04:02:12.679533",
     "exception": false,
     "start_time": "2021-07-26T04:01:49.096405",
     "status": "completed"
    },
    "tags": []
   },
   "outputs": [
    {
     "name": "stdout",
     "output_type": "stream",
     "text": [
      "Total training rows : 342\n",
      "Total Batches to create in each epoch/iter : 17\n",
      "Total Batches of X: 17\n",
      "Total Batches of y: 17\n",
      "#-------------------- Epoch number : 0 --------------------#\n",
      "0 : Cost -------> 5935445654.758017\n",
      "(342, 1)\n",
      "MSE of training set : 238543387994.8216\n",
      "RMSE of training set : 488409.0375851184\n",
      "#-------------------- Epoch number : 1000 --------------------#\n",
      "#-------------------- Epoch number : 2000 --------------------#\n",
      "#-------------------- Epoch number : 3000 --------------------#\n",
      "#-------------------- Epoch number : 4000 --------------------#\n",
      "#-------------------- Epoch number : 5000 --------------------#\n",
      "5000 : Cost -------> 167793401.35074404\n",
      "(342, 1)\n",
      "MSE of training set : 7657038107.001287\n",
      "RMSE of training set : 87504.50335269202\n",
      "#-------------------- Epoch number : 6000 --------------------#\n",
      "#-------------------- Epoch number : 7000 --------------------#\n",
      "#-------------------- Epoch number : 8000 --------------------#\n",
      "#-------------------- Epoch number : 9000 --------------------#\n",
      "#-------------------- Epoch number : 10000 --------------------#\n",
      "10000 : Cost -------> 168793039.0743366\n",
      "(342, 1)\n",
      "MSE of training set : 7646822361.544511\n",
      "RMSE of training set : 87446.11118594417\n",
      "#-------------------- Epoch number : 11000 --------------------#\n",
      "#-------------------- Epoch number : 12000 --------------------#\n",
      "#-------------------- Epoch number : 13000 --------------------#\n",
      "#-------------------- Epoch number : 14000 --------------------#\n",
      "#-------------------- Epoch number : 15000 --------------------#\n",
      "15000 : Cost -------> 168668403.28831667\n",
      "(342, 1)\n",
      "MSE of training set : 7646812445.561438\n",
      "RMSE of training set : 87446.05448824685\n",
      "#-------------------- Epoch number : 16000 --------------------#\n",
      "#-------------------- Epoch number : 17000 --------------------#\n",
      "#-------------------- Epoch number : 18000 --------------------#\n",
      "#-------------------- Epoch number : 19000 --------------------#\n",
      "#-------------------- Epoch number : 20000 --------------------#\n",
      "20000 : Cost -------> 168650214.40527707\n",
      "(342, 1)\n",
      "MSE of training set : 7646812300.4237995\n",
      "RMSE of training set : 87446.05365837729\n"
     ]
    }
   ],
   "source": [
    "w_final,b_final,cost_history = batch_gradient_descent(y_arr_overall=y_arr,\n",
    "                                                      n_examples=X_arr.shape[0],\n",
    "                                                      X_arr_overall=X_arr,\n",
    "                                                      w_=w,\n",
    "                                                      b_=b,\n",
    "                                                      n_iters=20001,\n",
    "                                                      lr=0.001,\n",
    "                                                      batch_size=20,\n",
    "                                                      reg_alpha=0.05,\n",
    "                                                      reg_type='L1')"
   ]
  },
  {
   "cell_type": "markdown",
   "id": "intense-constitutional",
   "metadata": {
    "papermill": {
     "duration": 0.043251,
     "end_time": "2021-07-26T04:02:12.767005",
     "exception": false,
     "start_time": "2021-07-26T04:02:12.723754",
     "status": "completed"
    },
    "tags": []
   },
   "source": [
    "### Plotting cost over epochs (Should have a sharp decrease)"
   ]
  },
  {
   "cell_type": "code",
   "execution_count": 9,
   "id": "korean-corpus",
   "metadata": {
    "execution": {
     "iopub.execute_input": "2021-07-26T04:02:12.876444Z",
     "iopub.status.busy": "2021-07-26T04:02:12.875783Z",
     "iopub.status.idle": "2021-07-26T04:02:14.188833Z",
     "shell.execute_reply": "2021-07-26T04:02:14.187986Z",
     "shell.execute_reply.started": "2021-07-26T04:01:03.736007Z"
    },
    "papermill": {
     "duration": 1.378241,
     "end_time": "2021-07-26T04:02:14.188976",
     "exception": false,
     "start_time": "2021-07-26T04:02:12.810735",
     "status": "completed"
    },
    "tags": []
   },
   "outputs": [
    {
     "data": {
      "text/plain": [
       "[Text(0.5, 0, 'No of epochs'),\n",
       " Text(0, 0.5, 'Cost'),\n",
       " Text(0.5, 1.0, 'Cost vs Epochs-Linear/Lasso/Ridge Regression')]"
      ]
     },
     "execution_count": 9,
     "metadata": {},
     "output_type": "execute_result"
    },
    {
     "data": {
      "image/png": "[encoded data removed]",
      "text/plain": [
       "<Figure size 432x288 with 1 Axes>"
      ]
     },
     "metadata": {},
     "output_type": "display_data"
    }
   ],
   "source": [
    "#Cost plot over epochs (1 value at end of each epoch) - over the last batch\n",
    "sns.set_style('darkgrid')\n",
    "ax = sns.lineplot(x=list(range(0,20001)),y=cost_history)\n",
    "ax.set(xlabel='No of epochs',ylabel='Cost',title='Cost vs Epochs-Linear/Lasso/Ridge Regression')"
   ]
  },
  {
   "cell_type": "markdown",
   "id": "grave-posting",
   "metadata": {
    "papermill": {
     "duration": 0.045274,
     "end_time": "2021-07-26T04:02:14.279951",
     "exception": false,
     "start_time": "2021-07-26T04:02:14.234677",
     "status": "completed"
    },
    "tags": []
   },
   "source": [
    "### UDF for predicting"
   ]
  },
  {
   "cell_type": "code",
   "execution_count": 10,
   "id": "oriental-groove",
   "metadata": {
    "execution": {
     "iopub.execute_input": "2021-07-26T04:02:14.379030Z",
     "iopub.status.busy": "2021-07-26T04:02:14.377960Z",
     "iopub.status.idle": "2021-07-26T04:02:14.380366Z",
     "shell.execute_reply": "2021-07-26T04:02:14.380995Z",
     "shell.execute_reply.started": "2021-07-26T03:33:52.312697Z"
    },
    "papermill": {
     "duration": 0.055521,
     "end_time": "2021-07-26T04:02:14.381167",
     "exception": false,
     "start_time": "2021-07-26T04:02:14.325646",
     "status": "completed"
    },
    "tags": []
   },
   "outputs": [],
   "source": [
    "def predict(w_,b_,test_x,test_y):\n",
    "    \n",
    "    print(\"Testing on :\",test_x.shape[0],'rows')\n",
    "    \n",
    "    a_temp = fwd_prop(test_x,w_,b_) #Applying the trained weights(w_) and bias(b_)\n",
    "    print('Shape of prediction :',a_temp.shape)\n",
    "    \n",
    "    print('MSE of test set :',mean_squared_error(test_y,a_temp))\n",
    "    print('RMSE of test set :',np.sqrt(mean_squared_error(test_y,a_temp)))\n",
    "    \n",
    "    print(a_temp[0:3])\n",
    "    \n",
    "    return a_temp\n"
   ]
  },
  {
   "cell_type": "markdown",
   "id": "introductory-measurement",
   "metadata": {
    "papermill": {
     "duration": 0.04583,
     "end_time": "2021-07-26T04:02:14.472851",
     "exception": false,
     "start_time": "2021-07-26T04:02:14.427021",
     "status": "completed"
    },
    "tags": []
   },
   "source": [
    "# Predictions from the manual created linear regression model"
   ]
  },
  {
   "cell_type": "code",
   "execution_count": 11,
   "id": "clear-channels",
   "metadata": {
    "execution": {
     "iopub.execute_input": "2021-07-26T04:02:14.568323Z",
     "iopub.status.busy": "2021-07-26T04:02:14.567358Z",
     "iopub.status.idle": "2021-07-26T04:02:14.576833Z",
     "shell.execute_reply": "2021-07-26T04:02:14.576278Z",
     "shell.execute_reply.started": "2021-07-26T03:33:59.077421Z"
    },
    "papermill": {
     "duration": 0.058716,
     "end_time": "2021-07-26T04:02:14.576973",
     "exception": false,
     "start_time": "2021-07-26T04:02:14.518257",
     "status": "completed"
    },
    "tags": []
   },
   "outputs": [
    {
     "name": "stdout",
     "output_type": "stream",
     "text": [
      "Testing on : 147 rows\n",
      "Shape of prediction : (147, 1)\n",
      "MSE of test set : 8372257649.737726\n",
      "RMSE of test set : 91500.04180183595\n",
      "[[621722.14515856]\n",
      " [387168.1238044 ]\n",
      " [646401.60801532]]\n"
     ]
    }
   ],
   "source": [
    "predictions_ = predict(w_final,b_final,X_test_arr,y_test_arr)"
   ]
  },
  {
   "cell_type": "markdown",
   "id": "legislative-simulation",
   "metadata": {
    "papermill": {
     "duration": 0.045414,
     "end_time": "2021-07-26T04:02:14.667894",
     "exception": false,
     "start_time": "2021-07-26T04:02:14.622480",
     "status": "completed"
    },
    "tags": []
   },
   "source": [
    "# Linear Regression from sklearn as benchmark"
   ]
  },
  {
   "cell_type": "code",
   "execution_count": 12,
   "id": "mobile-residence",
   "metadata": {
    "execution": {
     "iopub.execute_input": "2021-07-26T04:02:14.766029Z",
     "iopub.status.busy": "2021-07-26T04:02:14.765262Z",
     "iopub.status.idle": "2021-07-26T04:02:14.884568Z",
     "shell.execute_reply": "2021-07-26T04:02:14.883951Z",
     "shell.execute_reply.started": "2021-07-26T03:34:06.612116Z"
    },
    "papermill": {
     "duration": 0.170549,
     "end_time": "2021-07-26T04:02:14.884724",
     "exception": false,
     "start_time": "2021-07-26T04:02:14.714175",
     "status": "completed"
    },
    "tags": []
   },
   "outputs": [
    {
     "name": "stdout",
     "output_type": "stream",
     "text": [
      "MSE of test set : 8372310378.628355\n",
      "RMSE of test set : 91500.329937265\n"
     ]
    }
   ],
   "source": [
    "from sklearn.linear_model import LinearRegression\n",
    "\n",
    "#---------------------------------------------------------------------------------------\n",
    "lin_reg = LinearRegression()\n",
    "lin_reg.fit(X_arr,y_arr)\n",
    "\n",
    "prediction_sklearn = lin_reg.predict(X_test_arr)\n",
    "\n",
    "#---------------------------------------------------------------------------------------\n",
    "print('MSE of test set :',mean_squared_error(y_test_arr,prediction_sklearn))\n",
    "print('RMSE of test set :',np.sqrt(mean_squared_error(y_test_arr,prediction_sklearn)))"
   ]
  },
  {
   "cell_type": "markdown",
   "id": "superb-horizon",
   "metadata": {
    "papermill": {
     "duration": 0.046113,
     "end_time": "2021-07-26T04:02:14.977039",
     "exception": false,
     "start_time": "2021-07-26T04:02:14.930926",
     "status": "completed"
    },
    "tags": []
   },
   "source": [
    "## Comparing the delta between manual predictions and sklearn predictions"
   ]
  },
  {
   "cell_type": "code",
   "execution_count": 13,
   "id": "individual-hanging",
   "metadata": {
    "execution": {
     "iopub.execute_input": "2021-07-26T04:02:15.076297Z",
     "iopub.status.busy": "2021-07-26T04:02:15.075205Z",
     "iopub.status.idle": "2021-07-26T04:02:15.081499Z",
     "shell.execute_reply": "2021-07-26T04:02:15.080951Z",
     "shell.execute_reply.started": "2021-07-26T03:34:13.672607Z"
    },
    "papermill": {
     "duration": 0.058397,
     "end_time": "2021-07-26T04:02:15.081672",
     "exception": false,
     "start_time": "2021-07-26T04:02:15.023275",
     "status": "completed"
    },
    "tags": []
   },
   "outputs": [
    {
     "name": "stdout",
     "output_type": "stream",
     "text": [
      "25th Quantile of delta : 0.6008519925817382\n",
      "Median of delta : 1.6480900684837252\n",
      "75th Quantile of delta : 2.7984516001015436\n"
     ]
    }
   ],
   "source": [
    "delta = prediction_sklearn-predictions_\n",
    "\n",
    "#---------------------------------------------------------\n",
    "print('25th Quantile of delta :',np.quantile(delta,0.25))\n",
    "print('Median of delta :',np.quantile(delta,0.5))\n",
    "print('75th Quantile of delta :',np.quantile(delta,0.75))"
   ]
  },
  {
   "cell_type": "markdown",
   "id": "domestic-timeline",
   "metadata": {
    "papermill": {
     "duration": 0.045847,
     "end_time": "2021-07-26T04:02:15.177072",
     "exception": false,
     "start_time": "2021-07-26T04:02:15.131225",
     "status": "completed"
    },
    "tags": []
   },
   "source": [
    "# Checking the assumptions of linear regression"
   ]
  },
  {
   "cell_type": "markdown",
   "id": "needed-lingerie",
   "metadata": {
    "papermill": {
     "duration": 0.04595,
     "end_time": "2021-07-26T04:02:15.269591",
     "exception": false,
     "start_time": "2021-07-26T04:02:15.223641",
     "status": "completed"
    },
    "tags": []
   },
   "source": [
    "## Calculating the residuals"
   ]
  },
  {
   "cell_type": "code",
   "execution_count": 14,
   "id": "biblical-james",
   "metadata": {
    "execution": {
     "iopub.execute_input": "2021-07-26T04:02:15.367819Z",
     "iopub.status.busy": "2021-07-26T04:02:15.367151Z",
     "iopub.status.idle": "2021-07-26T04:02:15.369887Z",
     "shell.execute_reply": "2021-07-26T04:02:15.370467Z",
     "shell.execute_reply.started": "2021-07-26T03:37:40.042269Z"
    },
    "papermill": {
     "duration": 0.054478,
     "end_time": "2021-07-26T04:02:15.370654",
     "exception": false,
     "start_time": "2021-07-26T04:02:15.316176",
     "status": "completed"
    },
    "tags": []
   },
   "outputs": [
    {
     "data": {
      "text/plain": [
       "array([[   122.14515856],\n",
       "       [ 34368.1238044 ],\n",
       "       [-25598.39198468]])"
      ]
     },
     "execution_count": 14,
     "metadata": {},
     "output_type": "execute_result"
    }
   ],
   "source": [
    "residuals = predictions_ - y_test_arr\n",
    "residuals[0:3]"
   ]
  },
  {
   "cell_type": "markdown",
   "id": "sought-smoke",
   "metadata": {
    "papermill": {
     "duration": 0.046628,
     "end_time": "2021-07-26T04:02:15.464572",
     "exception": false,
     "start_time": "2021-07-26T04:02:15.417944",
     "status": "completed"
    },
    "tags": []
   },
   "source": [
    "## Assumption 1 : Linear relation between dependent & independent variable"
   ]
  },
  {
   "cell_type": "code",
   "execution_count": 15,
   "id": "prime-bibliography",
   "metadata": {
    "execution": {
     "iopub.execute_input": "2021-07-26T04:02:15.562489Z",
     "iopub.status.busy": "2021-07-26T04:02:15.561840Z",
     "iopub.status.idle": "2021-07-26T04:02:16.474069Z",
     "shell.execute_reply": "2021-07-26T04:02:16.473493Z",
     "shell.execute_reply.started": "2021-07-26T03:38:08.471714Z"
    },
    "papermill": {
     "duration": 0.962986,
     "end_time": "2021-07-26T04:02:16.474207",
     "exception": false,
     "start_time": "2021-07-26T04:02:15.511221",
     "status": "completed"
    },
    "tags": []
   },
   "outputs": [
    {
     "name": "stdout",
     "output_type": "stream",
     "text": [
      "-- Pair-plot for all the features on the whole data--\n"
     ]
    },
    {
     "name": "stderr",
     "output_type": "stream",
     "text": [
      "/opt/conda/lib/python3.7/site-packages/seaborn/axisgrid.py:1969: UserWarning: The `size` parameter has been renamed to `height`; please update your code.\n",
      "  warnings.warn(msg, UserWarning)\n"
     ]
    },
    {
     "data": {
      "text/plain": [
       "<seaborn.axisgrid.PairGrid at 0x7fb17339ef90>"
      ]
     },
     "execution_count": 15,
     "metadata": {},
     "output_type": "execute_result"
    },
    {
     "data": {
      "image/png": "[encoded data removed]",
      "text/plain": [
       "<Figure size 1058.4x504 with 3 Axes>"
      ]
     },
     "metadata": {},
     "output_type": "display_data"
    }
   ],
   "source": [
    "print('-- Pair-plot for all the features on the whole data--')\n",
    "ax = sns.pairplot(input_ads,x_vars = ['RM','LSTAT','PTRATIO'],y_vars = ['MEDV'],size=7,aspect=0.7)\n",
    "ax.set(title='Pair-plot for all the features on the whole data')"
   ]
  },
  {
   "cell_type": "markdown",
   "id": "historical-vessel",
   "metadata": {
    "papermill": {
     "duration": 0.050677,
     "end_time": "2021-07-26T04:02:16.575342",
     "exception": false,
     "start_time": "2021-07-26T04:02:16.524665",
     "status": "completed"
    },
    "tags": []
   },
   "source": [
    "### Insights : \n",
    "1. We observe that RM and LSTAT have linear behaviour to some degree against the taget variable which aligns with the assumption of lineariy for linear regression"
   ]
  },
  {
   "cell_type": "code",
   "execution_count": 16,
   "id": "front-academy",
   "metadata": {
    "execution": {
     "iopub.execute_input": "2021-07-26T04:02:16.822190Z",
     "iopub.status.busy": "2021-07-26T04:02:16.820108Z",
     "iopub.status.idle": "2021-07-26T04:02:17.024897Z",
     "shell.execute_reply": "2021-07-26T04:02:17.024307Z",
     "shell.execute_reply.started": "2021-07-26T03:37:43.426656Z"
    },
    "papermill": {
     "duration": 0.399465,
     "end_time": "2021-07-26T04:02:17.025037",
     "exception": false,
     "start_time": "2021-07-26T04:02:16.625572",
     "status": "completed"
    },
    "tags": []
   },
   "outputs": [
    {
     "data": {
      "text/plain": [
       "[Text(0.5, 0, 'Predicted-y in 1k units'),\n",
       " Text(0, 0.5, 'Residuals in 1k units'),\n",
       " Text(0.5, 1.0, 'Residuls vs Fitted Plot for Test Data')]"
      ]
     },
     "execution_count": 16,
     "metadata": {},
     "output_type": "execute_result"
    },
    {
     "data": {
      "image/png": "[encoded data removed]",
      "text/plain": [
       "<Figure size 432x288 with 1 Axes>"
      ]
     },
     "metadata": {},
     "output_type": "display_data"
    }
   ],
   "source": [
    "#Residual vs fitted plot for test data\n",
    "sns.set_style(\"darkgrid\")\n",
    "ax = sns.scatterplot(x=np.divide(predictions_,1000).ravel(),y=np.divide(residuals,1000).ravel(),marker='o')\n",
    "ax.set(xlabel='Predicted-y in 1k units', ylabel='Residuals in 1k units',title='Residuls vs Fitted Plot for Test Data')"
   ]
  },
  {
   "cell_type": "markdown",
   "id": "instant-chinese",
   "metadata": {
    "papermill": {
     "duration": 0.05284,
     "end_time": "2021-07-26T04:02:17.130140",
     "exception": false,
     "start_time": "2021-07-26T04:02:17.077300",
     "status": "completed"
    },
    "tags": []
   },
   "source": [
    "### Insights - \n",
    "1. The above residual vs fitted plot is sowing very loose signs of a pattern which should be the case as the residuals shouldn't have any pattern among themselves as per the assumptions of linear regression  "
   ]
  },
  {
   "cell_type": "markdown",
   "id": "awful-drill",
   "metadata": {
    "papermill": {
     "duration": 0.051327,
     "end_time": "2021-07-26T04:02:17.233218",
     "exception": false,
     "start_time": "2021-07-26T04:02:17.181891",
     "status": "completed"
    },
    "tags": []
   },
   "source": [
    "## Assumption 2 : Mean of residulals should be close to 0"
   ]
  },
  {
   "cell_type": "code",
   "execution_count": 17,
   "id": "aggressive-ancient",
   "metadata": {
    "execution": {
     "iopub.execute_input": "2021-07-26T04:02:17.341286Z",
     "iopub.status.busy": "2021-07-26T04:02:17.340573Z",
     "iopub.status.idle": "2021-07-26T04:02:17.343985Z",
     "shell.execute_reply": "2021-07-26T04:02:17.343378Z",
     "shell.execute_reply.started": "2021-07-23T21:04:36.951483Z"
    },
    "papermill": {
     "duration": 0.059388,
     "end_time": "2021-07-26T04:02:17.344117",
     "exception": false,
     "start_time": "2021-07-26T04:02:17.284729",
     "status": "completed"
    },
    "tags": []
   },
   "outputs": [
    {
     "name": "stdout",
     "output_type": "stream",
     "text": [
      "Mean of residuals (Should be 0): 22875.82155499981\n"
     ]
    }
   ],
   "source": [
    "print('Mean of residuals (Should be 0):',np.mean(residuals))"
   ]
  },
  {
   "cell_type": "markdown",
   "id": "successful-accused",
   "metadata": {
    "papermill": {
     "duration": 0.051616,
     "end_time": "2021-07-26T04:02:17.448712",
     "exception": false,
     "start_time": "2021-07-26T04:02:17.397096",
     "status": "completed"
    },
    "tags": []
   },
   "source": [
    "### Insights : \n",
    "1. Not abiding by the assumption"
   ]
  },
  {
   "cell_type": "markdown",
   "id": "naked-directory",
   "metadata": {
    "papermill": {
     "duration": 0.052411,
     "end_time": "2021-07-26T04:02:17.553461",
     "exception": false,
     "start_time": "2021-07-26T04:02:17.501050",
     "status": "completed"
    },
    "tags": []
   },
   "source": [
    "## Assumption 3 : Absence of Multi-Collinearity "
   ]
  },
  {
   "cell_type": "code",
   "execution_count": 18,
   "id": "lightweight-story",
   "metadata": {
    "execution": {
     "iopub.execute_input": "2021-07-26T04:02:17.664734Z",
     "iopub.status.busy": "2021-07-26T04:02:17.664037Z",
     "iopub.status.idle": "2021-07-26T04:02:17.800998Z",
     "shell.execute_reply": "2021-07-26T04:02:17.799965Z",
     "shell.execute_reply.started": "2021-07-26T03:44:42.511614Z"
    },
    "papermill": {
     "duration": 0.195504,
     "end_time": "2021-07-26T04:02:17.801153",
     "exception": false,
     "start_time": "2021-07-26T04:02:17.605649",
     "status": "completed"
    },
    "tags": []
   },
   "outputs": [
    {
     "data": {
      "text/html": [
       "<div>\n",
       "<style scoped>\n",
       "    .dataframe tbody tr th:only-of-type {\n",
       "        vertical-align: middle;\n",
       "    }\n",
       "\n",
       "    .dataframe tbody tr th {\n",
       "        vertical-align: top;\n",
       "    }\n",
       "\n",
       "    .dataframe thead th {\n",
       "        text-align: right;\n",
       "    }\n",
       "</style>\n",
       "<table border=\"1\" class=\"dataframe\">\n",
       "  <thead>\n",
       "    <tr style=\"text-align: right;\">\n",
       "      <th></th>\n",
       "      <th>variables</th>\n",
       "      <th>VIF</th>\n",
       "    </tr>\n",
       "  </thead>\n",
       "  <tbody>\n",
       "    <tr>\n",
       "      <th>2</th>\n",
       "      <td>PTRATIO</td>\n",
       "      <td>57.754716</td>\n",
       "    </tr>\n",
       "    <tr>\n",
       "      <th>0</th>\n",
       "      <td>RM</td>\n",
       "      <td>42.446537</td>\n",
       "    </tr>\n",
       "    <tr>\n",
       "      <th>1</th>\n",
       "      <td>LSTAT</td>\n",
       "      <td>5.661858</td>\n",
       "    </tr>\n",
       "  </tbody>\n",
       "</table>\n",
       "</div>"
      ],
      "text/plain": [
       "  variables        VIF\n",
       "2   PTRATIO  57.754716\n",
       "0        RM  42.446537\n",
       "1     LSTAT   5.661858"
      ]
     },
     "execution_count": 18,
     "metadata": {},
     "output_type": "execute_result"
    }
   ],
   "source": [
    "# Import library for VIF\n",
    "from statsmodels.stats.outliers_influence import variance_inflation_factor\n",
    "\n",
    "#------------------------------------------------------------------------------------\n",
    "def calc_vif(X):\n",
    "\n",
    "    # Calculating VIF\n",
    "    vif = pd.DataFrame()\n",
    "    vif[\"variables\"] = X.columns\n",
    "    vif[\"VIF\"] = [variance_inflation_factor(X.values, i) for i in range(X.shape[1])]\n",
    "\n",
    "    return(vif)\n",
    "\n",
    "#------------------------------------------------------------------------------------\n",
    "X_VIF = calc_vif(X)\n",
    "X_VIF = X_VIF.sort_values(['VIF'],ascending=False) #Sorting by descending order\n",
    "#X_VIF[X_VIF['VIF']>4] #Filtering for above 4 #Usually VIF above 4 or 5 is problematic\n",
    "X_VIF"
   ]
  },
  {
   "cell_type": "markdown",
   "id": "liable-helena",
   "metadata": {
    "papermill": {
     "duration": 0.053687,
     "end_time": "2021-07-26T04:02:17.907397",
     "exception": false,
     "start_time": "2021-07-26T04:02:17.853710",
     "status": "completed"
    },
    "tags": []
   },
   "source": [
    "### Insights : \n",
    "1. From above, we can see PTRATIO and RM have very high multi-collinearity, We'll have to validate this with correlation analysis"
   ]
  },
  {
   "cell_type": "markdown",
   "id": "accessory-state",
   "metadata": {
    "papermill": {
     "duration": 0.051906,
     "end_time": "2021-07-26T04:02:18.011915",
     "exception": false,
     "start_time": "2021-07-26T04:02:17.960009",
     "status": "completed"
    },
    "tags": []
   },
   "source": [
    "### Validating the above findings of VIF through pearson's correlation"
   ]
  },
  {
   "cell_type": "code",
   "execution_count": 19,
   "id": "irish-tours",
   "metadata": {
    "execution": {
     "iopub.execute_input": "2021-07-26T04:02:18.127539Z",
     "iopub.status.busy": "2021-07-26T04:02:18.126519Z",
     "iopub.status.idle": "2021-07-26T04:02:18.427956Z",
     "shell.execute_reply": "2021-07-26T04:02:18.428441Z",
     "shell.execute_reply.started": "2021-07-26T03:46:44.471800Z"
    },
    "papermill": {
     "duration": 0.362802,
     "end_time": "2021-07-26T04:02:18.428641",
     "exception": false,
     "start_time": "2021-07-26T04:02:18.065839",
     "status": "completed"
    },
    "tags": []
   },
   "outputs": [
    {
     "data": {
      "text/plain": [
       "<AxesSubplot:>"
      ]
     },
     "execution_count": 19,
     "metadata": {},
     "output_type": "execute_result"
    },
    {
     "data": {
      "image/png": "[encoded data removed]",
      "text/plain": [
       "<Figure size 432x288 with 2 Axes>"
      ]
     },
     "metadata": {},
     "output_type": "display_data"
    }
   ],
   "source": [
    "sns.set_style(\"darkgrid\")\n",
    "sns.heatmap(input_ads.corr(method='spearman'),annot=True)"
   ]
  },
  {
   "cell_type": "markdown",
   "id": "polished-helen",
   "metadata": {
    "papermill": {
     "duration": 0.05387,
     "end_time": "2021-07-26T04:02:18.537134",
     "exception": false,
     "start_time": "2021-07-26T04:02:18.483264",
     "status": "completed"
    },
    "tags": []
   },
   "source": [
    "## Assumption 4 : Homoskedascity check\n",
    "### Definition : There residuals of the model should not be in any pattern"
   ]
  },
  {
   "cell_type": "code",
   "execution_count": 20,
   "id": "collected-award",
   "metadata": {
    "execution": {
     "iopub.execute_input": "2021-07-26T04:02:18.649960Z",
     "iopub.status.busy": "2021-07-26T04:02:18.648986Z",
     "iopub.status.idle": "2021-07-26T04:02:18.903212Z",
     "shell.execute_reply": "2021-07-26T04:02:18.903755Z",
     "shell.execute_reply.started": "2021-07-23T21:04:37.499873Z"
    },
    "papermill": {
     "duration": 0.312099,
     "end_time": "2021-07-26T04:02:18.903952",
     "exception": false,
     "start_time": "2021-07-26T04:02:18.591853",
     "status": "completed"
    },
    "tags": []
   },
   "outputs": [
    {
     "name": "stderr",
     "output_type": "stream",
     "text": [
      "/opt/conda/lib/python3.7/site-packages/seaborn/_decorators.py:43: FutureWarning: Pass the following variables as keyword args: x, y. From version 0.12, the only valid positional argument will be `data`, and passing other arguments without an explicit keyword will result in an error or misinterpretation.\n",
      "  FutureWarning\n"
     ]
    },
    {
     "data": {
      "text/plain": [
       "[Text(0.5, 0, 'Predicted-y in 1k units'),\n",
       " Text(0, 0.5, 'Residuals in 1k units'),\n",
       " Text(0.5, 1.0, 'Residuls vs Fitted Plot for Test Data')]"
      ]
     },
     "execution_count": 20,
     "metadata": {},
     "output_type": "execute_result"
    },
    {
     "data": {
      "image/png": "[encoded data removed]",
      "text/plain": [
       "<Figure size 432x288 with 1 Axes>"
      ]
     },
     "metadata": {},
     "output_type": "display_data"
    }
   ],
   "source": [
    "#Residual vs fitted plot for test data\n",
    "\n",
    "sns.set_style(\"darkgrid\")\n",
    "ax = sns.scatterplot(x=np.divide(predictions_,1000).ravel(),y=np.divide(residuals,1000).ravel(),marker='o')\n",
    "sns.lineplot([0,800],[0,0],color='red')\n",
    "ax.set(xlabel='Predicted-y in 1k units', ylabel='Residuals in 1k units',title='Residuls vs Fitted Plot for Test Data')"
   ]
  },
  {
   "cell_type": "markdown",
   "id": "internal-federation",
   "metadata": {
    "papermill": {
     "duration": 0.055591,
     "end_time": "2021-07-26T04:02:19.015638",
     "exception": false,
     "start_time": "2021-07-26T04:02:18.960047",
     "status": "completed"
    },
    "tags": []
   },
   "source": [
    "### Hypothesis Test for Homoskedascity"
   ]
  },
  {
   "cell_type": "code",
   "execution_count": 21,
   "id": "bulgarian-cannon",
   "metadata": {
    "execution": {
     "iopub.execute_input": "2021-07-26T04:02:19.138512Z",
     "iopub.status.busy": "2021-07-26T04:02:19.137875Z",
     "iopub.status.idle": "2021-07-26T04:02:19.805103Z",
     "shell.execute_reply": "2021-07-26T04:02:19.804377Z",
     "shell.execute_reply.started": "2021-07-23T21:04:37.800175Z"
    },
    "papermill": {
     "duration": 0.73277,
     "end_time": "2021-07-26T04:02:19.805245",
     "exception": false,
     "start_time": "2021-07-26T04:02:19.072475",
     "status": "completed"
    },
    "tags": []
   },
   "outputs": [
    {
     "data": {
      "text/plain": [
       "[('F statistic', 0.6222138265328544), ('p-value', 0.975810053228374)]"
      ]
     },
     "execution_count": 21,
     "metadata": {},
     "output_type": "execute_result"
    }
   ],
   "source": [
    "import statsmodels.stats.api as sms\n",
    "import statsmodels.api as sm\n",
    "import pylab as py\n",
    "from statsmodels.compat import lzip\n",
    "\n",
    "#-------------------------------------------------------\n",
    "name = ['F statistic', 'p-value']\n",
    "test = sms.het_goldfeldquandt(residuals, X_test)\n",
    "lzip(name, test)"
   ]
  },
  {
   "cell_type": "markdown",
   "id": "ranking-variable",
   "metadata": {
    "papermill": {
     "duration": 0.055853,
     "end_time": "2021-07-26T04:02:19.918346",
     "exception": false,
     "start_time": "2021-07-26T04:02:19.862493",
     "status": "completed"
    },
    "tags": []
   },
   "source": [
    "### Insights : \n",
    "1. From the plot, we can see theres no definite pattern suggesting no Heteroskedascity\n",
    "2. From the hypothesis test above, we can see that p-value (~0.976) > alpha (0.05). Hence, we cannot reject the null hypothesis that there is homoskedascity present"
   ]
  },
  {
   "cell_type": "markdown",
   "id": "opening-variety",
   "metadata": {
    "papermill": {
     "duration": 0.055342,
     "end_time": "2021-07-26T04:02:20.029483",
     "exception": false,
     "start_time": "2021-07-26T04:02:19.974141",
     "status": "completed"
    },
    "tags": []
   },
   "source": [
    "## Assumption 5 : Normality of residuals"
   ]
  },
  {
   "cell_type": "code",
   "execution_count": 22,
   "id": "marked-origin",
   "metadata": {
    "execution": {
     "iopub.execute_input": "2021-07-26T04:02:20.166879Z",
     "iopub.status.busy": "2021-07-26T04:02:20.165826Z",
     "iopub.status.idle": "2021-07-26T04:02:20.362784Z",
     "shell.execute_reply": "2021-07-26T04:02:20.362191Z",
     "shell.execute_reply.started": "2021-07-23T21:04:38.659468Z"
    },
    "papermill": {
     "duration": 0.275699,
     "end_time": "2021-07-26T04:02:20.362966",
     "exception": false,
     "start_time": "2021-07-26T04:02:20.087267",
     "status": "completed"
    },
    "tags": []
   },
   "outputs": [
    {
     "name": "stderr",
     "output_type": "stream",
     "text": [
      "/opt/conda/lib/python3.7/site-packages/statsmodels/graphics/gofplots.py:993: UserWarning: marker is redundantly defined by the 'marker' keyword argument and the fmt string \"bo\" (-> marker='o'). The keyword argument will take precedence.\n",
      "  ax.plot(x, y, fmt, **plot_style)\n"
     ]
    },
    {
     "data": {
      "image/png": "[encoded data removed]",
      "text/plain": [
       "<Figure size 432x288 with 1 Axes>"
      ]
     },
     "metadata": {},
     "output_type": "display_data"
    }
   ],
   "source": [
    "sm.qqplot(residuals.ravel(), line ='45', loc=np.mean(residuals.ravel()), scale=np.std(residuals.ravel()))\n",
    "py.show()"
   ]
  },
  {
   "cell_type": "markdown",
   "id": "central-breast",
   "metadata": {
    "papermill": {
     "duration": 0.057085,
     "end_time": "2021-07-26T04:02:20.478304",
     "exception": false,
     "start_time": "2021-07-26T04:02:20.421219",
     "status": "completed"
    },
    "tags": []
   },
   "source": [
    "### Insights : \n",
    "1. The residuals are fairly aligned with normal distribution with limited deviation at the initial quantiles"
   ]
  },
  {
   "cell_type": "markdown",
   "id": "efficient-while",
   "metadata": {
    "papermill": {
     "duration": 0.058323,
     "end_time": "2021-07-26T04:02:20.595233",
     "exception": false,
     "start_time": "2021-07-26T04:02:20.536910",
     "status": "completed"
    },
    "tags": []
   },
   "source": [
    "## Hypothesis testing to check for Gaussian spread of residuals"
   ]
  },
  {
   "cell_type": "code",
   "execution_count": 23,
   "id": "enabling-berlin",
   "metadata": {
    "execution": {
     "iopub.execute_input": "2021-07-26T04:02:20.715734Z",
     "iopub.status.busy": "2021-07-26T04:02:20.715104Z",
     "iopub.status.idle": "2021-07-26T04:02:20.720029Z",
     "shell.execute_reply": "2021-07-26T04:02:20.719139Z",
     "shell.execute_reply.started": "2021-07-23T21:04:38.878728Z"
    },
    "papermill": {
     "duration": 0.067715,
     "end_time": "2021-07-26T04:02:20.720215",
     "exception": false,
     "start_time": "2021-07-26T04:02:20.652500",
     "status": "completed"
    },
    "tags": []
   },
   "outputs": [
    {
     "name": "stdout",
     "output_type": "stream",
     "text": [
      "Stat : 0.9606381058692932\n",
      "p-value from SHAPIRO_WILKS test : 0.00032849362469278276\n"
     ]
    }
   ],
   "source": [
    "import scipy.stats as stats\n",
    "\n",
    "#-----------------------------------------------------------\n",
    "shap_stat,shap_p = stats.shapiro(residuals.ravel())\n",
    "print('Stat :',shap_stat)\n",
    "print('p-value from SHAPIRO_WILKS test :',shap_p)"
   ]
  },
  {
   "cell_type": "code",
   "execution_count": 24,
   "id": "continued-setting",
   "metadata": {
    "execution": {
     "iopub.execute_input": "2021-07-26T04:02:20.842764Z",
     "iopub.status.busy": "2021-07-26T04:02:20.841950Z",
     "iopub.status.idle": "2021-07-26T04:02:21.085821Z",
     "shell.execute_reply": "2021-07-26T04:02:21.084978Z",
     "shell.execute_reply.started": "2021-07-26T03:54:04.749898Z"
    },
    "papermill": {
     "duration": 0.306239,
     "end_time": "2021-07-26T04:02:21.085969",
     "exception": false,
     "start_time": "2021-07-26T04:02:20.779730",
     "status": "completed"
    },
    "tags": []
   },
   "outputs": [
    {
     "name": "stderr",
     "output_type": "stream",
     "text": [
      "/opt/conda/lib/python3.7/site-packages/seaborn/distributions.py:2557: FutureWarning: `distplot` is a deprecated function and will be removed in a future version. Please adapt your code to use either `displot` (a figure-level function with similar flexibility) or `histplot` (an axes-level function for histograms).\n",
      "  warnings.warn(msg, FutureWarning)\n"
     ]
    },
    {
     "data": {
      "text/plain": [
       "<AxesSubplot:ylabel='Density'>"
      ]
     },
     "execution_count": 24,
     "metadata": {},
     "output_type": "execute_result"
    },
    {
     "data": {
      "image/png": "[encoded data removed]",
      "text/plain": [
       "<Figure size 432x288 with 1 Axes>"
      ]
     },
     "metadata": {},
     "output_type": "display_data"
    }
   ],
   "source": [
    "sns.distplot(residuals.ravel(),color='g')"
   ]
  },
  {
   "cell_type": "markdown",
   "id": "integral-hunter",
   "metadata": {
    "papermill": {
     "duration": 0.058749,
     "end_time": "2021-07-26T04:02:21.205160",
     "exception": false,
     "start_time": "2021-07-26T04:02:21.146411",
     "status": "completed"
    },
    "tags": []
   },
   "source": [
    "### Insights : \n",
    "1. From the Q-Q plot, we could see that there was some minor deviation from normal distribution at the initial quantiles\n",
    "2. From Shapiro-Wilks test we see that the p-value (~0.003) < alpha (0.05). Hence, we can reject the null hypothesis that the residual is normally distributed\n",
    "3. From the kde-plot above, we can see that the distribution seems slightly left skewed (matching with initial quantiles of Q-Q plot)\n",
    "4. All in all, the residuals are not normally distributed and hence the assumption is violated"
   ]
  },
  {
   "cell_type": "markdown",
   "id": "experienced-musician",
   "metadata": {
    "papermill": {
     "duration": 0.058688,
     "end_time": "2021-07-26T04:02:21.322898",
     "exception": false,
     "start_time": "2021-07-26T04:02:21.264210",
     "status": "completed"
    },
    "tags": []
   },
   "source": [
    "# END"
   ]
  },
  {
   "cell_type": "code",
   "execution_count": null,
   "id": "current-tanzania",
   "metadata": {
    "papermill": {
     "duration": 0.058805,
     "end_time": "2021-07-26T04:02:21.440968",
     "exception": false,
     "start_time": "2021-07-26T04:02:21.382163",
     "status": "completed"
    },
    "tags": []
   },
   "outputs": [],
   "source": []
  }
 ],
 "metadata": {
  "kernelspec": {
   "display_name": "Python 3",
   "language": "python",
   "name": "python3"
  },
  "language_info": {
   "codemirror_mode": {
    "name": "ipython",
    "version": 3
   },
   "file_extension": ".py",
   "mimetype": "text/x-python",
   "name": "python",
   "nbconvert_exporter": "python",
   "pygments_lexer": "ipython3",
   "version": "3.7.10"
  },
  "papermill": {
   "default_parameters": {},
   "duration": 43.704522,
   "end_time": "2021-07-26T04:02:22.312605",
   "environment_variables": {},
   "exception": null,
   "input_path": "__notebook__.ipynb",
   "output_path": "__notebook__.ipynb",
   "parameters": {},
   "start_time": "2021-07-26T04:01:38.608083",
   "version": "2.3.3"
  }
 },
 "nbformat": 4,
 "nbformat_minor": 5
}
