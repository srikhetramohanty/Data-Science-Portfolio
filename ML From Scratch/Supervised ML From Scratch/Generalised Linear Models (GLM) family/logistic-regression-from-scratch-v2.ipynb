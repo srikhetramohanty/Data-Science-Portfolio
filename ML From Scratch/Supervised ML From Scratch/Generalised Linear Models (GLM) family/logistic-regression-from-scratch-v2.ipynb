{
 "cells": [
  {
   "cell_type": "code",
   "execution_count": 1,
   "id": "native-numbers",
   "metadata": {
    "_cell_guid": "b1076dfc-b9ad-4769-8c92-a6c4dae69d19",
    "_uuid": "8f2839f25d086af736a60e9eeb907d3b93b6e0e5",
    "execution": {
     "iopub.execute_input": "2021-07-26T05:28:46.783330Z",
     "iopub.status.busy": "2021-07-26T05:28:46.782604Z",
     "iopub.status.idle": "2021-07-26T05:28:47.868741Z",
     "shell.execute_reply": "2021-07-26T05:28:47.867932Z",
     "shell.execute_reply.started": "2021-07-26T04:13:58.854920Z"
    },
    "papermill": {
     "duration": 1.123465,
     "end_time": "2021-07-26T05:28:47.868961",
     "exception": false,
     "start_time": "2021-07-26T05:28:46.745496",
     "status": "completed"
    },
    "tags": []
   },
   "outputs": [
    {
     "name": "stdout",
     "output_type": "stream",
     "text": [
      "/kaggle/input/titanic/train_data.csv\n",
      "/kaggle/input/titanic/test_data.csv\n"
     ]
    }
   ],
   "source": [
    "# This Python 3 environment comes with many helpful analytics libraries installed\n",
    "# It is defined by the kaggle/python Docker image: https://github.com/kaggle/docker-python\n",
    "# For example, here's several helpful packages to load\n",
    "\n",
    "import numpy as np # linear algebra\n",
    "import pandas as pd # data processing, CSV file I/O (e.g. pd.read_csv)\n",
    "from sklearn.preprocessing import StandardScaler\n",
    "from sklearn.metrics import mean_squared_error\n",
    "from sklearn.metrics import accuracy_score\n",
    "from sklearn.metrics import roc_auc_score\n",
    "import matplotlib.pyplot as pt\n",
    "import seaborn as sns\n",
    "from sklearn.model_selection import train_test_split\n",
    "pd.set_option('display.max_columns', None)\n",
    "# Input data files are available in the read-only \"../input/\" directory\n",
    "# For example, running this (by clicking run or pressing Shift+Enter) will list all files under the input directory\n",
    "\n",
    "import os\n",
    "for dirname, _, filenames in os.walk('/kaggle/input'):\n",
    "    for filename in filenames:\n",
    "        print(os.path.join(dirname, filename))\n",
    "\n",
    "# You can write up to 20GB to the current directory (/kaggle/working/) that gets preserved as output when you create a version using \"Save & Run All\" \n",
    "# You can also write temporary files to /kaggle/temp/, but they won't be saved outside of the current session"
   ]
  },
  {
   "cell_type": "markdown",
   "id": "ruled-queens",
   "metadata": {
    "papermill": {
     "duration": 0.022244,
     "end_time": "2021-07-26T05:28:47.915261",
     "exception": false,
     "start_time": "2021-07-26T05:28:47.893017",
     "status": "completed"
    },
    "tags": []
   },
   "source": [
    "# Input of training data from input folder \n",
    "Links - https://www.kaggle.com/azeembootwala/titanic"
   ]
  },
  {
   "cell_type": "code",
   "execution_count": 2,
   "id": "intended-migration",
   "metadata": {
    "execution": {
     "iopub.execute_input": "2021-07-26T05:28:47.966533Z",
     "iopub.status.busy": "2021-07-26T05:28:47.965810Z",
     "iopub.status.idle": "2021-07-26T05:28:48.016221Z",
     "shell.execute_reply": "2021-07-26T05:28:48.015625Z",
     "shell.execute_reply.started": "2021-07-26T04:13:58.871883Z"
    },
    "papermill": {
     "duration": 0.078653,
     "end_time": "2021-07-26T05:28:48.016371",
     "exception": false,
     "start_time": "2021-07-26T05:28:47.937718",
     "status": "completed"
    },
    "tags": []
   },
   "outputs": [
    {
     "name": "stdout",
     "output_type": "stream",
     "text": [
      "(792, 12)\n"
     ]
    },
    {
     "data": {
      "text/html": [
       "<div>\n",
       "<style scoped>\n",
       "    .dataframe tbody tr th:only-of-type {\n",
       "        vertical-align: middle;\n",
       "    }\n",
       "\n",
       "    .dataframe tbody tr th {\n",
       "        vertical-align: top;\n",
       "    }\n",
       "\n",
       "    .dataframe thead th {\n",
       "        text-align: right;\n",
       "    }\n",
       "</style>\n",
       "<table border=\"1\" class=\"dataframe\">\n",
       "  <thead>\n",
       "    <tr style=\"text-align: right;\">\n",
       "      <th></th>\n",
       "      <th>PassengerId</th>\n",
       "      <th>Survived</th>\n",
       "      <th>Sex</th>\n",
       "      <th>Age</th>\n",
       "      <th>Fare</th>\n",
       "      <th>Pclass_1</th>\n",
       "      <th>Pclass_2</th>\n",
       "      <th>Pclass_3</th>\n",
       "      <th>Family_size</th>\n",
       "      <th>Emb_1</th>\n",
       "      <th>Emb_2</th>\n",
       "      <th>Emb_3</th>\n",
       "    </tr>\n",
       "  </thead>\n",
       "  <tbody>\n",
       "    <tr>\n",
       "      <th>0</th>\n",
       "      <td>1</td>\n",
       "      <td>0</td>\n",
       "      <td>1</td>\n",
       "      <td>0.2750</td>\n",
       "      <td>0.014151</td>\n",
       "      <td>0</td>\n",
       "      <td>0</td>\n",
       "      <td>1</td>\n",
       "      <td>0.1</td>\n",
       "      <td>0</td>\n",
       "      <td>0</td>\n",
       "      <td>1</td>\n",
       "    </tr>\n",
       "    <tr>\n",
       "      <th>1</th>\n",
       "      <td>2</td>\n",
       "      <td>1</td>\n",
       "      <td>0</td>\n",
       "      <td>0.4750</td>\n",
       "      <td>0.139136</td>\n",
       "      <td>1</td>\n",
       "      <td>0</td>\n",
       "      <td>0</td>\n",
       "      <td>0.1</td>\n",
       "      <td>1</td>\n",
       "      <td>0</td>\n",
       "      <td>0</td>\n",
       "    </tr>\n",
       "    <tr>\n",
       "      <th>2</th>\n",
       "      <td>3</td>\n",
       "      <td>1</td>\n",
       "      <td>0</td>\n",
       "      <td>0.3250</td>\n",
       "      <td>0.015469</td>\n",
       "      <td>0</td>\n",
       "      <td>0</td>\n",
       "      <td>1</td>\n",
       "      <td>0.0</td>\n",
       "      <td>0</td>\n",
       "      <td>0</td>\n",
       "      <td>1</td>\n",
       "    </tr>\n",
       "    <tr>\n",
       "      <th>3</th>\n",
       "      <td>4</td>\n",
       "      <td>1</td>\n",
       "      <td>0</td>\n",
       "      <td>0.4375</td>\n",
       "      <td>0.103644</td>\n",
       "      <td>1</td>\n",
       "      <td>0</td>\n",
       "      <td>0</td>\n",
       "      <td>0.1</td>\n",
       "      <td>0</td>\n",
       "      <td>0</td>\n",
       "      <td>1</td>\n",
       "    </tr>\n",
       "    <tr>\n",
       "      <th>4</th>\n",
       "      <td>5</td>\n",
       "      <td>0</td>\n",
       "      <td>1</td>\n",
       "      <td>0.4375</td>\n",
       "      <td>0.015713</td>\n",
       "      <td>0</td>\n",
       "      <td>0</td>\n",
       "      <td>1</td>\n",
       "      <td>0.0</td>\n",
       "      <td>0</td>\n",
       "      <td>0</td>\n",
       "      <td>1</td>\n",
       "    </tr>\n",
       "  </tbody>\n",
       "</table>\n",
       "</div>"
      ],
      "text/plain": [
       "   PassengerId  Survived  Sex     Age      Fare  Pclass_1  Pclass_2  Pclass_3  \\\n",
       "0            1         0    1  0.2750  0.014151         0         0         1   \n",
       "1            2         1    0  0.4750  0.139136         1         0         0   \n",
       "2            3         1    0  0.3250  0.015469         0         0         1   \n",
       "3            4         1    0  0.4375  0.103644         1         0         0   \n",
       "4            5         0    1  0.4375  0.015713         0         0         1   \n",
       "\n",
       "   Family_size  Emb_1  Emb_2  Emb_3  \n",
       "0          0.1      0      0      1  \n",
       "1          0.1      1      0      0  \n",
       "2          0.0      0      0      1  \n",
       "3          0.1      0      0      1  \n",
       "4          0.0      0      0      1  "
      ]
     },
     "execution_count": 2,
     "metadata": {},
     "output_type": "execute_result"
    }
   ],
   "source": [
    "input_ads = pd.read_csv('../input/titanic/train_data.csv')\n",
    "input_ads.drop(columns=['Unnamed: 0','Title_1','Title_2','Title_3','Title_4'],inplace=True) #Dropping un-necessary columns\n",
    "#-----------------------------------------------------------------\n",
    "print(input_ads.shape)\n",
    "input_ads.head()"
   ]
  },
  {
   "cell_type": "markdown",
   "id": "confident-tournament",
   "metadata": {
    "papermill": {
     "duration": 0.023364,
     "end_time": "2021-07-26T05:28:48.063177",
     "exception": false,
     "start_time": "2021-07-26T05:28:48.039813",
     "status": "completed"
    },
    "tags": []
   },
   "source": [
    "# Null Check"
   ]
  },
  {
   "cell_type": "code",
   "execution_count": 3,
   "id": "cordless-oasis",
   "metadata": {
    "execution": {
     "iopub.execute_input": "2021-07-26T05:28:48.116276Z",
     "iopub.status.busy": "2021-07-26T05:28:48.115550Z",
     "iopub.status.idle": "2021-07-26T05:28:48.130834Z",
     "shell.execute_reply": "2021-07-26T05:28:48.130246Z",
     "shell.execute_reply.started": "2021-07-26T04:13:58.900895Z"
    },
    "papermill": {
     "duration": 0.044028,
     "end_time": "2021-07-26T05:28:48.131003",
     "exception": false,
     "start_time": "2021-07-26T05:28:48.086975",
     "status": "completed"
    },
    "tags": []
   },
   "outputs": [
    {
     "data": {
      "text/html": [
       "<div>\n",
       "<style scoped>\n",
       "    .dataframe tbody tr th:only-of-type {\n",
       "        vertical-align: middle;\n",
       "    }\n",
       "\n",
       "    .dataframe tbody tr th {\n",
       "        vertical-align: top;\n",
       "    }\n",
       "\n",
       "    .dataframe thead th {\n",
       "        text-align: right;\n",
       "    }\n",
       "</style>\n",
       "<table border=\"1\" class=\"dataframe\">\n",
       "  <thead>\n",
       "    <tr style=\"text-align: right;\">\n",
       "      <th></th>\n",
       "      <th>PassengerId</th>\n",
       "      <th>Survived</th>\n",
       "      <th>Sex</th>\n",
       "      <th>Age</th>\n",
       "      <th>Fare</th>\n",
       "      <th>Pclass_1</th>\n",
       "      <th>Pclass_2</th>\n",
       "      <th>Pclass_3</th>\n",
       "      <th>Family_size</th>\n",
       "      <th>Emb_1</th>\n",
       "      <th>Emb_2</th>\n",
       "      <th>Emb_3</th>\n",
       "    </tr>\n",
       "  </thead>\n",
       "  <tbody>\n",
       "    <tr>\n",
       "      <th>0</th>\n",
       "      <td>0</td>\n",
       "      <td>0</td>\n",
       "      <td>0</td>\n",
       "      <td>0</td>\n",
       "      <td>0</td>\n",
       "      <td>0</td>\n",
       "      <td>0</td>\n",
       "      <td>0</td>\n",
       "      <td>0</td>\n",
       "      <td>0</td>\n",
       "      <td>0</td>\n",
       "      <td>0</td>\n",
       "    </tr>\n",
       "  </tbody>\n",
       "</table>\n",
       "</div>"
      ],
      "text/plain": [
       "   PassengerId  Survived  Sex  Age  Fare  Pclass_1  Pclass_2  Pclass_3  \\\n",
       "0            0         0    0    0     0         0         0         0   \n",
       "\n",
       "   Family_size  Emb_1  Emb_2  Emb_3  \n",
       "0            0      0      0      0  "
      ]
     },
     "execution_count": 3,
     "metadata": {},
     "output_type": "execute_result"
    }
   ],
   "source": [
    "pd.DataFrame(input_ads.isnull().sum()).T"
   ]
  },
  {
   "cell_type": "markdown",
   "id": "essential-jerusalem",
   "metadata": {
    "papermill": {
     "duration": 0.023811,
     "end_time": "2021-07-26T05:28:48.180166",
     "exception": false,
     "start_time": "2021-07-26T05:28:48.156355",
     "status": "completed"
    },
    "tags": []
   },
   "source": [
    "# Describe of the whole data"
   ]
  },
  {
   "cell_type": "code",
   "execution_count": 4,
   "id": "falling-natural",
   "metadata": {
    "execution": {
     "iopub.execute_input": "2021-07-26T05:28:48.232201Z",
     "iopub.status.busy": "2021-07-26T05:28:48.231480Z",
     "iopub.status.idle": "2021-07-26T05:28:48.287158Z",
     "shell.execute_reply": "2021-07-26T05:28:48.286460Z",
     "shell.execute_reply.started": "2021-07-26T04:13:58.917537Z"
    },
    "papermill": {
     "duration": 0.082647,
     "end_time": "2021-07-26T05:28:48.287308",
     "exception": false,
     "start_time": "2021-07-26T05:28:48.204661",
     "status": "completed"
    },
    "tags": []
   },
   "outputs": [
    {
     "data": {
      "text/html": [
       "<div>\n",
       "<style scoped>\n",
       "    .dataframe tbody tr th:only-of-type {\n",
       "        vertical-align: middle;\n",
       "    }\n",
       "\n",
       "    .dataframe tbody tr th {\n",
       "        vertical-align: top;\n",
       "    }\n",
       "\n",
       "    .dataframe thead th {\n",
       "        text-align: right;\n",
       "    }\n",
       "</style>\n",
       "<table border=\"1\" class=\"dataframe\">\n",
       "  <thead>\n",
       "    <tr style=\"text-align: right;\">\n",
       "      <th></th>\n",
       "      <th>PassengerId</th>\n",
       "      <th>Survived</th>\n",
       "      <th>Sex</th>\n",
       "      <th>Age</th>\n",
       "      <th>Fare</th>\n",
       "      <th>Pclass_1</th>\n",
       "      <th>Pclass_2</th>\n",
       "      <th>Pclass_3</th>\n",
       "      <th>Family_size</th>\n",
       "      <th>Emb_1</th>\n",
       "      <th>Emb_2</th>\n",
       "      <th>Emb_3</th>\n",
       "    </tr>\n",
       "  </thead>\n",
       "  <tbody>\n",
       "    <tr>\n",
       "      <th>count</th>\n",
       "      <td>792.000000</td>\n",
       "      <td>792.000000</td>\n",
       "      <td>792.000000</td>\n",
       "      <td>792.000000</td>\n",
       "      <td>792.000000</td>\n",
       "      <td>792.000000</td>\n",
       "      <td>792.000000</td>\n",
       "      <td>792.000000</td>\n",
       "      <td>792.000000</td>\n",
       "      <td>792.000000</td>\n",
       "      <td>792.000000</td>\n",
       "      <td>792.000000</td>\n",
       "    </tr>\n",
       "    <tr>\n",
       "      <th>mean</th>\n",
       "      <td>396.500000</td>\n",
       "      <td>0.386364</td>\n",
       "      <td>0.647727</td>\n",
       "      <td>0.368244</td>\n",
       "      <td>0.064677</td>\n",
       "      <td>0.243687</td>\n",
       "      <td>0.208333</td>\n",
       "      <td>0.547980</td>\n",
       "      <td>0.088636</td>\n",
       "      <td>0.185606</td>\n",
       "      <td>0.092172</td>\n",
       "      <td>0.720960</td>\n",
       "    </tr>\n",
       "    <tr>\n",
       "      <th>std</th>\n",
       "      <td>228.774999</td>\n",
       "      <td>0.487223</td>\n",
       "      <td>0.477980</td>\n",
       "      <td>0.162994</td>\n",
       "      <td>0.100987</td>\n",
       "      <td>0.429577</td>\n",
       "      <td>0.406373</td>\n",
       "      <td>0.498007</td>\n",
       "      <td>0.154485</td>\n",
       "      <td>0.389034</td>\n",
       "      <td>0.289451</td>\n",
       "      <td>0.448811</td>\n",
       "    </tr>\n",
       "    <tr>\n",
       "      <th>min</th>\n",
       "      <td>1.000000</td>\n",
       "      <td>0.000000</td>\n",
       "      <td>0.000000</td>\n",
       "      <td>0.008375</td>\n",
       "      <td>0.000000</td>\n",
       "      <td>0.000000</td>\n",
       "      <td>0.000000</td>\n",
       "      <td>0.000000</td>\n",
       "      <td>0.000000</td>\n",
       "      <td>0.000000</td>\n",
       "      <td>0.000000</td>\n",
       "      <td>0.000000</td>\n",
       "    </tr>\n",
       "    <tr>\n",
       "      <th>25%</th>\n",
       "      <td>198.750000</td>\n",
       "      <td>0.000000</td>\n",
       "      <td>0.000000</td>\n",
       "      <td>0.275000</td>\n",
       "      <td>0.015469</td>\n",
       "      <td>0.000000</td>\n",
       "      <td>0.000000</td>\n",
       "      <td>0.000000</td>\n",
       "      <td>0.000000</td>\n",
       "      <td>0.000000</td>\n",
       "      <td>0.000000</td>\n",
       "      <td>0.000000</td>\n",
       "    </tr>\n",
       "    <tr>\n",
       "      <th>50%</th>\n",
       "      <td>396.500000</td>\n",
       "      <td>0.000000</td>\n",
       "      <td>1.000000</td>\n",
       "      <td>0.350000</td>\n",
       "      <td>0.028302</td>\n",
       "      <td>0.000000</td>\n",
       "      <td>0.000000</td>\n",
       "      <td>1.000000</td>\n",
       "      <td>0.000000</td>\n",
       "      <td>0.000000</td>\n",
       "      <td>0.000000</td>\n",
       "      <td>1.000000</td>\n",
       "    </tr>\n",
       "    <tr>\n",
       "      <th>75%</th>\n",
       "      <td>594.250000</td>\n",
       "      <td>1.000000</td>\n",
       "      <td>1.000000</td>\n",
       "      <td>0.437500</td>\n",
       "      <td>0.061045</td>\n",
       "      <td>0.000000</td>\n",
       "      <td>0.000000</td>\n",
       "      <td>1.000000</td>\n",
       "      <td>0.100000</td>\n",
       "      <td>0.000000</td>\n",
       "      <td>0.000000</td>\n",
       "      <td>1.000000</td>\n",
       "    </tr>\n",
       "    <tr>\n",
       "      <th>max</th>\n",
       "      <td>792.000000</td>\n",
       "      <td>1.000000</td>\n",
       "      <td>1.000000</td>\n",
       "      <td>1.000000</td>\n",
       "      <td>1.000000</td>\n",
       "      <td>1.000000</td>\n",
       "      <td>1.000000</td>\n",
       "      <td>1.000000</td>\n",
       "      <td>1.000000</td>\n",
       "      <td>1.000000</td>\n",
       "      <td>1.000000</td>\n",
       "      <td>1.000000</td>\n",
       "    </tr>\n",
       "  </tbody>\n",
       "</table>\n",
       "</div>"
      ],
      "text/plain": [
       "       PassengerId    Survived         Sex         Age        Fare  \\\n",
       "count   792.000000  792.000000  792.000000  792.000000  792.000000   \n",
       "mean    396.500000    0.386364    0.647727    0.368244    0.064677   \n",
       "std     228.774999    0.487223    0.477980    0.162994    0.100987   \n",
       "min       1.000000    0.000000    0.000000    0.008375    0.000000   \n",
       "25%     198.750000    0.000000    0.000000    0.275000    0.015469   \n",
       "50%     396.500000    0.000000    1.000000    0.350000    0.028302   \n",
       "75%     594.250000    1.000000    1.000000    0.437500    0.061045   \n",
       "max     792.000000    1.000000    1.000000    1.000000    1.000000   \n",
       "\n",
       "         Pclass_1    Pclass_2    Pclass_3  Family_size       Emb_1  \\\n",
       "count  792.000000  792.000000  792.000000   792.000000  792.000000   \n",
       "mean     0.243687    0.208333    0.547980     0.088636    0.185606   \n",
       "std      0.429577    0.406373    0.498007     0.154485    0.389034   \n",
       "min      0.000000    0.000000    0.000000     0.000000    0.000000   \n",
       "25%      0.000000    0.000000    0.000000     0.000000    0.000000   \n",
       "50%      0.000000    0.000000    1.000000     0.000000    0.000000   \n",
       "75%      0.000000    0.000000    1.000000     0.100000    0.000000   \n",
       "max      1.000000    1.000000    1.000000     1.000000    1.000000   \n",
       "\n",
       "            Emb_2       Emb_3  \n",
       "count  792.000000  792.000000  \n",
       "mean     0.092172    0.720960  \n",
       "std      0.289451    0.448811  \n",
       "min      0.000000    0.000000  \n",
       "25%      0.000000    0.000000  \n",
       "50%      0.000000    1.000000  \n",
       "75%      0.000000    1.000000  \n",
       "max      1.000000    1.000000  "
      ]
     },
     "execution_count": 4,
     "metadata": {},
     "output_type": "execute_result"
    }
   ],
   "source": [
    "input_ads.describe()"
   ]
  },
  {
   "cell_type": "markdown",
   "id": "rapid-bridge",
   "metadata": {
    "papermill": {
     "duration": 0.024066,
     "end_time": "2021-07-26T05:28:48.335969",
     "exception": false,
     "start_time": "2021-07-26T05:28:48.311903",
     "status": "completed"
    },
    "tags": []
   },
   "source": [
    "### Note - The data is already standardized since it is imported from a pre-processed public dataset"
   ]
  },
  {
   "cell_type": "code",
   "execution_count": 5,
   "id": "historic-table",
   "metadata": {
    "execution": {
     "iopub.execute_input": "2021-07-26T05:28:48.388112Z",
     "iopub.status.busy": "2021-07-26T05:28:48.387390Z",
     "iopub.status.idle": "2021-07-26T05:28:48.396336Z",
     "shell.execute_reply": "2021-07-26T05:28:48.396793Z",
     "shell.execute_reply.started": "2021-07-26T04:14:03.934840Z"
    },
    "papermill": {
     "duration": 0.036644,
     "end_time": "2021-07-26T05:28:48.396994",
     "exception": false,
     "start_time": "2021-07-26T05:28:48.360350",
     "status": "completed"
    },
    "tags": []
   },
   "outputs": [
    {
     "data": {
      "text/plain": [
       "0    486\n",
       "1    306\n",
       "Name: Survived, dtype: int64"
      ]
     },
     "execution_count": 5,
     "metadata": {},
     "output_type": "execute_result"
    }
   ],
   "source": [
    "#Total survived vs not-survived split in the training data\n",
    "input_ads['Survived'].value_counts()"
   ]
  },
  {
   "cell_type": "markdown",
   "id": "amended-guard",
   "metadata": {
    "papermill": {
     "duration": 0.024375,
     "end_time": "2021-07-26T05:28:48.446310",
     "exception": false,
     "start_time": "2021-07-26T05:28:48.421935",
     "status": "completed"
    },
    "tags": []
   },
   "source": [
    "# Data Splitting & Pre-Processing "
   ]
  },
  {
   "cell_type": "code",
   "execution_count": 6,
   "id": "numerical-stopping",
   "metadata": {
    "execution": {
     "iopub.execute_input": "2021-07-26T05:28:48.507046Z",
     "iopub.status.busy": "2021-07-26T05:28:48.506382Z",
     "iopub.status.idle": "2021-07-26T05:28:48.524623Z",
     "shell.execute_reply": "2021-07-26T05:28:48.524106Z",
     "shell.execute_reply.started": "2021-07-26T04:14:12.100347Z"
    },
    "papermill": {
     "duration": 0.05372,
     "end_time": "2021-07-26T05:28:48.524769",
     "exception": false,
     "start_time": "2021-07-26T05:28:48.471049",
     "status": "completed"
    },
    "tags": []
   },
   "outputs": [
    {
     "name": "stdout",
     "output_type": "stream",
     "text": [
      "Train % of total data: 88.78923766816143\n",
      "(792, 11)\n",
      "(100, 11)\n",
      "(792, 1)\n"
     ]
    }
   ],
   "source": [
    "target = 'Survived' #To predict\n",
    "\n",
    "#--------------------------------------------------------------------------------\n",
    "#Splitting into X & Y datasets (supervised training)\n",
    "X = input_ads[[cols for cols in list(input_ads.columns) if target not in cols]]\n",
    "y = input_ads[target]\n",
    "\n",
    "#--------------------------------------------------------------------------------\n",
    "#Since test data is already placed in the input folder separately, we will just import it\n",
    "test_ads = pd.read_csv('../input/titanic/test_data.csv')\n",
    "test_ads.drop(columns=['Unnamed: 0','Title_1','Title_2','Title_3','Title_4'],inplace=True) #Dropping un-necessary columns\n",
    "\n",
    "#Splitting into X & Y datasets (supervised training)\n",
    "X_test = test_ads[[cols for cols in list(test_ads.columns) if target not in cols]]\n",
    "y_test = test_ads[target]\n",
    "\n",
    "print('Train % of total data:',100 * X.shape[0]/(X.shape[0] + X_test.shape[0]))\n",
    "#--------------------------------------------------------------------------------\n",
    "#Manipulation of datasets for convenience and consistency\n",
    "X_arr = np.array(X)\n",
    "X_test_arr = np.array(X_test)\n",
    "\n",
    "y_arr = np.array(y).reshape(X_arr.shape[0],1)\n",
    "y_test_arr = np.array(y_test).reshape(X_test_arr.shape[0],1)\n",
    "\n",
    "#--------------------------------------------------------------------------------\n",
    "#Basic Summary\n",
    "print(X_arr.shape)\n",
    "print(X_test_arr.shape)\n",
    "print(y_arr.shape)"
   ]
  },
  {
   "cell_type": "markdown",
   "id": "japanese-documentation",
   "metadata": {
    "papermill": {
     "duration": 0.02458,
     "end_time": "2021-07-26T05:28:48.574178",
     "exception": false,
     "start_time": "2021-07-26T05:28:48.549598",
     "status": "completed"
    },
    "tags": []
   },
   "source": [
    "# Logistic Regression from scratch"
   ]
  },
  {
   "cell_type": "markdown",
   "id": "weighted-emerald",
   "metadata": {
    "papermill": {
     "duration": 0.02451,
     "end_time": "2021-07-26T05:28:48.623562",
     "exception": false,
     "start_time": "2021-07-26T05:28:48.599052",
     "status": "completed"
    },
    "tags": []
   },
   "source": [
    "### Defining fwd prop UDF, Cost function UDF & initiating weights and intercepts"
   ]
  },
  {
   "cell_type": "code",
   "execution_count": 7,
   "id": "narrow-seeking",
   "metadata": {
    "execution": {
     "iopub.execute_input": "2021-07-26T05:28:48.685697Z",
     "iopub.status.busy": "2021-07-26T05:28:48.684965Z",
     "iopub.status.idle": "2021-07-26T05:28:48.693929Z",
     "shell.execute_reply": "2021-07-26T05:28:48.692908Z",
     "shell.execute_reply.started": "2021-07-26T04:14:45.080603Z"
    },
    "papermill": {
     "duration": 0.045569,
     "end_time": "2021-07-26T05:28:48.694159",
     "exception": false,
     "start_time": "2021-07-26T05:28:48.648590",
     "status": "completed"
    },
    "tags": []
   },
   "outputs": [
    {
     "name": "stdout",
     "output_type": "stream",
     "text": [
      "11\n",
      "(11, 1)\n",
      "[[0.]\n",
      " [0.]\n",
      " [0.]\n",
      " [0.]\n",
      " [0.]\n",
      " [0.]\n",
      " [0.]\n",
      " [0.]\n",
      " [0.]\n",
      " [0.]\n",
      " [0.]]\n"
     ]
    },
    {
     "data": {
      "text/plain": [
       "(792, 1)"
      ]
     },
     "execution_count": 7,
     "metadata": {},
     "output_type": "execute_result"
    }
   ],
   "source": [
    "#Sigmoid function for the forward propagation as well as backward propagation\n",
    "def sigmoid(arr):\n",
    "    \n",
    "    sig = 1/(1 + np.exp(-arr))\n",
    "    \n",
    "    return sig\n",
    "\n",
    "#Fn for forward propagation of the model (to caculate the predictions)\n",
    "#--------------------------------------------------------------------------\n",
    "def fwd_prop(X_arr,w,b):\n",
    "    \n",
    "    a = np.dot(X_arr,w) + b\n",
    "    sig_a = sigmoid(a)\n",
    "    #print('Shape of a:',a.shape)\n",
    "    \n",
    "    return sig_a\n",
    "\n",
    "#Fn to calculate cost for logistic regression\n",
    "#--------------------------------------------------------------------------------------------------\n",
    "def cost_fn(y_true,y_pred,n_examples,reg_alpha,reg_type,w_):\n",
    "    \n",
    "    #Applying regularizations\n",
    "    if reg_type=='L1':\n",
    "        reg = np.sum(abs(w_))\n",
    "    elif reg_type=='L2':\n",
    "        reg = 0.5 * np.sum(np.square(w_))\n",
    "    \n",
    "    cost = (-1/n_examples) * np.sum((y_true * np.log(y_pred)) + ((1-y_true) * np.log(1 - y_pred))) + (reg_alpha*reg)\n",
    "    \n",
    "    return cost    \n",
    "\n",
    "#Fn to convert probabilities into class 0 or 1 based on threshold\n",
    "#--------------------------------------------------------------------------\n",
    "def prob_to_class(arr,threshold):\n",
    "    \n",
    "    mask = arr>threshold\n",
    "    #print(mask)\n",
    "    arr_class = mask.astype(int)\n",
    "    \n",
    "    return arr_class\n",
    "\n",
    "\n",
    "#Initiating the weight and intercept vectors with appropriate dimensions\n",
    "#--------------------------------------------------------------------------\n",
    "np.random.seed(100) #Setting seed for consistency in case of random number generation \n",
    "\n",
    "#Weights\n",
    "#----------------------------------\n",
    "w = np.zeros((X.shape[1],1))\n",
    "print(X_arr.shape[1])\n",
    "print(w.shape)\n",
    "print(w)\n",
    "\n",
    "#Intercept\n",
    "#----------------------------------\n",
    "b = np.zeros(1)\n",
    "b\n",
    "\n",
    "#Testing the forward propagation function\n",
    "#----------------------------------\n",
    "a = fwd_prop(X_arr,w,b)\n",
    "a.shape"
   ]
  },
  {
   "cell_type": "markdown",
   "id": "bibliographic-chicken",
   "metadata": {
    "papermill": {
     "duration": 0.02577,
     "end_time": "2021-07-26T05:28:48.746278",
     "exception": false,
     "start_time": "2021-07-26T05:28:48.720508",
     "status": "completed"
    },
    "tags": []
   },
   "source": [
    "### UDF for batch_gradient_descent\n",
    "#### 1. If batch_size=1, it becomes stochastic gradient descent"
   ]
  },
  {
   "cell_type": "code",
   "execution_count": 8,
   "id": "binding-watson",
   "metadata": {
    "execution": {
     "iopub.execute_input": "2021-07-26T05:28:48.807373Z",
     "iopub.status.busy": "2021-07-26T05:28:48.806633Z",
     "iopub.status.idle": "2021-07-26T05:28:48.817234Z",
     "shell.execute_reply": "2021-07-26T05:28:48.816690Z",
     "shell.execute_reply.started": "2021-07-26T04:15:51.552361Z"
    },
    "papermill": {
     "duration": 0.045224,
     "end_time": "2021-07-26T05:28:48.817395",
     "exception": false,
     "start_time": "2021-07-26T05:28:48.772171",
     "status": "completed"
    },
    "tags": []
   },
   "outputs": [],
   "source": [
    "def batch_gradient_descent(y_arr_overall,X_arr_overall,w_,b_,n_iters=10,lr=0.01,batch_size=1,reg_alpha=1,reg_type='L2'):\n",
    "    \n",
    "    print('Total training rows :',X_arr_overall.shape[0])\n",
    "    \n",
    "    #----------------------------------------------------------------------------------------\n",
    "    #Creating x-y batches according to the provided batch_size\n",
    "    \n",
    "    n_batches = X.shape[0]//batch_size\n",
    "    print('Total Batches to create in each epoch/iter :',n_batches)\n",
    "    \n",
    "    batches_x = np.array_split(X_arr_overall,n_batches)\n",
    "    print('Total Batches of X:',len(batches_x))\n",
    "\n",
    "    batches_y = np.array_split(y_arr,n_batches)\n",
    "    print('Total Batches of y:',len(batches_y))\n",
    "    \n",
    "    cost_history = [] #Cache for cost function o/p at necessary intervals for plotting later\n",
    "\n",
    "    #----------------------------------------------------------------------------------------\n",
    "    for i in range(n_iters): #Total iterations/epochs to train on\n",
    "        \n",
    "        if i%1000==0:\n",
    "            print('#-------------------- Epoch number :',i,'--------------------#')\n",
    "        \n",
    "        for j in range(len(batches_x)): #For each batch created for each epoch/iter\n",
    "            \n",
    "            #print('Batch No :',j)\n",
    "            \n",
    "            X_arr_ = batches_x[j]\n",
    "            y_arr_ = batches_y[j]\n",
    "\n",
    "            n_examples = X_arr_.shape[0]\n",
    "            #print(n_examples)\n",
    "            #----------------------------------------------------------------------------------------\n",
    "            #Forward propagation of the model - calculation of the model prediction\n",
    "            a_temp = fwd_prop(X_arr_,w_,b_)\n",
    "\n",
    "            cost = cost_fn(y_arr_,a_temp,n_examples,reg_alpha,reg_type,w_)\n",
    "            \n",
    "            if cost == np.inf:\n",
    "                print('---- Inf encountered due to exploding gradients ----')\n",
    "                return w_,b_,cost_history\n",
    "\n",
    "            #----------------------------------------------------------------------------------------\n",
    "            \n",
    "            if reg_type=='L1':\n",
    "                \n",
    "                reg_derivative = np.divide(w_, abs(w_), out=np.zeros_like(w_), where=abs(w_)!=0)\n",
    "                reg_derivative = np.where(reg_derivative==np.inf,0,reg_derivative)\n",
    "                \n",
    "            elif reg_type=='L2':\n",
    "                \n",
    "                reg_derivative = w_\n",
    "            \n",
    "            #Calculating the gradients for the current batch\n",
    "            dz = (1/n_examples) * ((a_temp-y_arr_))  #Derivative of Loss fn 'L'(binary crossentropy) wrt z = wx+b\n",
    "            \n",
    "            dw = np.dot(X_arr_.T,dz) + ((1/n_examples)*(reg_alpha * reg_derivative)) #Derivative of w (weights) wrt 'L' (Applying chain rule of differentiation)\n",
    "            db = (1/n_examples) * np.sum(dz) #Derivative of b (intercept) wrt 'L' (Applying chain rule of differentiation)\n",
    "            \n",
    "            #Updating the weight and the intercept\n",
    "            w_ = w_ - (lr * dw)\n",
    "            b_ = b_ - (lr * db)\n",
    "        \n",
    "        #Updating cost into the cache\n",
    "        cost_history = cost_history + [cost]\n",
    "        \n",
    "        #-------------------------------------------------\n",
    "        #Progress at regular intervals\n",
    "        if (i%5000==0):\n",
    "            print(i,': Cost ------->',cost)\n",
    "            \n",
    "            f_train_a = fwd_prop(X_arr_overall,w_,b_) #Results on whole training data after every 5k epochs\n",
    "            #print(f_train_a.shape)\n",
    "            \n",
    "            f_train_a = prob_to_class(arr=f_train_a,threshold=0.5)\n",
    "            print(f_train_a.shape)\n",
    "            #print(y_arr_overall.shape)\n",
    "            \n",
    "            print('ROC AUC of training set :',roc_auc_score(y_arr_overall,f_train_a))\n",
    "            print('Accuracy of training set :',accuracy_score(y_arr_overall,f_train_a))\n",
    "        \n",
    "    return w_,b_,cost_history"
   ]
  },
  {
   "cell_type": "markdown",
   "id": "historical-antenna",
   "metadata": {
    "papermill": {
     "duration": 0.025386,
     "end_time": "2021-07-26T05:28:48.868578",
     "exception": false,
     "start_time": "2021-07-26T05:28:48.843192",
     "status": "completed"
    },
    "tags": []
   },
   "source": [
    "### Training the logistic regression model"
   ]
  },
  {
   "cell_type": "code",
   "execution_count": 9,
   "id": "closing-season",
   "metadata": {
    "execution": {
     "iopub.execute_input": "2021-07-26T05:28:48.926912Z",
     "iopub.status.busy": "2021-07-26T05:28:48.926266Z",
     "iopub.status.idle": "2021-07-26T05:29:21.834407Z",
     "shell.execute_reply": "2021-07-26T05:29:21.833826Z",
     "shell.execute_reply.started": "2021-07-26T04:16:03.380760Z"
    },
    "papermill": {
     "duration": 32.939846,
     "end_time": "2021-07-26T05:29:21.834557",
     "exception": false,
     "start_time": "2021-07-26T05:28:48.894711",
     "status": "completed"
    },
    "tags": []
   },
   "outputs": [
    {
     "name": "stdout",
     "output_type": "stream",
     "text": [
      "Total training rows : 792\n",
      "Total Batches to create in each epoch/iter : 15\n",
      "Total Batches of X: 15\n",
      "Total Batches of y: 15\n",
      "#-------------------- Epoch number : 0 --------------------#\n",
      "0 : Cost -------> 5.399809281843098\n",
      "(792, 1)\n",
      "ROC AUC of training set : 0.5\n",
      "Accuracy of training set : 0.6136363636363636\n",
      "#-------------------- Epoch number : 1000 --------------------#\n",
      "#-------------------- Epoch number : 2000 --------------------#\n",
      "#-------------------- Epoch number : 3000 --------------------#\n",
      "#-------------------- Epoch number : 4000 --------------------#\n",
      "#-------------------- Epoch number : 5000 --------------------#\n",
      "5000 : Cost -------> 5.261802239445151\n",
      "(792, 1)\n",
      "ROC AUC of training set : 0.5081699346405228\n",
      "Accuracy of training set : 0.6199494949494949\n",
      "#-------------------- Epoch number : 6000 --------------------#\n",
      "#-------------------- Epoch number : 7000 --------------------#\n",
      "#-------------------- Epoch number : 8000 --------------------#\n",
      "#-------------------- Epoch number : 9000 --------------------#\n",
      "#-------------------- Epoch number : 10000 --------------------#\n",
      "10000 : Cost -------> 5.111717049842065\n",
      "(792, 1)\n",
      "ROC AUC of training set : 0.5104091019123699\n",
      "Accuracy of training set : 0.6212121212121212\n",
      "#-------------------- Epoch number : 11000 --------------------#\n",
      "#-------------------- Epoch number : 12000 --------------------#\n",
      "#-------------------- Epoch number : 13000 --------------------#\n",
      "#-------------------- Epoch number : 14000 --------------------#\n",
      "#-------------------- Epoch number : 15000 --------------------#\n",
      "15000 : Cost -------> 4.830088717125596\n",
      "(792, 1)\n",
      "ROC AUC of training set : 0.5110142822561123\n",
      "Accuracy of training set : 0.6212121212121212\n",
      "#-------------------- Epoch number : 16000 --------------------#\n",
      "#-------------------- Epoch number : 17000 --------------------#\n",
      "#-------------------- Epoch number : 18000 --------------------#\n",
      "#-------------------- Epoch number : 19000 --------------------#\n",
      "#-------------------- Epoch number : 20000 --------------------#\n",
      "20000 : Cost -------> 4.256441180249034\n",
      "(792, 1)\n",
      "ROC AUC of training set : 0.5159162430404262\n",
      "Accuracy of training set : 0.625\n"
     ]
    }
   ],
   "source": [
    "#Training the model on the training data with the below training specs\n",
    "#-----------------------------------------------------------------------------------------------------------------------\n",
    "epochs = 20001\n",
    "learning_rate=0.00006\n",
    "batch_size_=50\n",
    "\n",
    "#-----------------------------------------------------------------------------------------------------------------------\n",
    "w_final,b_final,cost_history = batch_gradient_descent(y_arr_overall=y_arr,       #Train y array \n",
    "                                                      X_arr_overall=X_arr,       #Train X array\n",
    "                                                      w_=w,                      #Passing zero initiated weight vector\n",
    "                                                      b_=b,                      #Passing zero initiaed intercept vector\n",
    "                                                      n_iters=epochs,            #Total epochs/iters for Gradient Descent\n",
    "                                                      lr=learning_rate,          #Learning rate for Gradient Descent\n",
    "                                                      batch_size=batch_size_,    #Batch size for Gradient Descent (1 for SGD)\n",
    "                                                      reg_alpha=0.05,            #Regularization factor\n",
    "                                                      reg_type='L1')             #Regularization Type\n",
    "                                                      "
   ]
  },
  {
   "cell_type": "markdown",
   "id": "piano-romance",
   "metadata": {
    "papermill": {
     "duration": 0.031872,
     "end_time": "2021-07-26T05:29:21.898525",
     "exception": false,
     "start_time": "2021-07-26T05:29:21.866653",
     "status": "completed"
    },
    "tags": []
   },
   "source": [
    "### Plotting cost over epochs (Should have a sharp decrease)"
   ]
  },
  {
   "cell_type": "code",
   "execution_count": 10,
   "id": "prompt-litigation",
   "metadata": {
    "execution": {
     "iopub.execute_input": "2021-07-26T05:29:21.985000Z",
     "iopub.status.busy": "2021-07-26T05:29:21.984257Z",
     "iopub.status.idle": "2021-07-26T05:29:23.307978Z",
     "shell.execute_reply": "2021-07-26T05:29:23.307406Z",
     "shell.execute_reply.started": "2021-07-26T04:18:09.232054Z"
    },
    "papermill": {
     "duration": 1.377651,
     "end_time": "2021-07-26T05:29:23.308133",
     "exception": false,
     "start_time": "2021-07-26T05:29:21.930482",
     "status": "completed"
    },
    "tags": []
   },
   "outputs": [
    {
     "data": {
      "text/plain": [
       "[Text(0.5, 0, 'No of epochs'),\n",
       " Text(0, 0.5, 'Cost'),\n",
       " Text(0.5, 1.0, 'Cost vs Epochs - Logistic Regression')]"
      ]
     },
     "execution_count": 10,
     "metadata": {},
     "output_type": "execute_result"
    },
    {
     "data": {
      "image/png": "[encoded data removed]",
      "text/plain": [
       "<Figure size 432x288 with 1 Axes>"
      ]
     },
     "metadata": {},
     "output_type": "display_data"
    }
   ],
   "source": [
    "#Cost plot over epochs (1 value at end of each epoch) - over the last batch\n",
    "sns.set_style('darkgrid')\n",
    "ax = sns.lineplot(x=list(range(0,epochs)),y=cost_history)\n",
    "ax.set(xlabel='No of epochs',ylabel='Cost',title='Cost vs Epochs - Logistic Regression')"
   ]
  },
  {
   "cell_type": "markdown",
   "id": "fifty-antigua",
   "metadata": {
    "papermill": {
     "duration": 0.033019,
     "end_time": "2021-07-26T05:29:23.375003",
     "exception": false,
     "start_time": "2021-07-26T05:29:23.341984",
     "status": "completed"
    },
    "tags": []
   },
   "source": [
    "### UDF for predicting"
   ]
  },
  {
   "cell_type": "code",
   "execution_count": 11,
   "id": "american-hungarian",
   "metadata": {
    "execution": {
     "iopub.execute_input": "2021-07-26T05:29:23.449546Z",
     "iopub.status.busy": "2021-07-26T05:29:23.448349Z",
     "iopub.status.idle": "2021-07-26T05:29:23.451583Z",
     "shell.execute_reply": "2021-07-26T05:29:23.450929Z",
     "shell.execute_reply.started": "2021-07-26T04:19:05.533491Z"
    },
    "papermill": {
     "duration": 0.043439,
     "end_time": "2021-07-26T05:29:23.451733",
     "exception": false,
     "start_time": "2021-07-26T05:29:23.408294",
     "status": "completed"
    },
    "tags": []
   },
   "outputs": [],
   "source": [
    "def predict(w_,b_,test_x,test_y):\n",
    "    \n",
    "    print(\"Testing on :\",test_x.shape[0],'rows')\n",
    "    \n",
    "    a_temp = fwd_prop(test_x,w_,b_) #Using the weights(w_) and bias(b_) vectors derived from training \n",
    "    a_temp = prob_to_class(arr=a_temp,threshold=0.5)\n",
    "    \n",
    "    print('Shape of prediction :',a_temp.shape)\n",
    "    \n",
    "    print('ROC AUC of test set :',roc_auc_score(test_y,a_temp))\n",
    "    print('Accuracy of test set :',accuracy_score(test_y,a_temp))\n",
    "    \n",
    "    print(a_temp[0:3])\n",
    "    \n",
    "    return a_temp\n"
   ]
  },
  {
   "cell_type": "markdown",
   "id": "color-passion",
   "metadata": {
    "papermill": {
     "duration": 0.033609,
     "end_time": "2021-07-26T05:29:23.519425",
     "exception": false,
     "start_time": "2021-07-26T05:29:23.485816",
     "status": "completed"
    },
    "tags": []
   },
   "source": [
    "# Predictions from the manual created linear regression model"
   ]
  },
  {
   "cell_type": "code",
   "execution_count": 12,
   "id": "electoral-married",
   "metadata": {
    "execution": {
     "iopub.execute_input": "2021-07-26T05:29:23.593341Z",
     "iopub.status.busy": "2021-07-26T05:29:23.591199Z",
     "iopub.status.idle": "2021-07-26T05:29:23.598896Z",
     "shell.execute_reply": "2021-07-26T05:29:23.599453Z",
     "shell.execute_reply.started": "2021-07-26T04:19:10.002172Z"
    },
    "papermill": {
     "duration": 0.046624,
     "end_time": "2021-07-26T05:29:23.599635",
     "exception": false,
     "start_time": "2021-07-26T05:29:23.553011",
     "status": "completed"
    },
    "tags": []
   },
   "outputs": [
    {
     "name": "stdout",
     "output_type": "stream",
     "text": [
      "Testing on : 100 rows\n",
      "Shape of prediction : (100, 1)\n",
      "ROC AUC of test set : 0.5\n",
      "Accuracy of test set : 0.64\n",
      "[[0]\n",
      " [0]\n",
      " [0]]\n"
     ]
    }
   ],
   "source": [
    "predictions_ = predict(w_final,b_final,X_test_arr,y_test_arr)"
   ]
  },
  {
   "cell_type": "markdown",
   "id": "wooden-alert",
   "metadata": {
    "papermill": {
     "duration": 0.033442,
     "end_time": "2021-07-26T05:29:23.666971",
     "exception": false,
     "start_time": "2021-07-26T05:29:23.633529",
     "status": "completed"
    },
    "tags": []
   },
   "source": [
    "# Linear Regression from sklearn as benchmark"
   ]
  },
  {
   "cell_type": "code",
   "execution_count": 13,
   "id": "adequate-tennis",
   "metadata": {
    "execution": {
     "iopub.execute_input": "2021-07-26T05:29:23.741387Z",
     "iopub.status.busy": "2021-07-26T05:29:23.740595Z",
     "iopub.status.idle": "2021-07-26T05:29:24.533574Z",
     "shell.execute_reply": "2021-07-26T05:29:24.534083Z",
     "shell.execute_reply.started": "2021-07-26T04:19:15.431798Z"
    },
    "papermill": {
     "duration": 0.833429,
     "end_time": "2021-07-26T05:29:24.534275",
     "exception": false,
     "start_time": "2021-07-26T05:29:23.700846",
     "status": "completed"
    },
    "tags": []
   },
   "outputs": [
    {
     "name": "stderr",
     "output_type": "stream",
     "text": [
      "/opt/conda/lib/python3.7/site-packages/sklearn/utils/validation.py:63: DataConversionWarning: A column-vector y was passed when a 1d array was expected. Please change the shape of y to (n_samples, ), for example using ravel().\n",
      "  return f(*args, **kwargs)\n"
     ]
    },
    {
     "name": "stdout",
     "output_type": "stream",
     "text": [
      "ROC AUC of test set : 0.7673611111111112\n",
      "Accuracy of test set : 0.78\n"
     ]
    }
   ],
   "source": [
    "from sklearn.linear_model import LogisticRegression\n",
    "\n",
    "#---------------------------------------------------------------------------------------\n",
    "log_reg = LogisticRegression(penalty='l2',random_state=100,solver='sag',max_iter=20001,tol=1e-4,C=20)\n",
    "log_reg.fit(X_arr,y_arr)\n",
    "\n",
    "prediction_sklearn = log_reg.predict(X_test_arr)\n",
    "\n",
    "#---------------------------------------------------------------------------------------\n",
    "print('ROC AUC of test set :',roc_auc_score(y_test_arr,prediction_sklearn))\n",
    "print('Accuracy of test set :',accuracy_score(y_test_arr,prediction_sklearn))"
   ]
  },
  {
   "cell_type": "markdown",
   "id": "attempted-orlando",
   "metadata": {
    "papermill": {
     "duration": 0.033841,
     "end_time": "2021-07-26T05:29:24.603395",
     "exception": false,
     "start_time": "2021-07-26T05:29:24.569554",
     "status": "completed"
    },
    "tags": []
   },
   "source": [
    "# SGD Classifier\n",
    "- (Logistic regression with normal stochastic gradient descent) - Directly comparable with manual implementation"
   ]
  },
  {
   "cell_type": "code",
   "execution_count": 14,
   "id": "identical-martial",
   "metadata": {
    "execution": {
     "iopub.execute_input": "2021-07-26T05:29:24.681743Z",
     "iopub.status.busy": "2021-07-26T05:29:24.678961Z",
     "iopub.status.idle": "2021-07-26T05:29:24.697455Z",
     "shell.execute_reply": "2021-07-26T05:29:24.696669Z",
     "shell.execute_reply.started": "2021-07-26T04:19:27.442741Z"
    },
    "papermill": {
     "duration": 0.059878,
     "end_time": "2021-07-26T05:29:24.697642",
     "exception": false,
     "start_time": "2021-07-26T05:29:24.637764",
     "status": "completed"
    },
    "tags": []
   },
   "outputs": [
    {
     "name": "stdout",
     "output_type": "stream",
     "text": [
      "ROC AUC of test set : 0.5\n",
      "Accuracy of test set : 0.64\n"
     ]
    },
    {
     "name": "stderr",
     "output_type": "stream",
     "text": [
      "/opt/conda/lib/python3.7/site-packages/sklearn/utils/validation.py:63: DataConversionWarning: A column-vector y was passed when a 1d array was expected. Please change the shape of y to (n_samples, ), for example using ravel().\n",
      "  return f(*args, **kwargs)\n"
     ]
    }
   ],
   "source": [
    "from sklearn.linear_model import SGDClassifier\n",
    "\n",
    "#---------------------------------------------------------------------------------------\n",
    "log_reg_sgd = SGDClassifier(loss='log',penalty='l2',alpha=0.05,random_state=100,epsilon=learning_rate,max_iter=epochs,tol=1e-10)\n",
    "log_reg_sgd.fit(X_arr,y_arr)\n",
    "\n",
    "prediction_sklearn_sgd = log_reg_sgd.predict(X_test_arr)\n",
    "\n",
    "#---------------------------------------------------------------------------------------\n",
    "print('ROC AUC of test set :',roc_auc_score(y_test_arr,prediction_sklearn_sgd))\n",
    "print('Accuracy of test set :',accuracy_score(y_test_arr,prediction_sklearn_sgd))"
   ]
  },
  {
   "cell_type": "markdown",
   "id": "sudden-convertible",
   "metadata": {
    "papermill": {
     "duration": 0.035107,
     "end_time": "2021-07-26T05:29:24.768326",
     "exception": false,
     "start_time": "2021-07-26T05:29:24.733219",
     "status": "completed"
    },
    "tags": []
   },
   "source": [
    "# Comparison to SGD Classifier (Because, sklearn logistic regression has other optimization techniques, its not directly comparable) "
   ]
  },
  {
   "cell_type": "markdown",
   "id": "received-seeking",
   "metadata": {
    "papermill": {
     "duration": 0.034991,
     "end_time": "2021-07-26T05:29:24.838288",
     "exception": false,
     "start_time": "2021-07-26T05:29:24.803297",
     "status": "completed"
    },
    "tags": []
   },
   "source": [
    "### Percent deviation in the weights (with respect to manual logistic regression weights)"
   ]
  },
  {
   "cell_type": "code",
   "execution_count": 15,
   "id": "controlling-server",
   "metadata": {
    "execution": {
     "iopub.execute_input": "2021-07-26T05:29:24.916199Z",
     "iopub.status.busy": "2021-07-26T05:29:24.915452Z",
     "iopub.status.idle": "2021-07-26T05:29:24.918327Z",
     "shell.execute_reply": "2021-07-26T05:29:24.918958Z",
     "shell.execute_reply.started": "2021-07-26T04:24:39.451875Z"
    },
    "papermill": {
     "duration": 0.045572,
     "end_time": "2021-07-26T05:29:24.919133",
     "exception": false,
     "start_time": "2021-07-26T05:29:24.873561",
     "status": "completed"
    },
    "tags": []
   },
   "outputs": [
    {
     "data": {
      "text/plain": [
       "array([[  26.67182702],\n",
       "       [ -96.27737112],\n",
       "       [ 129.21939279],\n",
       "       [   4.093618  ],\n",
       "       [ -10.28295667],\n",
       "       [  39.61664033],\n",
       "       [-228.49729974],\n",
       "       [  60.95272979],\n",
       "       [  15.94096093],\n",
       "       [  67.70423743],\n",
       "       [ 223.02321429]])"
      ]
     },
     "execution_count": 15,
     "metadata": {},
     "output_type": "execute_result"
    }
   ],
   "source": [
    "100 * (w_final-log_reg_sgd.coef_.ravel().reshape(11,1))/w_final"
   ]
  },
  {
   "cell_type": "markdown",
   "id": "minimal-lesbian",
   "metadata": {
    "papermill": {
     "duration": 0.035106,
     "end_time": "2021-07-26T05:29:24.989741",
     "exception": false,
     "start_time": "2021-07-26T05:29:24.954635",
     "status": "completed"
    },
    "tags": []
   },
   "source": [
    "## Insights : \n",
    "1. Though the weights are very different as we see above, the models are predicting similarly.\n",
    "2. This indicates that there are multiple solutions possible for the data in hand"
   ]
  },
  {
   "cell_type": "markdown",
   "id": "solid-scholarship",
   "metadata": {
    "papermill": {
     "duration": 0.035422,
     "end_time": "2021-07-26T05:29:25.061409",
     "exception": false,
     "start_time": "2021-07-26T05:29:25.025987",
     "status": "completed"
    },
    "tags": []
   },
   "source": [
    "# END"
   ]
  },
  {
   "cell_type": "code",
   "execution_count": null,
   "id": "unnecessary-vertical",
   "metadata": {
    "papermill": {
     "duration": 0.036186,
     "end_time": "2021-07-26T05:29:25.133339",
     "exception": false,
     "start_time": "2021-07-26T05:29:25.097153",
     "status": "completed"
    },
    "tags": []
   },
   "outputs": [],
   "source": []
  }
 ],
 "metadata": {
  "kernelspec": {
   "display_name": "Python 3",
   "language": "python",
   "name": "python3"
  },
  "language_info": {
   "codemirror_mode": {
    "name": "ipython",
    "version": 3
   },
   "file_extension": ".py",
   "mimetype": "text/x-python",
   "name": "python",
   "nbconvert_exporter": "python",
   "pygments_lexer": "ipython3",
   "version": "3.7.10"
  },
  "papermill": {
   "default_parameters": {},
   "duration": 47.538106,
   "end_time": "2021-07-26T05:29:25.979166",
   "environment_variables": {},
   "exception": null,
   "input_path": "__notebook__.ipynb",
   "output_path": "__notebook__.ipynb",
   "parameters": {},
   "start_time": "2021-07-26T05:28:38.441060",
   "version": "2.3.3"
  }
 },
 "nbformat": 4,
 "nbformat_minor": 5
}
