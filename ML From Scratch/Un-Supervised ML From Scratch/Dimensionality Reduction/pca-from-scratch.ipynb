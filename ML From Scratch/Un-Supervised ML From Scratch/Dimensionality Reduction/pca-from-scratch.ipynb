{
 "cells": [
  {
   "cell_type": "code",
   "execution_count": 1,
   "id": "81274c29",
   "metadata": {
    "_cell_guid": "b1076dfc-b9ad-4769-8c92-a6c4dae69d19",
    "_uuid": "8f2839f25d086af736a60e9eeb907d3b93b6e0e5",
    "execution": {
     "iopub.execute_input": "2021-07-26T07:24:56.248932Z",
     "iopub.status.busy": "2021-07-26T07:24:56.248357Z",
     "iopub.status.idle": "2021-07-26T07:24:56.251690Z",
     "shell.execute_reply": "2021-07-26T07:24:56.251026Z",
     "shell.execute_reply.started": "2021-07-26T07:15:15.780409Z"
    },
    "papermill": {
     "duration": 0.025243,
     "end_time": "2021-07-26T07:24:56.251836",
     "exception": false,
     "start_time": "2021-07-26T07:24:56.226593",
     "status": "completed"
    },
    "tags": []
   },
   "outputs": [],
   "source": [
    "# This Python 3 environment comes with many helpful analytics libraries installed\n",
    "# It is defined by the kaggle/python Docker image: https://github.com/kaggle/docker-python\n",
    "# For example, here's several helpful packages to load\n",
    "\n",
    "import numpy as np # linear algebra\n",
    "import pandas as pd # data processing, CSV file I/O (e.g. pd.read_csv)\n",
    "\n",
    "# Input data files are available in the read-only \"../input/\" directory\n",
    "# For example, running this (by clicking run or pressing Shift+Enter) will list all files under the input directory\n",
    "\n",
    "import os\n",
    "for dirname, _, filenames in os.walk('/kaggle/input'):\n",
    "    for filename in filenames:\n",
    "        print(os.path.join(dirname, filename))\n",
    "\n",
    "# You can write up to 20GB to the current directory (/kaggle/working/) that gets preserved as output when you create a version using \"Save & Run All\" \n",
    "# You can also write temporary files to /kaggle/temp/, but they won't be saved outside of the current session"
   ]
  },
  {
   "cell_type": "markdown",
   "id": "54947c3b",
   "metadata": {
    "papermill": {
     "duration": 0.011133,
     "end_time": "2021-07-26T07:24:56.275046",
     "exception": false,
     "start_time": "2021-07-26T07:24:56.263913",
     "status": "completed"
    },
    "tags": []
   },
   "source": [
    "# Importing data (Iris dataset from Sklearn) "
   ]
  },
  {
   "cell_type": "code",
   "execution_count": 2,
   "id": "b8b4ff5b",
   "metadata": {
    "execution": {
     "iopub.execute_input": "2021-07-26T07:24:56.301935Z",
     "iopub.status.busy": "2021-07-26T07:24:56.301257Z",
     "iopub.status.idle": "2021-07-26T07:24:57.246786Z",
     "shell.execute_reply": "2021-07-26T07:24:57.246209Z",
     "shell.execute_reply.started": "2021-07-26T07:18:11.245495Z"
    },
    "papermill": {
     "duration": 0.960609,
     "end_time": "2021-07-26T07:24:57.246923",
     "exception": false,
     "start_time": "2021-07-26T07:24:56.286314",
     "status": "completed"
    },
    "tags": []
   },
   "outputs": [
    {
     "name": "stdout",
     "output_type": "stream",
     "text": [
      "(150, 5)\n"
     ]
    },
    {
     "data": {
      "text/html": [
       "<div>\n",
       "<style scoped>\n",
       "    .dataframe tbody tr th:only-of-type {\n",
       "        vertical-align: middle;\n",
       "    }\n",
       "\n",
       "    .dataframe tbody tr th {\n",
       "        vertical-align: top;\n",
       "    }\n",
       "\n",
       "    .dataframe thead th {\n",
       "        text-align: right;\n",
       "    }\n",
       "</style>\n",
       "<table border=\"1\" class=\"dataframe\">\n",
       "  <thead>\n",
       "    <tr style=\"text-align: right;\">\n",
       "      <th></th>\n",
       "      <th>sepal length (cm)</th>\n",
       "      <th>sepal width (cm)</th>\n",
       "      <th>petal length (cm)</th>\n",
       "      <th>petal width (cm)</th>\n",
       "      <th>Target</th>\n",
       "    </tr>\n",
       "  </thead>\n",
       "  <tbody>\n",
       "    <tr>\n",
       "      <th>0</th>\n",
       "      <td>5.1</td>\n",
       "      <td>3.5</td>\n",
       "      <td>1.4</td>\n",
       "      <td>0.2</td>\n",
       "      <td>0</td>\n",
       "    </tr>\n",
       "    <tr>\n",
       "      <th>1</th>\n",
       "      <td>4.9</td>\n",
       "      <td>3.0</td>\n",
       "      <td>1.4</td>\n",
       "      <td>0.2</td>\n",
       "      <td>0</td>\n",
       "    </tr>\n",
       "    <tr>\n",
       "      <th>2</th>\n",
       "      <td>4.7</td>\n",
       "      <td>3.2</td>\n",
       "      <td>1.3</td>\n",
       "      <td>0.2</td>\n",
       "      <td>0</td>\n",
       "    </tr>\n",
       "    <tr>\n",
       "      <th>3</th>\n",
       "      <td>4.6</td>\n",
       "      <td>3.1</td>\n",
       "      <td>1.5</td>\n",
       "      <td>0.2</td>\n",
       "      <td>0</td>\n",
       "    </tr>\n",
       "    <tr>\n",
       "      <th>4</th>\n",
       "      <td>5.0</td>\n",
       "      <td>3.6</td>\n",
       "      <td>1.4</td>\n",
       "      <td>0.2</td>\n",
       "      <td>0</td>\n",
       "    </tr>\n",
       "  </tbody>\n",
       "</table>\n",
       "</div>"
      ],
      "text/plain": [
       "   sepal length (cm)  sepal width (cm)  petal length (cm)  petal width (cm)  \\\n",
       "0                5.1               3.5                1.4               0.2   \n",
       "1                4.9               3.0                1.4               0.2   \n",
       "2                4.7               3.2                1.3               0.2   \n",
       "3                4.6               3.1                1.5               0.2   \n",
       "4                5.0               3.6                1.4               0.2   \n",
       "\n",
       "   Target  \n",
       "0       0  \n",
       "1       0  \n",
       "2       0  \n",
       "3       0  \n",
       "4       0  "
      ]
     },
     "execution_count": 2,
     "metadata": {},
     "output_type": "execute_result"
    }
   ],
   "source": [
    "from sklearn import datasets\n",
    "\n",
    "#-------------------------------------------------------------------\n",
    "iris = datasets.load_iris()\n",
    "input_ads_pre = pd.DataFrame(iris.data, columns=iris.feature_names)\n",
    "input_ads_pre['Target'] = iris.get('target')\n",
    "\n",
    "#-------------------------------------------------------------------\n",
    "print(input_ads_pre.shape)\n",
    "input_ads_pre.head()"
   ]
  },
  {
   "cell_type": "markdown",
   "id": "61dfdbfe",
   "metadata": {
    "papermill": {
     "duration": 0.011446,
     "end_time": "2021-07-26T07:24:57.270985",
     "exception": false,
     "start_time": "2021-07-26T07:24:57.259539",
     "status": "completed"
    },
    "tags": []
   },
   "source": [
    "### Separating the target column out"
   ]
  },
  {
   "cell_type": "code",
   "execution_count": 3,
   "id": "05252351",
   "metadata": {
    "execution": {
     "iopub.execute_input": "2021-07-26T07:24:57.299185Z",
     "iopub.status.busy": "2021-07-26T07:24:57.298628Z",
     "iopub.status.idle": "2021-07-26T07:24:57.302410Z",
     "shell.execute_reply": "2021-07-26T07:24:57.301873Z",
     "shell.execute_reply.started": "2021-07-26T07:15:17.086312Z"
    },
    "papermill": {
     "duration": 0.019722,
     "end_time": "2021-07-26T07:24:57.302524",
     "exception": false,
     "start_time": "2021-07-26T07:24:57.282802",
     "status": "completed"
    },
    "tags": []
   },
   "outputs": [
    {
     "name": "stdout",
     "output_type": "stream",
     "text": [
      "(150, 4)\n",
      "(150,)\n"
     ]
    }
   ],
   "source": [
    "ads_arr = np.array(input_ads_pre)[:,:-1]\n",
    "ads_arr_y = np.array(input_ads_pre)[:,-1]\n",
    "\n",
    "#-------------------------------------------\n",
    "print(ads_arr.shape)\n",
    "print(ads_arr_y.shape)"
   ]
  },
  {
   "cell_type": "markdown",
   "id": "46492d98",
   "metadata": {
    "papermill": {
     "duration": 0.011737,
     "end_time": "2021-07-26T07:24:57.326262",
     "exception": false,
     "start_time": "2021-07-26T07:24:57.314525",
     "status": "completed"
    },
    "tags": []
   },
   "source": [
    "# Scaling the data with standard scaler "
   ]
  },
  {
   "cell_type": "code",
   "execution_count": 4,
   "id": "4a666305",
   "metadata": {
    "execution": {
     "iopub.execute_input": "2021-07-26T07:24:57.352404Z",
     "iopub.status.busy": "2021-07-26T07:24:57.351859Z",
     "iopub.status.idle": "2021-07-26T07:24:57.357509Z",
     "shell.execute_reply": "2021-07-26T07:24:57.357992Z",
     "shell.execute_reply.started": "2021-07-26T07:15:17.095795Z"
    },
    "papermill": {
     "duration": 0.019741,
     "end_time": "2021-07-26T07:24:57.358120",
     "exception": false,
     "start_time": "2021-07-26T07:24:57.338379",
     "status": "completed"
    },
    "tags": []
   },
   "outputs": [
    {
     "data": {
      "text/plain": [
       "array([-0.90068117,  1.01900435, -1.34022653, -1.3154443 ])"
      ]
     },
     "execution_count": 4,
     "metadata": {},
     "output_type": "execute_result"
    }
   ],
   "source": [
    "from sklearn.preprocessing import StandardScaler\n",
    "\n",
    "ads_arr_scaled = StandardScaler().fit_transform(ads_arr)\n",
    "ads_arr_scaled[0]"
   ]
  },
  {
   "cell_type": "markdown",
   "id": "19f5406d",
   "metadata": {
    "papermill": {
     "duration": 0.011996,
     "end_time": "2021-07-26T07:24:57.382270",
     "exception": false,
     "start_time": "2021-07-26T07:24:57.370274",
     "status": "completed"
    },
    "tags": []
   },
   "source": [
    "# Sklearn implementation of PCA (for benchmarking)"
   ]
  },
  {
   "cell_type": "code",
   "execution_count": 5,
   "id": "8d93bb1a",
   "metadata": {
    "execution": {
     "iopub.execute_input": "2021-07-26T07:24:57.409111Z",
     "iopub.status.busy": "2021-07-26T07:24:57.408607Z",
     "iopub.status.idle": "2021-07-26T07:24:57.709182Z",
     "shell.execute_reply": "2021-07-26T07:24:57.709651Z",
     "shell.execute_reply.started": "2021-07-26T07:19:48.085713Z"
    },
    "papermill": {
     "duration": 0.315412,
     "end_time": "2021-07-26T07:24:57.709809",
     "exception": false,
     "start_time": "2021-07-26T07:24:57.394397",
     "status": "completed"
    },
    "tags": []
   },
   "outputs": [
    {
     "data": {
      "text/plain": [
       "(150, 4)"
      ]
     },
     "execution_count": 5,
     "metadata": {},
     "output_type": "execute_result"
    }
   ],
   "source": [
    "from sklearn.decomposition import PCA\n",
    "\n",
    "#-------------------------------------------------------\n",
    "pca = PCA()\n",
    "principalComponents = pca.fit_transform(ads_arr_scaled)\n",
    "principalComponents.shape"
   ]
  },
  {
   "cell_type": "markdown",
   "id": "5c46f308",
   "metadata": {
    "papermill": {
     "duration": 0.013725,
     "end_time": "2021-07-26T07:24:57.736297",
     "exception": false,
     "start_time": "2021-07-26T07:24:57.722572",
     "status": "completed"
    },
    "tags": []
   },
   "source": [
    "# PCA from scratch"
   ]
  },
  {
   "cell_type": "code",
   "execution_count": 6,
   "id": "fac2690f",
   "metadata": {
    "execution": {
     "iopub.execute_input": "2021-07-26T07:24:57.763243Z",
     "iopub.status.busy": "2021-07-26T07:24:57.762717Z",
     "iopub.status.idle": "2021-07-26T07:24:57.787322Z",
     "shell.execute_reply": "2021-07-26T07:24:57.786758Z",
     "shell.execute_reply.started": "2021-07-26T07:15:17.564848Z"
    },
    "papermill": {
     "duration": 0.038783,
     "end_time": "2021-07-26T07:24:57.787438",
     "exception": false,
     "start_time": "2021-07-26T07:24:57.748655",
     "status": "completed"
    },
    "tags": []
   },
   "outputs": [
    {
     "name": "stdout",
     "output_type": "stream",
     "text": [
      "Shape of Covariance matrix (Should be no of features) : (4, 4)\n",
      "[0 1 2 3]\n"
     ]
    },
    {
     "data": {
      "text/plain": [
       "(150, 4)"
      ]
     },
     "execution_count": 6,
     "metadata": {},
     "output_type": "execute_result"
    }
   ],
   "source": [
    "from numpy.linalg import eig\n",
    "\n",
    "#Mean Centering\n",
    "ads_arr_centred = ads_arr_scaled - np.mean(ads_arr_scaled,axis=0)\n",
    "\n",
    "#Covariance calculation\n",
    "cov_matrix = np.cov(ads_arr_centred.T)\n",
    "print('Shape of Covariance matrix (Should be no of features) :',cov_matrix.shape)\n",
    "\n",
    "#Eigen Value Decomposition To find the loading vectors\n",
    "eigvalues, eigvectors = eig(cov_matrix)\n",
    " \n",
    "#Sorting by eigen values\n",
    "idx = np.argsort(eigvalues)[::-1]\n",
    "print(idx)\n",
    "eigvectors = eigvectors[:,idx]\n",
    "eigvalues = eigvalues[idx]\n",
    "\n",
    "#Calculating dot product with high dimensional data to calculate projections\n",
    "projections = np.dot(ads_arr_centred,eigvectors)\n",
    "projections.shape"
   ]
  },
  {
   "cell_type": "markdown",
   "id": "e7b87049",
   "metadata": {
    "papermill": {
     "duration": 0.012659,
     "end_time": "2021-07-26T07:24:57.813034",
     "exception": false,
     "start_time": "2021-07-26T07:24:57.800375",
     "status": "completed"
    },
    "tags": []
   },
   "source": [
    "# Comparison of manual implementation vs Sklearn implementation (Should be same)"
   ]
  },
  {
   "cell_type": "code",
   "execution_count": 7,
   "id": "9ff092bf",
   "metadata": {
    "execution": {
     "iopub.execute_input": "2021-07-26T07:24:57.840801Z",
     "iopub.status.busy": "2021-07-26T07:24:57.840293Z",
     "iopub.status.idle": "2021-07-26T07:24:57.848938Z",
     "shell.execute_reply": "2021-07-26T07:24:57.849390Z",
     "shell.execute_reply.started": "2021-07-26T07:21:02.759874Z"
    },
    "papermill": {
     "duration": 0.023726,
     "end_time": "2021-07-26T07:24:57.849519",
     "exception": false,
     "start_time": "2021-07-26T07:24:57.825793",
     "status": "completed"
    },
    "tags": []
   },
   "outputs": [
    {
     "name": "stdout",
     "output_type": "stream",
     "text": [
      "Sklearn vs Manual for Loading vector \n",
      " (Absolute values taken since the sign of eigen vectors have no relevance)\n",
      "[[ True  True  True  True]\n",
      " [ True  True  True  True]\n",
      " [ True  True  True  True]\n",
      " [ True  True  True  True]] \n",
      "\n",
      "Sklearn vs Manual for Principal Component Values (unique elements) \n",
      " (Absolute values taken since the sign of eigen vectors have no relevance)\n",
      "[ True] \n",
      "\n",
      "Sklearn vs Manual for Explained Variance\n",
      "[ True  True  True  True] \n",
      "\n",
      "Sklearn vs Manual for Explained Variance Ratio\n",
      "[ True  True  True  True] \n",
      "\n"
     ]
    }
   ],
   "source": [
    "div = (eigvalues/(len(ads_arr_centred)-1))\n",
    "explained_ratio = div/sum(div)\n",
    "\n",
    "#----------------------------------------------------------------------------------------------------------------------------\n",
    "print('Sklearn vs Manual for Loading vector \\n (Absolute values taken since the sign of eigen vectors have no relevance)')\n",
    "print(abs(pca.components_).round(10)==abs(eigvectors.T).round(10),'\\n')\n",
    "\n",
    "print('Sklearn vs Manual for Principal Component Values (unique elements) \\n (Absolute values taken since the sign of eigen vectors have no relevance)')\n",
    "print(np.unique(abs(principalComponents).round(10)==abs(projections).round(10)),'\\n')\n",
    "\n",
    "print('Sklearn vs Manual for Explained Variance')\n",
    "print(pca.explained_variance_.round(10)==eigvalues.round(10),'\\n')\n",
    "\n",
    "print('Sklearn vs Manual for Explained Variance Ratio')\n",
    "print(pca.explained_variance_ratio_.round(10)==explained_ratio.round(10),'\\n')"
   ]
  },
  {
   "cell_type": "markdown",
   "id": "f84651fc",
   "metadata": {
    "papermill": {
     "duration": 0.013943,
     "end_time": "2021-07-26T07:24:57.876483",
     "exception": false,
     "start_time": "2021-07-26T07:24:57.862540",
     "status": "completed"
    },
    "tags": []
   },
   "source": [
    "## Insight - Since everything is true, our manual PCA code is exactly same to the sklearn implementation"
   ]
  },
  {
   "cell_type": "markdown",
   "id": "efbc4857",
   "metadata": {
    "papermill": {
     "duration": 0.019777,
     "end_time": "2021-07-26T07:24:57.915520",
     "exception": false,
     "start_time": "2021-07-26T07:24:57.895743",
     "status": "completed"
    },
    "tags": []
   },
   "source": [
    "## Plotting manual PCA results"
   ]
  },
  {
   "cell_type": "code",
   "execution_count": 8,
   "id": "bc627889",
   "metadata": {
    "execution": {
     "iopub.execute_input": "2021-07-26T07:24:57.951470Z",
     "iopub.status.busy": "2021-07-26T07:24:57.950897Z",
     "iopub.status.idle": "2021-07-26T07:24:58.356669Z",
     "shell.execute_reply": "2021-07-26T07:24:58.357097Z",
     "shell.execute_reply.started": "2021-07-26T07:21:12.460492Z"
    },
    "papermill": {
     "duration": 0.424773,
     "end_time": "2021-07-26T07:24:58.357275",
     "exception": false,
     "start_time": "2021-07-26T07:24:57.932502",
     "status": "completed"
    },
    "tags": []
   },
   "outputs": [
    {
     "data": {
      "text/plain": [
       "<AxesSubplot:>"
      ]
     },
     "execution_count": 8,
     "metadata": {},
     "output_type": "execute_result"
    },
    {
     "data": {
      "image/png": "[encoded data removed]",
      "text/plain": [
       "<Figure size 432x288 with 1 Axes>"
      ]
     },
     "metadata": {
      "needs_background": "light"
     },
     "output_type": "display_data"
    }
   ],
   "source": [
    "import seaborn as sns\n",
    "\n",
    "sns.scatterplot(x=projections[:,0],y=projections[:,1],hue=ads_arr_y)"
   ]
  },
  {
   "cell_type": "markdown",
   "id": "4b7ad0df",
   "metadata": {
    "papermill": {
     "duration": 0.014713,
     "end_time": "2021-07-26T07:24:58.389571",
     "exception": false,
     "start_time": "2021-07-26T07:24:58.374858",
     "status": "completed"
    },
    "tags": []
   },
   "source": [
    "## Plotting sklearn PCA results"
   ]
  },
  {
   "cell_type": "code",
   "execution_count": 9,
   "id": "554d3980",
   "metadata": {
    "execution": {
     "iopub.execute_input": "2021-07-26T07:24:58.422702Z",
     "iopub.status.busy": "2021-07-26T07:24:58.421863Z",
     "iopub.status.idle": "2021-07-26T07:24:58.663363Z",
     "shell.execute_reply": "2021-07-26T07:24:58.664043Z",
     "shell.execute_reply.started": "2021-07-26T07:21:15.114994Z"
    },
    "papermill": {
     "duration": 0.259705,
     "end_time": "2021-07-26T07:24:58.664319",
     "exception": false,
     "start_time": "2021-07-26T07:24:58.404614",
     "status": "completed"
    },
    "tags": []
   },
   "outputs": [
    {
     "data": {
      "text/plain": [
       "<AxesSubplot:>"
      ]
     },
     "execution_count": 9,
     "metadata": {},
     "output_type": "execute_result"
    },
    {
     "data": {
      "image/png": "[encoded data removed]",
      "text/plain": [
       "<Figure size 432x288 with 1 Axes>"
      ]
     },
     "metadata": {
      "needs_background": "light"
     },
     "output_type": "display_data"
    }
   ],
   "source": [
    "import seaborn as sns\n",
    "\n",
    "sns.scatterplot(x=principalComponents[:,0],y=principalComponents[:,1],hue=ads_arr_y)"
   ]
  },
  {
   "cell_type": "markdown",
   "id": "fac4e92a",
   "metadata": {
    "papermill": {
     "duration": 0.015826,
     "end_time": "2021-07-26T07:24:58.701885",
     "exception": false,
     "start_time": "2021-07-26T07:24:58.686059",
     "status": "completed"
    },
    "tags": []
   },
   "source": [
    "## Explained variance ratio (sums up to 1)"
   ]
  },
  {
   "cell_type": "code",
   "execution_count": 10,
   "id": "be164e83",
   "metadata": {
    "execution": {
     "iopub.execute_input": "2021-07-26T07:24:58.739236Z",
     "iopub.status.busy": "2021-07-26T07:24:58.738703Z",
     "iopub.status.idle": "2021-07-26T07:24:58.743603Z",
     "shell.execute_reply": "2021-07-26T07:24:58.744101Z",
     "shell.execute_reply.started": "2021-07-26T07:22:14.859885Z"
    },
    "papermill": {
     "duration": 0.026663,
     "end_time": "2021-07-26T07:24:58.744258",
     "exception": false,
     "start_time": "2021-07-26T07:24:58.717595",
     "status": "completed"
    },
    "tags": []
   },
   "outputs": [
    {
     "data": {
      "text/plain": [
       "array([0.72962445, 0.22850762, 0.03668922, 0.00517871])"
      ]
     },
     "execution_count": 10,
     "metadata": {},
     "output_type": "execute_result"
    }
   ],
   "source": [
    "explained_ratio"
   ]
  },
  {
   "cell_type": "markdown",
   "id": "3ecb1cf7",
   "metadata": {
    "papermill": {
     "duration": 0.015988,
     "end_time": "2021-07-26T07:24:58.776454",
     "exception": false,
     "start_time": "2021-07-26T07:24:58.760466",
     "status": "completed"
    },
    "tags": []
   },
   "source": [
    "### Insight - From the explained ratio we can see that principal component-0 explains ~73% of the data, while PC-1 explains ~23%. When combined, they explain 96% of the whole data and hence with minimal loss of data, we get two axis to visualize our data properly in the 2-d space"
   ]
  },
  {
   "cell_type": "markdown",
   "id": "d50db235",
   "metadata": {
    "papermill": {
     "duration": 0.016156,
     "end_time": "2021-07-26T07:24:58.808722",
     "exception": false,
     "start_time": "2021-07-26T07:24:58.792566",
     "status": "completed"
    },
    "tags": []
   },
   "source": [
    "# END"
   ]
  },
  {
   "cell_type": "code",
   "execution_count": null,
   "id": "c4c92a68",
   "metadata": {
    "papermill": {
     "duration": 0.016122,
     "end_time": "2021-07-26T07:24:58.841611",
     "exception": false,
     "start_time": "2021-07-26T07:24:58.825489",
     "status": "completed"
    },
    "tags": []
   },
   "outputs": [],
   "source": []
  }
 ],
 "metadata": {
  "kernelspec": {
   "display_name": "Python 3",
   "language": "python",
   "name": "python3"
  },
  "language_info": {
   "codemirror_mode": {
    "name": "ipython",
    "version": 3
   },
   "file_extension": ".py",
   "mimetype": "text/x-python",
   "name": "python",
   "nbconvert_exporter": "python",
   "pygments_lexer": "ipython3",
   "version": "3.7.10"
  },
  "papermill": {
   "default_parameters": {},
   "duration": 10.711498,
   "end_time": "2021-07-26T07:25:00.405615",
   "environment_variables": {},
   "exception": null,
   "input_path": "__notebook__.ipynb",
   "output_path": "__notebook__.ipynb",
   "parameters": {},
   "start_time": "2021-07-26T07:24:49.694117",
   "version": "2.3.3"
  }
 },
 "nbformat": 4,
 "nbformat_minor": 5
}
