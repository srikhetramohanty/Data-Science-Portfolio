{
 "cells": [
  {
   "cell_type": "code",
   "execution_count": 1,
   "id": "e672cb7b",
   "metadata": {
    "_cell_guid": "b1076dfc-b9ad-4769-8c92-a6c4dae69d19",
    "_uuid": "8f2839f25d086af736a60e9eeb907d3b93b6e0e5",
    "execution": {
     "iopub.execute_input": "2021-07-28T04:28:31.937650Z",
     "iopub.status.busy": "2021-07-28T04:28:31.936556Z",
     "iopub.status.idle": "2021-07-28T04:28:31.960204Z",
     "shell.execute_reply": "2021-07-28T04:28:31.960767Z",
     "shell.execute_reply.started": "2021-07-28T03:33:38.702712Z"
    },
    "papermill": {
     "duration": 0.050175,
     "end_time": "2021-07-28T04:28:31.961160",
     "exception": false,
     "start_time": "2021-07-28T04:28:31.910985",
     "status": "completed"
    },
    "tags": []
   },
   "outputs": [
    {
     "name": "stdout",
     "output_type": "stream",
     "text": [
      "/kaggle/input/creditcardfraud/creditcard.csv\n"
     ]
    }
   ],
   "source": [
    "# This Python 3 environment comes with many helpful analytics libraries installed\n",
    "# It is defined by the kaggle/python Docker image: https://github.com/kaggle/docker-python\n",
    "# For example, here's several helpful packages to load\n",
    "\n",
    "import numpy as np # linear algebra\n",
    "import pandas as pd # data processing, CSV file I/O (e.g. pd.read_csv)\n",
    "\n",
    "# Input data files are available in the read-only \"../input/\" directory\n",
    "# For example, running this (by clicking run or pressing Shift+Enter) will list all files under the input directory\n",
    "\n",
    "import os\n",
    "for dirname, _, filenames in os.walk('/kaggle/input'):\n",
    "    for filename in filenames:\n",
    "        print(os.path.join(dirname, filename))\n",
    "\n",
    "# You can write up to 20GB to the current directory (/kaggle/working/) that gets preserved as output when you create a version using \"Save & Run All\" \n",
    "# You can also write temporary files to /kaggle/temp/, but they won't be saved outside of the current session"
   ]
  },
  {
   "cell_type": "markdown",
   "id": "71efc98f",
   "metadata": {
    "papermill": {
     "duration": 0.02126,
     "end_time": "2021-07-28T04:28:32.005728",
     "exception": false,
     "start_time": "2021-07-28T04:28:31.984468",
     "status": "completed"
    },
    "tags": []
   },
   "source": [
    "# Importing necessary libraries"
   ]
  },
  {
   "cell_type": "code",
   "execution_count": 2,
   "id": "8efe1bc9",
   "metadata": {
    "execution": {
     "iopub.execute_input": "2021-07-28T04:28:32.055873Z",
     "iopub.status.busy": "2021-07-28T04:28:32.055252Z",
     "iopub.status.idle": "2021-07-28T04:28:34.854434Z",
     "shell.execute_reply": "2021-07-28T04:28:34.854875Z",
     "shell.execute_reply.started": "2021-07-28T03:33:38.714490Z"
    },
    "papermill": {
     "duration": 2.827543,
     "end_time": "2021-07-28T04:28:34.855083",
     "exception": false,
     "start_time": "2021-07-28T04:28:32.027540",
     "status": "completed"
    },
    "tags": []
   },
   "outputs": [],
   "source": [
    "import numpy as np\n",
    "import pandas as pd\n",
    "import matplotlib.pyplot as plt\n",
    "import seaborn as sns\n",
    "import random\n",
    "import plotly.express as px\n",
    "pd.set_option(\"display.max_rows\", None, \"display.max_columns\", None)\n",
    "from sklearn.model_selection import train_test_split\n",
    "import imblearn #Major library - Please ensure this is installed\n",
    "from mpl_toolkits.mplot3d import Axes3D \n",
    "import matplotlib.pyplot as plt\n",
    "\n",
    "#-------------------------------------------------------------------\n",
    "import statsmodels #Install if not present readily\n",
    "import xgboost as xgb\n",
    "from sklearn.linear_model import Lasso,LogisticRegression\n",
    "from sklearn.feature_selection import SelectFromModel\n",
    "from sklearn.metrics import roc_auc_score\n",
    "from sklearn.metrics import accuracy_score\n",
    "from sklearn.metrics import classification_report\n",
    "from sklearn.metrics import confusion_matrix\n",
    "import warnings\n",
    "warnings.filterwarnings(\"ignore\")\n",
    "\n",
    "\n",
    "random.seed(100)"
   ]
  },
  {
   "cell_type": "markdown",
   "id": "f861b4d7",
   "metadata": {
    "papermill": {
     "duration": 0.021286,
     "end_time": "2021-07-28T04:28:34.897857",
     "exception": false,
     "start_time": "2021-07-28T04:28:34.876571",
     "status": "completed"
    },
    "tags": []
   },
   "source": [
    "## Loading Data \n",
    "In this notebook, we are using the credit card fraud detection dataset. Since a fraud occurs rarely, the target variable is severely imbalanced, making it a perfect case to solve through different sampling & feature selection methods as prescribed below. The link and detailed description to the original data can be found here : https://www.kaggle.com/mlg-ulb/creditcardfraud"
   ]
  },
  {
   "cell_type": "code",
   "execution_count": 3,
   "id": "d84cfe8d",
   "metadata": {
    "execution": {
     "iopub.execute_input": "2021-07-28T04:28:34.942835Z",
     "iopub.status.busy": "2021-07-28T04:28:34.942227Z",
     "iopub.status.idle": "2021-07-28T04:28:38.856974Z",
     "shell.execute_reply": "2021-07-28T04:28:38.857864Z",
     "shell.execute_reply.started": "2021-07-28T03:33:38.725026Z"
    },
    "papermill": {
     "duration": 3.93917,
     "end_time": "2021-07-28T04:28:38.858125",
     "exception": false,
     "start_time": "2021-07-28T04:28:34.918955",
     "status": "completed"
    },
    "tags": []
   },
   "outputs": [
    {
     "name": "stdout",
     "output_type": "stream",
     "text": [
      "Total Shape : (284807, 31)\n"
     ]
    },
    {
     "data": {
      "text/html": [
       "<div>\n",
       "<style scoped>\n",
       "    .dataframe tbody tr th:only-of-type {\n",
       "        vertical-align: middle;\n",
       "    }\n",
       "\n",
       "    .dataframe tbody tr th {\n",
       "        vertical-align: top;\n",
       "    }\n",
       "\n",
       "    .dataframe thead th {\n",
       "        text-align: right;\n",
       "    }\n",
       "</style>\n",
       "<table border=\"1\" class=\"dataframe\">\n",
       "  <thead>\n",
       "    <tr style=\"text-align: right;\">\n",
       "      <th></th>\n",
       "      <th>Time</th>\n",
       "      <th>V1</th>\n",
       "      <th>V2</th>\n",
       "      <th>V3</th>\n",
       "      <th>V4</th>\n",
       "      <th>V5</th>\n",
       "      <th>V6</th>\n",
       "      <th>V7</th>\n",
       "      <th>V8</th>\n",
       "      <th>V9</th>\n",
       "      <th>V10</th>\n",
       "      <th>V11</th>\n",
       "      <th>V12</th>\n",
       "      <th>V13</th>\n",
       "      <th>V14</th>\n",
       "      <th>V15</th>\n",
       "      <th>V16</th>\n",
       "      <th>V17</th>\n",
       "      <th>V18</th>\n",
       "      <th>V19</th>\n",
       "      <th>V20</th>\n",
       "      <th>V21</th>\n",
       "      <th>V22</th>\n",
       "      <th>V23</th>\n",
       "      <th>V24</th>\n",
       "      <th>V25</th>\n",
       "      <th>V26</th>\n",
       "      <th>V27</th>\n",
       "      <th>V28</th>\n",
       "      <th>Amount</th>\n",
       "      <th>Class</th>\n",
       "    </tr>\n",
       "  </thead>\n",
       "  <tbody>\n",
       "    <tr>\n",
       "      <th>0</th>\n",
       "      <td>0.0</td>\n",
       "      <td>-1.359807</td>\n",
       "      <td>-0.072781</td>\n",
       "      <td>2.536347</td>\n",
       "      <td>1.378155</td>\n",
       "      <td>-0.338321</td>\n",
       "      <td>0.462388</td>\n",
       "      <td>0.239599</td>\n",
       "      <td>0.098698</td>\n",
       "      <td>0.363787</td>\n",
       "      <td>0.090794</td>\n",
       "      <td>-0.551600</td>\n",
       "      <td>-0.617801</td>\n",
       "      <td>-0.991390</td>\n",
       "      <td>-0.311169</td>\n",
       "      <td>1.468177</td>\n",
       "      <td>-0.470401</td>\n",
       "      <td>0.207971</td>\n",
       "      <td>0.025791</td>\n",
       "      <td>0.403993</td>\n",
       "      <td>0.251412</td>\n",
       "      <td>-0.018307</td>\n",
       "      <td>0.277838</td>\n",
       "      <td>-0.110474</td>\n",
       "      <td>0.066928</td>\n",
       "      <td>0.128539</td>\n",
       "      <td>-0.189115</td>\n",
       "      <td>0.133558</td>\n",
       "      <td>-0.021053</td>\n",
       "      <td>149.62</td>\n",
       "      <td>0</td>\n",
       "    </tr>\n",
       "    <tr>\n",
       "      <th>1</th>\n",
       "      <td>0.0</td>\n",
       "      <td>1.191857</td>\n",
       "      <td>0.266151</td>\n",
       "      <td>0.166480</td>\n",
       "      <td>0.448154</td>\n",
       "      <td>0.060018</td>\n",
       "      <td>-0.082361</td>\n",
       "      <td>-0.078803</td>\n",
       "      <td>0.085102</td>\n",
       "      <td>-0.255425</td>\n",
       "      <td>-0.166974</td>\n",
       "      <td>1.612727</td>\n",
       "      <td>1.065235</td>\n",
       "      <td>0.489095</td>\n",
       "      <td>-0.143772</td>\n",
       "      <td>0.635558</td>\n",
       "      <td>0.463917</td>\n",
       "      <td>-0.114805</td>\n",
       "      <td>-0.183361</td>\n",
       "      <td>-0.145783</td>\n",
       "      <td>-0.069083</td>\n",
       "      <td>-0.225775</td>\n",
       "      <td>-0.638672</td>\n",
       "      <td>0.101288</td>\n",
       "      <td>-0.339846</td>\n",
       "      <td>0.167170</td>\n",
       "      <td>0.125895</td>\n",
       "      <td>-0.008983</td>\n",
       "      <td>0.014724</td>\n",
       "      <td>2.69</td>\n",
       "      <td>0</td>\n",
       "    </tr>\n",
       "    <tr>\n",
       "      <th>2</th>\n",
       "      <td>1.0</td>\n",
       "      <td>-1.358354</td>\n",
       "      <td>-1.340163</td>\n",
       "      <td>1.773209</td>\n",
       "      <td>0.379780</td>\n",
       "      <td>-0.503198</td>\n",
       "      <td>1.800499</td>\n",
       "      <td>0.791461</td>\n",
       "      <td>0.247676</td>\n",
       "      <td>-1.514654</td>\n",
       "      <td>0.207643</td>\n",
       "      <td>0.624501</td>\n",
       "      <td>0.066084</td>\n",
       "      <td>0.717293</td>\n",
       "      <td>-0.165946</td>\n",
       "      <td>2.345865</td>\n",
       "      <td>-2.890083</td>\n",
       "      <td>1.109969</td>\n",
       "      <td>-0.121359</td>\n",
       "      <td>-2.261857</td>\n",
       "      <td>0.524980</td>\n",
       "      <td>0.247998</td>\n",
       "      <td>0.771679</td>\n",
       "      <td>0.909412</td>\n",
       "      <td>-0.689281</td>\n",
       "      <td>-0.327642</td>\n",
       "      <td>-0.139097</td>\n",
       "      <td>-0.055353</td>\n",
       "      <td>-0.059752</td>\n",
       "      <td>378.66</td>\n",
       "      <td>0</td>\n",
       "    </tr>\n",
       "    <tr>\n",
       "      <th>3</th>\n",
       "      <td>1.0</td>\n",
       "      <td>-0.966272</td>\n",
       "      <td>-0.185226</td>\n",
       "      <td>1.792993</td>\n",
       "      <td>-0.863291</td>\n",
       "      <td>-0.010309</td>\n",
       "      <td>1.247203</td>\n",
       "      <td>0.237609</td>\n",
       "      <td>0.377436</td>\n",
       "      <td>-1.387024</td>\n",
       "      <td>-0.054952</td>\n",
       "      <td>-0.226487</td>\n",
       "      <td>0.178228</td>\n",
       "      <td>0.507757</td>\n",
       "      <td>-0.287924</td>\n",
       "      <td>-0.631418</td>\n",
       "      <td>-1.059647</td>\n",
       "      <td>-0.684093</td>\n",
       "      <td>1.965775</td>\n",
       "      <td>-1.232622</td>\n",
       "      <td>-0.208038</td>\n",
       "      <td>-0.108300</td>\n",
       "      <td>0.005274</td>\n",
       "      <td>-0.190321</td>\n",
       "      <td>-1.175575</td>\n",
       "      <td>0.647376</td>\n",
       "      <td>-0.221929</td>\n",
       "      <td>0.062723</td>\n",
       "      <td>0.061458</td>\n",
       "      <td>123.50</td>\n",
       "      <td>0</td>\n",
       "    </tr>\n",
       "    <tr>\n",
       "      <th>4</th>\n",
       "      <td>2.0</td>\n",
       "      <td>-1.158233</td>\n",
       "      <td>0.877737</td>\n",
       "      <td>1.548718</td>\n",
       "      <td>0.403034</td>\n",
       "      <td>-0.407193</td>\n",
       "      <td>0.095921</td>\n",
       "      <td>0.592941</td>\n",
       "      <td>-0.270533</td>\n",
       "      <td>0.817739</td>\n",
       "      <td>0.753074</td>\n",
       "      <td>-0.822843</td>\n",
       "      <td>0.538196</td>\n",
       "      <td>1.345852</td>\n",
       "      <td>-1.119670</td>\n",
       "      <td>0.175121</td>\n",
       "      <td>-0.451449</td>\n",
       "      <td>-0.237033</td>\n",
       "      <td>-0.038195</td>\n",
       "      <td>0.803487</td>\n",
       "      <td>0.408542</td>\n",
       "      <td>-0.009431</td>\n",
       "      <td>0.798278</td>\n",
       "      <td>-0.137458</td>\n",
       "      <td>0.141267</td>\n",
       "      <td>-0.206010</td>\n",
       "      <td>0.502292</td>\n",
       "      <td>0.219422</td>\n",
       "      <td>0.215153</td>\n",
       "      <td>69.99</td>\n",
       "      <td>0</td>\n",
       "    </tr>\n",
       "  </tbody>\n",
       "</table>\n",
       "</div>"
      ],
      "text/plain": [
       "   Time        V1        V2        V3        V4        V5        V6        V7  \\\n",
       "0   0.0 -1.359807 -0.072781  2.536347  1.378155 -0.338321  0.462388  0.239599   \n",
       "1   0.0  1.191857  0.266151  0.166480  0.448154  0.060018 -0.082361 -0.078803   \n",
       "2   1.0 -1.358354 -1.340163  1.773209  0.379780 -0.503198  1.800499  0.791461   \n",
       "3   1.0 -0.966272 -0.185226  1.792993 -0.863291 -0.010309  1.247203  0.237609   \n",
       "4   2.0 -1.158233  0.877737  1.548718  0.403034 -0.407193  0.095921  0.592941   \n",
       "\n",
       "         V8        V9       V10       V11       V12       V13       V14  \\\n",
       "0  0.098698  0.363787  0.090794 -0.551600 -0.617801 -0.991390 -0.311169   \n",
       "1  0.085102 -0.255425 -0.166974  1.612727  1.065235  0.489095 -0.143772   \n",
       "2  0.247676 -1.514654  0.207643  0.624501  0.066084  0.717293 -0.165946   \n",
       "3  0.377436 -1.387024 -0.054952 -0.226487  0.178228  0.507757 -0.287924   \n",
       "4 -0.270533  0.817739  0.753074 -0.822843  0.538196  1.345852 -1.119670   \n",
       "\n",
       "        V15       V16       V17       V18       V19       V20       V21  \\\n",
       "0  1.468177 -0.470401  0.207971  0.025791  0.403993  0.251412 -0.018307   \n",
       "1  0.635558  0.463917 -0.114805 -0.183361 -0.145783 -0.069083 -0.225775   \n",
       "2  2.345865 -2.890083  1.109969 -0.121359 -2.261857  0.524980  0.247998   \n",
       "3 -0.631418 -1.059647 -0.684093  1.965775 -1.232622 -0.208038 -0.108300   \n",
       "4  0.175121 -0.451449 -0.237033 -0.038195  0.803487  0.408542 -0.009431   \n",
       "\n",
       "        V22       V23       V24       V25       V26       V27       V28  \\\n",
       "0  0.277838 -0.110474  0.066928  0.128539 -0.189115  0.133558 -0.021053   \n",
       "1 -0.638672  0.101288 -0.339846  0.167170  0.125895 -0.008983  0.014724   \n",
       "2  0.771679  0.909412 -0.689281 -0.327642 -0.139097 -0.055353 -0.059752   \n",
       "3  0.005274 -0.190321 -1.175575  0.647376 -0.221929  0.062723  0.061458   \n",
       "4  0.798278 -0.137458  0.141267 -0.206010  0.502292  0.219422  0.215153   \n",
       "\n",
       "   Amount  Class  \n",
       "0  149.62      0  \n",
       "1    2.69      0  \n",
       "2  378.66      0  \n",
       "3  123.50      0  \n",
       "4   69.99      0  "
      ]
     },
     "execution_count": 3,
     "metadata": {},
     "output_type": "execute_result"
    }
   ],
   "source": [
    "dataset = pd.read_csv(r\"../input/creditcardfraud/creditcard.csv\")\n",
    "\n",
    "#------------------------------------------------------------------------------------------------\n",
    "#Summary\n",
    "print('Total Shape :',dataset.shape)\n",
    "dataset.head()"
   ]
  },
  {
   "cell_type": "markdown",
   "id": "715380f8",
   "metadata": {
    "papermill": {
     "duration": 0.022205,
     "end_time": "2021-07-28T04:28:38.903725",
     "exception": false,
     "start_time": "2021-07-28T04:28:38.881520",
     "status": "completed"
    },
    "tags": []
   },
   "source": [
    "## About the dataset:\n",
    "1. The dataset consists of 29 principal components already extracted in the source dataset. The column names have been anonymized for business confidentiality purpose \n",
    "2. The time column is for he purpose level and the Class column is the target variable we aim to predict \n",
    "3. Since the features are the principal components themselves, we do not need to apply any scaling methods on it"
   ]
  },
  {
   "cell_type": "markdown",
   "id": "c6d4a5e6",
   "metadata": {
    "papermill": {
     "duration": 0.021771,
     "end_time": "2021-07-28T04:28:38.947316",
     "exception": false,
     "start_time": "2021-07-28T04:28:38.925545",
     "status": "completed"
    },
    "tags": []
   },
   "source": [
    "### Null Check  "
   ]
  },
  {
   "cell_type": "code",
   "execution_count": 4,
   "id": "ffb684c2",
   "metadata": {
    "execution": {
     "iopub.execute_input": "2021-07-28T04:28:38.995680Z",
     "iopub.status.busy": "2021-07-28T04:28:38.995107Z",
     "iopub.status.idle": "2021-07-28T04:28:39.028468Z",
     "shell.execute_reply": "2021-07-28T04:28:39.028938Z",
     "shell.execute_reply.started": "2021-07-28T03:33:41.792798Z"
    },
    "papermill": {
     "duration": 0.059775,
     "end_time": "2021-07-28T04:28:39.029131",
     "exception": false,
     "start_time": "2021-07-28T04:28:38.969356",
     "status": "completed"
    },
    "tags": []
   },
   "outputs": [
    {
     "data": {
      "text/html": [
       "<div>\n",
       "<style scoped>\n",
       "    .dataframe tbody tr th:only-of-type {\n",
       "        vertical-align: middle;\n",
       "    }\n",
       "\n",
       "    .dataframe tbody tr th {\n",
       "        vertical-align: top;\n",
       "    }\n",
       "\n",
       "    .dataframe thead th {\n",
       "        text-align: right;\n",
       "    }\n",
       "</style>\n",
       "<table border=\"1\" class=\"dataframe\">\n",
       "  <thead>\n",
       "    <tr style=\"text-align: right;\">\n",
       "      <th></th>\n",
       "      <th>Time</th>\n",
       "      <th>V1</th>\n",
       "      <th>V2</th>\n",
       "      <th>V3</th>\n",
       "      <th>V4</th>\n",
       "      <th>V5</th>\n",
       "      <th>V6</th>\n",
       "      <th>V7</th>\n",
       "      <th>V8</th>\n",
       "      <th>V9</th>\n",
       "      <th>V10</th>\n",
       "      <th>V11</th>\n",
       "      <th>V12</th>\n",
       "      <th>V13</th>\n",
       "      <th>V14</th>\n",
       "      <th>V15</th>\n",
       "      <th>V16</th>\n",
       "      <th>V17</th>\n",
       "      <th>V18</th>\n",
       "      <th>V19</th>\n",
       "      <th>V20</th>\n",
       "      <th>V21</th>\n",
       "      <th>V22</th>\n",
       "      <th>V23</th>\n",
       "      <th>V24</th>\n",
       "      <th>V25</th>\n",
       "      <th>V26</th>\n",
       "      <th>V27</th>\n",
       "      <th>V28</th>\n",
       "      <th>Amount</th>\n",
       "      <th>Class</th>\n",
       "    </tr>\n",
       "  </thead>\n",
       "  <tbody>\n",
       "    <tr>\n",
       "      <th>0</th>\n",
       "      <td>0</td>\n",
       "      <td>0</td>\n",
       "      <td>0</td>\n",
       "      <td>0</td>\n",
       "      <td>0</td>\n",
       "      <td>0</td>\n",
       "      <td>0</td>\n",
       "      <td>0</td>\n",
       "      <td>0</td>\n",
       "      <td>0</td>\n",
       "      <td>0</td>\n",
       "      <td>0</td>\n",
       "      <td>0</td>\n",
       "      <td>0</td>\n",
       "      <td>0</td>\n",
       "      <td>0</td>\n",
       "      <td>0</td>\n",
       "      <td>0</td>\n",
       "      <td>0</td>\n",
       "      <td>0</td>\n",
       "      <td>0</td>\n",
       "      <td>0</td>\n",
       "      <td>0</td>\n",
       "      <td>0</td>\n",
       "      <td>0</td>\n",
       "      <td>0</td>\n",
       "      <td>0</td>\n",
       "      <td>0</td>\n",
       "      <td>0</td>\n",
       "      <td>0</td>\n",
       "      <td>0</td>\n",
       "    </tr>\n",
       "  </tbody>\n",
       "</table>\n",
       "</div>"
      ],
      "text/plain": [
       "   Time  V1  V2  V3  V4  V5  V6  V7  V8  V9  V10  V11  V12  V13  V14  V15  \\\n",
       "0     0   0   0   0   0   0   0   0   0   0    0    0    0    0    0    0   \n",
       "\n",
       "   V16  V17  V18  V19  V20  V21  V22  V23  V24  V25  V26  V27  V28  Amount  \\\n",
       "0    0    0    0    0    0    0    0    0    0    0    0    0    0       0   \n",
       "\n",
       "   Class  \n",
       "0      0  "
      ]
     },
     "execution_count": 4,
     "metadata": {},
     "output_type": "execute_result"
    }
   ],
   "source": [
    "pd.DataFrame(dataset.isnull().sum()).T "
   ]
  },
  {
   "cell_type": "markdown",
   "id": "6b4aa010",
   "metadata": {
    "papermill": {
     "duration": 0.023065,
     "end_time": "2021-07-28T04:28:39.076211",
     "exception": false,
     "start_time": "2021-07-28T04:28:39.053146",
     "status": "completed"
    },
    "tags": []
   },
   "source": [
    "### Minority Class contribution in the dataset "
   ]
  },
  {
   "cell_type": "code",
   "execution_count": 5,
   "id": "85f75190",
   "metadata": {
    "execution": {
     "iopub.execute_input": "2021-07-28T04:28:39.129222Z",
     "iopub.status.busy": "2021-07-28T04:28:39.128572Z",
     "iopub.status.idle": "2021-07-28T04:28:39.152657Z",
     "shell.execute_reply": "2021-07-28T04:28:39.153101Z",
     "shell.execute_reply.started": "2021-07-28T03:33:41.832363Z"
    },
    "papermill": {
     "duration": 0.054516,
     "end_time": "2021-07-28T04:28:39.153264",
     "exception": false,
     "start_time": "2021-07-28T04:28:39.098748",
     "status": "completed"
    },
    "tags": []
   },
   "outputs": [
    {
     "name": "stdout",
     "output_type": "stream",
     "text": [
      "Total fraud(Class = 1) and not-fraud(Class = 0) :\n",
      " 0    284315\n",
      "1       492\n",
      "Name: Class, dtype: int64\n",
      "Percentage of minority samples over total Data : 0.1727485630620034 %\n"
     ]
    }
   ],
   "source": [
    "print('Total fraud(Class = 1) and not-fraud(Class = 0) :\\n',dataset['Class'].value_counts())\n",
    "print('Percentage of minority samples over total Data :',100 * dataset[dataset['Class']==1].shape[0]/dataset.shape[0],'%')"
   ]
  },
  {
   "cell_type": "markdown",
   "id": "3cbe04df",
   "metadata": {
    "papermill": {
     "duration": 0.022189,
     "end_time": "2021-07-28T04:28:39.197775",
     "exception": false,
     "start_time": "2021-07-28T04:28:39.175586",
     "status": "completed"
    },
    "tags": []
   },
   "source": [
    "## Insight:\n",
    "1. The %contribution of Class 1 i.e fraud is abysmally low (~0.17%), hence the model will not be able to learn properly on the patterns of a fraud and hence the prediction quality will be poor. \n",
    "2. To remediate the above case, we have an array of sampling techniques at our disposal which lead us to overcome the problem of imbalance classification"
   ]
  },
  {
   "cell_type": "markdown",
   "id": "5df6314c",
   "metadata": {
    "papermill": {
     "duration": 0.021947,
     "end_time": "2021-07-28T04:28:39.241999",
     "exception": false,
     "start_time": "2021-07-28T04:28:39.220052",
     "status": "completed"
    },
    "tags": []
   },
   "source": [
    "# Note (Important) : \n",
    "1. For this dataset, since we have already established that sampled data works better for a classification model, we will proceed with considering sampled data for the next step of feature selection (Works good for sampled/un-sampled) \n",
    "2. The features in this data are the principal components, not the raw features themselves. Its not general practice to run feature selection algorithms on Principal Components, but since we have 29 principal components (also, we dont have the information how much variance is explained for each of these principal components, hence we are assuming the eigen values/explained variances are distributed among many PC's, and hence we'd still want to eliminate the negligible impact PC features "
   ]
  },
  {
   "cell_type": "markdown",
   "id": "6e8d06f1",
   "metadata": {
    "papermill": {
     "duration": 0.022173,
     "end_time": "2021-07-28T04:28:39.286346",
     "exception": false,
     "start_time": "2021-07-28T04:28:39.264173",
     "status": "completed"
    },
    "tags": []
   },
   "source": [
    "#### UDF for 3-D ploting of the sampled sets "
   ]
  },
  {
   "cell_type": "code",
   "execution_count": 6,
   "id": "079c40f7",
   "metadata": {
    "execution": {
     "iopub.execute_input": "2021-07-28T04:28:39.337525Z",
     "iopub.status.busy": "2021-07-28T04:28:39.336903Z",
     "iopub.status.idle": "2021-07-28T04:28:39.340271Z",
     "shell.execute_reply": "2021-07-28T04:28:39.339812Z",
     "shell.execute_reply.started": "2021-07-28T03:33:41.866965Z"
    },
    "papermill": {
     "duration": 0.031664,
     "end_time": "2021-07-28T04:28:39.340410",
     "exception": false,
     "start_time": "2021-07-28T04:28:39.308746",
     "status": "completed"
    },
    "tags": []
   },
   "outputs": [],
   "source": [
    "def plot_3d(df,col1,col2,col3,hue_elem,name):\n",
    "    \n",
    "    fig = plt.figure(figsize=(6,6))\n",
    "    ax = fig.add_subplot(111, projection='3d')\n",
    "\n",
    "    ax.scatter(df[col1], df[col2], df[col3], c=df[hue_elem], marker='o')\n",
    "\n",
    "    title = 'Scatter plot for :' + name\n",
    "    ax.set_title(title)\n",
    "    ax.set_xlabel(col1+' Label')\n",
    "    ax.set_ylabel(col2+' Label')\n",
    "    ax.set_zlabel(col3+' Label')\n",
    "    \n",
    "    plt.show()\n",
    "    "
   ]
  },
  {
   "cell_type": "markdown",
   "id": "278aaa54",
   "metadata": {
    "papermill": {
     "duration": 0.022306,
     "end_time": "2021-07-28T04:28:39.385755",
     "exception": false,
     "start_time": "2021-07-28T04:28:39.363449",
     "status": "completed"
    },
    "tags": []
   },
   "source": [
    "### Splitting the data"
   ]
  },
  {
   "cell_type": "code",
   "execution_count": 7,
   "id": "8dc6117f",
   "metadata": {
    "execution": {
     "iopub.execute_input": "2021-07-28T04:28:39.470705Z",
     "iopub.status.busy": "2021-07-28T04:28:39.470071Z",
     "iopub.status.idle": "2021-07-28T04:28:39.572967Z",
     "shell.execute_reply": "2021-07-28T04:28:39.573435Z",
     "shell.execute_reply.started": "2021-07-28T03:33:41.877105Z"
    },
    "papermill": {
     "duration": 0.16536,
     "end_time": "2021-07-28T04:28:39.573672",
     "exception": false,
     "start_time": "2021-07-28T04:28:39.408312",
     "status": "completed"
    },
    "tags": []
   },
   "outputs": [
    {
     "name": "stdout",
     "output_type": "stream",
     "text": [
      "Total Shape of Train X: (190820, 29)\n",
      "Total Shape of Train Y: (190820, 1)\n"
     ]
    }
   ],
   "source": [
    "# Test Train Split for modelling purpose\n",
    "X = dataset.loc[:,[cols for cols in dataset.columns if ('Class' not in cols) & ('Time' not in cols)]] #Removing time since its a level column\n",
    "y = dataset.loc[:,[cols for cols in dataset.columns if 'Class' in cols]]\n",
    "\n",
    "X_train, X_test, y_train, y_test = train_test_split(X, y, test_size=0.33,random_state=100)\n",
    "\n",
    "#----------------------------------------------------------------------------------------------------\n",
    "print('Total Shape of Train X:',X_train.shape)\n",
    "print('Total Shape of Train Y:',y_train.shape)"
   ]
  },
  {
   "cell_type": "markdown",
   "id": "1f3c0a58",
   "metadata": {
    "papermill": {
     "duration": 0.023621,
     "end_time": "2021-07-28T04:28:39.620271",
     "exception": false,
     "start_time": "2021-07-28T04:28:39.596650",
     "status": "completed"
    },
    "tags": []
   },
   "source": [
    "#### Random Undersampling\n",
    "Reference Links - https://imbalanced-learn.org/stable/references/generated/imblearn.under_sampling.RandomUnderSampler.html"
   ]
  },
  {
   "cell_type": "code",
   "execution_count": 8,
   "id": "6b9213ae",
   "metadata": {
    "execution": {
     "iopub.execute_input": "2021-07-28T04:28:39.674137Z",
     "iopub.status.busy": "2021-07-28T04:28:39.673559Z",
     "iopub.status.idle": "2021-07-28T04:28:45.016738Z",
     "shell.execute_reply": "2021-07-28T04:28:45.017216Z",
     "shell.execute_reply.started": "2021-07-28T03:33:42.020235Z"
    },
    "papermill": {
     "duration": 5.373702,
     "end_time": "2021-07-28T04:28:45.017391",
     "exception": false,
     "start_time": "2021-07-28T04:28:39.643689",
     "status": "completed"
    },
    "tags": []
   },
   "outputs": [
    {
     "name": "stdout",
     "output_type": "stream",
     "text": [
      "Total datapoints : (209560, 30)\n",
      "Percentage of minority samples over Training Data : 9.104313800343578 %\n"
     ]
    },
    {
     "data": {
      "image/png": "[encoded data removed]",
      "text/plain": [
       "<Figure size 432x432 with 1 Axes>"
      ]
     },
     "metadata": {
      "needs_background": "light"
     },
     "output_type": "display_data"
    }
   ],
   "source": [
    "# transform the dataset\n",
    "from imblearn.over_sampling import ADASYN \n",
    "\n",
    "adasyn = ADASYN(sampling_strategy=0.10,n_neighbors=5,random_state=100,n_jobs=-1)\n",
    "X_train_adasyn, y_train_adasyn = adasyn.fit_resample(X_train, y_train)\n",
    "\n",
    "#-----------------------------------------------------------------------------------\n",
    "train_adasyn = X_train_adasyn.join(y_train_adasyn)\n",
    "print('Total datapoints :',train_adasyn.shape)\n",
    "print('Percentage of minority samples over Training Data :',\n",
    "      100 * train_adasyn[train_adasyn['Class']==1].shape[0]/train_adasyn.shape[0],'%')\n",
    "\n",
    "\n",
    "#--------------------------------------------------------------------------------------\n",
    "plot_3d(train_adasyn,'V3','V1','V2','Class','ADASYN')\n"
   ]
  },
  {
   "cell_type": "markdown",
   "id": "e2c26732",
   "metadata": {
    "papermill": {
     "duration": 0.025268,
     "end_time": "2021-07-28T04:28:45.076542",
     "exception": false,
     "start_time": "2021-07-28T04:28:45.051274",
     "status": "completed"
    },
    "tags": []
   },
   "source": [
    "### Passing under-sampled data into model for training"
   ]
  },
  {
   "cell_type": "code",
   "execution_count": 9,
   "id": "510a5c0d",
   "metadata": {
    "execution": {
     "iopub.execute_input": "2021-07-28T04:28:45.131048Z",
     "iopub.status.busy": "2021-07-28T04:28:45.130151Z",
     "iopub.status.idle": "2021-07-28T04:28:45.195875Z",
     "shell.execute_reply": "2021-07-28T04:28:45.196418Z",
     "shell.execute_reply.started": "2021-07-28T03:33:48.119066Z"
    },
    "papermill": {
     "duration": 0.094428,
     "end_time": "2021-07-28T04:28:45.196614",
     "exception": false,
     "start_time": "2021-07-28T04:28:45.102186",
     "status": "completed"
    },
    "tags": []
   },
   "outputs": [
    {
     "name": "stdout",
     "output_type": "stream",
     "text": [
      "Percentage of minority samples over Final Training Data : 9.104313800343578 %\n"
     ]
    }
   ],
   "source": [
    "## Final X-Y pair of training to pass\n",
    "X_train_final = X_train_adasyn.copy()\n",
    "y_train_final = y_train_adasyn.copy()\n",
    "\n",
    "#-----------------------------------------------------------------------------\n",
    "train_final = X_train_final.join(y_train_final)\n",
    "print('Percentage of minority samples over Final Training Data :',\n",
    "      100 * train_final[train_final['Class']==1].shape[0]/train_final.shape[0],'%')"
   ]
  },
  {
   "cell_type": "code",
   "execution_count": 10,
   "id": "29101014",
   "metadata": {
    "execution": {
     "iopub.execute_input": "2021-07-28T04:28:45.279672Z",
     "iopub.status.busy": "2021-07-28T04:28:45.278669Z",
     "iopub.status.idle": "2021-07-28T04:28:45.292808Z",
     "shell.execute_reply": "2021-07-28T04:28:45.293338Z",
     "shell.execute_reply.started": "2021-07-28T03:33:48.177299Z"
    },
    "papermill": {
     "duration": 0.060937,
     "end_time": "2021-07-28T04:28:45.293522",
     "exception": false,
     "start_time": "2021-07-28T04:28:45.232585",
     "status": "completed"
    },
    "tags": []
   },
   "outputs": [
    {
     "data": {
      "text/html": [
       "<div>\n",
       "<style scoped>\n",
       "    .dataframe tbody tr th:only-of-type {\n",
       "        vertical-align: middle;\n",
       "    }\n",
       "\n",
       "    .dataframe tbody tr th {\n",
       "        vertical-align: top;\n",
       "    }\n",
       "\n",
       "    .dataframe thead th {\n",
       "        text-align: right;\n",
       "    }\n",
       "</style>\n",
       "<table border=\"1\" class=\"dataframe\">\n",
       "  <thead>\n",
       "    <tr style=\"text-align: right;\">\n",
       "      <th></th>\n",
       "      <th>V1</th>\n",
       "      <th>V2</th>\n",
       "      <th>V3</th>\n",
       "      <th>V4</th>\n",
       "      <th>V5</th>\n",
       "      <th>V6</th>\n",
       "      <th>V7</th>\n",
       "      <th>V8</th>\n",
       "      <th>V9</th>\n",
       "      <th>V10</th>\n",
       "      <th>V11</th>\n",
       "      <th>V12</th>\n",
       "      <th>V13</th>\n",
       "      <th>V14</th>\n",
       "      <th>V15</th>\n",
       "      <th>V16</th>\n",
       "      <th>V17</th>\n",
       "      <th>V18</th>\n",
       "      <th>V19</th>\n",
       "      <th>V20</th>\n",
       "      <th>V21</th>\n",
       "      <th>V22</th>\n",
       "      <th>V23</th>\n",
       "      <th>V24</th>\n",
       "      <th>V25</th>\n",
       "      <th>V26</th>\n",
       "      <th>V27</th>\n",
       "      <th>V28</th>\n",
       "      <th>Amount</th>\n",
       "      <th>Class</th>\n",
       "    </tr>\n",
       "  </thead>\n",
       "  <tbody>\n",
       "    <tr>\n",
       "      <th>0</th>\n",
       "      <td>0.727945</td>\n",
       "      <td>-0.253614</td>\n",
       "      <td>0.951309</td>\n",
       "      <td>2.596187</td>\n",
       "      <td>-0.80678</td>\n",
       "      <td>-0.105885</td>\n",
       "      <td>-0.073429</td>\n",
       "      <td>0.14587</td>\n",
       "      <td>-0.626549</td>\n",
       "      <td>0.76545</td>\n",
       "      <td>1.143839</td>\n",
       "      <td>0.033947</td>\n",
       "      <td>-1.254873</td>\n",
       "      <td>0.630418</td>\n",
       "      <td>0.171258</td>\n",
       "      <td>1.180275</td>\n",
       "      <td>-0.833965</td>\n",
       "      <td>0.387761</td>\n",
       "      <td>-0.888123</td>\n",
       "      <td>0.176962</td>\n",
       "      <td>0.00954</td>\n",
       "      <td>-0.57917</td>\n",
       "      <td>-0.01041</td>\n",
       "      <td>0.459409</td>\n",
       "      <td>0.015816</td>\n",
       "      <td>-0.260018</td>\n",
       "      <td>-0.037694</td>\n",
       "      <td>0.057548</td>\n",
       "      <td>199.0</td>\n",
       "      <td>0</td>\n",
       "    </tr>\n",
       "  </tbody>\n",
       "</table>\n",
       "</div>"
      ],
      "text/plain": [
       "         V1        V2        V3        V4       V5        V6        V7  \\\n",
       "0  0.727945 -0.253614  0.951309  2.596187 -0.80678 -0.105885 -0.073429   \n",
       "\n",
       "        V8        V9      V10       V11       V12       V13       V14  \\\n",
       "0  0.14587 -0.626549  0.76545  1.143839  0.033947 -1.254873  0.630418   \n",
       "\n",
       "        V15       V16       V17       V18       V19       V20      V21  \\\n",
       "0  0.171258  1.180275 -0.833965  0.387761 -0.888123  0.176962  0.00954   \n",
       "\n",
       "       V22      V23       V24       V25       V26       V27       V28  Amount  \\\n",
       "0 -0.57917 -0.01041  0.459409  0.015816 -0.260018 -0.037694  0.057548   199.0   \n",
       "\n",
       "   Class  \n",
       "0      0  "
      ]
     },
     "execution_count": 10,
     "metadata": {},
     "output_type": "execute_result"
    }
   ],
   "source": [
    "train_final.head(1)"
   ]
  },
  {
   "cell_type": "markdown",
   "id": "22bc2cf3",
   "metadata": {
    "papermill": {
     "duration": 0.026051,
     "end_time": "2021-07-28T04:28:45.345882",
     "exception": false,
     "start_time": "2021-07-28T04:28:45.319831",
     "status": "completed"
    },
    "tags": []
   },
   "source": [
    "## Baseline - Logistic Regression Model on fairly balanced data (~9%) with no feature selection "
   ]
  },
  {
   "cell_type": "code",
   "execution_count": 11,
   "id": "e8be510d",
   "metadata": {
    "execution": {
     "iopub.execute_input": "2021-07-28T04:28:45.401861Z",
     "iopub.status.busy": "2021-07-28T04:28:45.400995Z",
     "iopub.status.idle": "2021-07-28T04:28:59.060507Z",
     "shell.execute_reply": "2021-07-28T04:28:59.060996Z",
     "shell.execute_reply.started": "2021-07-28T03:33:48.207450Z"
    },
    "papermill": {
     "duration": 13.689088,
     "end_time": "2021-07-28T04:28:59.061189",
     "exception": false,
     "start_time": "2021-07-28T04:28:45.372101",
     "status": "completed"
    },
    "tags": []
   },
   "outputs": [
    {
     "name": "stdout",
     "output_type": "stream",
     "text": [
      "1. ROC AUC: 0.873\n",
      "2. Accuracy : 0.981401683211508\n",
      "3. Classification Report -\n",
      "               precision    recall  f1-score   support\n",
      "\n",
      "           0       1.00      0.98      0.99     93834\n",
      "           1       0.06      0.76      0.12       153\n",
      "\n",
      "    accuracy                           0.98     93987\n",
      "   macro avg       0.53      0.87      0.55     93987\n",
      "weighted avg       1.00      0.98      0.99     93987\n",
      "\n",
      "4. Confusion Matrix - \n",
      " [[92122  1712]\n",
      " [   36   117]]\n"
     ]
    }
   ],
   "source": [
    "lr_clf = LogisticRegression(solver='saga',random_state=100)\n",
    "lr_clf.fit(X_train_final,y_train_final)\n",
    "pred = lr_clf.predict(X_test)\n",
    "\n",
    "#-----------------------------------------------\n",
    "score = roc_auc_score(y_test, pred)\n",
    "print('1. ROC AUC: %.3f' % score)\n",
    "print('2. Accuracy :',accuracy_score(y_test, pred))\n",
    "print('3. Classification Report -\\n',classification_report(y_test, pred))\n",
    "print('4. Confusion Matrix - \\n',confusion_matrix(y_test, pred))"
   ]
  },
  {
   "cell_type": "code",
   "execution_count": 12,
   "id": "9ee35c2b",
   "metadata": {
    "execution": {
     "iopub.execute_input": "2021-07-28T04:28:59.121479Z",
     "iopub.status.busy": "2021-07-28T04:28:59.120340Z",
     "iopub.status.idle": "2021-07-28T04:30:05.418191Z",
     "shell.execute_reply": "2021-07-28T04:30:05.417464Z",
     "shell.execute_reply.started": "2021-07-28T03:34:03.734970Z"
    },
    "papermill": {
     "duration": 66.330126,
     "end_time": "2021-07-28T04:30:05.418403",
     "exception": false,
     "start_time": "2021-07-28T04:28:59.088277",
     "status": "completed"
    },
    "tags": []
   },
   "outputs": [
    {
     "name": "stdout",
     "output_type": "stream",
     "text": [
      "[04:29:00] WARNING: ../src/learner.cc:1095: Starting in XGBoost 1.3.0, the default evaluation metric used with the objective 'binary:logistic' was changed from 'error' to 'logloss'. Explicitly set eval_metric if you'd like to restore the old behavior.\n",
      "1. ROC AUC: 0.912\n",
      "2. Accuracy : 0.9994999308414994\n",
      "3. Classification Report -\n",
      "               precision    recall  f1-score   support\n",
      "\n",
      "           0       1.00      1.00      1.00     93834\n",
      "           1       0.86      0.82      0.84       153\n",
      "\n",
      "    accuracy                           1.00     93987\n",
      "   macro avg       0.93      0.91      0.92     93987\n",
      "weighted avg       1.00      1.00      1.00     93987\n",
      "\n",
      "4. Confusion Matrix - \n",
      " [[93814    20]\n",
      " [   27   126]]\n"
     ]
    }
   ],
   "source": [
    "import xgboost as xgb\n",
    "\n",
    "xgb_clf = xgb.XGBClassifier(random_state=100,n_jobs=-1)\n",
    "xgb_clf.fit(X_train_final,y_train_final)\n",
    "xgb_pred = xgb_clf.predict(X_test)\n",
    "\n",
    "#-----------------------------------------------\n",
    "score = roc_auc_score(y_test, xgb_pred)\n",
    "print('1. ROC AUC: %.3f' % score)\n",
    "print('2. Accuracy :',accuracy_score(y_test, xgb_pred))\n",
    "print('3. Classification Report -\\n',classification_report(y_test, xgb_pred))\n",
    "print('4. Confusion Matrix - \\n',confusion_matrix(y_test, xgb_pred))"
   ]
  },
  {
   "cell_type": "markdown",
   "id": "a1ad94e0",
   "metadata": {
    "papermill": {
     "duration": 0.027036,
     "end_time": "2021-07-28T04:30:05.474126",
     "exception": false,
     "start_time": "2021-07-28T04:30:05.447090",
     "status": "completed"
    },
    "tags": []
   },
   "source": [
    "# Feature Selection Techniques:\n",
    "1. Quality Based:\n",
    "    1. Variance Inflation Factor (VIF)**\n",
    "    2. Correlation (Pearson/Spearman)** (Not applicable for classification problems)\n",
    "2. Performance (Fit of a model) based:\n",
    "    1. Intrinsic Techniques:\n",
    "        - Lasso/Logistic Regression Feature Selection**\n",
    "        - XGBoost/Random Forest Feature Selection\n",
    "    2. Extrinsic Techniques (Wrapper Based Methods):\n",
    "        - Recursive Feature Elimination w/ Cross Validation (RFECV) \n",
    "        - Relative Importance**\n",
    "        - Boruta\n",
    "        \n",
    "** - If satisfying the basic assumptions"
   ]
  },
  {
   "cell_type": "markdown",
   "id": "9d77a90d",
   "metadata": {
    "papermill": {
     "duration": 0.026926,
     "end_time": "2021-07-28T04:30:05.527994",
     "exception": false,
     "start_time": "2021-07-28T04:30:05.501068",
     "status": "completed"
    },
    "tags": []
   },
   "source": [
    "## Variance Inflation Factor (VIF) to detect multi-collinearity\n",
    "1. Multi-collinearity: If two or more features correlated to each other highly\n",
    "2. Not removing multi-collinear features result in violation of linear assumptions in many modelling algorithms, hence unnatural predictions\n",
    "3. ASSUMPTIONS - every assumption of linear regression is valid here\n",
    "\n",
    "Relevant Links - https://www.statsmodels.org/stable/generated/statsmodels.stats.outliers_influence.variance_inflation_factor.html"
   ]
  },
  {
   "cell_type": "code",
   "execution_count": 13,
   "id": "1cf39af2",
   "metadata": {
    "execution": {
     "iopub.execute_input": "2021-07-28T04:30:05.588148Z",
     "iopub.status.busy": "2021-07-28T04:30:05.587464Z",
     "iopub.status.idle": "2021-07-28T04:30:29.659340Z",
     "shell.execute_reply": "2021-07-28T04:30:29.660591Z",
     "shell.execute_reply.started": "2021-07-28T03:35:10.301375Z"
    },
    "papermill": {
     "duration": 24.10572,
     "end_time": "2021-07-28T04:30:29.660875",
     "exception": false,
     "start_time": "2021-07-28T04:30:05.555155",
     "status": "completed"
    },
    "tags": []
   },
   "outputs": [
    {
     "data": {
      "text/html": [
       "<div>\n",
       "<style scoped>\n",
       "    .dataframe tbody tr th:only-of-type {\n",
       "        vertical-align: middle;\n",
       "    }\n",
       "\n",
       "    .dataframe tbody tr th {\n",
       "        vertical-align: top;\n",
       "    }\n",
       "\n",
       "    .dataframe thead th {\n",
       "        text-align: right;\n",
       "    }\n",
       "</style>\n",
       "<table border=\"1\" class=\"dataframe\">\n",
       "  <thead>\n",
       "    <tr style=\"text-align: right;\">\n",
       "      <th></th>\n",
       "      <th>variables</th>\n",
       "      <th>VIF</th>\n",
       "    </tr>\n",
       "  </thead>\n",
       "  <tbody>\n",
       "    <tr>\n",
       "      <th>28</th>\n",
       "      <td>Amount</td>\n",
       "      <td>6.099533</td>\n",
       "    </tr>\n",
       "  </tbody>\n",
       "</table>\n",
       "</div>"
      ],
      "text/plain": [
       "   variables       VIF\n",
       "28    Amount  6.099533"
      ]
     },
     "execution_count": 13,
     "metadata": {},
     "output_type": "execute_result"
    }
   ],
   "source": [
    "# Import library for VIF\n",
    "from statsmodels.stats.outliers_influence import variance_inflation_factor\n",
    "\n",
    "#------------------------------------------------------------------------------------\n",
    "def calc_vif(X):\n",
    "\n",
    "    # Calculating VIF\n",
    "    vif = pd.DataFrame()\n",
    "    vif[\"variables\"] = X.columns\n",
    "    vif[\"VIF\"] = [variance_inflation_factor(X.values, i) for i in range(X.shape[1])]\n",
    "\n",
    "    return(vif)\n",
    "\n",
    "#------------------------------------------------------------------------------------\n",
    "X_VIF = calc_vif(X_train_final)\n",
    "X_VIF = X_VIF.sort_values(['VIF'],ascending=False) #Sorting by descending order\n",
    "X_VIF[X_VIF['VIF']>4] #Filtering for above 4"
   ]
  },
  {
   "cell_type": "markdown",
   "id": "5aa11a37",
   "metadata": {
    "papermill": {
     "duration": 0.049857,
     "end_time": "2021-07-28T04:30:29.763744",
     "exception": false,
     "start_time": "2021-07-28T04:30:29.713887",
     "status": "completed"
    },
    "tags": []
   },
   "source": [
    "#### Insight : \n",
    "1. The VIF has a range of [1,inf)\n",
    "2. For columns having VIF>5 (4 at some cases like above), they are considered to be multi-collinear and hence should be removed sequentially and checking the VIF again, till there are no features with higher VIF present"
   ]
  },
  {
   "cell_type": "markdown",
   "id": "5350823f",
   "metadata": {
    "papermill": {
     "duration": 0.02838,
     "end_time": "2021-07-28T04:30:29.819842",
     "exception": false,
     "start_time": "2021-07-28T04:30:29.791462",
     "status": "completed"
    },
    "tags": []
   },
   "source": [
    "## Lasso/Logistic Regression Feature Selection \n",
    "1. ASSUMPTION : Strictly same as of linear regression \n",
    "2. Lasso for regression problems, logistic regression with regularization for classification\n",
    "\n",
    "Relevant Links - \n",
    "    1. https://scikit-learn.org/stable/modules/generated/sklearn.linear_model.LogisticRegression.html\n",
    "    2.https://scikit-learn.org/stable/modules/generated/sklearn.feature_selection.SelectFromModel.html"
   ]
  },
  {
   "cell_type": "code",
   "execution_count": 14,
   "id": "afed3bcc",
   "metadata": {
    "execution": {
     "iopub.execute_input": "2021-07-28T04:30:29.883722Z",
     "iopub.status.busy": "2021-07-28T04:30:29.883120Z",
     "iopub.status.idle": "2021-07-28T04:30:47.374951Z",
     "shell.execute_reply": "2021-07-28T04:30:47.374442Z",
     "shell.execute_reply.started": "2021-07-28T03:35:36.394249Z"
    },
    "papermill": {
     "duration": 17.526811,
     "end_time": "2021-07-28T04:30:47.375111",
     "exception": false,
     "start_time": "2021-07-28T04:30:29.848300",
     "status": "completed"
    },
    "tags": []
   },
   "outputs": [
    {
     "data": {
      "text/plain": [
       "Index(['V1', 'V2', 'V3', 'V4', 'V5', 'V6', 'V7', 'V8', 'V9', 'V10', 'V11',\n",
       "       'V12', 'V13', 'V14', 'V15', 'V16', 'V17', 'V18', 'V19', 'V20', 'V21',\n",
       "       'V22', 'V23', 'V24', 'V25', 'V26', 'V27', 'V28', 'Amount'],\n",
       "      dtype='object')"
      ]
     },
     "execution_count": 14,
     "metadata": {},
     "output_type": "execute_result"
    }
   ],
   "source": [
    "sel_ = SelectFromModel(LogisticRegression(C=1, penalty='l1',solver='saga'))\n",
    "sel_.fit(X_train_final, y_train_final)\n",
    "\n",
    "#--------------------------------------------------------------------------------\n",
    "selected_feat = X_train_final.columns[(sel_.get_support())]\n",
    "selected_feat"
   ]
  },
  {
   "cell_type": "markdown",
   "id": "0e6af5e2",
   "metadata": {
    "papermill": {
     "duration": 0.027428,
     "end_time": "2021-07-28T04:30:47.430617",
     "exception": false,
     "start_time": "2021-07-28T04:30:47.403189",
     "status": "completed"
    },
    "tags": []
   },
   "source": [
    "## Tree-Based Feature Selection\n",
    "1. Corresponding trees are taken to match with modelling step. Example - If the final model is XGBoost, the same model can be taken for feature selection for better reliability and consistency as well. \n",
    "2. Calculates feature importances based on Gini Purity Gain, Coverage of nodes, frequency,Gain in MSE etc.\n",
    "\n",
    "Relevent Links - https://xgboost.readthedocs.io/en/latest/python/python_api.html#module-xgboost.training"
   ]
  },
  {
   "cell_type": "code",
   "execution_count": 15,
   "id": "152055f6",
   "metadata": {
    "execution": {
     "iopub.execute_input": "2021-07-28T04:30:47.494005Z",
     "iopub.status.busy": "2021-07-28T04:30:47.492883Z",
     "iopub.status.idle": "2021-07-28T04:31:53.369729Z",
     "shell.execute_reply": "2021-07-28T04:31:53.370220Z",
     "shell.execute_reply.started": "2021-07-28T03:35:54.553548Z"
    },
    "papermill": {
     "duration": 65.911626,
     "end_time": "2021-07-28T04:31:53.370421",
     "exception": false,
     "start_time": "2021-07-28T04:30:47.458795",
     "status": "completed"
    },
    "tags": []
   },
   "outputs": [
    {
     "name": "stdout",
     "output_type": "stream",
     "text": [
      "[04:30:48] WARNING: ../src/learner.cc:1095: Starting in XGBoost 1.3.0, the default evaluation metric used with the objective 'binary:logistic' was changed from 'error' to 'logloss'. Explicitly set eval_metric if you'd like to restore the old behavior.\n",
      "  Features  importance\n",
      "0      V14    0.387940\n",
      "1       V4    0.069391\n",
      "2      V10    0.059476\n",
      "3      V12    0.049156\n",
      "4      V17    0.041138\n"
     ]
    }
   ],
   "source": [
    "my_model = xgb.XGBClassifier(random_state=100)\n",
    "my_model.fit(X_train_final,y_train_final)\n",
    "\n",
    "#----------------------------------------------------------------------------------------------------------\n",
    "feature_importances = pd.DataFrame(my_model.feature_importances_,\n",
    "                                   index = X_train_final.columns,\n",
    "                                    columns=['importance']).sort_values('importance', ascending=False)\n",
    "feature_importances['Features'] = feature_importances.index\n",
    "feature_importances = feature_importances[['Features','importance']]\n",
    "feature_importances.reset_index(inplace=True)\n",
    "feature_importances.drop(columns={'index'},inplace=True)\n",
    "\n",
    "#----------------------------------------------------------------------------------------------------------\n",
    "print(feature_importances.head(5))"
   ]
  },
  {
   "cell_type": "markdown",
   "id": "6adb3ae3",
   "metadata": {
    "papermill": {
     "duration": 0.028331,
     "end_time": "2021-07-28T04:31:53.427987",
     "exception": false,
     "start_time": "2021-07-28T04:31:53.399656",
     "status": "completed"
    },
    "tags": []
   },
   "source": [
    "### Insights:\n",
    "1. The above are the top 5 feaures contributing to the prediction of 'Class' with V14 being the highest with 57% importance, followed by V17 at 9%\n",
    "2. A threshold for the features to select can be tuned by an iterative process (input into model and check evaluation). Ex - Pick all featues having atleast 1% importance  \n",
    "3. Same methd can be used for other tree based models like CART, RF, LGBM etc. "
   ]
  },
  {
   "cell_type": "markdown",
   "id": "269b8720",
   "metadata": {
    "papermill": {
     "duration": 0.028219,
     "end_time": "2021-07-28T04:31:53.484955",
     "exception": false,
     "start_time": "2021-07-28T04:31:53.456736",
     "status": "completed"
    },
    "tags": []
   },
   "source": [
    "## RFECV (Recursive Feature Selection with Cross Validation) \n",
    "1. A wrapper method, hence uses a model within itself (any model passed by the user)\n",
    "2. For this example, we will pass the XGB model we fit above\n",
    "\n",
    "Relevant Links - https://scikit-learn.org/stable/modules/generated/sklearn.feature_selection.RFECV.html"
   ]
  },
  {
   "cell_type": "code",
   "execution_count": 16,
   "id": "1b78042b",
   "metadata": {
    "execution": {
     "iopub.execute_input": "2021-07-28T04:31:53.545035Z",
     "iopub.status.busy": "2021-07-28T04:31:53.544450Z",
     "iopub.status.idle": "2021-07-28T05:11:17.830520Z",
     "shell.execute_reply": "2021-07-28T05:11:17.830988Z",
     "shell.execute_reply.started": "2021-07-28T03:37:00.504698Z"
    },
    "papermill": {
     "duration": 2364.317569,
     "end_time": "2021-07-28T05:11:17.831188",
     "exception": false,
     "start_time": "2021-07-28T04:31:53.513619",
     "status": "completed"
    },
    "tags": []
   },
   "outputs": [
    {
     "name": "stdout",
     "output_type": "stream",
     "text": [
      "[05:07:16] WARNING: ../src/learner.cc:1095: Starting in XGBoost 1.3.0, the default evaluation metric used with the objective 'binary:logistic' was changed from 'error' to 'logloss'. Explicitly set eval_metric if you'd like to restore the old behavior.\n",
      "[05:08:21] WARNING: ../src/learner.cc:1095: Starting in XGBoost 1.3.0, the default evaluation metric used with the objective 'binary:logistic' was changed from 'error' to 'logloss'. Explicitly set eval_metric if you'd like to restore the old behavior.\n",
      "[05:09:24] WARNING: ../src/learner.cc:1095: Starting in XGBoost 1.3.0, the default evaluation metric used with the objective 'binary:logistic' was changed from 'error' to 'logloss'. Explicitly set eval_metric if you'd like to restore the old behavior.\n",
      "[05:10:21] WARNING: ../src/learner.cc:1095: Starting in XGBoost 1.3.0, the default evaluation metric used with the objective 'binary:logistic' was changed from 'error' to 'logloss'. Explicitly set eval_metric if you'd like to restore the old behavior.\n"
     ]
    },
    {
     "data": {
      "text/plain": [
       "RFECV(cv=3,\n",
       "      estimator=XGBClassifier(base_score=None, booster=None,\n",
       "                              colsample_bylevel=None, colsample_bynode=None,\n",
       "                              colsample_bytree=None, gamma=None, gpu_id=None,\n",
       "                              importance_type='gain',\n",
       "                              interaction_constraints=None, learning_rate=None,\n",
       "                              max_delta_step=None, max_depth=None,\n",
       "                              min_child_weight=None, missing=nan,\n",
       "                              monotone_constraints=None, n_estimators=100,\n",
       "                              n_jobs=-1, num_parallel_tree=None,\n",
       "                              random_state=100, reg_alpha=None, reg_lambda=None,\n",
       "                              scale_pos_weight=None, subsample=None,\n",
       "                              tree_method=None, validate_parameters=None,\n",
       "                              verbosity=None),\n",
       "      n_jobs=-1, scoring='f1_weighted', step=2)"
      ]
     },
     "execution_count": 16,
     "metadata": {},
     "output_type": "execute_result"
    }
   ],
   "source": [
    "from sklearn.feature_selection import RFECV\n",
    "warnings.filterwarnings(\"ignore\")\n",
    "\n",
    "estimator = xgb.XGBClassifier(random_state=100,n_jobs=-1) \n",
    "\n",
    "selector = RFECV(estimator, step=2, cv=3, n_jobs=-1, scoring = 'f1_weighted') #For example purpose, step=3, use step=1 or 2 in real time\n",
    "\n",
    "selector.fit(X_train_final,y_train_final)"
   ]
  },
  {
   "cell_type": "markdown",
   "id": "f70813c6",
   "metadata": {
    "papermill": {
     "duration": 0.028789,
     "end_time": "2021-07-28T05:11:17.889832",
     "exception": false,
     "start_time": "2021-07-28T05:11:17.861043",
     "status": "completed"
    },
    "tags": []
   },
   "source": [
    "#### Post-Processing for RFECV to extract out the exact columns to pick"
   ]
  },
  {
   "cell_type": "code",
   "execution_count": 17,
   "id": "2baefffa",
   "metadata": {
    "execution": {
     "iopub.execute_input": "2021-07-28T05:11:17.958300Z",
     "iopub.status.busy": "2021-07-28T05:11:17.957688Z",
     "iopub.status.idle": "2021-07-28T05:11:17.966341Z",
     "shell.execute_reply": "2021-07-28T05:11:17.965480Z",
     "shell.execute_reply.started": "2021-07-28T04:17:24.497856Z"
    },
    "papermill": {
     "duration": 0.047114,
     "end_time": "2021-07-28T05:11:17.966523",
     "exception": false,
     "start_time": "2021-07-28T05:11:17.919409",
     "status": "completed"
    },
    "tags": []
   },
   "outputs": [
    {
     "name": "stdout",
     "output_type": "stream",
     "text": [
      "1 :  [True, True, True, True, True, True, True, True, True, True, True, True, True, True, True, True, True, True, True, False, True, False, True, False, True, True, True, False, True]\n",
      "Length -  29\n",
      "2 :  ['V1', 'V2', 'V3', 'V4', 'V5', 'V6', 'V7', 'V8', 'V9', 'V10', 'V11', 'V12', 'V13', 'V14', 'V15', 'V16', 'V17', 'V18', 'V19', 'V20', 'V21', 'V22', 'V23', 'V24', 'V25', 'V26', 'V27', 'V28', 'Amount']\n",
      "3 :  [0, 1, 2, 3, 4, 5, 6, 7, 8, 9, 10, 11, 12, 13, 14, 15, 16, 17, 18, 20, 22, 24, 25, 26, 28] \n",
      "\n",
      "Final Features :\n"
     ]
    },
    {
     "data": {
      "text/plain": [
       "['V1',\n",
       " 'V2',\n",
       " 'V3',\n",
       " 'V4',\n",
       " 'V5',\n",
       " 'V6',\n",
       " 'V7',\n",
       " 'V8',\n",
       " 'V9',\n",
       " 'V10',\n",
       " 'V11',\n",
       " 'V12',\n",
       " 'V13',\n",
       " 'V14',\n",
       " 'V15',\n",
       " 'V16',\n",
       " 'V17',\n",
       " 'V18',\n",
       " 'V19',\n",
       " 'V21',\n",
       " 'V23',\n",
       " 'V25',\n",
       " 'V26',\n",
       " 'V27',\n",
       " 'Amount']"
      ]
     },
     "execution_count": 17,
     "metadata": {},
     "output_type": "execute_result"
    }
   ],
   "source": [
    "selector_mask = list(selector.support_) \n",
    "print('1 : ',selector_mask)\n",
    "print('Length - ',len(selector_mask))\n",
    "col_list = list(X_train_final.columns)\n",
    "print('2 : ',col_list)\n",
    "\n",
    "#--------------------------------------------------------------------------------------------\n",
    "pass_idx = []\n",
    "\n",
    "for n, i in enumerate(selector_mask):\n",
    "  if i == True:\n",
    "     selector_mask[n] = 1\n",
    "  elif i == False:\n",
    "     selector_mask[n] = 0\n",
    "     \n",
    "selector_mask\n",
    "\n",
    "#--------------------------------------------------------------------------------------------\n",
    "\n",
    "for n,item in enumerate(selector_mask):\n",
    " if item == 1:\n",
    "   a = n\n",
    "   pass_idx = pass_idx + [n]\n",
    "\n",
    "print('3 : ',pass_idx,'\\n')\n",
    "\n",
    "final_features = []\n",
    "for i in pass_idx:\n",
    " final_features = final_features + [X_train_final.columns[i]]\n",
    " \n",
    "#--------------------------------------------------------------------------------------------\n",
    "print('Final Features :')\n",
    "final_features #The features recommended by the RFECV algorithm"
   ]
  },
  {
   "cell_type": "markdown",
   "id": "41404166",
   "metadata": {
    "papermill": {
     "duration": 0.029904,
     "end_time": "2021-07-28T05:11:18.027295",
     "exception": false,
     "start_time": "2021-07-28T05:11:17.997391",
     "status": "completed"
    },
    "tags": []
   },
   "source": [
    "## Boruta Feature Selection\n",
    "1. It works on the principal of shadow feature creation & multiple Bernoulli's trials \n",
    "2. Is an automated version of XGB feature selection (dynamically choosing threshold)\n",
    "\n",
    "Relevant Links - https://pypi.org/project/Boruta/ "
   ]
  },
  {
   "cell_type": "code",
   "execution_count": 18,
   "id": "b0e2514a",
   "metadata": {
    "execution": {
     "iopub.execute_input": "2021-07-28T05:11:18.093775Z",
     "iopub.status.busy": "2021-07-28T05:11:18.093210Z",
     "iopub.status.idle": "2021-07-28T05:30:39.526819Z",
     "shell.execute_reply": "2021-07-28T05:30:39.527359Z"
    },
    "papermill": {
     "duration": 1161.469943,
     "end_time": "2021-07-28T05:30:39.527695",
     "exception": false,
     "start_time": "2021-07-28T05:11:18.057752",
     "status": "completed"
    },
    "tags": []
   },
   "outputs": [
    {
     "name": "stdout",
     "output_type": "stream",
     "text": [
      "[05:11:20] WARNING: ../src/learner.cc:1095: Starting in XGBoost 1.3.0, the default evaluation metric used with the objective 'binary:logistic' was changed from 'error' to 'logloss'. Explicitly set eval_metric if you'd like to restore the old behavior.\n",
      "[05:13:01] WARNING: ../src/learner.cc:1095: Starting in XGBoost 1.3.0, the default evaluation metric used with the objective 'binary:logistic' was changed from 'error' to 'logloss'. Explicitly set eval_metric if you'd like to restore the old behavior.\n",
      "[05:15:35] WARNING: ../src/learner.cc:1095: Starting in XGBoost 1.3.0, the default evaluation metric used with the objective 'binary:logistic' was changed from 'error' to 'logloss'. Explicitly set eval_metric if you'd like to restore the old behavior.\n",
      "[05:18:06] WARNING: ../src/learner.cc:1095: Starting in XGBoost 1.3.0, the default evaluation metric used with the objective 'binary:logistic' was changed from 'error' to 'logloss'. Explicitly set eval_metric if you'd like to restore the old behavior.\n",
      "[05:20:37] WARNING: ../src/learner.cc:1095: Starting in XGBoost 1.3.0, the default evaluation metric used with the objective 'binary:logistic' was changed from 'error' to 'logloss'. Explicitly set eval_metric if you'd like to restore the old behavior.\n",
      "[05:23:09] WARNING: ../src/learner.cc:1095: Starting in XGBoost 1.3.0, the default evaluation metric used with the objective 'binary:logistic' was changed from 'error' to 'logloss'. Explicitly set eval_metric if you'd like to restore the old behavior.\n",
      "[05:25:40] WARNING: ../src/learner.cc:1095: Starting in XGBoost 1.3.0, the default evaluation metric used with the objective 'binary:logistic' was changed from 'error' to 'logloss'. Explicitly set eval_metric if you'd like to restore the old behavior.\n",
      "[05:28:11] WARNING: ../src/learner.cc:1095: Starting in XGBoost 1.3.0, the default evaluation metric used with the objective 'binary:logistic' was changed from 'error' to 'logloss'. Explicitly set eval_metric if you'd like to restore the old behavior.\n",
      "features in the green area: ['V1', 'V2', 'V3', 'V4', 'V5', 'V6', 'V7', 'V8', 'V9', 'V10', 'V11', 'V12', 'V13', 'V14', 'V15', 'V16', 'V17', 'V18', 'V19', 'V20', 'V21', 'V22', 'V23', 'V24', 'V25', 'V26', 'V27', 'V28', 'Amount']\n",
      "features in the blue area: []\n"
     ]
    }
   ],
   "source": [
    "from boruta import BorutaPy\n",
    "\n",
    "#------------------------------------------------------------------------\n",
    "###initialize Boruta\n",
    "xgb = xgb.XGBClassifier(random_state=100)\n",
    "\n",
    "boruta = BorutaPy(\n",
    "  estimator = xgb, \n",
    "  n_estimators = 'auto',\n",
    "  max_iter = 250 # number of trials to perform\n",
    ")\n",
    "\n",
    "#------------------------------------------------------------------------\n",
    "### fit Boruta (it accepts np.array, not pd.DataFrame)\n",
    "boruta.fit(np.array(X_train_final), np.array(y_train_final))\n",
    "### print results\n",
    "green_area = X_train_final.columns[boruta.support_].to_list()\n",
    "blue_area = X_train_final.columns[boruta.support_weak_].to_list()\n",
    "print('features in the green area:', green_area)\n",
    "print('features in the blue area:', blue_area)"
   ]
  },
  {
   "cell_type": "markdown",
   "id": "04212e0c",
   "metadata": {
    "papermill": {
     "duration": 0.032271,
     "end_time": "2021-07-28T05:30:39.592429",
     "exception": false,
     "start_time": "2021-07-28T05:30:39.560158",
     "status": "completed"
    },
    "tags": []
   },
   "source": [
    "### Insights:\n",
    "1. Boruta is generally a consevative algorithm and returns lesser features than other algorithms\n",
    "2. The green area features are those which are absolutely necssary for the model\n",
    "3. The blue area features are those which are optional for the model. In the above example, there are no optional features"
   ]
  },
  {
   "cell_type": "markdown",
   "id": "eb604889",
   "metadata": {
    "papermill": {
     "duration": 0.031855,
     "end_time": "2021-07-28T05:30:39.656671",
     "exception": false,
     "start_time": "2021-07-28T05:30:39.624816",
     "status": "completed"
    },
    "tags": []
   },
   "source": [
    "# Improvement on baseline results with Boruta selected features"
   ]
  },
  {
   "cell_type": "code",
   "execution_count": 19,
   "id": "05288d15",
   "metadata": {
    "execution": {
     "iopub.execute_input": "2021-07-28T05:30:39.753577Z",
     "iopub.status.busy": "2021-07-28T05:30:39.752883Z",
     "iopub.status.idle": "2021-07-28T05:40:44.170084Z",
     "shell.execute_reply": "2021-07-28T05:40:44.169505Z"
    },
    "papermill": {
     "duration": 604.481428,
     "end_time": "2021-07-28T05:40:44.170234",
     "exception": false,
     "start_time": "2021-07-28T05:30:39.688806",
     "status": "completed"
    },
    "tags": []
   },
   "outputs": [
    {
     "name": "stdout",
     "output_type": "stream",
     "text": [
      "1. ROC AUC: 0.911\n",
      "2. Accuracy : 0.9912221903029143\n",
      "3. Classification Report -\n",
      "               precision    recall  f1-score   support\n",
      "\n",
      "           0       1.00      0.99      1.00     93834\n",
      "           1       0.14      0.83      0.24       153\n",
      "\n",
      "    accuracy                           0.99     93987\n",
      "   macro avg       0.57      0.91      0.62     93987\n",
      "weighted avg       1.00      0.99      0.99     93987\n",
      "\n",
      "4. Confusion Matrix - \n",
      " [[93035   799]\n",
      " [   26   127]]\n"
     ]
    }
   ],
   "source": [
    "lr_clf = LogisticRegression(solver='saga',max_iter=10000,random_state=100)\n",
    "\n",
    "lr_clf.fit(X_train_final[selected_feat],y_train_final) #X filtered for Boruta green features\n",
    "pred = lr_clf.predict(X_test[selected_feat]) #X filtered for Boruta green features\n",
    "\n",
    "#----------------------------------------------------------------------------------------\n",
    "score = roc_auc_score(y_test, pred)\n",
    "print('1. ROC AUC: %.3f' % score)\n",
    "print('2. Accuracy :',accuracy_score(y_test, pred))\n",
    "print('3. Classification Report -\\n',classification_report(y_test, pred))\n",
    "print('4. Confusion Matrix - \\n',confusion_matrix(y_test, pred))"
   ]
  },
  {
   "cell_type": "code",
   "execution_count": 20,
   "id": "d4ea72e0",
   "metadata": {
    "execution": {
     "iopub.execute_input": "2021-07-28T05:40:44.243433Z",
     "iopub.status.busy": "2021-07-28T05:40:44.242467Z",
     "iopub.status.idle": "2021-07-28T05:41:50.430965Z",
     "shell.execute_reply": "2021-07-28T05:41:50.430468Z"
    },
    "papermill": {
     "duration": 66.22733,
     "end_time": "2021-07-28T05:41:50.431114",
     "exception": false,
     "start_time": "2021-07-28T05:40:44.203784",
     "status": "completed"
    },
    "tags": []
   },
   "outputs": [
    {
     "name": "stdout",
     "output_type": "stream",
     "text": [
      "[05:40:45] WARNING: ../src/learner.cc:1095: Starting in XGBoost 1.3.0, the default evaluation metric used with the objective 'binary:logistic' was changed from 'error' to 'logloss'. Explicitly set eval_metric if you'd like to restore the old behavior.\n",
      "1. ROC AUC: 0.912\n",
      "2. Accuracy : 0.9994999308414994\n",
      "3. Classification Report -\n",
      "               precision    recall  f1-score   support\n",
      "\n",
      "           0       1.00      1.00      1.00     93834\n",
      "           1       0.86      0.82      0.84       153\n",
      "\n",
      "    accuracy                           1.00     93987\n",
      "   macro avg       0.93      0.91      0.92     93987\n",
      "weighted avg       1.00      1.00      1.00     93987\n",
      "\n",
      "4. Confusion Matrix - \n",
      " [[93814    20]\n",
      " [   27   126]]\n"
     ]
    }
   ],
   "source": [
    "import xgboost as xgb\n",
    "\n",
    "xgb_clf = xgb.XGBClassifier(random_state=100)\n",
    "xgb_clf.fit(X_train_final[green_area],y_train_final)\n",
    "xgb_pred = xgb_clf.predict(X_test[green_area])\n",
    "\n",
    "#-----------------------------------------------\n",
    "score = roc_auc_score(y_test, xgb_pred)\n",
    "print('1. ROC AUC: %.3f' % score)\n",
    "print('2. Accuracy :',accuracy_score(y_test, xgb_pred))\n",
    "print('3. Classification Report -\\n',classification_report(y_test, xgb_pred))\n",
    "print('4. Confusion Matrix - \\n',confusion_matrix(y_test, xgb_pred))"
   ]
  },
  {
   "cell_type": "code",
   "execution_count": null,
   "id": "90859352",
   "metadata": {
    "papermill": {
     "duration": 0.033301,
     "end_time": "2021-07-28T05:41:50.498206",
     "exception": false,
     "start_time": "2021-07-28T05:41:50.464905",
     "status": "completed"
    },
    "tags": []
   },
   "outputs": [],
   "source": []
  },
  {
   "cell_type": "code",
   "execution_count": null,
   "id": "cdbf0d06",
   "metadata": {
    "papermill": {
     "duration": 0.033131,
     "end_time": "2021-07-28T05:41:50.565119",
     "exception": false,
     "start_time": "2021-07-28T05:41:50.531988",
     "status": "completed"
    },
    "tags": []
   },
   "outputs": [],
   "source": []
  }
 ],
 "metadata": {
  "kernelspec": {
   "display_name": "Python 3",
   "language": "python",
   "name": "python3"
  },
  "language_info": {
   "codemirror_mode": {
    "name": "ipython",
    "version": 3
   },
   "file_extension": ".py",
   "mimetype": "text/x-python",
   "name": "python",
   "nbconvert_exporter": "python",
   "pygments_lexer": "ipython3",
   "version": "3.7.10"
  },
  "papermill": {
   "default_parameters": {},
   "duration": 4406.624256,
   "end_time": "2021-07-28T05:41:51.510015",
   "environment_variables": {},
   "exception": null,
   "input_path": "__notebook__.ipynb",
   "output_path": "__notebook__.ipynb",
   "parameters": {},
   "start_time": "2021-07-28T04:28:24.885759",
   "version": "2.3.3"
  }
 },
 "nbformat": 4,
 "nbformat_minor": 5
}
