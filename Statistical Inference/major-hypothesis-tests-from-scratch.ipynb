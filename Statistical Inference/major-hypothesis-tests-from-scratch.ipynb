{
 "cells": [
  {
   "cell_type": "code",
   "execution_count": 1,
   "id": "737f3d80",
   "metadata": {
    "execution": {
     "iopub.execute_input": "2021-07-26T18:19:05.599292Z",
     "iopub.status.busy": "2021-07-26T18:19:05.595679Z",
     "iopub.status.idle": "2021-07-26T18:19:06.821920Z",
     "shell.execute_reply": "2021-07-26T18:19:06.821197Z",
     "shell.execute_reply.started": "2021-07-26T18:05:26.393069Z"
    },
    "papermill": {
     "duration": 1.261875,
     "end_time": "2021-07-26T18:19:06.822099",
     "exception": false,
     "start_time": "2021-07-26T18:19:05.560224",
     "status": "completed"
    },
    "tags": []
   },
   "outputs": [],
   "source": [
    "import numpy as np\n",
    "import pandas as pd\n",
    "import random\n",
    "import matplotlib.pyplot as plt\n",
    "import seaborn as sns\n",
    "from scipy import stats\n",
    "import warnings\n",
    "warnings.filterwarnings('ignore')"
   ]
  },
  {
   "cell_type": "markdown",
   "id": "edc235b5",
   "metadata": {
    "papermill": {
     "duration": 0.026481,
     "end_time": "2021-07-26T18:19:06.875312",
     "exception": false,
     "start_time": "2021-07-26T18:19:06.848831",
     "status": "completed"
    },
    "tags": []
   },
   "source": [
    "# Creating datapoints to test (Phase-1)"
   ]
  },
  {
   "cell_type": "code",
   "execution_count": 2,
   "id": "a798345e",
   "metadata": {
    "execution": {
     "iopub.execute_input": "2021-07-26T18:19:06.933104Z",
     "iopub.status.busy": "2021-07-26T18:19:06.932246Z",
     "iopub.status.idle": "2021-07-26T18:19:06.940709Z",
     "shell.execute_reply": "2021-07-26T18:19:06.941213Z",
     "shell.execute_reply.started": "2021-07-26T18:05:27.809370Z"
    },
    "papermill": {
     "duration": 0.040675,
     "end_time": "2021-07-26T18:19:06.941387",
     "exception": false,
     "start_time": "2021-07-26T18:19:06.900712",
     "status": "completed"
    },
    "tags": []
   },
   "outputs": [
    {
     "data": {
      "text/plain": [
       "array([[0.54340494, 0.27836939, 0.42451759, ..., 0.36073758, 0.03331551,\n",
       "        0.09242924]])"
      ]
     },
     "execution_count": 2,
     "metadata": {},
     "output_type": "execute_result"
    }
   ],
   "source": [
    "np.random.seed(100) #Seed for reproducibility\n",
    "\n",
    "#Creating uniform distribution of 10k length\n",
    "distri = np.random.rand(1,10000) \n",
    "\n",
    "#Creating Gaussian distribution of 10k length\n",
    "distri_gaussian = np.random.normal(loc=np.mean(distri),scale=np.std(distri),size=(1,10000)) \n",
    "\n",
    "#Creating uniform distribution of 10k length of different mean & Std Dev\n",
    "distri_gaussian_2 = np.random.normal(loc=np.mean(distri)+1,scale=np.std(distri)+0.5,size=(1,10000))\n",
    "\n",
    "#----------------------------------------------------------------------------------------------------\n",
    "distri[0:10]"
   ]
  },
  {
   "cell_type": "markdown",
   "id": "abd952bf",
   "metadata": {
    "papermill": {
     "duration": 0.025117,
     "end_time": "2021-07-26T18:19:06.992543",
     "exception": false,
     "start_time": "2021-07-26T18:19:06.967426",
     "status": "completed"
    },
    "tags": []
   },
   "source": [
    "# Visualizing the distributions"
   ]
  },
  {
   "cell_type": "code",
   "execution_count": 3,
   "id": "92ac2952",
   "metadata": {
    "execution": {
     "iopub.execute_input": "2021-07-26T18:19:07.050906Z",
     "iopub.status.busy": "2021-07-26T18:19:07.049990Z",
     "iopub.status.idle": "2021-07-26T18:19:07.800937Z",
     "shell.execute_reply": "2021-07-26T18:19:07.801419Z",
     "shell.execute_reply.started": "2021-07-26T18:05:32.149351Z"
    },
    "papermill": {
     "duration": 0.782051,
     "end_time": "2021-07-26T18:19:07.801631",
     "exception": false,
     "start_time": "2021-07-26T18:19:07.019580",
     "status": "completed"
    },
    "tags": []
   },
   "outputs": [
    {
     "data": {
      "text/plain": [
       "[Text(0.5, 0, 'Distribution'),\n",
       " Text(0, 0.5, 'Probability density'),\n",
       " Text(0.5, 1.0, 'KDE Comparison of all three distributions')]"
      ]
     },
     "execution_count": 3,
     "metadata": {},
     "output_type": "execute_result"
    },
    {
     "data": {
      "image/png": "[encoded data removed]",
      "text/plain": [
       "<Figure size 432x288 with 1 Axes>"
      ]
     },
     "metadata": {
      "needs_background": "light"
     },
     "output_type": "display_data"
    }
   ],
   "source": [
    "ax = sns.distplot(distri,kde=True,color='g')\n",
    "ax = sns.distplot(distri_gaussian,kde=True,color='b')\n",
    "ax = sns.distplot(distri_gaussian_2,kde=True,color='r')\n",
    "\n",
    "#-----------------------------------------------------------------------------------------------------------\n",
    "ax.set(xlabel='Distribution',ylabel='Probability density',title='KDE Comparison of all three distributions')"
   ]
  },
  {
   "cell_type": "markdown",
   "id": "9896401e",
   "metadata": {
    "papermill": {
     "duration": 0.026758,
     "end_time": "2021-07-26T18:19:07.855299",
     "exception": false,
     "start_time": "2021-07-26T18:19:07.828541",
     "status": "completed"
    },
    "tags": []
   },
   "source": [
    "# One-Sample t-test :\n",
    "- Used to test the if a hypothesised mean value about a population can be accepted based on the sample from the population available \n",
    "- The parametric version uses students t-distribution to calculate the critical value and the p-value \n",
    "\n",
    "\n",
    "- H0 - The mean of the population is x \n",
    "- Ha - The mean of the population is not x (two-sided)"
   ]
  },
  {
   "cell_type": "markdown",
   "id": "39c6a65c",
   "metadata": {
    "papermill": {
     "duration": 0.026684,
     "end_time": "2021-07-26T18:19:07.909225",
     "exception": false,
     "start_time": "2021-07-26T18:19:07.882541",
     "status": "completed"
    },
    "tags": []
   },
   "source": [
    "### Data Creation (Sample)"
   ]
  },
  {
   "cell_type": "code",
   "execution_count": 4,
   "id": "0d2b5a95",
   "metadata": {
    "execution": {
     "iopub.execute_input": "2021-07-26T18:19:07.968020Z",
     "iopub.status.busy": "2021-07-26T18:19:07.965618Z",
     "iopub.status.idle": "2021-07-26T18:19:08.154269Z",
     "shell.execute_reply": "2021-07-26T18:19:08.154674Z",
     "shell.execute_reply.started": "2021-07-26T18:06:38.123076Z"
    },
    "papermill": {
     "duration": 0.218846,
     "end_time": "2021-07-26T18:19:08.154819",
     "exception": false,
     "start_time": "2021-07-26T18:19:07.935973",
     "status": "completed"
    },
    "tags": []
   },
   "outputs": [
    {
     "name": "stdout",
     "output_type": "stream",
     "text": [
      "[21.25117263 31.71340202 35.76517901 28.73781982 34.90660393]\n"
     ]
    },
    {
     "data": {
      "text/plain": [
       "<AxesSubplot:ylabel='Density'>"
      ]
     },
     "execution_count": 4,
     "metadata": {},
     "output_type": "execute_result"
    },
    {
     "data": {
      "image/png": "[encoded data removed]",
      "text/plain": [
       "<Figure size 432x288 with 1 Axes>"
      ]
     },
     "metadata": {
      "needs_background": "light"
     },
     "output_type": "display_data"
    }
   ],
   "source": [
    "np.random.seed(100) #Reproducible results\n",
    "\n",
    "distri_norm = np.random.normal(30,5,1000) #mean=30, std dev=5,n=1k\n",
    "\n",
    "#--------------------------------------------------------------------\n",
    "print(distri_norm[0:5])\n",
    "sns.distplot(distri_norm)"
   ]
  },
  {
   "cell_type": "code",
   "execution_count": 5,
   "id": "606a0a70",
   "metadata": {
    "execution": {
     "iopub.execute_input": "2021-07-26T18:19:08.210154Z",
     "iopub.status.busy": "2021-07-26T18:19:08.206226Z",
     "iopub.status.idle": "2021-07-26T18:19:08.219462Z",
     "shell.execute_reply": "2021-07-26T18:19:08.218750Z",
     "shell.execute_reply.started": "2021-07-26T18:07:18.838848Z"
    },
    "papermill": {
     "duration": 0.044916,
     "end_time": "2021-07-26T18:19:08.219631",
     "exception": false,
     "start_time": "2021-07-26T18:19:08.174715",
     "status": "completed"
    },
    "tags": []
   },
   "outputs": [
    {
     "name": "stdout",
     "output_type": "stream",
     "text": [
      "Mean of sample : 29.916139213280452\n",
      "No of obs in sample : 1000\n",
      "Standard Dev of sample : 5.2318301664727\n",
      "Hypothesized mean of population : 34\n",
      "T-statistic : -24.684099678617265\n",
      "Critical t-values are: -1.9623414611334487 & 1.9623414611334487\n",
      "p-value associated with t_statistic : 2.0609936909297652e-105\n",
      "#------------------------ Status by manual code -----------------------------#\n",
      "H0 Rejected\n",
      "#----------- Benchmarking against Scipy package of the same functionality :-------#\n",
      "Ttest_1sampResult(statistic=-24.68409967861726, pvalue=2.0609936909299414e-105)\n"
     ]
    }
   ],
   "source": [
    "#UDF for manual creation of one-tailed t-test along with scipy benchmarking\n",
    "\n",
    "from scipy.stats import t #Importing t-table calculator\n",
    "\n",
    "\"\"\"\n",
    "H0 (Null Hypothesis) : The population mean is 34 i.e 34 is the accuracte estimate of mean of the population from which the sample is drawn\n",
    "H1 (Alternative Hypothesis) : The population mean not equal 34 (Two-tailed) \n",
    "\"\"\"\n",
    "\n",
    "def one_tailed_ttest(distri_norm_gen,hypo_mean_gen,mode,alpha = 0.05):\n",
    "\n",
    "    mean_sample = np.mean(distri_norm_gen)\n",
    "    print('Mean of sample :',mean_sample)\n",
    "\n",
    "    n = len(distri_norm_gen)\n",
    "    print('No of obs in sample :',n)\n",
    "\n",
    "    std_sample = np.std(distri_norm_gen, ddof=1) #ddof = no to subtract from n for degree of freedom, in this case n-1\n",
    "    print('Standard Dev of sample :',std_sample)\n",
    "\n",
    "    hypo_mean = hypo_mean_gen #The hypothesised mean of the population\n",
    "    print('Hypothesized mean of population :',hypo_mean) \n",
    "\n",
    "    #-----------------------------------------------------------------------------------------------------------------\n",
    "    #Calculating t-statistic for the test\n",
    "    t_stat = ((mean_sample - hypo_mean)/std_sample)*np.sqrt(n)\n",
    "    print('T-statistic :',t_stat)\n",
    "    \n",
    "    #Conditional approach for two-tailed/one-tailed system\n",
    "    if mode=='less':\n",
    "        \n",
    "        #Calculating critical t-value\n",
    "        t_critical = t.ppf(alpha,n-1)\n",
    "        print('Critical t-value:',t_critical)\n",
    "        \n",
    "        # confirm with cdf\n",
    "        p_val = t.cdf(t_stat,n-1)\n",
    "        print('p-value associated with t_statistic :',p_val)\n",
    "        \n",
    "        print('#------------------------ Status by manual code -----------------------------#')\n",
    "        if t_stat<=t_critical:\n",
    "            print('H0 Rejected')\n",
    "        else:\n",
    "            print('Cannot reject H0')\n",
    "        \n",
    "    elif mode=='greater':\n",
    "        #Calculating critical t-value\n",
    "        t_critical = t.ppf(1-alpha,n-1)\n",
    "        print('Critical t-value:',t_critical)\n",
    "\n",
    "        # confirm with cdf\n",
    "        p_val = 1-t.cdf(t_stat,n-1)\n",
    "        print('p-value associated with t_statistic :',p_val)\n",
    "        \n",
    "        print('#------------------------ Status by manual code -----------------------------#')\n",
    "        if t_stat>=t_critical:\n",
    "            print('H0 Rejected')\n",
    "        else:\n",
    "            print('Cannot reject H0')\n",
    "        \n",
    "    elif mode=='two-sided':\n",
    "        #Calculating critical t-value\n",
    "        t_critical = t.ppf(1-(alpha/2),n-1)\n",
    "        print('Critical t-values are:',-t_critical,'&',t_critical)\n",
    "    \n",
    "        # confirm with cdf\n",
    "        if t_stat>=t_critical:\n",
    "            p_val = 2*(1-t.cdf(t_stat,n-1)) #Twice since this time its on one-side,\n",
    "                                            #but the alt hypothesis is for both sides (greater & smaller)\n",
    "        elif t_stat<=-t_critical:\n",
    "            p_val = 2*t.cdf(t_stat,n-1) #Same explanation as above\n",
    "        \n",
    "        print('p-value associated with t_statistic :',p_val)\n",
    "\n",
    "        print('#------------------------ Status by manual code -----------------------------#')\n",
    "        if (t_stat<=-t_critical) | (t_stat>=t_critical):\n",
    "            print('H0 Rejected')\n",
    "        else:\n",
    "            print('Cannot reject H0')\n",
    "            \n",
    "    print('#----------- Benchmarking against Scipy package of the same functionality :-------#')\n",
    "    print(stats.ttest_1samp(a=distri_norm_gen,popmean=hypo_mean_gen,alternative=mode))\n",
    "    \n",
    "    \n",
    "#---------------------------------------------------------------------------------------------------------------\n",
    "#Invoking the UDF\n",
    "\n",
    "one_tailed_ttest(distri_norm_gen=distri_norm,hypo_mean_gen=34,mode='two-sided',alpha = 0.05)"
   ]
  },
  {
   "cell_type": "markdown",
   "id": "f24e7fc9",
   "metadata": {
    "papermill": {
     "duration": 0.029799,
     "end_time": "2021-07-26T18:19:08.278982",
     "exception": false,
     "start_time": "2021-07-26T18:19:08.249183",
     "status": "completed"
    },
    "tags": []
   },
   "source": [
    "### Findings : The test statistic as well p-value generated by both manual & scipy implementation are same and the hypothesis can indeed be rejected"
   ]
  },
  {
   "cell_type": "markdown",
   "id": "0213a07e",
   "metadata": {
    "papermill": {
     "duration": 0.029216,
     "end_time": "2021-07-26T18:19:08.338769",
     "exception": false,
     "start_time": "2021-07-26T18:19:08.309553",
     "status": "completed"
    },
    "tags": []
   },
   "source": [
    "# Two-Sampled tests :\n",
    "1. Unpaired two-sample tests :-\n",
    "    - Parametric Test (t-test)\n",
    "    - Non-Parametric Test (Wilcoxon Rank Sum test/Man Whitney U test)\n",
    "2. Paired two-sample tests (Used in A/B testing) :-\n",
    "    - Parametric Test (t-test)\n",
    "    - Non-Parametric Test (Wilcoxon Signed Rank test)\n",
    "    \n",
    "- H0 - The distributions are similar (drawn from same distribution)\n",
    "- Ha - The distributions are not similar (drawn from different ditributions)"
   ]
  },
  {
   "cell_type": "markdown",
   "id": "304f48bb",
   "metadata": {
    "papermill": {
     "duration": 0.028917,
     "end_time": "2021-07-26T18:19:08.398427",
     "exception": false,
     "start_time": "2021-07-26T18:19:08.369510",
     "status": "completed"
    },
    "tags": []
   },
   "source": [
    "### Generating datapoints of varied distributions to check the performance of the tests "
   ]
  },
  {
   "cell_type": "code",
   "execution_count": 6,
   "id": "93c98eac",
   "metadata": {
    "execution": {
     "iopub.execute_input": "2021-07-26T18:19:08.462340Z",
     "iopub.status.busy": "2021-07-26T18:19:08.459305Z",
     "iopub.status.idle": "2021-07-26T18:19:08.679362Z",
     "shell.execute_reply": "2021-07-26T18:19:08.678815Z",
     "shell.execute_reply.started": "2021-07-26T18:07:25.504893Z"
    },
    "papermill": {
     "duration": 0.251865,
     "end_time": "2021-07-26T18:19:08.679487",
     "exception": false,
     "start_time": "2021-07-26T18:19:08.427622",
     "status": "completed"
    },
    "tags": []
   },
   "outputs": [
    {
     "data": {
      "image/png": "[encoded data removed]",
      "text/plain": [
       "<Figure size 432x288 with 1 Axes>"
      ]
     },
     "metadata": {
      "needs_background": "light"
     },
     "output_type": "display_data"
    }
   ],
   "source": [
    "np.random.seed(100) #Set seed for consistent results\n",
    "\n",
    "#-----------------------------------------------------------------------------------------\n",
    "distri_norm_1 = np.random.normal(20,5,1000) #mean=20, std dev=5,n=1000\n",
    "distri_norm_2 = np.random.normal(18.8,5,1000) #mean=18.8, std dev=8,n=1000\n",
    "distri_norm_3 = np.random.normal(20,5,700) #mean=20, std dev=5,n=700\n",
    "distri_norm_4 = np.random.normal(26,9,1000) #mean=26, std dev=9,n=700\n",
    "distri_norm_5 = np.random.normal(13,9,1500) #mean=13, std dev=9,n=1500\n",
    "\n",
    "#-----------------------------------------------------------------------------------------\n",
    "\n",
    "dict_ = {1 : 'r',2 : 'b',\n",
    "         3 : 'g',4 : 'y',\n",
    "         5 : 'b'} \n",
    "\n",
    "#-----------------------------------------------------------------------------------------\n",
    "counter = 1\n",
    "for dist in [distri_norm_1,distri_norm_2,distri_norm_3,distri_norm_4,distri_norm_5]:\n",
    "    color_ = dict_[counter]\n",
    "    sns.distplot(dist,color=color_,hist=False)\n",
    "    counter += 1"
   ]
  },
  {
   "cell_type": "markdown",
   "id": "042e6a0e",
   "metadata": {
    "papermill": {
     "duration": 0.020914,
     "end_time": "2021-07-26T18:19:08.721136",
     "exception": false,
     "start_time": "2021-07-26T18:19:08.700222",
     "status": "completed"
    },
    "tags": []
   },
   "source": [
    "## Two-Tailed Parametric tests (Students t-tests):"
   ]
  },
  {
   "cell_type": "code",
   "execution_count": 7,
   "id": "03c26439",
   "metadata": {
    "execution": {
     "iopub.execute_input": "2021-07-26T18:19:08.778343Z",
     "iopub.status.busy": "2021-07-26T18:19:08.772684Z",
     "iopub.status.idle": "2021-07-26T18:19:08.795167Z",
     "shell.execute_reply": "2021-07-26T18:19:08.795703Z",
     "shell.execute_reply.started": "2021-07-26T18:07:46.358473Z"
    },
    "papermill": {
     "duration": 0.053784,
     "end_time": "2021-07-26T18:19:08.795892",
     "exception": false,
     "start_time": "2021-07-26T18:19:08.742108",
     "status": "completed"
    },
    "tags": []
   },
   "outputs": [
    {
     "name": "stdout",
     "output_type": "stream",
     "text": [
      "#------------- PAIRED 2 sample t-test --------------#\n",
      "Group 1 mean : 19.916139213280452\n",
      "Group 2 mean : 25.97363377056564\n",
      "No of Obs in groups : 1000\n",
      "S value : 10.672290860868104\n",
      "t-statistic : -17.948798402160826\n",
      "Critical t-values are: -1.9623414611334487 & 1.9623414611334487\n",
      "p-value associated with t_statistic : 0.0\n",
      "#------------------------ Status by manual code -----------------------------#\n",
      "H0 Rejected\n",
      "#----------- Benchmarking results from Scipy package of the same functionality :-------#\n",
      "Ttest_relResult(statistic=-17.948798402160815, pvalue=1.1830171602062667e-62)\n"
     ]
    }
   ],
   "source": [
    "def two_sample_ttest(group_1,group_2,mode,paired_status='unpaired',alpha=0.05): #Paired Status can be either 'paired'/'unpaired'\n",
    "\n",
    "    if paired_status=='unpaired': #For independent observations\n",
    "        \n",
    "        print('#------------- UN-PAIRED 2 sample t-test --------------#')\n",
    "        \n",
    "        #Calculation of parameters from Group 1 ------------------------\n",
    "        \n",
    "        g1_mean = np.mean(group_1)\n",
    "        print('Group 1 mean :',g1_mean)\n",
    "\n",
    "        g1_std = np.std(group_1,ddof=1)\n",
    "        print('Std Dev of group 1:',g1_std)\n",
    "\n",
    "        n_1 = len(group_1)\n",
    "        print('No of Obs in group 1:',n_1)\n",
    "\n",
    "        #Calculation of parameters from Group 2 ------------------------\n",
    "\n",
    "        g2_mean = np.mean(group_2)\n",
    "        print('Group 2 mean :',g2_mean)\n",
    "\n",
    "        g2_std = np.std(group_2,ddof=1)\n",
    "        print('Std Dev of group 2:',g2_std)\n",
    "\n",
    "        n_2 = len(group_2)\n",
    "        print('No of Obs in group 1:',n_2)\n",
    "\n",
    "        #---------------------------------------------------------------\n",
    "        combined_dof = n_1 + n_2 - 2\n",
    "        print('Combined DoF:',combined_dof)\n",
    "        \n",
    "        #Denominator for the t statistic to be calculated\n",
    "        denom_1 = np.sqrt(((g1_std**2)/n_1) + ((g2_std**2)/n_2))\n",
    "\n",
    "        t_stat = (g1_mean - g2_mean)/denom_1\n",
    "        print('t-statistic :',t_stat)\n",
    "\n",
    "        #--------------------------------------------------------------------------------------\n",
    "        #Conditional Statements for two-tailed or one-tailed. Generally two-tailed tests are used \n",
    "        \n",
    "        if mode=='less':\n",
    "            #Calculating critical t-value\n",
    "            t_critical = t.ppf(alpha,combined_dof)\n",
    "            print('Critical t-value:',t_critical)\n",
    "\n",
    "            # confirm with cdf\n",
    "            p_val = t.cdf(t_stat,combined_dof)\n",
    "            print('p-value associated with t_statistic :',p_val)\n",
    "\n",
    "            print('#------------------------ Status by manual code -----------------------------#')\n",
    "            if t_stat<=t_critical: #One can alternatively apply > condition on p-value \n",
    "                print('H0 Rejected')\n",
    "            else:\n",
    "                print('Cannot reject H0')\n",
    "\n",
    "\n",
    "        elif mode=='greater':\n",
    "            \n",
    "            #Calculating critical t-value\n",
    "            t_critical = t.ppf(1-alpha,combined_dof)\n",
    "            print('Critical t-value:',t_critical)\n",
    "\n",
    "            # confirm with cdf\n",
    "            p_val = 1-t.cdf(t_stat,combined_dof)\n",
    "            print('p-value associated with t_statistic :',p_val)\n",
    "\n",
    "            print('#------------------------ Status by manual code -----------------------------#')\n",
    "            if t_stat>=t_critical: #One can alternatively apply > condition on p-value\n",
    "                print('H0 Rejected')\n",
    "            else:\n",
    "                print('Cannot reject H0')\n",
    "\n",
    "        elif mode=='two-sided':\n",
    "            \n",
    "            #Calculating critical t-value\n",
    "            t_critical = t.ppf(1-(alpha/2),combined_dof)\n",
    "            print('Critical t-values are:',-t_critical,'&',t_critical)\n",
    "\n",
    "            p_val = 2 * (1-t.cdf(abs(t_stat), combined_dof)) \n",
    "            print('p-value associated with t_statistic :',p_val)\n",
    "\n",
    "            print('#------------------------ Status by manual code -----------------------------#')\n",
    "            if (t_stat<=-t_critical) | (t_stat>=t_critical):\n",
    "                print('H0 Rejected')\n",
    "            else:\n",
    "                print('Cannot reject H0')\n",
    "\n",
    "        print('#----------- Benchmarking results from Scipy package of the same functionality :-------#')\n",
    "        print(stats.ttest_ind(group_1,group_2,alternative=mode,equal_var=False))\n",
    "        \n",
    "    elif paired_status=='paired':\n",
    "        \n",
    "        print('#------------- PAIRED 2 sample t-test --------------#')\n",
    "        \n",
    "        assert len(group_1)==len(group_2), \"Length of distri not matching\" #For paired tests, the lengths of groups must be same\n",
    "        \n",
    "        g1_mean = np.mean(group_1)\n",
    "        print('Group 1 mean :',g1_mean)\n",
    "        \n",
    "        g2_mean = np.mean(group_2)\n",
    "        print('Group 2 mean :',g2_mean)\n",
    "        \n",
    "        n = len(group_1)\n",
    "        print('No of Obs in groups :',n)\n",
    "        \n",
    "        d1 = np.sum(np.square(group_1-group_2))\n",
    "        d2 = np.sum(group_1-group_2)\n",
    "        \n",
    "        s = np.sqrt((d1 - (d2**2/n))/(n-1))\n",
    "        print('S value :',s)\n",
    "        \n",
    "        combined_dof = n-1 \n",
    "        \n",
    "        t_stat = (g1_mean - g2_mean)/np.sqrt((s**2)/n)\n",
    "        print('t-statistic :',t_stat)\n",
    "        \n",
    "        #--------------------------------------------------------------------------------------\n",
    "        #Conditional statement for two-tailed or on-tailed\n",
    "        \n",
    "        if mode=='less':\n",
    "            #Calculating critical t-value\n",
    "            t_critical = t.ppf(alpha,combined_dof)\n",
    "            print('Critical t-value:',t_critical)\n",
    "\n",
    "            # confirm with cdf\n",
    "            p_val = t.cdf(t_stat,combined_dof)\n",
    "            print('p-value associated with t_statistic :',p_val)\n",
    "\n",
    "            print('#------------------------ Status by manual code -----------------------------#')\n",
    "            if t_stat<=t_critical:\n",
    "                print('H0 Rejected')\n",
    "            else:\n",
    "                print('Cannot reject H0')\n",
    "\n",
    "\n",
    "        elif mode=='greater':\n",
    "            #Calculating critical t-value\n",
    "            t_critical = t.ppf(1-alpha,combined_dof)\n",
    "            print('Critical t-value:',t_critical)\n",
    "\n",
    "            # confirm with cdf\n",
    "            p_val = 1-t.cdf(t_stat,combined_dof)\n",
    "            print('p-value associated with t_statistic :',p_val)\n",
    "\n",
    "            print('#------------------------ Status by manual code -----------------------------#')\n",
    "            if t_stat>=t_critical:\n",
    "                print('H0 Rejected')\n",
    "            else:\n",
    "                print('Cannot reject H0')\n",
    "\n",
    "        elif mode=='two-sided':\n",
    "            #Calculating critical t-value\n",
    "            t_critical = t.ppf(1-(alpha/2),combined_dof)\n",
    "            print('Critical t-values are:',-t_critical,'&',t_critical)\n",
    "\n",
    "            p_val = (1 - t.cdf(abs(t_stat), combined_dof)) * 2.0\n",
    "            print('p-value associated with t_statistic :',p_val)\n",
    "\n",
    "            print('#------------------------ Status by manual code -----------------------------#')\n",
    "            if (t_stat<=-t_critical) | (t_stat>=t_critical):\n",
    "                print('H0 Rejected')\n",
    "            else:\n",
    "                print('Cannot reject H0')\n",
    "\n",
    "        print('#----------- Benchmarking results from Scipy package of the same functionality :-------#')\n",
    "        print(stats.ttest_rel(group_1,group_2,alternative=mode))        \n",
    "\n",
    "\n",
    "\n",
    "#----------------------------------------------------------------------------------------------------------\n",
    "#Invoking the above UDF for parametric two-tailed tests\n",
    "\n",
    "two_sample_ttest(group_1=distri_norm_1,group_2=distri_norm_4,mode='two-sided',paired_status='paired',alpha=0.05)"
   ]
  },
  {
   "cell_type": "markdown",
   "id": "f038b342",
   "metadata": {
    "papermill": {
     "duration": 0.030817,
     "end_time": "2021-07-26T18:19:08.857862",
     "exception": false,
     "start_time": "2021-07-26T18:19:08.827045",
     "status": "completed"
    },
    "tags": []
   },
   "source": [
    "### Findings - The t-statistic and p-values from both manual and scipy implementations are matching (for p-value, the difference is very low)"
   ]
  },
  {
   "cell_type": "markdown",
   "id": "5dd9ac2a",
   "metadata": {
    "papermill": {
     "duration": 0.030024,
     "end_time": "2021-07-26T18:19:08.918662",
     "exception": false,
     "start_time": "2021-07-26T18:19:08.888638",
     "status": "completed"
    },
    "tags": []
   },
   "source": [
    "## Two-Tailed Non-Parametric Tests :\n",
    "1. Man-Whitney U test (unpaired)\n",
    "2. Wilcoxon Signed Rank test (Paired) \n",
    "\n",
    "- H0 - The distributions are similar (drawn from same distribution)\n",
    "- Ha - The distributions are not similar (drawn from different ditributions)"
   ]
  },
  {
   "cell_type": "code",
   "execution_count": 8,
   "id": "fe020857",
   "metadata": {
    "execution": {
     "iopub.execute_input": "2021-07-26T18:19:08.990261Z",
     "iopub.status.busy": "2021-07-26T18:19:08.989621Z",
     "iopub.status.idle": "2021-07-26T18:19:08.992597Z",
     "shell.execute_reply": "2021-07-26T18:19:08.992206Z",
     "shell.execute_reply.started": "2021-07-26T18:08:05.933139Z"
    },
    "papermill": {
     "duration": 0.04304,
     "end_time": "2021-07-26T18:19:08.992710",
     "exception": false,
     "start_time": "2021-07-26T18:19:08.949670",
     "status": "completed"
    },
    "tags": []
   },
   "outputs": [],
   "source": [
    "def rank_sum_fn(a,b): #To execute the rank sum process used in Man-Whitney Test\n",
    "\n",
    "    print('Group 1 length :',len(a))\n",
    "    print('Group 2 length :',len(b))\n",
    "    \n",
    "    #---------------------------------------------------------------------------------------------------------\n",
    "    df = pd.DataFrame()\n",
    "    df['a'] = a\n",
    "    df=df.append(pd.DataFrame(b,columns=['b']))\n",
    "    df['combined'] = np.where(df['a'].isnull()==True,df['b'],np.where(df['b'].isnull()==True,df['a'],np.nan))\n",
    "    df.sort_values(['combined'],ascending=True,inplace=True)\n",
    "    df['rank'] = df['combined'].rank(method='average',na_option='keep')\n",
    "    \n",
    "    #---------------------------------------------------------------------------------------------------------\n",
    "    rank_sum_a = df[df['a'].isnull()==False]['rank'].sum()\n",
    "    rank_sum_b = df[df['b'].isnull()==False]['rank'].sum()\n",
    "\n",
    "    print('Group 1 rank sum :',rank_sum_a)\n",
    "    print('Group 2 rank sum :',rank_sum_b)\n",
    "    \n",
    "    return rank_sum_a,rank_sum_b"
   ]
  },
  {
   "cell_type": "code",
   "execution_count": 9,
   "id": "2d958abd",
   "metadata": {
    "execution": {
     "iopub.execute_input": "2021-07-26T18:19:09.050215Z",
     "iopub.status.busy": "2021-07-26T18:19:09.049462Z",
     "iopub.status.idle": "2021-07-26T18:19:09.073473Z",
     "shell.execute_reply": "2021-07-26T18:19:09.074007Z",
     "shell.execute_reply.started": "2021-07-26T18:12:31.080621Z"
    },
    "papermill": {
     "duration": 0.060866,
     "end_time": "2021-07-26T18:19:09.074213",
     "exception": false,
     "start_time": "2021-07-26T18:19:09.013347",
     "status": "completed"
    },
    "tags": []
   },
   "outputs": [
    {
     "name": "stdout",
     "output_type": "stream",
     "text": [
      "Group 1 length : 1000\n",
      "Group 2 length : 1000\n",
      "Group 1 rank sum : 1059485.0\n",
      "Group 2 rank sum : 941515.0\n",
      "U statistic : 558985.0\n",
      "------- Benchmarking the statistic value from scipy-------\n",
      "MannwhitneyuResult(statistic=558985.0, pvalue=4.929218713297083e-06)\n"
     ]
    },
    {
     "data": {
      "text/plain": [
       "558985.0"
      ]
     },
     "execution_count": 9,
     "metadata": {},
     "output_type": "execute_result"
    }
   ],
   "source": [
    "def man_whitney_u(group_1,group_2,mode): #To execute till test-statistic calculation only\n",
    "    \n",
    "    n1 = len(group_1)\n",
    "    n2 = len(group_2)\n",
    "    \n",
    "    r1,r2 = rank_sum_fn(group_1,group_2) #Utilising the rank sum UDF defined above\n",
    "    \n",
    "    u1 = r1 - n1*(n1+1)/2                # method 2, step 3\n",
    "    u2 = n1 * n2 - u1    \n",
    "    \n",
    "    u = max(u1,u2)\n",
    "    \n",
    "    print('U statistic :',u)\n",
    "    \n",
    "    p = stats.norm.sf(u) #Needs to be corrected for ties between groups\n",
    "    #print(p)\n",
    "    \n",
    "    print('------- Benchmarking the statistic value from scipy-------')\n",
    "    print(stats.mannwhitneyu(x=group_1,y=group_2,alternative=mode))\n",
    "    \n",
    "    return u\n",
    "\n",
    "man_whitney_u(group_1=distri_norm_1,group_2=distri_norm_2,mode='two-sided')"
   ]
  },
  {
   "cell_type": "markdown",
   "id": "03edeaf5",
   "metadata": {
    "papermill": {
     "duration": 0.032797,
     "end_time": "2021-07-26T18:19:09.139415",
     "exception": false,
     "start_time": "2021-07-26T18:19:09.106618",
     "status": "completed"
    },
    "tags": []
   },
   "source": [
    "## Wilcoxon Signed Rank Test (yet to be added)"
   ]
  },
  {
   "cell_type": "markdown",
   "id": "5dc01fd8",
   "metadata": {
    "papermill": {
     "duration": 0.031812,
     "end_time": "2021-07-26T18:19:09.203453",
     "exception": false,
     "start_time": "2021-07-26T18:19:09.171641",
     "status": "completed"
    },
    "tags": []
   },
   "source": [
    "# Three or more samples test :\n",
    "1. Parametric :-\n",
    "    - ANOVA (Only One-way is described here) + Tukeys HSD as post-hoc test\n",
    "2. Non-Parametric :-\n",
    "    - Kruskal Wallis + Dunn's as post-hoc test\n",
    "    - Friedmann's + Dunn's as post-hoc test   \n",
    "    \n",
    "- H0 - The distributions are similar (drawn from same distribution)\n",
    "- Ha - The distributions are not similar (drawn from different ditributions)"
   ]
  },
  {
   "cell_type": "markdown",
   "id": "d4d5fed3",
   "metadata": {
    "papermill": {
     "duration": 0.031051,
     "end_time": "2021-07-26T18:19:09.266300",
     "exception": false,
     "start_time": "2021-07-26T18:19:09.235249",
     "status": "completed"
    },
    "tags": []
   },
   "source": [
    "## One-Way ANOVA (yet to be added)"
   ]
  },
  {
   "cell_type": "code",
   "execution_count": 10,
   "id": "5c2bb843",
   "metadata": {
    "execution": {
     "iopub.execute_input": "2021-07-26T18:19:09.334396Z",
     "iopub.status.busy": "2021-07-26T18:19:09.333724Z",
     "iopub.status.idle": "2021-07-26T18:19:09.338706Z",
     "shell.execute_reply": "2021-07-26T18:19:09.338045Z",
     "shell.execute_reply.started": "2021-07-15T11:49:07.143553Z"
    },
    "papermill": {
     "duration": 0.041235,
     "end_time": "2021-07-26T18:19:09.338856",
     "exception": false,
     "start_time": "2021-07-26T18:19:09.297621",
     "status": "completed"
    },
    "tags": []
   },
   "outputs": [],
   "source": [
    "#One-Way ANOVA "
   ]
  },
  {
   "cell_type": "markdown",
   "id": "04e85900",
   "metadata": {
    "papermill": {
     "duration": 0.031287,
     "end_time": "2021-07-26T18:19:09.401791",
     "exception": false,
     "start_time": "2021-07-26T18:19:09.370504",
     "status": "completed"
    },
    "tags": []
   },
   "source": [
    "## Kruskal Wallis Omnibus Test (Un-Paired) - for 3 groups only"
   ]
  },
  {
   "cell_type": "code",
   "execution_count": 11,
   "id": "25ae7268",
   "metadata": {
    "execution": {
     "iopub.execute_input": "2021-07-26T18:19:09.480277Z",
     "iopub.status.busy": "2021-07-26T18:19:09.474953Z",
     "iopub.status.idle": "2021-07-26T18:19:09.484412Z",
     "shell.execute_reply": "2021-07-26T18:19:09.484941Z",
     "shell.execute_reply.started": "2021-07-26T18:12:38.253502Z"
    },
    "papermill": {
     "duration": 0.051279,
     "end_time": "2021-07-26T18:19:09.485125",
     "exception": false,
     "start_time": "2021-07-26T18:19:09.433846",
     "status": "completed"
    },
    "tags": []
   },
   "outputs": [],
   "source": [
    "def rank_sum_fn_3(a,b,c): #UDF to calculate rank sums of 3 groups (an extensionof a similar function above)\n",
    "\n",
    "    print('Group 1 length :',len(a))\n",
    "    print('Group 2 length :',len(b))\n",
    "    print('Group 3 length :',len(c))\n",
    "    \n",
    "    #---------------------------------------------------------------------------------------------------------\n",
    "    #Creating a dataframe for ease of simultaneous operations\n",
    "    df = pd.DataFrame()\n",
    "    df['a'] = a\n",
    "    df=df.append(pd.DataFrame(b,columns=['b']))\n",
    "    df=df.append(pd.DataFrame(c,columns=['c']))\n",
    "    \n",
    "    df['combined'] = np.where((df['a'].isnull()==True) & (df['c'].isnull()==True),df['b'],\n",
    "                              np.where((df['b'].isnull()==True) & (df['a'].isnull()==True),df['c'],\n",
    "                                      np.where((df['b'].isnull()==True) & (df['c'].isnull()==True),df['a'],np.nan)))\n",
    "    \n",
    "    df.sort_values(['combined'],ascending=True,inplace=True)\n",
    "    df['rank'] = df['combined'].rank(method='average',na_option='keep')\n",
    "    \n",
    "    #---------------------------------------------------------------------------------------------------------\n",
    "    #Extracting rank sums\n",
    "    rank_sum_a = df[df['a'].isnull()==False]['rank'].sum()\n",
    "    rank_sum_b = df[df['b'].isnull()==False]['rank'].sum()\n",
    "    rank_sum_c = df[df['c'].isnull()==False]['rank'].sum()\n",
    "    \n",
    "    print('Group 1 rank sum :',rank_sum_a)\n",
    "    print('Group 2 rank sum :',rank_sum_b)\n",
    "    print('Group 3 rank sum :',rank_sum_c)\n",
    "    \n",
    "    return rank_sum_a,rank_sum_b,rank_sum_c"
   ]
  },
  {
   "cell_type": "code",
   "execution_count": 12,
   "id": "d77608e9",
   "metadata": {
    "execution": {
     "iopub.execute_input": "2021-07-26T18:19:09.569786Z",
     "iopub.status.busy": "2021-07-26T18:19:09.557339Z",
     "iopub.status.idle": "2021-07-26T18:19:09.584529Z",
     "shell.execute_reply": "2021-07-26T18:19:09.583680Z",
     "shell.execute_reply.started": "2021-07-26T18:12:39.963307Z"
    },
    "papermill": {
     "duration": 0.067834,
     "end_time": "2021-07-26T18:19:09.584730",
     "exception": false,
     "start_time": "2021-07-26T18:19:09.516896",
     "status": "completed"
    },
    "tags": []
   },
   "outputs": [
    {
     "name": "stdout",
     "output_type": "stream",
     "text": [
      "Group 1 length : 1000\n",
      "Group 2 length : 1000\n",
      "Group 3 length : 700\n",
      "Group 1 rank sum : 1390330.0\n",
      "Group 2 rank sum : 1230386.0\n",
      "Group 3 rank sum : 1025634.0\n",
      "#----------- Results from manual code ------------#\n",
      "Can reject H0, p-value: 9.727384453483978e-10 h_stat: 41.501811752730646 critical_h_stat: 0.10258658877510106\n",
      "#----------- Benchmarking from scipy module --------------#\n",
      "9.727384512873298e-10 41.501811752730646\n"
     ]
    }
   ],
   "source": [
    "def kruskal_wallis_omnibus(group_1,group_2,group_3,alpha=0.05):\n",
    "    \n",
    "    n1 = len(group_1)\n",
    "    n2 = len(group_2)\n",
    "    n3 = len(group_3)\n",
    "    \n",
    "    n = n1+n2+n3\n",
    "    \n",
    "    r1,r2,r3 = rank_sum_fn_3(group_1,group_2,group_3) #Calculating the rank-sum of all the groups\n",
    "    \n",
    "    cum_sum = ((r1**2)/n1) + ((r2**2)/n2) + ((r3**2)/n3) #\n",
    "    \n",
    "    h_stat = 12/(n*(n+1)) * cum_sum - 3*(n+1)\n",
    "    \n",
    "    h_critical = stats.chi2.ppf(alpha,2) #dof for KW is no of groups - 1\n",
    "    \n",
    "    p_val = (1.0 - stats.chi2.cdf(h_stat, 2)) \n",
    "    \n",
    "    print('#----------- Results from manual code ------------#')\n",
    "    if h_stat>h_critical:\n",
    "        \n",
    "        print('Can reject H0, p-value:',p_val,'h_stat:',h_stat,'critical_h_stat:',h_critical)\n",
    "        \n",
    "    else:\n",
    "        \n",
    "        print('Cannot reject H0, p-value:',p_val,'h_stat:',h_stat,'critical_h_stat:',h_critical)\n",
    "        \n",
    "        \n",
    "    print('#----------- Benchmarking from scipy module --------------#')\n",
    "    stat,p = stats.kruskal(group_1,group_2,group_3)\n",
    "    print(p,stat)\n",
    "    \n",
    "    \n",
    "#-------------------------------------------------------------------------------------------------------\n",
    "#Invoking the above UDF\n",
    "\n",
    "kruskal_wallis_omnibus(group_1=distri_norm_1,\n",
    "                       group_2=distri_norm_2,\n",
    "                       group_3=distri_norm_3,\n",
    "                       alpha=0.05)"
   ]
  },
  {
   "cell_type": "markdown",
   "id": "ece86cf8",
   "metadata": {
    "papermill": {
     "duration": 0.031575,
     "end_time": "2021-07-26T18:19:09.648408",
     "exception": false,
     "start_time": "2021-07-26T18:19:09.616833",
     "status": "completed"
    },
    "tags": []
   },
   "source": [
    "### Finding : The test statistic & p-value from manual and scipy implementation are matching"
   ]
  },
  {
   "cell_type": "markdown",
   "id": "2ae4e311",
   "metadata": {
    "papermill": {
     "duration": 0.031658,
     "end_time": "2021-07-26T18:19:09.712666",
     "exception": false,
     "start_time": "2021-07-26T18:19:09.681008",
     "status": "completed"
    },
    "tags": []
   },
   "source": [
    "## Friedman's Omnibus Test (Paired) - for 3 groups only"
   ]
  },
  {
   "cell_type": "code",
   "execution_count": 13,
   "id": "c4e5a461",
   "metadata": {
    "execution": {
     "iopub.execute_input": "2021-07-26T18:19:09.798150Z",
     "iopub.status.busy": "2021-07-26T18:19:09.797252Z",
     "iopub.status.idle": "2021-07-26T18:19:09.904668Z",
     "shell.execute_reply": "2021-07-26T18:19:09.904121Z",
     "shell.execute_reply.started": "2021-07-26T18:12:52.883062Z"
    },
    "papermill": {
     "duration": 0.159959,
     "end_time": "2021-07-26T18:19:09.904790",
     "exception": false,
     "start_time": "2021-07-26T18:19:09.744831",
     "status": "completed"
    },
    "tags": []
   },
   "outputs": [
    {
     "name": "stdout",
     "output_type": "stream",
     "text": [
      "#----------- Results from manual code ------------#\n",
      "Can reject H0, p-value: 0.0 h_stat: 324.34200000000055 critical_h_stat: 0.10258658877510106\n",
      "#----------- Benchamrking from scipy module --------------#\n",
      "3.715605313481779e-71 324.34200000000055\n"
     ]
    }
   ],
   "source": [
    "def friedmans_omnibus(group_1,group_2,group_3,alpha=0.05):\n",
    "    \n",
    "    assert len(group_1)==len(group_2)==len(group_3), \"The group lengths are dissimilar - Please check\"\n",
    "    \n",
    "    n = len(group_1)\n",
    "    \n",
    "    df = pd.DataFrame()\n",
    "    \n",
    "    df['a'] = list(group_1)\n",
    "    df['b'] = list(group_2)\n",
    "    df['c'] = list(group_3)\n",
    "    \n",
    "    df = df.rank(axis=1, ascending=True).astype(int)\n",
    "    \n",
    "    a_rank_sum = df['a'].sum()\n",
    "    b_rank_sum = df['b'].sum()\n",
    "    c_rank_sum = df['c'].sum()\n",
    "    \n",
    "    fm_stat = (12/(n * 3 * 4)) * (a_rank_sum**2 + b_rank_sum**2 + c_rank_sum**2) - (3 * n * 4)\n",
    "    \n",
    "    fm_critical = stats.chi2.ppf(alpha,2) #dof for friedman is no of groups - 1\n",
    "    \n",
    "    p_val = (1.0 - stats.chi2.cdf(fm_stat, 2)) \n",
    "    \n",
    "    print('#----------- Results from manual code ------------#')\n",
    "    if fm_stat>fm_critical:\n",
    "        \n",
    "        print('Can reject H0, p-value:',p_val,'h_stat:',fm_stat,'critical_h_stat:',fm_critical)\n",
    "        \n",
    "    else:\n",
    "        \n",
    "        print('Cannot reject H0, p-value:',p_val,'h_stat:',fm_stat,'critical_h_stat:',fm_critical)\n",
    "        \n",
    "        \n",
    "    print('#----------- Benchamrking from scipy module --------------#')\n",
    "    stat,p = stats.friedmanchisquare(group_1,group_2,group_3)\n",
    "    print(p,stat)\n",
    "    \n",
    "    \n",
    "\n",
    "    \n",
    "friedmans_omnibus(distri_norm_1,distri_norm_2,distri_norm_4,alpha=0.05)    "
   ]
  },
  {
   "cell_type": "markdown",
   "id": "8973d6a9",
   "metadata": {
    "papermill": {
     "duration": 0.021682,
     "end_time": "2021-07-26T18:19:09.948972",
     "exception": false,
     "start_time": "2021-07-26T18:19:09.927290",
     "status": "completed"
    },
    "tags": []
   },
   "source": [
    "### Findings : The test statistic and the p-value are matching (difference in p-val is very low) "
   ]
  },
  {
   "cell_type": "markdown",
   "id": "07cd7657",
   "metadata": {
    "papermill": {
     "duration": 0.021894,
     "end_time": "2021-07-26T18:19:09.993202",
     "exception": false,
     "start_time": "2021-07-26T18:19:09.971308",
     "status": "completed"
    },
    "tags": []
   },
   "source": [
    "# END"
   ]
  },
  {
   "cell_type": "code",
   "execution_count": null,
   "id": "fe0a50aa",
   "metadata": {
    "papermill": {
     "duration": 0.022837,
     "end_time": "2021-07-26T18:19:10.038837",
     "exception": false,
     "start_time": "2021-07-26T18:19:10.016000",
     "status": "completed"
    },
    "tags": []
   },
   "outputs": [],
   "source": []
  }
 ],
 "metadata": {
  "kernelspec": {
   "display_name": "Python 3",
   "language": "python",
   "name": "python3"
  },
  "language_info": {
   "codemirror_mode": {
    "name": "ipython",
    "version": 3
   },
   "file_extension": ".py",
   "mimetype": "text/x-python",
   "name": "python",
   "nbconvert_exporter": "python",
   "pygments_lexer": "ipython3",
   "version": "3.7.10"
  },
  "papermill": {
   "default_parameters": {},
   "duration": 13.992525,
   "end_time": "2021-07-26T18:19:11.673818",
   "environment_variables": {},
   "exception": null,
   "input_path": "__notebook__.ipynb",
   "output_path": "__notebook__.ipynb",
   "parameters": {},
   "start_time": "2021-07-26T18:18:57.681293",
   "version": "2.3.3"
  }
 },
 "nbformat": 4,
 "nbformat_minor": 5
}
