{
 "cells": [
  {
   "cell_type": "markdown",
   "id": "649d5d08",
   "metadata": {
    "papermill": {
     "duration": 0.046352,
     "end_time": "2021-07-26T05:57:58.741941",
     "exception": false,
     "start_time": "2021-07-26T05:57:58.695589",
     "status": "completed"
    },
    "tags": []
   },
   "source": [
    "# Importing libraries"
   ]
  },
  {
   "cell_type": "code",
   "execution_count": 1,
   "id": "fa5fa229",
   "metadata": {
    "execution": {
     "iopub.execute_input": "2021-07-26T05:57:58.821270Z",
     "iopub.status.busy": "2021-07-26T05:57:58.818694Z",
     "iopub.status.idle": "2021-07-26T05:57:59.766956Z",
     "shell.execute_reply": "2021-07-26T05:57:59.765846Z",
     "shell.execute_reply.started": "2021-07-26T05:39:03.478542Z"
    },
    "papermill": {
     "duration": 0.990487,
     "end_time": "2021-07-26T05:57:59.767132",
     "exception": false,
     "start_time": "2021-07-26T05:57:58.776645",
     "status": "completed"
    },
    "tags": []
   },
   "outputs": [],
   "source": [
    "import numpy as np\n",
    "import pandas as pd\n",
    "import random\n",
    "import matplotlib.pyplot as plt\n",
    "import seaborn as sns\n",
    "from scipy import stats\n",
    "\n",
    "import warnings\n",
    "warnings.filterwarnings('ignore')"
   ]
  },
  {
   "cell_type": "code",
   "execution_count": 2,
   "id": "09496254",
   "metadata": {
    "execution": {
     "iopub.execute_input": "2021-07-26T05:57:59.838279Z",
     "iopub.status.busy": "2021-07-26T05:57:59.837599Z",
     "iopub.status.idle": "2021-07-26T05:58:16.316308Z",
     "shell.execute_reply": "2021-07-26T05:58:16.315774Z",
     "shell.execute_reply.started": "2021-07-26T05:39:04.559639Z"
    },
    "papermill": {
     "duration": 16.515884,
     "end_time": "2021-07-26T05:58:16.316473",
     "exception": false,
     "start_time": "2021-07-26T05:57:59.800589",
     "status": "completed"
    },
    "tags": []
   },
   "outputs": [
    {
     "name": "stdout",
     "output_type": "stream",
     "text": [
      "Collecting scikit_posthocs\r\n",
      "  Downloading scikit-posthocs-0.6.7.tar.gz (43 kB)\r\n",
      "\u001b[K     |████████████████████████████████| 43 kB 718 kB/s \r\n",
      "\u001b[?25h  Installing build dependencies ... \u001b[?25l-\b \b\\\b \b|\b \b/\b \bdone\r\n",
      "\u001b[?25h  Getting requirements to build wheel ... \u001b[?25l-\b \bdone\r\n",
      "\u001b[?25h    Preparing wheel metadata ... \u001b[?25l-\b \bdone\r\n",
      "\u001b[?25hRequirement already satisfied: scipy in /opt/conda/lib/python3.7/site-packages (from scikit_posthocs) (1.6.3)\r\n",
      "Requirement already satisfied: pandas>=0.20.0 in /opt/conda/lib/python3.7/site-packages (from scikit_posthocs) (1.2.4)\r\n",
      "Requirement already satisfied: matplotlib in /opt/conda/lib/python3.7/site-packages (from scikit_posthocs) (3.4.2)\r\n",
      "Requirement already satisfied: statsmodels in /opt/conda/lib/python3.7/site-packages (from scikit_posthocs) (0.12.2)\r\n",
      "Requirement already satisfied: seaborn in /opt/conda/lib/python3.7/site-packages (from scikit_posthocs) (0.11.1)\r\n",
      "Requirement already satisfied: numpy in /opt/conda/lib/python3.7/site-packages (from scikit_posthocs) (1.19.5)\r\n",
      "Requirement already satisfied: python-dateutil>=2.7.3 in /opt/conda/lib/python3.7/site-packages (from pandas>=0.20.0->scikit_posthocs) (2.8.1)\r\n",
      "Requirement already satisfied: pytz>=2017.3 in /opt/conda/lib/python3.7/site-packages (from pandas>=0.20.0->scikit_posthocs) (2021.1)\r\n",
      "Requirement already satisfied: six>=1.5 in /opt/conda/lib/python3.7/site-packages (from python-dateutil>=2.7.3->pandas>=0.20.0->scikit_posthocs) (1.15.0)\r\n",
      "Requirement already satisfied: pillow>=6.2.0 in /opt/conda/lib/python3.7/site-packages (from matplotlib->scikit_posthocs) (8.2.0)\r\n",
      "Requirement already satisfied: cycler>=0.10 in /opt/conda/lib/python3.7/site-packages (from matplotlib->scikit_posthocs) (0.10.0)\r\n",
      "Requirement already satisfied: kiwisolver>=1.0.1 in /opt/conda/lib/python3.7/site-packages (from matplotlib->scikit_posthocs) (1.3.1)\r\n",
      "Requirement already satisfied: pyparsing>=2.2.1 in /opt/conda/lib/python3.7/site-packages (from matplotlib->scikit_posthocs) (2.4.7)\r\n",
      "Requirement already satisfied: patsy>=0.5 in /opt/conda/lib/python3.7/site-packages (from statsmodels->scikit_posthocs) (0.5.1)\r\n",
      "Building wheels for collected packages: scikit-posthocs\r\n",
      "  Building wheel for scikit-posthocs (PEP 517) ... \u001b[?25l-\b \bdone\r\n",
      "\u001b[?25h  Created wheel for scikit-posthocs: filename=scikit_posthocs-0.6.7-py3-none-any.whl size=37903 sha256=e505c6d2df06b72ec230b9aa57dc532a72bb3a4f1a8e4a3fd77708703d1ec57e\r\n",
      "  Stored in directory: /root/.cache/pip/wheels/b8/21/e6/f39794d4a6ee3d3cc5146ca80b5cd949452ad4a8fde9f6b9fc\r\n",
      "Successfully built scikit-posthocs\r\n",
      "Installing collected packages: scikit-posthocs\r\n",
      "Successfully installed scikit-posthocs-0.6.7\r\n",
      "\u001b[33mWARNING: Running pip as root will break packages and permissions. You should install packages reliably by using venv: https://pip.pypa.io/warnings/venv\u001b[0m\r\n"
     ]
    }
   ],
   "source": [
    "# conda install -c conda-forge scikit_posthocs\n",
    "!pip install scikit_posthocs"
   ]
  },
  {
   "cell_type": "markdown",
   "id": "81d35340",
   "metadata": {
    "papermill": {
     "duration": 0.038066,
     "end_time": "2021-07-26T05:58:16.392901",
     "exception": false,
     "start_time": "2021-07-26T05:58:16.354835",
     "status": "completed"
    },
    "tags": []
   },
   "source": [
    "# Lets define the broad classification of hypothesis test based in the following manner:\n",
    "1. Continuous (Interval/Ratio)\n",
    "    - Normality Tests (Shapiro Wilks, Anderson-Darling)\n",
    "    - One-Sampled (t-test)\n",
    "    - Two-Sampled\n",
    "        - Un-paired \n",
    "            - Parametric (t-test)\n",
    "            - Non-parametric (Man-Whitney U)\n",
    "        - Paired\n",
    "            - Parametric (t-test)\n",
    "            - Non-parametric (Wilcoxon-signed-rank test)\n",
    "    - Three or more sampled\n",
    "        - Un-paired\n",
    "            - Parametric (One-Way Anova + Tukey's test)\n",
    "            - Non-parametric (Kruskal-Wallis + Dunn's test)\n",
    "        - Paired\n",
    "            - Non-parametric (Friedman's + Nemenyi test)\n",
    "2. Categorical (Ordinal/Nominal)\n",
    "    - Un-paired (Chi-square test)\n",
    "    - Paired (McNeamar Test)\n",
    "3. Power Tests : \n",
    "    - Power test of one sample and two sample un-paired t test (Power & Min Sample size)\n",
    "    - Power test of paired two sample un-paired t test (Power & Min Sample size)\n",
    "    - Power test of one-way unpaired ANOVA (Power & Min Sample size)\n",
    "4. Multiple Correction Techniques (Bonferroni and Sidak for FWER reduction)\n",
    "\n",
    "# For certain hypothesis tests, find the from scratch implementations here (to better understand behind the screen) (YTD)"
   ]
  },
  {
   "cell_type": "markdown",
   "id": "ede341cf",
   "metadata": {
    "papermill": {
     "duration": 0.037484,
     "end_time": "2021-07-26T05:58:16.467369",
     "exception": false,
     "start_time": "2021-07-26T05:58:16.429885",
     "status": "completed"
    },
    "tags": []
   },
   "source": [
    "# 1. Tests for continuous/ordinal data "
   ]
  },
  {
   "cell_type": "markdown",
   "id": "17e38938",
   "metadata": {
    "papermill": {
     "duration": 0.036585,
     "end_time": "2021-07-26T05:58:16.541015",
     "exception": false,
     "start_time": "2021-07-26T05:58:16.504430",
     "status": "completed"
    },
    "tags": []
   },
   "source": [
    "# Sample data"
   ]
  },
  {
   "cell_type": "code",
   "execution_count": 3,
   "id": "78ee7f26",
   "metadata": {
    "execution": {
     "iopub.execute_input": "2021-07-26T05:58:16.621748Z",
     "iopub.status.busy": "2021-07-26T05:58:16.621083Z",
     "iopub.status.idle": "2021-07-26T05:58:17.042863Z",
     "shell.execute_reply": "2021-07-26T05:58:17.043322Z",
     "shell.execute_reply.started": "2021-07-26T05:39:24.378679Z"
    },
    "papermill": {
     "duration": 0.465762,
     "end_time": "2021-07-26T05:58:17.043510",
     "exception": false,
     "start_time": "2021-07-26T05:58:16.577748",
     "status": "completed"
    },
    "tags": []
   },
   "outputs": [
    {
     "data": {
      "image/png": "[encoded data removed]",
      "text/plain": [
       "<Figure size 432x288 with 1 Axes>"
      ]
     },
     "metadata": {
      "needs_background": "light"
     },
     "output_type": "display_data"
    }
   ],
   "source": [
    "np.random.seed(100) #Seed for reproducible results\n",
    "\n",
    "distri_norm = np.random.normal(30,5,1000) #mean=30, std dev=5,n=1k\n",
    "\n",
    "#-----------------------------------------------------------------------------------------\n",
    "distri_norm_1 = np.random.normal(20,5,1000) #mean=20, std dev=5,n=1000\n",
    "distri_norm_2 = np.random.normal(18.8,5,1000) #mean=18.8, std dev=5,n=1000\n",
    "distri_norm_3 = np.random.normal(20,5,700) #mean=20, std dev=5,n=700\n",
    "distri_norm_4 = np.random.normal(26,9,1000) #mean=26, std dev=9,n=1000\n",
    "distri_5 = np.random.rand(1,1000).ravel() #mean=13, std dev=9,n=1000  #Non-Normal Distribution\n",
    "\n",
    "\n",
    "#-----------------------------------------------------------------------------------------\n",
    "\n",
    "dict_ = {1 : 'r',2 : 'b',\n",
    "         3 : 'g',4 : 'y',\n",
    "         5 : 'b'} \n",
    "\n",
    "#-----------------------------------------------------------------------------------------\n",
    "counter = 1\n",
    "for dist in [distri_norm_1,distri_norm_2,distri_norm_3,distri_norm_4]:\n",
    "    color_ = dict_[counter]\n",
    "    sns.distplot(dist,color=color_,hist=False)\n",
    "    counter += 1"
   ]
  },
  {
   "cell_type": "code",
   "execution_count": 4,
   "id": "617ab8de",
   "metadata": {
    "execution": {
     "iopub.execute_input": "2021-07-26T05:58:17.149719Z",
     "iopub.status.busy": "2021-07-26T05:58:17.140393Z",
     "iopub.status.idle": "2021-07-26T05:58:17.279792Z",
     "shell.execute_reply": "2021-07-26T05:58:17.280373Z",
     "shell.execute_reply.started": "2021-07-26T05:39:24.880354Z"
    },
    "papermill": {
     "duration": 0.19864,
     "end_time": "2021-07-26T05:58:17.280562",
     "exception": false,
     "start_time": "2021-07-26T05:58:17.081922",
     "status": "completed"
    },
    "tags": []
   },
   "outputs": [
    {
     "data": {
      "text/plain": [
       "<AxesSubplot:ylabel='Density'>"
      ]
     },
     "execution_count": 4,
     "metadata": {},
     "output_type": "execute_result"
    },
    {
     "data": {
      "image/png": "[encoded data removed]",
      "text/plain": [
       "<Figure size 432x288 with 1 Axes>"
      ]
     },
     "metadata": {
      "needs_background": "light"
     },
     "output_type": "display_data"
    }
   ],
   "source": [
    "sns.distplot(distri_5,color=color_,hist=False)"
   ]
  },
  {
   "cell_type": "markdown",
   "id": "f77b973f",
   "metadata": {
    "papermill": {
     "duration": 0.038798,
     "end_time": "2021-07-26T05:58:17.358165",
     "exception": false,
     "start_time": "2021-07-26T05:58:17.319367",
     "status": "completed"
    },
    "tags": []
   },
   "source": [
    "# Normality Tests"
   ]
  },
  {
   "cell_type": "markdown",
   "id": "2b564bd6",
   "metadata": {
    "papermill": {
     "duration": 0.038279,
     "end_time": "2021-07-26T05:58:17.437235",
     "exception": false,
     "start_time": "2021-07-26T05:58:17.398956",
     "status": "completed"
    },
    "tags": []
   },
   "source": [
    "### Shapiro-Wilks \n",
    "\n",
    "- H0 : The distribution is normal\n",
    "- Ha : The distribution is not normal\n",
    "\n",
    "Links - https://www.statisticshowto.com/shapiro-wilk-test/"
   ]
  },
  {
   "cell_type": "code",
   "execution_count": 5,
   "id": "d6ade252",
   "metadata": {
    "execution": {
     "iopub.execute_input": "2021-07-26T05:58:17.517645Z",
     "iopub.status.busy": "2021-07-26T05:58:17.517045Z",
     "iopub.status.idle": "2021-07-26T05:58:17.527399Z",
     "shell.execute_reply": "2021-07-26T05:58:17.526929Z",
     "shell.execute_reply.started": "2021-07-26T05:39:53.547479Z"
    },
    "papermill": {
     "duration": 0.051533,
     "end_time": "2021-07-26T05:58:17.527566",
     "exception": false,
     "start_time": "2021-07-26T05:58:17.476033",
     "status": "completed"
    },
    "tags": []
   },
   "outputs": [
    {
     "name": "stdout",
     "output_type": "stream",
     "text": [
      "0 ---------------------------------\n",
      "p-value : 0.2856300473213196 \n",
      "\n",
      "1 ---------------------------------\n",
      "p-value : 0.11428955942392349 \n",
      "\n",
      "2 ---------------------------------\n",
      "p-value : 0.938439130783081 \n",
      "\n",
      "3 ---------------------------------\n",
      "p-value : 0.6885597109794617 \n",
      "\n",
      "4 ---------------------------------\n",
      "p-value : 0.07621557265520096 \n",
      "\n",
      "5 ---------------------------------\n",
      "p-value : 6.11606359963174e-17 \n",
      "\n"
     ]
    }
   ],
   "source": [
    "distri_tray = [distri_norm,distri_norm_1,distri_norm_2,distri_norm_3,distri_norm_4,distri_5]\n",
    "counter = 0\n",
    "\n",
    "for dist in distri_tray: \n",
    "    statistic, p = stats.shapiro(dist)\n",
    "    print(counter,'---------------------------------')\n",
    "    print('p-value :',p,'\\n')\n",
    "    counter += 1"
   ]
  },
  {
   "cell_type": "markdown",
   "id": "ec28916e",
   "metadata": {
    "papermill": {
     "duration": 0.039325,
     "end_time": "2021-07-26T05:58:17.606452",
     "exception": false,
     "start_time": "2021-07-26T05:58:17.567127",
     "status": "completed"
    },
    "tags": []
   },
   "source": [
    "### Anderson-Darling test\n",
    "\n",
    "- H0 : The data comes from the specified distribution (normal)\n",
    "- Ha : The data doesnt comes from the specified distribution (normal)\n",
    "\n",
    "Links - https://www.statisticshowto.com/anderson-darling-test/"
   ]
  },
  {
   "cell_type": "code",
   "execution_count": 6,
   "id": "6416d8c5",
   "metadata": {
    "execution": {
     "iopub.execute_input": "2021-07-26T05:58:17.687315Z",
     "iopub.status.busy": "2021-07-26T05:58:17.686704Z",
     "iopub.status.idle": "2021-07-26T05:58:17.703685Z",
     "shell.execute_reply": "2021-07-26T05:58:17.703200Z",
     "shell.execute_reply.started": "2021-07-21T15:47:34.05072Z"
    },
    "papermill": {
     "duration": 0.05845,
     "end_time": "2021-07-26T05:58:17.703826",
     "exception": false,
     "start_time": "2021-07-26T05:58:17.645376",
     "status": "completed"
    },
    "tags": []
   },
   "outputs": [
    {
     "name": "stdout",
     "output_type": "stream",
     "text": [
      "0 ---------------------------------\n",
      "p-value : [0.574 0.653 0.784 0.914 1.088]\n",
      "Significance Levels : [15.  10.   5.   2.5  1. ] \n",
      "\n",
      "1 ---------------------------------\n",
      "p-value : [0.574 0.653 0.784 0.914 1.088]\n",
      "Significance Levels : [15.  10.   5.   2.5  1. ] \n",
      "\n",
      "2 ---------------------------------\n",
      "p-value : [0.574 0.653 0.784 0.914 1.088]\n",
      "Significance Levels : [15.  10.   5.   2.5  1. ] \n",
      "\n",
      "3 ---------------------------------\n",
      "p-value : [0.573 0.652 0.783 0.913 1.086]\n",
      "Significance Levels : [15.  10.   5.   2.5  1. ] \n",
      "\n",
      "4 ---------------------------------\n",
      "p-value : [0.574 0.653 0.784 0.914 1.088]\n",
      "Significance Levels : [15.  10.   5.   2.5  1. ] \n",
      "\n",
      "5 ---------------------------------\n",
      "p-value : [0.574 0.653 0.784 0.914 1.088]\n",
      "Significance Levels : [15.  10.   5.   2.5  1. ] \n",
      "\n"
     ]
    }
   ],
   "source": [
    "distri_tray = [distri_norm,distri_norm_1,distri_norm_2,distri_norm_3,distri_norm_4,distri_5]\n",
    "counter = 0\n",
    "\n",
    "for dist in distri_tray: \n",
    "    statistic, p, significance_level = stats.anderson(x=dist,\n",
    "                                                      dist='norm')\n",
    "    print(counter,'---------------------------------')\n",
    "    print('p-value :',p)\n",
    "    print('Significance Levels :',significance_level,'\\n')\n",
    "    counter += 1"
   ]
  },
  {
   "cell_type": "markdown",
   "id": "2b814953",
   "metadata": {
    "papermill": {
     "duration": 0.038928,
     "end_time": "2021-07-26T05:58:17.782803",
     "exception": false,
     "start_time": "2021-07-26T05:58:17.743875",
     "status": "completed"
    },
    "tags": []
   },
   "source": [
    "# One-Sample t-test\n",
    "- To check a hypothesised mean about the population against the available sample\n",
    "- Assumptions : \n",
    "    - Independently and randomly collected data\n",
    "    - Normally Distributed sample\n",
    "\n",
    "\n",
    "- H0 - The mean of the population is x \n",
    "- Ha - The mean of the population is not x (two-sided)"
   ]
  },
  {
   "cell_type": "code",
   "execution_count": 7,
   "id": "2b0edc18",
   "metadata": {
    "execution": {
     "iopub.execute_input": "2021-07-26T05:58:17.868860Z",
     "iopub.status.busy": "2021-07-26T05:58:17.868098Z",
     "iopub.status.idle": "2021-07-26T05:58:17.872541Z",
     "shell.execute_reply": "2021-07-26T05:58:17.872947Z",
     "shell.execute_reply.started": "2021-07-26T05:46:11.718230Z"
    },
    "papermill": {
     "duration": 0.05108,
     "end_time": "2021-07-26T05:58:17.873119",
     "exception": false,
     "start_time": "2021-07-26T05:58:17.822039",
     "status": "completed"
    },
    "tags": []
   },
   "outputs": [
    {
     "name": "stdout",
     "output_type": "stream",
     "text": [
      "mean of the sample : 29.916139213280452\n"
     ]
    },
    {
     "data": {
      "text/plain": [
       "Ttest_1sampResult(statistic=177.8001137702741, pvalue=0.0)"
      ]
     },
     "execution_count": 7,
     "metadata": {},
     "output_type": "execute_result"
    }
   ],
   "source": [
    "hypo_mean_gen = 0.5\n",
    "print('mean of the sample :',np.mean(distri_norm))\n",
    "\n",
    "#----------------------------------------------------\n",
    "stats.ttest_1samp(a=distri_norm,\n",
    "                  popmean=hypo_mean_gen,\n",
    "                  alternative='two-sided')"
   ]
  },
  {
   "cell_type": "markdown",
   "id": "e5c1a1ae",
   "metadata": {
    "papermill": {
     "duration": 0.039344,
     "end_time": "2021-07-26T05:58:17.952616",
     "exception": false,
     "start_time": "2021-07-26T05:58:17.913272",
     "status": "completed"
    },
    "tags": []
   },
   "source": [
    "# Two-Sample Unpaired \n",
    "1. Parametric (t-test)\n",
    "2. Non-Parametric (Man Whitney U)"
   ]
  },
  {
   "cell_type": "markdown",
   "id": "05b21c86",
   "metadata": {
    "papermill": {
     "duration": 0.039346,
     "end_time": "2021-07-26T05:58:18.031964",
     "exception": false,
     "start_time": "2021-07-26T05:58:17.992618",
     "status": "completed"
    },
    "tags": []
   },
   "source": [
    "### Unpaired t-test (two-sample)\n",
    "1. Assumptions - \n",
    "    - Normally distributed distribution of data\n",
    "    - The two groups should ave similar variance\n",
    "    - The two groups must be independent, randomly selected and unpaired (i.e not relating to the same entity)\n",
    "    \n",
    "- H0 - The distributions are similar (drawn from same distribution)\n",
    "- Ha - The distributions are not similar (drawn from different ditributions)\n",
    "    \n",
    "2. Links - https://www.statsdirect.co.uk/help/parametric_methods/utt.htm"
   ]
  },
  {
   "cell_type": "code",
   "execution_count": 8,
   "id": "f88d117b",
   "metadata": {
    "execution": {
     "iopub.execute_input": "2021-07-26T05:58:18.118886Z",
     "iopub.status.busy": "2021-07-26T05:58:18.118121Z",
     "iopub.status.idle": "2021-07-26T05:58:18.122216Z",
     "shell.execute_reply": "2021-07-26T05:58:18.121763Z",
     "shell.execute_reply.started": "2021-07-26T05:47:16.378287Z"
    },
    "papermill": {
     "duration": 0.050182,
     "end_time": "2021-07-26T05:58:18.122369",
     "exception": false,
     "start_time": "2021-07-26T05:58:18.072187",
     "status": "completed"
    },
    "tags": []
   },
   "outputs": [
    {
     "data": {
      "text/plain": [
       "Ttest_indResult(statistic=-2.564317503300315, pvalue=0.010436719627644312)"
      ]
     },
     "execution_count": 8,
     "metadata": {},
     "output_type": "execute_result"
    }
   ],
   "source": [
    "#Comparison between distri_norm_2 & distri_norm_3 (both normally distributed)\n",
    "stats.ttest_ind(a=distri_norm_2,\n",
    "                b=distri_norm_3,\n",
    "                alternative='two-sided',\n",
    "                equal_var=False)"
   ]
  },
  {
   "cell_type": "markdown",
   "id": "a8aa1996",
   "metadata": {
    "papermill": {
     "duration": 0.039878,
     "end_time": "2021-07-26T05:58:18.202670",
     "exception": false,
     "start_time": "2021-07-26T05:58:18.162792",
     "status": "completed"
    },
    "tags": []
   },
   "source": [
    "### Man-Whitney U test\n",
    "1. Assumptions - \n",
    "    - Continuous or ordinal data\n",
    "    - Shape of groups should be similar\n",
    "    - Independent & random datapoints which are un-paired\n",
    "    - Prefers number of observations > 20 (to use z-distribution for calculating critical values)\n",
    "\n",
    "- H0 - The distributions are similar (drawn from same distribution)\n",
    "- Ha - The distributions are not similar (drawn from different ditributions)\n",
    "    \n",
    "2. Links - https://sphweb.bumc.bu.edu/otlt/mph-modules/bs/bs704_nonparametric/bs704_nonparametric4.html\n",
    "https://en.wikipedia.org/wiki/Mann%E2%80%93Whitney_U_test"
   ]
  },
  {
   "cell_type": "code",
   "execution_count": 9,
   "id": "a2b40130",
   "metadata": {
    "execution": {
     "iopub.execute_input": "2021-07-26T05:58:18.287863Z",
     "iopub.status.busy": "2021-07-26T05:58:18.287253Z",
     "iopub.status.idle": "2021-07-26T05:58:18.292745Z",
     "shell.execute_reply": "2021-07-26T05:58:18.293158Z",
     "shell.execute_reply.started": "2021-07-26T05:47:34.642371Z"
    },
    "papermill": {
     "duration": 0.050164,
     "end_time": "2021-07-26T05:58:18.293346",
     "exception": false,
     "start_time": "2021-07-26T05:58:18.243182",
     "status": "completed"
    },
    "tags": []
   },
   "outputs": [
    {
     "data": {
      "text/plain": [
       "MannwhitneyuResult(statistic=1000000.0, pvalue=0.0)"
      ]
     },
     "execution_count": 9,
     "metadata": {},
     "output_type": "execute_result"
    }
   ],
   "source": [
    "#Comparison between distri_norm_2 & distri_5 (second one is not normally distributed)\n",
    "stats.mannwhitneyu(x=distri_norm_2,\n",
    "                   y=distri_5, #non-gaussian\n",
    "                   alternative='two-sided')"
   ]
  },
  {
   "cell_type": "markdown",
   "id": "db4ebcc8",
   "metadata": {
    "papermill": {
     "duration": 0.04009,
     "end_time": "2021-07-26T05:58:18.373913",
     "exception": false,
     "start_time": "2021-07-26T05:58:18.333823",
     "status": "completed"
    },
    "tags": []
   },
   "source": [
    "# Two-Sample Paired\n",
    "1. Parametric (t-test)\n",
    "2. Non-parametric (Wilcoxon Signed Rank test) "
   ]
  },
  {
   "cell_type": "markdown",
   "id": "d6b1915b",
   "metadata": {
    "papermill": {
     "duration": 0.042425,
     "end_time": "2021-07-26T05:58:18.457487",
     "exception": false,
     "start_time": "2021-07-26T05:58:18.415062",
     "status": "completed"
    },
    "tags": []
   },
   "source": [
    "### t-test (paired)\n",
    "1. Assumptions - \n",
    "    - Continuous data\n",
    "    - Samples are collected randomly within groups and across groups\n",
    "    - Data must be normally distributed\n",
    "    - Paired examples i.e data points in both groups belong to the same entitiy (Ex - Before & After of a drug on the same group of patients)\n",
    "    - No outliers are present\n",
    "    - Same no of observations in both groups\n",
    "\n",
    "- H0 - The distributions are similar (No difference between them) \n",
    "- Ha - The distributions are not similar \n",
    "\n",
    "2. Links - https://www.statisticssolutions.com/free-resources/directory-of-statistical-analyses/paired-sample-t-test/\n",
    "https://www.statisticshowto.com/probability-and-statistics/t-test/\n"
   ]
  },
  {
   "cell_type": "code",
   "execution_count": 10,
   "id": "743869f8",
   "metadata": {
    "execution": {
     "iopub.execute_input": "2021-07-26T05:58:18.544918Z",
     "iopub.status.busy": "2021-07-26T05:58:18.544258Z",
     "iopub.status.idle": "2021-07-26T05:58:18.548523Z",
     "shell.execute_reply": "2021-07-26T05:58:18.547944Z",
     "shell.execute_reply.started": "2021-07-26T05:48:10.277629Z"
    },
    "papermill": {
     "duration": 0.050201,
     "end_time": "2021-07-26T05:58:18.548660",
     "exception": false,
     "start_time": "2021-07-26T05:58:18.498459",
     "status": "completed"
    },
    "tags": []
   },
   "outputs": [
    {
     "data": {
      "text/plain": [
       "Ttest_relResult(statistic=-20.86893620025173, pvalue=1.4758977050948432e-80)"
      ]
     },
     "execution_count": 10,
     "metadata": {},
     "output_type": "execute_result"
    }
   ],
   "source": [
    "#Comparison between distri_norm_2 & distri_norm_4 (second one is not normally distributed)\n",
    "stats.ttest_rel(a=distri_norm_2,\n",
    "                b=distri_norm_4,\n",
    "                alternative='two-sided')"
   ]
  },
  {
   "cell_type": "markdown",
   "id": "150df780",
   "metadata": {
    "papermill": {
     "duration": 0.040312,
     "end_time": "2021-07-26T05:58:18.630027",
     "exception": false,
     "start_time": "2021-07-26T05:58:18.589715",
     "status": "completed"
    },
    "tags": []
   },
   "source": [
    "### Wilcoxon Signed Rank test\n",
    "1. Assumptions - \n",
    "    - Continuous or ordinal data atleast\n",
    "    - Paired samples\n",
    "    - Equal no of observations in each group (since paired)\n",
    "    - Randomly selected samples in each group\n",
    "    \n",
    "- H0 - The distributions are similar (drawn from same distribution)\n",
    "- Ha - The distributions are not similar (drawn from different ditributions)\n",
    "\n",
    "2. Links - https://sphweb.bumc.bu.edu/otlt/mph-modules/bs/bs704_nonparametric/BS704_Nonparametric6.html\n",
    "  "
   ]
  },
  {
   "cell_type": "code",
   "execution_count": 11,
   "id": "9d1c1047",
   "metadata": {
    "execution": {
     "iopub.execute_input": "2021-07-26T05:58:18.718379Z",
     "iopub.status.busy": "2021-07-26T05:58:18.717767Z",
     "iopub.status.idle": "2021-07-26T05:58:18.721502Z",
     "shell.execute_reply": "2021-07-26T05:58:18.720925Z",
     "shell.execute_reply.started": "2021-07-26T05:48:19.357218Z"
    },
    "papermill": {
     "duration": 0.050635,
     "end_time": "2021-07-26T05:58:18.721649",
     "exception": false,
     "start_time": "2021-07-26T05:58:18.671014",
     "status": "completed"
    },
    "tags": []
   },
   "outputs": [
    {
     "data": {
      "text/plain": [
       "WilcoxonResult(statistic=3.0, pvalue=3.3559518029314626e-165)"
      ]
     },
     "execution_count": 11,
     "metadata": {},
     "output_type": "execute_result"
    }
   ],
   "source": [
    "stats.wilcoxon(x=distri_norm_4,\n",
    "               y=distri_5,\n",
    "               zero_method='wilcox',\n",
    "               correction=False,\n",
    "               alternative='two-sided',\n",
    "               mode='auto')"
   ]
  },
  {
   "cell_type": "markdown",
   "id": "e0c9631c",
   "metadata": {
    "papermill": {
     "duration": 0.040327,
     "end_time": "2021-07-26T05:58:18.802840",
     "exception": false,
     "start_time": "2021-07-26T05:58:18.762513",
     "status": "completed"
    },
    "tags": []
   },
   "source": [
    "# 3 or more samples tests :\n",
    "1. Parametric (ANOVA + Tukey)\n",
    "2. Non-Parametric (Kruskal Wallis + Dunn's / Friedman + Nemenyi's)"
   ]
  },
  {
   "cell_type": "markdown",
   "id": "012060a8",
   "metadata": {
    "papermill": {
     "duration": 0.040445,
     "end_time": "2021-07-26T05:58:18.883984",
     "exception": false,
     "start_time": "2021-07-26T05:58:18.843539",
     "status": "completed"
    },
    "tags": []
   },
   "source": [
    "## One-Way ANOVA\n",
    "1. Assumptions -\n",
    "    - The groups are unpaired\n",
    "    - The data within groups are normally distributed\n",
    "    - There is homogenity of variance among the groups (Tested through Leven's test)\n",
    "    - The datapoints are randomly and independently sampled\n",
    "    \n",
    "- H0 - The distributions are similar (drawn from same distribution)\n",
    "- Ha - The distributions are not similar (drawn from different ditributions)\n",
    "\n",
    "2. Links - https://www.statisticshowto.com/probability-and-statistics/hypothesis-testing/anova/"
   ]
  },
  {
   "cell_type": "markdown",
   "id": "bb7f9a5b",
   "metadata": {
    "papermill": {
     "duration": 0.040326,
     "end_time": "2021-07-26T05:58:18.965941",
     "exception": false,
     "start_time": "2021-07-26T05:58:18.925615",
     "status": "completed"
    },
    "tags": []
   },
   "source": [
    "##### Testing Homogenity of variance through Leven's test\n",
    "\n",
    "- H0 - There is homogenity of variance among the groups\n",
    "- Ha - There is no homogenity in variance among the groups\n",
    "\n",
    "Links - https://www.statisticshowto.com/levene-test/"
   ]
  },
  {
   "cell_type": "code",
   "execution_count": 12,
   "id": "b5bd699c",
   "metadata": {
    "execution": {
     "iopub.execute_input": "2021-07-26T05:58:19.051853Z",
     "iopub.status.busy": "2021-07-26T05:58:19.051238Z",
     "iopub.status.idle": "2021-07-26T05:58:19.059228Z",
     "shell.execute_reply": "2021-07-26T05:58:19.058772Z",
     "shell.execute_reply.started": "2021-07-26T05:51:51.777946Z"
    },
    "papermill": {
     "duration": 0.052567,
     "end_time": "2021-07-26T05:58:19.059393",
     "exception": false,
     "start_time": "2021-07-26T05:58:19.006826",
     "status": "completed"
    },
    "tags": []
   },
   "outputs": [
    {
     "data": {
      "text/plain": [
       "LeveneResult(statistic=0.27390822841234863, pvalue=0.7604230057948291)"
      ]
     },
     "execution_count": 12,
     "metadata": {},
     "output_type": "execute_result"
    }
   ],
   "source": [
    "#Leven's test for Homogenity\n",
    "stats.levene(distri_norm_1,\n",
    "             distri_norm_2,\n",
    "             distri_norm_3)"
   ]
  },
  {
   "cell_type": "markdown",
   "id": "3ae55681",
   "metadata": {
    "papermill": {
     "duration": 0.041542,
     "end_time": "2021-07-26T05:58:19.142222",
     "exception": false,
     "start_time": "2021-07-26T05:58:19.100680",
     "status": "completed"
    },
    "tags": []
   },
   "source": [
    "#### Insights - The p value in Leven's test is greater than alpha of 0.05, hence the null hypothesis (There is homogenity in variance among the three groups) can't be rejected. Hence, this along with Gaussian distribution of the groups give u go ahead to perform one-way ANOVA test"
   ]
  },
  {
   "cell_type": "code",
   "execution_count": 13,
   "id": "ddc435fd",
   "metadata": {
    "execution": {
     "iopub.execute_input": "2021-07-26T05:58:19.230542Z",
     "iopub.status.busy": "2021-07-26T05:58:19.229914Z",
     "iopub.status.idle": "2021-07-26T05:58:19.232807Z",
     "shell.execute_reply": "2021-07-26T05:58:19.233250Z",
     "shell.execute_reply.started": "2021-07-26T05:52:10.977610Z"
    },
    "papermill": {
     "duration": 0.049723,
     "end_time": "2021-07-26T05:58:19.233438",
     "exception": false,
     "start_time": "2021-07-26T05:58:19.183715",
     "status": "completed"
    },
    "tags": []
   },
   "outputs": [
    {
     "data": {
      "text/plain": [
       "F_onewayResult(statistic=306.9133475969266, pvalue=5.514769936368187e-122)"
      ]
     },
     "execution_count": 13,
     "metadata": {},
     "output_type": "execute_result"
    }
   ],
   "source": [
    "#Running one-way ANOVA\n",
    "stats.f_oneway(distri_norm_1,distri_norm_2,distri_norm_4) #All are normal distributions with similar variance"
   ]
  },
  {
   "cell_type": "markdown",
   "id": "0d10ba6d",
   "metadata": {
    "papermill": {
     "duration": 0.041683,
     "end_time": "2021-07-26T05:58:19.316377",
     "exception": false,
     "start_time": "2021-07-26T05:58:19.274694",
     "status": "completed"
    },
    "tags": []
   },
   "source": [
    "#### Insights - The p value is less than alpha (0.05), hence it signifies that atleast one pair is having dissimilarity. To find the pair/pairs, we will have to perform post-hoc analysis"
   ]
  },
  {
   "cell_type": "markdown",
   "id": "eb3a7261",
   "metadata": {
    "papermill": {
     "duration": 0.042315,
     "end_time": "2021-07-26T05:58:19.399700",
     "exception": false,
     "start_time": "2021-07-26T05:58:19.357385",
     "status": "completed"
    },
    "tags": []
   },
   "source": [
    "### Tukey's HSD test\n",
    "\n",
    "- H0 - The distributions are similar (drawn from same distribution)\n",
    "- Ha - The distributions are not similar (drawn from different ditributions)\n",
    "\n",
    "Links - https://scikit-posthocs.readthedocs.io/en/latest/generated/scikit_posthocs.posthoc_tukey/\n",
    "- https://www.statisticshowto.com/tukey-test-honest-significant-difference/"
   ]
  },
  {
   "cell_type": "code",
   "execution_count": 14,
   "id": "25e51dd9",
   "metadata": {
    "execution": {
     "iopub.execute_input": "2021-07-26T05:58:19.487359Z",
     "iopub.status.busy": "2021-07-26T05:58:19.486726Z",
     "iopub.status.idle": "2021-07-26T05:58:19.579375Z",
     "shell.execute_reply": "2021-07-26T05:58:19.578793Z",
     "shell.execute_reply.started": "2021-07-26T05:52:18.597118Z"
    },
    "papermill": {
     "duration": 0.138764,
     "end_time": "2021-07-26T05:58:19.579520",
     "exception": false,
     "start_time": "2021-07-26T05:58:19.440756",
     "status": "completed"
    },
    "tags": []
   },
   "outputs": [
    {
     "data": {
      "text/html": [
       "<div>\n",
       "<style scoped>\n",
       "    .dataframe tbody tr th:only-of-type {\n",
       "        vertical-align: middle;\n",
       "    }\n",
       "\n",
       "    .dataframe tbody tr th {\n",
       "        vertical-align: top;\n",
       "    }\n",
       "\n",
       "    .dataframe thead th {\n",
       "        text-align: right;\n",
       "    }\n",
       "</style>\n",
       "<table border=\"1\" class=\"dataframe\">\n",
       "  <thead>\n",
       "    <tr style=\"text-align: right;\">\n",
       "      <th></th>\n",
       "      <th>1</th>\n",
       "      <th>2</th>\n",
       "      <th>3</th>\n",
       "    </tr>\n",
       "  </thead>\n",
       "  <tbody>\n",
       "    <tr>\n",
       "      <th>1</th>\n",
       "      <td>1.000000</td>\n",
       "      <td>0.001000</td>\n",
       "      <td>0.247493</td>\n",
       "    </tr>\n",
       "    <tr>\n",
       "      <th>2</th>\n",
       "      <td>0.001000</td>\n",
       "      <td>1.000000</td>\n",
       "      <td>0.041279</td>\n",
       "    </tr>\n",
       "    <tr>\n",
       "      <th>3</th>\n",
       "      <td>0.247493</td>\n",
       "      <td>0.041279</td>\n",
       "      <td>1.000000</td>\n",
       "    </tr>\n",
       "  </tbody>\n",
       "</table>\n",
       "</div>"
      ],
      "text/plain": [
       "          1         2         3\n",
       "1  1.000000  0.001000  0.247493\n",
       "2  0.001000  1.000000  0.041279\n",
       "3  0.247493  0.041279  1.000000"
      ]
     },
     "execution_count": 14,
     "metadata": {},
     "output_type": "execute_result"
    }
   ],
   "source": [
    "from scikit_posthocs import posthoc_tukey\n",
    "\n",
    "#---------------------------------------------------------------------------------------\n",
    "#Alotting groups - Change at will to experiment\n",
    "group_1 = distri_norm_1\n",
    "group_2 = distri_norm_2\n",
    "group_3 = distri_norm_3\n",
    "\n",
    "n_min = min(len(group_1),len(group_2),len(group_3))\n",
    "\n",
    "#---------------------------------------------------------------------------------------\n",
    "x = pd.DataFrame({\"1\": group_1[0:n_min], \"2\": group_2[0:n_min], \"3\": group_3[0:n_min]})\n",
    "x = x.melt(var_name='groups', value_name='values')\n",
    "\n",
    "#---------------------------------------------------------------------------------------\n",
    "posthoc_tukey(x, val_col='values', group_col='groups')"
   ]
  },
  {
   "cell_type": "markdown",
   "id": "4e66de8f",
   "metadata": {
    "papermill": {
     "duration": 0.041439,
     "end_time": "2021-07-26T05:58:19.663092",
     "exception": false,
     "start_time": "2021-07-26T05:58:19.621653",
     "status": "completed"
    },
    "tags": []
   },
   "source": [
    "#### Insights : We see that distribution 1 and 3 are similar, which is correct if we see the mean and standard dev at the time of generation of those samples. Also, dissimilarities are present, hence one-way ANOVA rejected the null hypothesis"
   ]
  },
  {
   "cell_type": "markdown",
   "id": "826678db",
   "metadata": {
    "papermill": {
     "duration": 0.041121,
     "end_time": "2021-07-26T05:58:19.746107",
     "exception": false,
     "start_time": "2021-07-26T05:58:19.704986",
     "status": "completed"
    },
    "tags": []
   },
   "source": [
    "## Kruskal Wallis Omnibus test + Dunn's Post-Hoc test \n",
    "1. Assumptions - \n",
    "    - Continuous or ordinal data\n",
    "    - Randomly selected & unpaired data\n",
    "    - Similar shape of distributions\n",
    "    \n",
    "- H0 - The distributions are similar (drawn from same distribution)\n",
    "- Ha - The distributions are not similar (drawn from different ditributions)    \n",
    "\n",
    "2. Links - https://www.statisticshowto.com/kruskal-wallis/"
   ]
  },
  {
   "cell_type": "code",
   "execution_count": 15,
   "id": "c855abbe",
   "metadata": {
    "execution": {
     "iopub.execute_input": "2021-07-26T05:58:19.834803Z",
     "iopub.status.busy": "2021-07-26T05:58:19.833835Z",
     "iopub.status.idle": "2021-07-26T05:58:19.840201Z",
     "shell.execute_reply": "2021-07-26T05:58:19.839770Z",
     "shell.execute_reply.started": "2021-07-26T05:53:08.538023Z"
    },
    "papermill": {
     "duration": 0.052411,
     "end_time": "2021-07-26T05:58:19.840353",
     "exception": false,
     "start_time": "2021-07-26T05:58:19.787942",
     "status": "completed"
    },
    "tags": []
   },
   "outputs": [
    {
     "data": {
      "text/plain": [
       "KruskalResult(statistic=2005.2843159186923, pvalue=0.0)"
      ]
     },
     "execution_count": 15,
     "metadata": {},
     "output_type": "execute_result"
    }
   ],
   "source": [
    "stats.kruskal(distri_norm_1,distri_norm_2,distri_5)"
   ]
  },
  {
   "cell_type": "markdown",
   "id": "69a57a51",
   "metadata": {
    "papermill": {
     "duration": 0.042898,
     "end_time": "2021-07-26T05:58:19.925355",
     "exception": false,
     "start_time": "2021-07-26T05:58:19.882457",
     "status": "completed"
    },
    "tags": []
   },
   "source": [
    "### Insight : \n",
    "1. Rejection of KW omnibus test means that atleast one pair of groups are dissimilar\n",
    "2. To further deep dive on which pair/pairs of groups are dissimilar we have to run a post-hoc test\n",
    "3. For KW and Friedman's test, Dunn's test is performed. For ANOVA,Tukey's test is performed."
   ]
  },
  {
   "cell_type": "markdown",
   "id": "6ce7fc74",
   "metadata": {
    "papermill": {
     "duration": 0.042109,
     "end_time": "2021-07-26T05:58:20.009821",
     "exception": false,
     "start_time": "2021-07-26T05:58:19.967712",
     "status": "completed"
    },
    "tags": []
   },
   "source": [
    "#### Dunn's post-hoc\n",
    "\n",
    "- H0 - The distributions are similar (drawn from same distribution)\n",
    "- Ha - The distributions are not similar (drawn from different ditributions)"
   ]
  },
  {
   "cell_type": "code",
   "execution_count": 16,
   "id": "62b9f8ea",
   "metadata": {
    "execution": {
     "iopub.execute_input": "2021-07-26T05:58:20.098777Z",
     "iopub.status.busy": "2021-07-26T05:58:20.097830Z",
     "iopub.status.idle": "2021-07-26T05:58:20.127422Z",
     "shell.execute_reply": "2021-07-26T05:58:20.127871Z",
     "shell.execute_reply.started": "2021-07-26T05:53:12.326837Z"
    },
    "papermill": {
     "duration": 0.075634,
     "end_time": "2021-07-26T05:58:20.128033",
     "exception": false,
     "start_time": "2021-07-26T05:58:20.052399",
     "status": "completed"
    },
    "tags": []
   },
   "outputs": [
    {
     "data": {
      "text/html": [
       "<div>\n",
       "<style scoped>\n",
       "    .dataframe tbody tr th:only-of-type {\n",
       "        vertical-align: middle;\n",
       "    }\n",
       "\n",
       "    .dataframe tbody tr th {\n",
       "        vertical-align: top;\n",
       "    }\n",
       "\n",
       "    .dataframe thead th {\n",
       "        text-align: right;\n",
       "    }\n",
       "</style>\n",
       "<table border=\"1\" class=\"dataframe\">\n",
       "  <thead>\n",
       "    <tr style=\"text-align: right;\">\n",
       "      <th></th>\n",
       "      <th>1</th>\n",
       "      <th>2</th>\n",
       "      <th>3</th>\n",
       "    </tr>\n",
       "  </thead>\n",
       "  <tbody>\n",
       "    <tr>\n",
       "      <th>1</th>\n",
       "      <td>1.000000</td>\n",
       "      <td>4.413282e-02</td>\n",
       "      <td>0.000000e+00</td>\n",
       "    </tr>\n",
       "    <tr>\n",
       "      <th>2</th>\n",
       "      <td>0.044133</td>\n",
       "      <td>1.000000e+00</td>\n",
       "      <td>2.407584e-307</td>\n",
       "    </tr>\n",
       "    <tr>\n",
       "      <th>3</th>\n",
       "      <td>0.000000</td>\n",
       "      <td>2.407584e-307</td>\n",
       "      <td>1.000000e+00</td>\n",
       "    </tr>\n",
       "  </tbody>\n",
       "</table>\n",
       "</div>"
      ],
      "text/plain": [
       "          1              2              3\n",
       "1  1.000000   4.413282e-02   0.000000e+00\n",
       "2  0.044133   1.000000e+00  2.407584e-307\n",
       "3  0.000000  2.407584e-307   1.000000e+00"
      ]
     },
     "execution_count": 16,
     "metadata": {},
     "output_type": "execute_result"
    }
   ],
   "source": [
    "from scikit_posthocs import posthoc_dunn\n",
    "\n",
    "group_1 = distri_norm_1\n",
    "group_2 = distri_norm_2\n",
    "group_3 = distri_5\n",
    "\n",
    "posthoc_dunn(np.array([group_1,group_2,group_3]), p_adjust = 'bonf')"
   ]
  },
  {
   "cell_type": "markdown",
   "id": "d8bc77b5",
   "metadata": {
    "papermill": {
     "duration": 0.0422,
     "end_time": "2021-07-26T05:58:20.212206",
     "exception": false,
     "start_time": "2021-07-26T05:58:20.170006",
     "status": "completed"
    },
    "tags": []
   },
   "source": [
    "#### Insights : We can see that all the pairs have p-value < alpha (0.05), hence, all pairs are dissimilar."
   ]
  },
  {
   "cell_type": "markdown",
   "id": "e02aad87",
   "metadata": {
    "papermill": {
     "duration": 0.041788,
     "end_time": "2021-07-26T05:58:20.296261",
     "exception": false,
     "start_time": "2021-07-26T05:58:20.254473",
     "status": "completed"
    },
    "tags": []
   },
   "source": [
    "## Friedman's Omnibus test for repeated measurements\n",
    "1. Assumptions - \n",
    "    - Atleast ordinal data is required\n",
    "    - Paired examples\n",
    "    - No ties in ranks within each group\n",
    "    - Data sampled randomly and independently without any bias\n",
    "    \n",
    "- H0 - The distributions are similar \n",
    "- Ha - The distributions are not similar \n",
    "    \n",
    "2. Links - https://www.statisticshowto.com/friedmans-test/"
   ]
  },
  {
   "cell_type": "code",
   "execution_count": 17,
   "id": "6d5d7caa",
   "metadata": {
    "execution": {
     "iopub.execute_input": "2021-07-26T05:58:20.386636Z",
     "iopub.status.busy": "2021-07-26T05:58:20.385518Z",
     "iopub.status.idle": "2021-07-26T05:58:20.460212Z",
     "shell.execute_reply": "2021-07-26T05:58:20.459764Z",
     "shell.execute_reply.started": "2021-07-26T05:53:49.237485Z"
    },
    "papermill": {
     "duration": 0.121846,
     "end_time": "2021-07-26T05:58:20.460364",
     "exception": false,
     "start_time": "2021-07-26T05:58:20.338518",
     "status": "completed"
    },
    "tags": []
   },
   "outputs": [
    {
     "data": {
      "text/plain": [
       "FriedmanchisquareResult(statistic=1506.728000000001, pvalue=0.0)"
      ]
     },
     "execution_count": 17,
     "metadata": {},
     "output_type": "execute_result"
    }
   ],
   "source": [
    "group_1 = distri_norm_1\n",
    "group_2 = distri_norm_2\n",
    "group_3 = distri_5\n",
    "\n",
    "#------------------------------------------------\n",
    "stats.friedmanchisquare(group_1,group_2,group_3) #The group lengths should be same"
   ]
  },
  {
   "cell_type": "markdown",
   "id": "df92402c",
   "metadata": {
    "papermill": {
     "duration": 0.043,
     "end_time": "2021-07-26T05:58:20.546064",
     "exception": false,
     "start_time": "2021-07-26T05:58:20.503064",
     "status": "completed"
    },
    "tags": []
   },
   "source": [
    "#### Insights : The result from friedman's test shows that there is atleast one pair of dissimilar groups,hence we need to perform post-hoc test"
   ]
  },
  {
   "cell_type": "markdown",
   "id": "2c09f472",
   "metadata": {
    "papermill": {
     "duration": 0.042248,
     "end_time": "2021-07-26T05:58:20.630876",
     "exception": false,
     "start_time": "2021-07-26T05:58:20.588628",
     "status": "completed"
    },
    "tags": []
   },
   "source": [
    "### Nemenyi test\n",
    "\n",
    "- H0 - The distributions are similar \n",
    "- Ha - The distributions are not similar "
   ]
  },
  {
   "cell_type": "code",
   "execution_count": 18,
   "id": "94ef76e1",
   "metadata": {
    "execution": {
     "iopub.execute_input": "2021-07-26T05:58:20.722610Z",
     "iopub.status.busy": "2021-07-26T05:58:20.721609Z",
     "iopub.status.idle": "2021-07-26T05:58:20.754730Z",
     "shell.execute_reply": "2021-07-26T05:58:20.755289Z",
     "shell.execute_reply.started": "2021-07-26T05:53:53.982047Z"
    },
    "papermill": {
     "duration": 0.082069,
     "end_time": "2021-07-26T05:58:20.755482",
     "exception": false,
     "start_time": "2021-07-26T05:58:20.673413",
     "status": "completed"
    },
    "tags": []
   },
   "outputs": [
    {
     "data": {
      "text/html": [
       "<div>\n",
       "<style scoped>\n",
       "    .dataframe tbody tr th:only-of-type {\n",
       "        vertical-align: middle;\n",
       "    }\n",
       "\n",
       "    .dataframe tbody tr th {\n",
       "        vertical-align: top;\n",
       "    }\n",
       "\n",
       "    .dataframe thead th {\n",
       "        text-align: right;\n",
       "    }\n",
       "</style>\n",
       "<table border=\"1\" class=\"dataframe\">\n",
       "  <thead>\n",
       "    <tr style=\"text-align: right;\">\n",
       "      <th></th>\n",
       "      <th>0</th>\n",
       "      <th>1</th>\n",
       "      <th>2</th>\n",
       "    </tr>\n",
       "  </thead>\n",
       "  <tbody>\n",
       "    <tr>\n",
       "      <th>0</th>\n",
       "      <td>1.000000</td>\n",
       "      <td>0.025706</td>\n",
       "      <td>0.001</td>\n",
       "    </tr>\n",
       "    <tr>\n",
       "      <th>1</th>\n",
       "      <td>0.025706</td>\n",
       "      <td>1.000000</td>\n",
       "      <td>0.001</td>\n",
       "    </tr>\n",
       "    <tr>\n",
       "      <th>2</th>\n",
       "      <td>0.001000</td>\n",
       "      <td>0.001000</td>\n",
       "      <td>1.000</td>\n",
       "    </tr>\n",
       "  </tbody>\n",
       "</table>\n",
       "</div>"
      ],
      "text/plain": [
       "          0         1      2\n",
       "0  1.000000  0.025706  0.001\n",
       "1  0.025706  1.000000  0.001\n",
       "2  0.001000  0.001000  1.000"
      ]
     },
     "execution_count": 18,
     "metadata": {},
     "output_type": "execute_result"
    }
   ],
   "source": [
    "from scikit_posthocs import posthoc_nemenyi_friedman\n",
    "\n",
    "posthoc_nemenyi_friedman(np.array([group_1,group_2,group_3]).T)"
   ]
  },
  {
   "cell_type": "markdown",
   "id": "aa848780",
   "metadata": {
    "papermill": {
     "duration": 0.042475,
     "end_time": "2021-07-26T05:58:20.841301",
     "exception": false,
     "start_time": "2021-07-26T05:58:20.798826",
     "status": "completed"
    },
    "tags": []
   },
   "source": [
    "#### Insights : The post-hoc test also states that the Friedman test results hold true and all the pairs are dissimilar for a paired test setting"
   ]
  },
  {
   "cell_type": "markdown",
   "id": "3f419940",
   "metadata": {
    "papermill": {
     "duration": 0.043875,
     "end_time": "2021-07-26T05:58:20.928362",
     "exception": false,
     "start_time": "2021-07-26T05:58:20.884487",
     "status": "completed"
    },
    "tags": []
   },
   "source": [
    "# 2. Tests on categorical data \n",
    "1. These tests have higher relevance for nominal data since ordinal still find place in other non-paramateric tests"
   ]
  },
  {
   "cell_type": "markdown",
   "id": "53880b59",
   "metadata": {
    "papermill": {
     "duration": 0.042845,
     "end_time": "2021-07-26T05:58:21.014138",
     "exception": false,
     "start_time": "2021-07-26T05:58:20.971293",
     "status": "completed"
    },
    "tags": []
   },
   "source": [
    "## Chi-Square test\n",
    "### Assumptions : \n",
    "1. Each value in contingency table > 5 (below it, this method is un-reliable, hence use Fisher's exact test instead)\n",
    "2. Can take any contingency table of form nxm (rectangular)\n",
    "\n",
    "- Lets take the example question (Gender vs getting into trouble) from here - https://soc.utah.edu/sociology3112/chi-square.php\n",
    "- Ho : The variables are not related (independent)\n",
    "- Ha : The variables are related to each other (dependent)\n",
    "\n",
    "References : https://machinelearningmastery.com/chi-squared-test-for-machine-learning/"
   ]
  },
  {
   "cell_type": "code",
   "execution_count": 19,
   "id": "8c4ba515",
   "metadata": {
    "execution": {
     "iopub.execute_input": "2021-07-26T05:58:21.103152Z",
     "iopub.status.busy": "2021-07-26T05:58:21.102555Z",
     "iopub.status.idle": "2021-07-26T05:58:21.113623Z",
     "shell.execute_reply": "2021-07-26T05:58:21.112874Z",
     "shell.execute_reply.started": "2021-07-26T05:55:11.942721Z"
    },
    "papermill": {
     "duration": 0.0569,
     "end_time": "2021-07-26T05:58:21.113806",
     "exception": false,
     "start_time": "2021-07-26T05:58:21.056906",
     "status": "completed"
    },
    "tags": []
   },
   "outputs": [
    {
     "name": "stdout",
     "output_type": "stream",
     "text": [
      "Contingency table : [[46, 71], [37, 83]]\n",
      "dof=1\n",
      "Expectation mask :\n",
      " [[40.97468354 76.02531646]\n",
      " [42.02531646 77.97468354]] \n",
      "\n",
      "alpha=0.050, critical=3.841, stat=1.519\n",
      "significance=0.050, p=0.218\n",
      "Independent (fail to reject H0)\n"
     ]
    }
   ],
   "source": [
    "from scipy.stats import chi2_contingency\n",
    "from scipy.stats import chi2\n",
    "\n",
    "#---------------------------------------------------------------------------------\n",
    "# contingency table\n",
    "table = [[46, 71],\n",
    "         [37,  83]]\n",
    "print('Contingency table :',table)\n",
    "\n",
    "stat, p, dof, expected = chi2_contingency(table)\n",
    "print('dof=%d' % dof)\n",
    "print('Expectation mask :\\n',expected,'\\n')\n",
    "\n",
    "#---------------------------------------------------------------------------------\n",
    "# interpret test-statistic\n",
    "alpha = 0.05\n",
    "critical = chi2.ppf(1-alpha, dof)\n",
    "print('alpha=%.3f, critical=%.3f, stat=%.3f' % (alpha, critical, stat))\n",
    "\n",
    "#---------------------------------------------------------------------------------\n",
    "# interpret through p-value\n",
    "print('significance=%.3f, p=%.3f' % (alpha, p))\n",
    "if p <= alpha:\n",
    "    print('Dependent (reject H0)')\n",
    "else:\n",
    "    print('Independent (fail to reject H0)')"
   ]
  },
  {
   "cell_type": "markdown",
   "id": "502cfc4d",
   "metadata": {
    "papermill": {
     "duration": 0.042945,
     "end_time": "2021-07-26T05:58:21.201220",
     "exception": false,
     "start_time": "2021-07-26T05:58:21.158275",
     "status": "completed"
    },
    "tags": []
   },
   "source": [
    "### Insights : \n",
    "1. The results of the hypothesis test matches to that in the blog\n",
    "2. The minor difference in the test statistic between here and the source question solution is due to the decimal places not truncated here "
   ]
  },
  {
   "cell_type": "markdown",
   "id": "f7ceb95b",
   "metadata": {
    "papermill": {
     "duration": 0.042636,
     "end_time": "2021-07-26T05:58:21.287249",
     "exception": false,
     "start_time": "2021-07-26T05:58:21.244613",
     "status": "completed"
    },
    "tags": []
   },
   "source": [
    "# Fisher's Exact Test\n",
    "## Assumptions : \n",
    "1. Used generally when any value in a contingency table are < 5\n",
    "2. Un-paired observations only\n",
    "3. Can only take contingency table of form nxn (square) - but in all places, it is available for 2x2 only (including scipy)\n",
    "\n",
    "- Ho : The variables are not related (independent)\n",
    "- Ha : The variables are related to each other (dependent)"
   ]
  },
  {
   "cell_type": "code",
   "execution_count": 20,
   "id": "aa660b73",
   "metadata": {
    "execution": {
     "iopub.execute_input": "2021-07-26T05:58:21.381117Z",
     "iopub.status.busy": "2021-07-26T05:58:21.379231Z",
     "iopub.status.idle": "2021-07-26T05:58:21.388354Z",
     "shell.execute_reply": "2021-07-26T05:58:21.387817Z",
     "shell.execute_reply.started": "2021-07-26T05:55:38.738092Z"
    },
    "papermill": {
     "duration": 0.058097,
     "end_time": "2021-07-26T05:58:21.388716",
     "exception": false,
     "start_time": "2021-07-26T05:58:21.330619",
     "status": "completed"
    },
    "tags": []
   },
   "outputs": [
    {
     "data": {
      "text/plain": [
       "0.11070130569390224"
      ]
     },
     "execution_count": 20,
     "metadata": {},
     "output_type": "execute_result"
    }
   ],
   "source": [
    "from scipy.stats import fisher_exact\n",
    "#---------------------------------------------------------------------------------\n",
    "# contingency table\n",
    "table = [[10, 3],\n",
    "         [5,  8]]\n",
    "\n",
    "oddsr, p = fisher_exact(table, alternative='two-sided')\n",
    "p"
   ]
  },
  {
   "cell_type": "markdown",
   "id": "5135005a",
   "metadata": {
    "papermill": {
     "duration": 0.045054,
     "end_time": "2021-07-26T05:58:21.477804",
     "exception": false,
     "start_time": "2021-07-26T05:58:21.432750",
     "status": "completed"
    },
    "tags": []
   },
   "source": [
    "# McNemar's Test (Paired)\n",
    "## Assumptions :\n",
    "1. Paired data (observations from same individuals before and after treatment)\n",
    "2. Atleast one variable is nominal/ordinal \n",
    "3. 2x2 contingency table is possible (both variables have two levels each)\n",
    "\n",
    "- Ho : The two variables vary in a similar way\n",
    "- Ha : The two variables vary in a dissimilar way\n",
    "\n",
    "References : https://machinelearningmastery.com/mcnemars-test-for-machine-learning/"
   ]
  },
  {
   "cell_type": "code",
   "execution_count": 21,
   "id": "4294b0e7",
   "metadata": {
    "execution": {
     "iopub.execute_input": "2021-07-26T05:58:21.568477Z",
     "iopub.status.busy": "2021-07-26T05:58:21.567837Z",
     "iopub.status.idle": "2021-07-26T05:58:21.578544Z",
     "shell.execute_reply": "2021-07-26T05:58:21.579165Z",
     "shell.execute_reply.started": "2021-07-26T05:55:47.163143Z"
    },
    "papermill": {
     "duration": 0.057833,
     "end_time": "2021-07-26T05:58:21.579420",
     "exception": false,
     "start_time": "2021-07-26T05:58:21.521587",
     "status": "completed"
    },
    "tags": []
   },
   "outputs": [
    {
     "name": "stdout",
     "output_type": "stream",
     "text": [
      "statistic=1.000, p-value=0.006\n",
      "Different proportions of errors (reject H0)\n"
     ]
    }
   ],
   "source": [
    "from statsmodels.stats.contingency_tables import mcnemar\n",
    "\n",
    "# define contingency table #the terms 1 and 11 represent dissimilarities (Yes/No and No/Yes) from the two treatments\n",
    "# We are checking the statistical significance of getting these two terms different through this test\n",
    "table = [[10, 11],\n",
    "         [1, 4]]\n",
    "# calculate mcnemar test\n",
    "result = mcnemar(table, exact=True)\n",
    "\n",
    "# summarize the finding\n",
    "print('statistic=%.3f, p-value=%.3f' % (result.statistic, result.pvalue))\n",
    "\n",
    "# interpret through the p-value\n",
    "alpha = 0.05\n",
    "if result.pvalue > alpha:\n",
    "    print('Same proportions of errors (fail to reject H0)')\n",
    "else:\n",
    "    print('Different proportions of errors (reject H0)')"
   ]
  },
  {
   "cell_type": "markdown",
   "id": "89e6534e",
   "metadata": {
    "papermill": {
     "duration": 0.043622,
     "end_time": "2021-07-26T05:58:21.667670",
     "exception": false,
     "start_time": "2021-07-26T05:58:21.624048",
     "status": "completed"
    },
    "tags": []
   },
   "source": [
    "### Insights : We see that the two variables disagree in different way as the null hypothesis is rejected"
   ]
  },
  {
   "cell_type": "markdown",
   "id": "5e62a73b",
   "metadata": {
    "papermill": {
     "duration": 0.044128,
     "end_time": "2021-07-26T05:58:21.755236",
     "exception": false,
     "start_time": "2021-07-26T05:58:21.711108",
     "status": "completed"
    },
    "tags": []
   },
   "source": [
    "# 3. Power Analysis of tests"
   ]
  },
  {
   "cell_type": "markdown",
   "id": "209478c5",
   "metadata": {
    "papermill": {
     "duration": 0.043424,
     "end_time": "2021-07-26T05:58:21.842269",
     "exception": false,
     "start_time": "2021-07-26T05:58:21.798845",
     "status": "completed"
    },
    "tags": []
   },
   "source": [
    "## Calculating statsitical power of a hypothesis test\n",
    "- Statistical power of a test is the ability to detect an effect if an effect actually exists\n",
    "- Its quantified in terms of beta, as 1 - beta where beta is the % of Type-II errors (False Negatives)\n",
    "- We will use statsmodel library to calculate statistical power of many common hypothesis tests\n",
    "- There are 4 major factors wich affect the statistical power : \n",
    "    - Sample size - (proportional relationship)\n",
    "    - Effect size (not in control) - (proportional relationship) \n",
    "    - alpha value - (proportional relationship)\n",
    "    - Variance in the samples - (inversely proportional relationship)\n",
    "- Uses of statistical power: \n",
    "    - Confidence on the test performed\n",
    "    - given a required amount of statistical power, we can find the minimum number of samples required to achieve the same.  "
   ]
  },
  {
   "cell_type": "markdown",
   "id": "74a25938",
   "metadata": {
    "papermill": {
     "duration": 0.045084,
     "end_time": "2021-07-26T05:58:21.931666",
     "exception": false,
     "start_time": "2021-07-26T05:58:21.886582",
     "status": "completed"
    },
    "tags": []
   },
   "source": [
    "## Power Analysis for one-sample t-test & paired two-sample t-test"
   ]
  },
  {
   "cell_type": "markdown",
   "id": "1e62676c",
   "metadata": {
    "papermill": {
     "duration": 0.04425,
     "end_time": "2021-07-26T05:58:22.020711",
     "exception": false,
     "start_time": "2021-07-26T05:58:21.976461",
     "status": "completed"
    },
    "tags": []
   },
   "source": [
    "#### Calculating power"
   ]
  },
  {
   "cell_type": "code",
   "execution_count": 22,
   "id": "66eabd93",
   "metadata": {
    "execution": {
     "iopub.execute_input": "2021-07-26T05:58:22.113770Z",
     "iopub.status.busy": "2021-07-26T05:58:22.113140Z",
     "iopub.status.idle": "2021-07-26T05:58:22.121356Z",
     "shell.execute_reply": "2021-07-26T05:58:22.121790Z",
     "shell.execute_reply.started": "2021-07-26T05:55:53.942761Z"
    },
    "papermill": {
     "duration": 0.057754,
     "end_time": "2021-07-26T05:58:22.121948",
     "exception": false,
     "start_time": "2021-07-26T05:58:22.064194",
     "status": "completed"
    },
    "tags": []
   },
   "outputs": [
    {
     "data": {
      "text/plain": [
       "0.8847890844802808"
      ]
     },
     "execution_count": 22,
     "metadata": {},
     "output_type": "execute_result"
    }
   ],
   "source": [
    "from statsmodels.stats.power import TTestPower\n",
    "\n",
    "test_power = TTestPower()\n",
    "test_power.power(effect_size=0.1, #Cohen's d\n",
    "                 nobs=len(distri_norm), #Length of distri can be changed \n",
    "                 alpha=0.05, #Level of significance\n",
    "                 df=None, #Degree of freedom calculated automatically\n",
    "                 alternative='two-sided') #Type of test"
   ]
  },
  {
   "cell_type": "markdown",
   "id": "296923ea",
   "metadata": {
    "papermill": {
     "duration": 0.044359,
     "end_time": "2021-07-26T05:58:22.211427",
     "exception": false,
     "start_time": "2021-07-26T05:58:22.167068",
     "status": "completed"
    },
    "tags": []
   },
   "source": [
    "#### Calculating minimum samples required for >0.8 power"
   ]
  },
  {
   "cell_type": "code",
   "execution_count": 23,
   "id": "40c57144",
   "metadata": {
    "execution": {
     "iopub.execute_input": "2021-07-26T05:58:22.302587Z",
     "iopub.status.busy": "2021-07-26T05:58:22.301953Z",
     "iopub.status.idle": "2021-07-26T05:58:22.313732Z",
     "shell.execute_reply": "2021-07-26T05:58:22.314243Z",
     "shell.execute_reply.started": "2021-07-26T05:56:13.322026Z"
    },
    "papermill": {
     "duration": 0.059131,
     "end_time": "2021-07-26T05:58:22.314430",
     "exception": false,
     "start_time": "2021-07-26T05:58:22.255299",
     "status": "completed"
    },
    "tags": []
   },
   "outputs": [
    {
     "data": {
      "text/plain": [
       "2552.3763270799204"
      ]
     },
     "execution_count": 23,
     "metadata": {},
     "output_type": "execute_result"
    }
   ],
   "source": [
    "test_power = TTestPower()\n",
    "test_power.solve_power(effect_size=0.1,\n",
    "                       power=0.999,\n",
    "                       nobs=None,\n",
    "                       alpha=0.05,\n",
    "                       alternative='two-sided')"
   ]
  },
  {
   "cell_type": "markdown",
   "id": "bba0841a",
   "metadata": {
    "papermill": {
     "duration": 0.044666,
     "end_time": "2021-07-26T05:58:22.404176",
     "exception": false,
     "start_time": "2021-07-26T05:58:22.359510",
     "status": "completed"
    },
    "tags": []
   },
   "source": [
    "#### Insights : Hence we can see that only ~42 obsrvations are required a near perfect one-sample/paired two sample t-test hypothesis test with decent power of 0.8 (on the above specifications only)"
   ]
  },
  {
   "cell_type": "markdown",
   "id": "5f9b1124",
   "metadata": {
    "papermill": {
     "duration": 0.057795,
     "end_time": "2021-07-26T05:58:22.508655",
     "exception": false,
     "start_time": "2021-07-26T05:58:22.450860",
     "status": "completed"
    },
    "tags": []
   },
   "source": [
    "## Power Analysis for un-paired two-sample t-test"
   ]
  },
  {
   "cell_type": "code",
   "execution_count": 24,
   "id": "92adce8b",
   "metadata": {
    "execution": {
     "iopub.execute_input": "2021-07-26T05:58:22.608740Z",
     "iopub.status.busy": "2021-07-26T05:58:22.608122Z",
     "iopub.status.idle": "2021-07-26T05:58:22.615603Z",
     "shell.execute_reply": "2021-07-26T05:58:22.615126Z",
     "shell.execute_reply.started": "2021-07-26T05:56:25.083500Z"
    },
    "papermill": {
     "duration": 0.054765,
     "end_time": "2021-07-26T05:58:22.615742",
     "exception": false,
     "start_time": "2021-07-26T05:58:22.560977",
     "status": "completed"
    },
    "tags": []
   },
   "outputs": [
    {
     "data": {
      "text/plain": [
       "0.9939637886845705"
      ]
     },
     "execution_count": 24,
     "metadata": {},
     "output_type": "execute_result"
    }
   ],
   "source": [
    "from statsmodels.stats.power import TTestIndPower\n",
    "\n",
    "group_1 = distri_norm_1\n",
    "group_2 = distri_norm_2\n",
    "\n",
    "test_power = TTestIndPower()\n",
    "test_power.power(effect_size=0.2, #Cohen's d\n",
    "                 nobs1=len(group_1), #Length of distri can be changed \n",
    "                 alpha=0.05, #Level of significance\n",
    "                 df=None, #Degree of freedom calculated automatically\n",
    "                 alternative='two-sided', #Type of test\n",
    "                 ratio=len(group_2)/len(group_1)) #ratio of group 2 wrt group 1"
   ]
  },
  {
   "cell_type": "code",
   "execution_count": 25,
   "id": "4bdd9c49",
   "metadata": {
    "execution": {
     "iopub.execute_input": "2021-07-26T05:58:22.719245Z",
     "iopub.status.busy": "2021-07-26T05:58:22.718621Z",
     "iopub.status.idle": "2021-07-26T05:58:22.721151Z",
     "shell.execute_reply": "2021-07-26T05:58:22.721681Z",
     "shell.execute_reply.started": "2021-07-26T05:56:32.477058Z"
    },
    "papermill": {
     "duration": 0.061109,
     "end_time": "2021-07-26T05:58:22.721847",
     "exception": false,
     "start_time": "2021-07-26T05:58:22.660738",
     "status": "completed"
    },
    "tags": []
   },
   "outputs": [
    {
     "data": {
      "text/plain": [
       "1276.1885403446524"
      ]
     },
     "execution_count": 25,
     "metadata": {},
     "output_type": "execute_result"
    }
   ],
   "source": [
    "test_power = TTestIndPower()\n",
    "test_power.solve_power(effect_size=0.2,\n",
    "                       power=0.999,\n",
    "                       nobs1=None,\n",
    "                       alpha=0.05,\n",
    "                       alternative='two-sided',\n",
    "                       ratio=1) #Same nobs in both groups = ratio =1"
   ]
  },
  {
   "cell_type": "markdown",
   "id": "b092bbf8",
   "metadata": {
    "papermill": {
     "duration": 0.044715,
     "end_time": "2021-07-26T05:58:22.811095",
     "exception": false,
     "start_time": "2021-07-26T05:58:22.766380",
     "status": "completed"
    },
    "tags": []
   },
   "source": [
    "#### Hence, ~81 obs are required for a near perfect two sample t-test of the above specifications "
   ]
  },
  {
   "cell_type": "markdown",
   "id": "c4d3a5ff",
   "metadata": {
    "papermill": {
     "duration": 0.043832,
     "end_time": "2021-07-26T05:58:22.899433",
     "exception": false,
     "start_time": "2021-07-26T05:58:22.855601",
     "status": "completed"
    },
    "tags": []
   },
   "source": [
    "## Power Test for One-Way ANOVA"
   ]
  },
  {
   "cell_type": "code",
   "execution_count": 26,
   "id": "976e53b5",
   "metadata": {
    "execution": {
     "iopub.execute_input": "2021-07-26T05:58:22.991465Z",
     "iopub.status.busy": "2021-07-26T05:58:22.990837Z",
     "iopub.status.idle": "2021-07-26T05:58:22.997352Z",
     "shell.execute_reply": "2021-07-26T05:58:22.997799Z",
     "shell.execute_reply.started": "2021-07-26T05:56:42.138960Z"
    },
    "papermill": {
     "duration": 0.054041,
     "end_time": "2021-07-26T05:58:22.997979",
     "exception": false,
     "start_time": "2021-07-26T05:58:22.943938",
     "status": "completed"
    },
    "tags": []
   },
   "outputs": [
    {
     "data": {
      "text/plain": [
       "0.9999671467194342"
      ]
     },
     "execution_count": 26,
     "metadata": {},
     "output_type": "execute_result"
    }
   ],
   "source": [
    "from statsmodels.stats.power import FTestAnovaPower\n",
    "\n",
    "group_1 = distri_norm_1\n",
    "group_2 = distri_norm_2\n",
    "group_3 = distri_norm_3\n",
    "\n",
    "anova_power_test = FTestAnovaPower()\n",
    "\n",
    "anova_power_test.power(effect_size=0.2,\n",
    "                       nobs=len(group_1),\n",
    "                       alpha=0.05,\n",
    "                       k_groups=3)"
   ]
  },
  {
   "cell_type": "code",
   "execution_count": 27,
   "id": "9e8091cc",
   "metadata": {
    "execution": {
     "iopub.execute_input": "2021-07-26T05:58:23.091761Z",
     "iopub.status.busy": "2021-07-26T05:58:23.091166Z",
     "iopub.status.idle": "2021-07-26T05:58:23.105120Z",
     "shell.execute_reply": "2021-07-26T05:58:23.104631Z",
     "shell.execute_reply.started": "2021-07-26T05:56:46.836988Z"
    },
    "papermill": {
     "duration": 0.061472,
     "end_time": "2021-07-26T05:58:23.105254",
     "exception": false,
     "start_time": "2021-07-26T05:58:23.043782",
     "status": "completed"
    },
    "tags": []
   },
   "outputs": [
    {
     "data": {
      "text/plain": [
       "732.57629821681"
      ]
     },
     "execution_count": 27,
     "metadata": {},
     "output_type": "execute_result"
    }
   ],
   "source": [
    "anova_test_power = FTestAnovaPower()\n",
    "anova_test_power.solve_power(effect_size=0.2,\n",
    "                       power=0.999,\n",
    "                       nobs=None,\n",
    "                       alpha=0.05,\n",
    "                       k_groups=3) #Same nobs in both groups = ratio =1"
   ]
  },
  {
   "cell_type": "markdown",
   "id": "c9b4642d",
   "metadata": {
    "papermill": {
     "duration": 0.04447,
     "end_time": "2021-07-26T05:58:23.194586",
     "exception": false,
     "start_time": "2021-07-26T05:58:23.150116",
     "status": "completed"
    },
    "tags": []
   },
   "source": [
    "#### Insights : Hence, on the above specifications, atleast ~49 obs are required overall (all groups combined) for a near perfect hypothesis test on one-way ANOVA "
   ]
  },
  {
   "cell_type": "markdown",
   "id": "e80c5597",
   "metadata": {
    "papermill": {
     "duration": 0.044507,
     "end_time": "2021-07-26T05:58:23.283910",
     "exception": false,
     "start_time": "2021-07-26T05:58:23.239403",
     "status": "completed"
    },
    "tags": []
   },
   "source": [
    "# 4. Multiple Testing Correction\n",
    "- When multiple tests are performed, the probability of making a type-I error rises up, hence the level of significance has to be adjusted to acommodate the rise in overall alpha\n",
    "- This is called Family Wise Error Rate (FWER), which is given by FWER = 1 - (1-alpha)^k where k is the number of tests\n",
    "- Alternatively, the p-value can be adjusted with the same alpha value as well, which is generally performed\n",
    "- Popular techniques to do such are Bonferroni, Sidak, Simes-hocheberg etc. We'll limit ourselves to Bonferroni & Sidak for this notebook"
   ]
  },
  {
   "cell_type": "code",
   "execution_count": 28,
   "id": "d6a42a6b",
   "metadata": {
    "execution": {
     "iopub.execute_input": "2021-07-26T05:58:23.381579Z",
     "iopub.status.busy": "2021-07-26T05:58:23.380607Z",
     "iopub.status.idle": "2021-07-26T05:58:23.385578Z",
     "shell.execute_reply": "2021-07-26T05:58:23.385087Z",
     "shell.execute_reply.started": "2021-07-26T05:56:51.362332Z"
    },
    "papermill": {
     "duration": 0.057314,
     "end_time": "2021-07-26T05:58:23.385714",
     "exception": false,
     "start_time": "2021-07-26T05:58:23.328400",
     "status": "completed"
    },
    "tags": []
   },
   "outputs": [
    {
     "name": "stdout",
     "output_type": "stream",
     "text": [
      "Total number of tests : 10 \n",
      "\n",
      "The mask for reject vs accept (Boolean) : [False False False  True False False False False False  True] \n",
      "\n",
      "Adjusted p-val corresponding to the original p-val set : \n",
      " [1.0e+00 1.0e+00 6.0e-02 5.0e-04 1.0e+00 1.0e+00 1.0e+00 1.0e+00 1.0e+00\n",
      " 9.8e-12] \n",
      "\n",
      "The adjusted alpha value after FWER correction by Sidak Method : 0.005116196891823743 \n",
      "\n",
      "The adjusted alpha value after FWER correction by Bonf Method : 0.005 \n",
      "\n"
     ]
    }
   ],
   "source": [
    "from statsmodels.stats.multitest import multipletests\n",
    "\n",
    "#Suppose 10 experiments were performed and below are the 10 p-values associated with each experiment\n",
    "p_set = np.array([0.1,0.4,0.006,0.00005,0.6,0.2,0.5,0.8,0.9,0.00000000000098])\n",
    "\n",
    "reject, p_corrected, alphac_sidak, alphac_bonf = multipletests(pvals=p_set,\n",
    "                                                               method='bonferroni',\n",
    "                                                               alpha=0.05, \n",
    "                                                               is_sorted=False, #\n",
    "                                                               returnsorted=False)\n",
    "\n",
    "####################################################################################################\n",
    "print('Total number of tests :',len(p_set),'\\n')\n",
    "print('The mask for reject vs accept (Boolean) :',reject,'\\n')\n",
    "print('Adjusted p-val corresponding to the original p-val set :','\\n',p_corrected,'\\n')\n",
    "print('The adjusted alpha value after FWER correction by Sidak Method :',alphac_sidak,'\\n')\n",
    "print('The adjusted alpha value after FWER correction by Bonf Method :',alphac_bonf,'\\n')"
   ]
  },
  {
   "cell_type": "markdown",
   "id": "eb4c5890",
   "metadata": {
    "papermill": {
     "duration": 0.045322,
     "end_time": "2021-07-26T05:58:23.477201",
     "exception": false,
     "start_time": "2021-07-26T05:58:23.431879",
     "status": "completed"
    },
    "tags": []
   },
   "source": [
    "# END"
   ]
  }
 ],
 "metadata": {
  "kernelspec": {
   "display_name": "Python 3",
   "language": "python",
   "name": "python3"
  },
  "language_info": {
   "codemirror_mode": {
    "name": "ipython",
    "version": 3
   },
   "file_extension": ".py",
   "mimetype": "text/x-python",
   "name": "python",
   "nbconvert_exporter": "python",
   "pygments_lexer": "ipython3",
   "version": "3.7.10"
  },
  "papermill": {
   "default_parameters": {},
   "duration": 32.711372,
   "end_time": "2021-07-26T05:58:24.233220",
   "environment_variables": {},
   "exception": null,
   "input_path": "__notebook__.ipynb",
   "output_path": "__notebook__.ipynb",
   "parameters": {},
   "start_time": "2021-07-26T05:57:51.521848",
   "version": "2.3.3"
  }
 },
 "nbformat": 4,
 "nbformat_minor": 5
}
