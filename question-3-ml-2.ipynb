{
 "cells": [
  {
   "cell_type": "code",
   "execution_count": 1,
   "id": "4842dbb8",
   "metadata": {
    "_cell_guid": "b1076dfc-b9ad-4769-8c92-a6c4dae69d19",
    "_uuid": "8f2839f25d086af736a60e9eeb907d3b93b6e0e5",
    "execution": {
     "iopub.execute_input": "2022-03-09T18:10:26.025836Z",
     "iopub.status.busy": "2022-03-09T18:10:26.025239Z",
     "iopub.status.idle": "2022-03-09T18:10:26.039169Z",
     "shell.execute_reply": "2022-03-09T18:10:26.037953Z",
     "shell.execute_reply.started": "2022-03-09T18:08:29.962590Z"
    },
    "papermill": {
     "duration": 0.051478,
     "end_time": "2022-03-09T18:10:26.039456",
     "exception": false,
     "start_time": "2022-03-09T18:10:25.987978",
     "status": "completed"
    },
    "tags": []
   },
   "outputs": [
    {
     "name": "stdout",
     "output_type": "stream",
     "text": [
      "/kaggle/input/ml-assignment-2-ques-3/Data.csv\n"
     ]
    }
   ],
   "source": [
    "# This Python 3 environment comes with many helpful analytics libraries installed\n",
    "# It is defined by the kaggle/python Docker image: https://github.com/kaggle/docker-python\n",
    "# For example, here's several helpful packages to load\n",
    "\n",
    "import numpy as np # linear algebra\n",
    "import pandas as pd # data processing, CSV file I/O (e.g. pd.read_csv)\n",
    "import matplotlib.pyplot as plt\n",
    "\n",
    "# Input data files are available in the read-only \"../input/\" directory\n",
    "# For example, running this (by clicking run or pressing Shift+Enter) will list all files under the input directory\n",
    "\n",
    "import os\n",
    "for dirname, _, filenames in os.walk('/kaggle/input'):\n",
    "    for filename in filenames:\n",
    "        print(os.path.join(dirname, filename))\n",
    "\n",
    "# You can write up to 20GB to the current directory (/kaggle/working/) that gets preserved as output when you create a version using \"Save & Run All\" \n",
    "# You can also write temporary files to /kaggle/temp/, but they won't be saved outside of the current session"
   ]
  },
  {
   "cell_type": "markdown",
   "id": "7d58b68e",
   "metadata": {
    "papermill": {
     "duration": 0.027579,
     "end_time": "2022-03-09T18:10:26.095447",
     "exception": false,
     "start_time": "2022-03-09T18:10:26.067868",
     "status": "completed"
    },
    "tags": []
   },
   "source": [
    "# Importing data (csv)"
   ]
  },
  {
   "cell_type": "code",
   "execution_count": 2,
   "id": "d617fb93",
   "metadata": {
    "execution": {
     "iopub.execute_input": "2022-03-09T18:10:26.154028Z",
     "iopub.status.busy": "2022-03-09T18:10:26.153309Z",
     "iopub.status.idle": "2022-03-09T18:10:26.180609Z",
     "shell.execute_reply": "2022-03-09T18:10:26.181298Z",
     "shell.execute_reply.started": "2022-03-09T18:08:29.998404Z"
    },
    "papermill": {
     "duration": 0.059896,
     "end_time": "2022-03-09T18:10:26.181518",
     "exception": false,
     "start_time": "2022-03-09T18:10:26.121622",
     "status": "completed"
    },
    "tags": []
   },
   "outputs": [
    {
     "name": "stdout",
     "output_type": "stream",
     "text": [
      "(54, 2)\n"
     ]
    },
    {
     "data": {
      "text/html": [
       "<div>\n",
       "<style scoped>\n",
       "    .dataframe tbody tr th:only-of-type {\n",
       "        vertical-align: middle;\n",
       "    }\n",
       "\n",
       "    .dataframe tbody tr th {\n",
       "        vertical-align: top;\n",
       "    }\n",
       "\n",
       "    .dataframe thead th {\n",
       "        text-align: right;\n",
       "    }\n",
       "</style>\n",
       "<table border=\"1\" class=\"dataframe\">\n",
       "  <thead>\n",
       "    <tr style=\"text-align: right;\">\n",
       "      <th></th>\n",
       "      <th>X</th>\n",
       "      <th>Y</th>\n",
       "    </tr>\n",
       "  </thead>\n",
       "  <tbody>\n",
       "    <tr>\n",
       "      <th>0</th>\n",
       "      <td>1.0</td>\n",
       "      <td>550</td>\n",
       "    </tr>\n",
       "    <tr>\n",
       "      <th>1</th>\n",
       "      <td>3.0</td>\n",
       "      <td>566</td>\n",
       "    </tr>\n",
       "    <tr>\n",
       "      <th>2</th>\n",
       "      <td>4.0</td>\n",
       "      <td>558</td>\n",
       "    </tr>\n",
       "    <tr>\n",
       "      <th>3</th>\n",
       "      <td>3.0</td>\n",
       "      <td>784</td>\n",
       "    </tr>\n",
       "    <tr>\n",
       "      <th>4</th>\n",
       "      <td>5.0</td>\n",
       "      <td>333</td>\n",
       "    </tr>\n",
       "  </tbody>\n",
       "</table>\n",
       "</div>"
      ],
      "text/plain": [
       "     X    Y\n",
       "0  1.0  550\n",
       "1  3.0  566\n",
       "2  4.0  558\n",
       "3  3.0  784\n",
       "4  5.0  333"
      ]
     },
     "execution_count": 2,
     "metadata": {},
     "output_type": "execute_result"
    }
   ],
   "source": [
    "data = pd.read_csv('../input/ml-assignment-2-ques-3/Data.csv') #reading csv into pandas dataframe\n",
    "\n",
    "data_arr = np.array(data) #Converting into numpy array to carryout all operations in the form of numpy\n",
    "#------------------------------------------------------------------------------\n",
    "print(data.shape)\n",
    "data.head()"
   ]
  },
  {
   "cell_type": "markdown",
   "id": "09906e33",
   "metadata": {
    "papermill": {
     "duration": 0.026992,
     "end_time": "2022-03-09T18:10:26.236264",
     "exception": false,
     "start_time": "2022-03-09T18:10:26.209272",
     "status": "completed"
    },
    "tags": []
   },
   "source": [
    "# Finding the threshold for meaningful labels (taking median)"
   ]
  },
  {
   "cell_type": "code",
   "execution_count": 3,
   "id": "f9b6fa10",
   "metadata": {
    "execution": {
     "iopub.execute_input": "2022-03-09T18:10:26.297046Z",
     "iopub.status.busy": "2022-03-09T18:10:26.296407Z",
     "iopub.status.idle": "2022-03-09T18:10:26.301378Z",
     "shell.execute_reply": "2022-03-09T18:10:26.301800Z",
     "shell.execute_reply.started": "2022-03-09T18:08:30.035874Z"
    },
    "papermill": {
     "duration": 0.036856,
     "end_time": "2022-03-09T18:10:26.301966",
     "exception": false,
     "start_time": "2022-03-09T18:10:26.265110",
     "status": "completed"
    },
    "tags": []
   },
   "outputs": [
    {
     "name": "stdout",
     "output_type": "stream",
     "text": [
      "851.0\n"
     ]
    }
   ],
   "source": [
    "threshold = np.quantile(data_arr[:,1],[0.5],axis=0)[0] #Calculting 50th percentile or median\n",
    "print(threshold)"
   ]
  },
  {
   "cell_type": "markdown",
   "id": "17a3a89a",
   "metadata": {
    "papermill": {
     "duration": 0.027097,
     "end_time": "2022-03-09T18:10:26.356659",
     "exception": false,
     "start_time": "2022-03-09T18:10:26.329562",
     "status": "completed"
    },
    "tags": []
   },
   "source": [
    "# Question 3.1 - \n",
    "- Create the labels from the given data. (Fix an appropriate threshold and consider Y > threshold as 1 otherwise 0)"
   ]
  },
  {
   "cell_type": "code",
   "execution_count": 4,
   "id": "8ad71490",
   "metadata": {
    "execution": {
     "iopub.execute_input": "2022-03-09T18:10:26.415243Z",
     "iopub.status.busy": "2022-03-09T18:10:26.414604Z",
     "iopub.status.idle": "2022-03-09T18:10:26.418600Z",
     "shell.execute_reply": "2022-03-09T18:10:26.419093Z",
     "shell.execute_reply.started": "2022-03-09T18:08:30.044948Z"
    },
    "papermill": {
     "duration": 0.035238,
     "end_time": "2022-03-09T18:10:26.419296",
     "exception": false,
     "start_time": "2022-03-09T18:10:26.384058",
     "status": "completed"
    },
    "tags": []
   },
   "outputs": [],
   "source": [
    "labels = np.where(data_arr[:,1]>threshold,1,0) #If-else statement\n",
    "labels = np.resize(labels,(len(labels),1))"
   ]
  },
  {
   "cell_type": "markdown",
   "id": "9b75d05d",
   "metadata": {
    "papermill": {
     "duration": 0.027897,
     "end_time": "2022-03-09T18:10:26.474989",
     "exception": false,
     "start_time": "2022-03-09T18:10:26.447092",
     "status": "completed"
    },
    "tags": []
   },
   "source": [
    "## Dropping coninuous numerical variables from data & appending labels"
   ]
  },
  {
   "cell_type": "code",
   "execution_count": 5,
   "id": "e8a7dbe9",
   "metadata": {
    "execution": {
     "iopub.execute_input": "2022-03-09T18:10:26.538253Z",
     "iopub.status.busy": "2022-03-09T18:10:26.537547Z",
     "iopub.status.idle": "2022-03-09T18:10:26.541650Z",
     "shell.execute_reply": "2022-03-09T18:10:26.541178Z",
     "shell.execute_reply.started": "2022-03-09T18:08:30.053061Z"
    },
    "papermill": {
     "duration": 0.039319,
     "end_time": "2022-03-09T18:10:26.541828",
     "exception": false,
     "start_time": "2022-03-09T18:10:26.502509",
     "status": "completed"
    },
    "tags": []
   },
   "outputs": [
    {
     "name": "stdout",
     "output_type": "stream",
     "text": [
      "Target Label idx :  1\n",
      "(54, 2)\n"
     ]
    },
    {
     "data": {
      "text/plain": [
       "array([[1., 0.],\n",
       "       [3., 0.],\n",
       "       [4., 0.],\n",
       "       [3., 0.],\n",
       "       [5., 0.],\n",
       "       [2., 1.]])"
      ]
     },
     "execution_count": 5,
     "metadata": {},
     "output_type": "execute_result"
    }
   ],
   "source": [
    "data_arr_mod = np.resize(data_arr[:,0:-1], (len(data_arr),1)) #Dropping coninuous column from which target is created\n",
    "data_arr_mod = np.append(data_arr_mod,labels,axis=-1) #Appedning labels\n",
    "\n",
    "label_idx = data_arr_mod.shape[1]-1\n",
    "print(\"Target Label idx : \",label_idx)\n",
    "\n",
    "print(data_arr_mod.shape)\n",
    "data_arr_mod[0:6]"
   ]
  },
  {
   "cell_type": "markdown",
   "id": "d927a9b7",
   "metadata": {
    "papermill": {
     "duration": 0.02934,
     "end_time": "2022-03-09T18:10:26.600519",
     "exception": false,
     "start_time": "2022-03-09T18:10:26.571179",
     "status": "completed"
    },
    "tags": []
   },
   "source": [
    "# Question 3.2 - \n",
    "- Plot the distribution of samples using the histogram."
   ]
  },
  {
   "cell_type": "markdown",
   "id": "37518432",
   "metadata": {
    "papermill": {
     "duration": 0.029105,
     "end_time": "2022-03-09T18:10:26.658996",
     "exception": false,
     "start_time": "2022-03-09T18:10:26.629891",
     "status": "completed"
    },
    "tags": []
   },
   "source": [
    "## For feature X"
   ]
  },
  {
   "cell_type": "code",
   "execution_count": 6,
   "id": "d200fd97",
   "metadata": {
    "execution": {
     "iopub.execute_input": "2022-03-09T18:10:26.718925Z",
     "iopub.status.busy": "2022-03-09T18:10:26.718338Z",
     "iopub.status.idle": "2022-03-09T18:10:26.949915Z",
     "shell.execute_reply": "2022-03-09T18:10:26.949402Z",
     "shell.execute_reply.started": "2022-03-09T18:08:30.068640Z"
    },
    "papermill": {
     "duration": 0.262597,
     "end_time": "2022-03-09T18:10:26.950048",
     "exception": false,
     "start_time": "2022-03-09T18:10:26.687451",
     "status": "completed"
    },
    "tags": []
   },
   "outputs": [
    {
     "data": {
      "image/png": "[encoded data removed]",
      "text/plain": [
       "<Figure size 864x288 with 1 Axes>"
      ]
     },
     "metadata": {
      "needs_background": "light"
     },
     "output_type": "display_data"
    }
   ],
   "source": [
    "# plotting a line plot after changing it's width and height\n",
    "f = plt.figure()\n",
    "f.set_figwidth(12)\n",
    "f.set_figheight(4)\n",
    "\n",
    "# naming the x and y axis\n",
    "plt.xlabel('Feature X value bins --->')\n",
    "plt.ylabel('Frequency --->')\n",
    "\n",
    "#-------------------------------------------------------------------------------------\n",
    "#Plotting\n",
    "plt.hist(data_arr[:,0], color=\"skyblue\")\n",
    "plt.show()"
   ]
  },
  {
   "cell_type": "markdown",
   "id": "a4efa964",
   "metadata": {
    "papermill": {
     "duration": 0.028706,
     "end_time": "2022-03-09T18:10:27.007706",
     "exception": false,
     "start_time": "2022-03-09T18:10:26.979000",
     "status": "completed"
    },
    "tags": []
   },
   "source": [
    "## For Target-Y"
   ]
  },
  {
   "cell_type": "code",
   "execution_count": 7,
   "id": "a100be3a",
   "metadata": {
    "execution": {
     "iopub.execute_input": "2022-03-09T18:10:27.078872Z",
     "iopub.status.busy": "2022-03-09T18:10:27.077904Z",
     "iopub.status.idle": "2022-03-09T18:10:27.375617Z",
     "shell.execute_reply": "2022-03-09T18:10:27.376051Z",
     "shell.execute_reply.started": "2022-03-09T18:08:30.302635Z"
    },
    "papermill": {
     "duration": 0.338455,
     "end_time": "2022-03-09T18:10:27.376250",
     "exception": false,
     "start_time": "2022-03-09T18:10:27.037795",
     "status": "completed"
    },
    "tags": []
   },
   "outputs": [
    {
     "data": {
      "image/png": "[encoded data removed]",
      "text/plain": [
       "<Figure size 864x288 with 1 Axes>"
      ]
     },
     "metadata": {
      "needs_background": "light"
     },
     "output_type": "display_data"
    }
   ],
   "source": [
    "# plotting a line plot after changing it's width and height\n",
    "f = plt.figure()\n",
    "f.set_figwidth(12)\n",
    "f.set_figheight(4)\n",
    "\n",
    "# naming the x and y axis\n",
    "plt.xlabel('Target Y value bins --->')\n",
    "plt.ylabel('Frequency --->')\n",
    "\n",
    "#-------------------------------------------------------------------------------------\n",
    "#Plotting\n",
    "plt.hist(data_arr[:,1], color=\"green\")\n",
    "plt.show()"
   ]
  },
  {
   "cell_type": "markdown",
   "id": "baf9e772",
   "metadata": {
    "papermill": {
     "duration": 0.028977,
     "end_time": "2022-03-09T18:10:27.435526",
     "exception": false,
     "start_time": "2022-03-09T18:10:27.406549",
     "status": "completed"
    },
    "tags": []
   },
   "source": [
    "# Question 3.3 \n",
    "- Determine the prior probability for both classes."
   ]
  },
  {
   "cell_type": "code",
   "execution_count": 8,
   "id": "bdc0561d",
   "metadata": {
    "execution": {
     "iopub.execute_input": "2022-03-09T18:10:27.497256Z",
     "iopub.status.busy": "2022-03-09T18:10:27.496336Z",
     "iopub.status.idle": "2022-03-09T18:10:27.502958Z",
     "shell.execute_reply": "2022-03-09T18:10:27.502492Z",
     "shell.execute_reply.started": "2022-03-09T18:08:30.602599Z"
    },
    "papermill": {
     "duration": 0.038495,
     "end_time": "2022-03-09T18:10:27.503084",
     "exception": false,
     "start_time": "2022-03-09T18:10:27.464589",
     "status": "completed"
    },
    "tags": []
   },
   "outputs": [
    {
     "name": "stdout",
     "output_type": "stream",
     "text": [
      "Prior Probability of class 0 :  0.5185185185185185\n",
      "Prior Probability of class 1 :  0.48148148148148145\n"
     ]
    }
   ],
   "source": [
    "prior_0 = len(labels[labels==0])/len(labels)\n",
    "print(\"Prior Probability of class 0 : \",prior_0)\n",
    "\n",
    "#-------------------------------------------\n",
    "\n",
    "prior_1 = len(labels[labels==1])/len(labels)\n",
    "print(\"Prior Probability of class 1 : \",prior_1)\n"
   ]
  },
  {
   "cell_type": "markdown",
   "id": "5e92ca7b",
   "metadata": {
    "papermill": {
     "duration": 0.029713,
     "end_time": "2022-03-09T18:10:27.562332",
     "exception": false,
     "start_time": "2022-03-09T18:10:27.532619",
     "status": "completed"
    },
    "tags": []
   },
   "source": [
    "# Question 3.4 \n",
    "- Determine the class conditional probabilities (likelihood) for the classes."
   ]
  },
  {
   "cell_type": "code",
   "execution_count": 9,
   "id": "c7b9e3b4",
   "metadata": {
    "execution": {
     "iopub.execute_input": "2022-03-09T18:10:27.624288Z",
     "iopub.status.busy": "2022-03-09T18:10:27.623720Z",
     "iopub.status.idle": "2022-03-09T18:10:27.629459Z",
     "shell.execute_reply": "2022-03-09T18:10:27.629981Z",
     "shell.execute_reply.started": "2022-03-09T18:08:30.609418Z"
    },
    "papermill": {
     "duration": 0.038443,
     "end_time": "2022-03-09T18:10:27.630155",
     "exception": false,
     "start_time": "2022-03-09T18:10:27.591712",
     "status": "completed"
    },
    "tags": []
   },
   "outputs": [
    {
     "data": {
      "text/plain": [
       "0.2419708267111718"
      ]
     },
     "execution_count": 9,
     "metadata": {},
     "output_type": "execute_result"
    }
   ],
   "source": [
    "#UDF to calculate the pdf value with respect to gaussian assumption \n",
    "def gaussian_pdf(x,mu,sigma):\n",
    "    \n",
    "    pi = 3.14159\n",
    "    val = (1/sigma) * np.sqrt((1/pi) * 0.5) * np.exp(-0.5 * (x-mu)/sigma)\n",
    "    \n",
    "    return val\n",
    "\n",
    "#Testing for standard distribution with online calculator\n",
    "gaussian_pdf(1,0,1)"
   ]
  },
  {
   "cell_type": "markdown",
   "id": "cfb37456",
   "metadata": {
    "papermill": {
     "duration": 0.029714,
     "end_time": "2022-03-09T18:10:27.689589",
     "exception": false,
     "start_time": "2022-03-09T18:10:27.659875",
     "status": "completed"
    },
    "tags": []
   },
   "source": [
    "## Calculating class conditional probabilities for class 0 (for all records in feature X)"
   ]
  },
  {
   "cell_type": "code",
   "execution_count": 10,
   "id": "9169a0f6",
   "metadata": {
    "execution": {
     "iopub.execute_input": "2022-03-09T18:10:27.758916Z",
     "iopub.status.busy": "2022-03-09T18:10:27.758204Z",
     "iopub.status.idle": "2022-03-09T18:10:27.763891Z",
     "shell.execute_reply": "2022-03-09T18:10:27.764311Z",
     "shell.execute_reply.started": "2022-03-09T18:08:30.625650Z"
    },
    "papermill": {
     "duration": 0.044126,
     "end_time": "2022-03-09T18:10:27.764486",
     "exception": false,
     "start_time": "2022-03-09T18:10:27.720360",
     "status": "completed"
    },
    "tags": []
   },
   "outputs": [
    {
     "name": "stdout",
     "output_type": "stream",
     "text": [
      "(54, 1)\n"
     ]
    },
    {
     "data": {
      "text/plain": [
       "array([[0.76063481],\n",
       "       [0.30217935],\n",
       "       [0.19046232],\n",
       "       [0.30217935],\n",
       "       [0.12004756]])"
      ]
     },
     "execution_count": 10,
     "metadata": {},
     "output_type": "execute_result"
    }
   ],
   "source": [
    "#Calculating class_conditional of feature X assuming Gaussian distibution (Continuous variable)\n",
    "class_conditional_prob_0 = gaussian_pdf(data_arr_mod[:,0],                      #X-value   \n",
    "                                      np.array([np.mean(data_arr_mod[data_arr_mod[:,label_idx]==0][:,0])]), #Mean\n",
    "                                      np.array([np.std(data_arr_mod[data_arr_mod[:,label_idx]==0][:,0])]))  #Std Dev\n",
    "\n",
    "#Resizing\n",
    "class_conditional_prob_0 = np.resize(class_conditional_prob_0,\n",
    "                                   (len(class_conditional_prob_0),1))\n",
    "\n",
    "print(class_conditional_prob_0.shape)\n",
    "class_conditional_prob_0[0:5]"
   ]
  },
  {
   "cell_type": "markdown",
   "id": "5bba6ae7",
   "metadata": {
    "papermill": {
     "duration": 0.030211,
     "end_time": "2022-03-09T18:10:27.825529",
     "exception": false,
     "start_time": "2022-03-09T18:10:27.795318",
     "status": "completed"
    },
    "tags": []
   },
   "source": [
    "## Calculating class conditional probabilities for class 1 (for all records in feature X)"
   ]
  },
  {
   "cell_type": "code",
   "execution_count": 11,
   "id": "ecddb6e6",
   "metadata": {
    "execution": {
     "iopub.execute_input": "2022-03-09T18:10:27.894506Z",
     "iopub.status.busy": "2022-03-09T18:10:27.889549Z",
     "iopub.status.idle": "2022-03-09T18:10:27.899953Z",
     "shell.execute_reply": "2022-03-09T18:10:27.899468Z",
     "shell.execute_reply.started": "2022-03-09T18:08:30.637848Z"
    },
    "papermill": {
     "duration": 0.043979,
     "end_time": "2022-03-09T18:10:27.900086",
     "exception": false,
     "start_time": "2022-03-09T18:10:27.856107",
     "status": "completed"
    },
    "tags": []
   },
   "outputs": [
    {
     "name": "stdout",
     "output_type": "stream",
     "text": [
      "(54, 1)\n"
     ]
    },
    {
     "data": {
      "text/plain": [
       "array([[0.9948227 ],\n",
       "       [0.23673815],\n",
       "       [0.11548605],\n",
       "       [0.23673815],\n",
       "       [0.05633662]])"
      ]
     },
     "execution_count": 11,
     "metadata": {},
     "output_type": "execute_result"
    }
   ],
   "source": [
    "#Calculating class_conditional of feature X assuming Gaussian distibution (Continuous variable)\n",
    "class_conditional_prob_1 = gaussian_pdf(data_arr_mod[:,0],                      #X-value   \n",
    "                                      np.array([np.mean(data_arr_mod[data_arr_mod[:,label_idx]==1][:,0])]), #Mean\n",
    "                                      np.array([np.std(data_arr_mod[data_arr_mod[:,label_idx]==1][:,0])]))  #Std Dev\n",
    "\n",
    "#Resizing\n",
    "class_conditional_prob_1 = np.resize(class_conditional_prob_1,\n",
    "                                   (len(class_conditional_prob_1),1))\n",
    "\n",
    "print(class_conditional_prob_1.shape)\n",
    "class_conditional_prob_1[0:5]"
   ]
  },
  {
   "cell_type": "markdown",
   "id": "3891dc74",
   "metadata": {
    "papermill": {
     "duration": 0.031543,
     "end_time": "2022-03-09T18:10:27.962819",
     "exception": false,
     "start_time": "2022-03-09T18:10:27.931276",
     "status": "completed"
    },
    "tags": []
   },
   "source": [
    "# Question 3.5 \n",
    "- Plot the count of each unique element for each class."
   ]
  },
  {
   "cell_type": "code",
   "execution_count": 12,
   "id": "4d5772f5",
   "metadata": {
    "execution": {
     "iopub.execute_input": "2022-03-09T18:10:28.032916Z",
     "iopub.status.busy": "2022-03-09T18:10:28.032214Z",
     "iopub.status.idle": "2022-03-09T18:10:28.223001Z",
     "shell.execute_reply": "2022-03-09T18:10:28.223472Z",
     "shell.execute_reply.started": "2022-03-09T18:08:30.652205Z"
    },
    "papermill": {
     "duration": 0.229353,
     "end_time": "2022-03-09T18:10:28.223635",
     "exception": false,
     "start_time": "2022-03-09T18:10:27.994282",
     "status": "completed"
    },
    "tags": []
   },
   "outputs": [
    {
     "name": "stdout",
     "output_type": "stream",
     "text": [
      "Unique vals of class 0 :  7\n",
      "Unique vals of class 1 :  5\n"
     ]
    },
    {
     "data": {
      "image/png": "[encoded data removed]",
      "text/plain": [
       "<Figure size 864x288 with 1 Axes>"
      ]
     },
     "metadata": {
      "needs_background": "light"
     },
     "output_type": "display_data"
    }
   ],
   "source": [
    "class_0_unique_vals = len(np.unique(data_arr_mod[data_arr_mod[:,label_idx]==0][:,0]))\n",
    "print(\"Unique vals of class 0 : \",class_0_unique_vals)\n",
    "\n",
    "class_1_unique_vals = len(np.unique(data_arr_mod[data_arr_mod[:,label_idx]==1][:,0]))\n",
    "print(\"Unique vals of class 1 : \",class_1_unique_vals)\n",
    "\n",
    "\n",
    "#-------------------------------------------------------------------------------------------\n",
    "# plotting a line plot after changing it's width and height\n",
    "f = plt.figure()\n",
    "f.set_figwidth(12)\n",
    "f.set_figheight(4)\n",
    "\n",
    "# naming the x and y axis\n",
    "plt.xlabel('Class --->')\n",
    "plt.ylabel('Count unique records of X --->')\n",
    "\n",
    "#-------------------------------------------------------------------------------------\n",
    "x = [0,1]\n",
    "y = [class_0_unique_vals,class_1_unique_vals]\n",
    "#Plotting\n",
    "plt.bar(x=x,height=y)\n",
    "plt.show()"
   ]
  },
  {
   "cell_type": "markdown",
   "id": "5aa134c6",
   "metadata": {
    "papermill": {
     "duration": 0.03211,
     "end_time": "2022-03-09T18:10:28.287720",
     "exception": false,
     "start_time": "2022-03-09T18:10:28.255610",
     "status": "completed"
    },
    "tags": []
   },
   "source": [
    "# Question 3.6\n",
    "- Calculate the posterior probability of both classes and plot them."
   ]
  },
  {
   "cell_type": "markdown",
   "id": "cd9ce8a8",
   "metadata": {
    "papermill": {
     "duration": 0.032181,
     "end_time": "2022-03-09T18:10:28.352012",
     "exception": false,
     "start_time": "2022-03-09T18:10:28.319831",
     "status": "completed"
    },
    "tags": []
   },
   "source": [
    "## Calculating the numerator for each class : prior * likelihood"
   ]
  },
  {
   "cell_type": "code",
   "execution_count": 13,
   "id": "273aa164",
   "metadata": {
    "execution": {
     "iopub.execute_input": "2022-03-09T18:10:28.420685Z",
     "iopub.status.busy": "2022-03-09T18:10:28.419759Z",
     "iopub.status.idle": "2022-03-09T18:10:28.426761Z",
     "shell.execute_reply": "2022-03-09T18:10:28.426248Z",
     "shell.execute_reply.started": "2022-03-09T18:08:30.848101Z"
    },
    "papermill": {
     "duration": 0.041949,
     "end_time": "2022-03-09T18:10:28.426905",
     "exception": false,
     "start_time": "2022-03-09T18:10:28.384956",
     "status": "completed"
    },
    "tags": []
   },
   "outputs": [
    {
     "name": "stdout",
     "output_type": "stream",
     "text": [
      "Numerator of class 0 :  (54, 1)\n",
      "Numerator of class 1 :  (54, 1)\n"
     ]
    }
   ],
   "source": [
    "numerator_0 = prior_0 * class_conditional_prob_0\n",
    "print(\"Numerator of class 0 : \",numerator_0.shape)\n",
    "\n",
    "numerator_1 = prior_1 * class_conditional_prob_1\n",
    "print(\"Numerator of class 1 : \",numerator_1.shape)"
   ]
  },
  {
   "cell_type": "markdown",
   "id": "eef90e48",
   "metadata": {
    "papermill": {
     "duration": 0.032605,
     "end_time": "2022-03-09T18:10:28.492376",
     "exception": false,
     "start_time": "2022-03-09T18:10:28.459771",
     "status": "completed"
    },
    "tags": []
   },
   "source": [
    "## Calculating the evidence (denominator)"
   ]
  },
  {
   "cell_type": "code",
   "execution_count": 14,
   "id": "7305c060",
   "metadata": {
    "execution": {
     "iopub.execute_input": "2022-03-09T18:10:28.561531Z",
     "iopub.status.busy": "2022-03-09T18:10:28.560571Z",
     "iopub.status.idle": "2022-03-09T18:10:28.565585Z",
     "shell.execute_reply": "2022-03-09T18:10:28.566005Z",
     "shell.execute_reply.started": "2022-03-09T18:08:30.854950Z"
    },
    "papermill": {
     "duration": 0.041433,
     "end_time": "2022-03-09T18:10:28.566179",
     "exception": false,
     "start_time": "2022-03-09T18:10:28.524746",
     "status": "completed"
    },
    "tags": []
   },
   "outputs": [
    {
     "name": "stdout",
     "output_type": "stream",
     "text": [
      "Evidence :  (54, 1)\n"
     ]
    }
   ],
   "source": [
    "evidence = numerator_0 + numerator_1\n",
    "print(\"Evidence : \",evidence.shape)"
   ]
  },
  {
   "cell_type": "markdown",
   "id": "3fd1bea2",
   "metadata": {
    "papermill": {
     "duration": 0.032921,
     "end_time": "2022-03-09T18:10:28.631637",
     "exception": false,
     "start_time": "2022-03-09T18:10:28.598716",
     "status": "completed"
    },
    "tags": []
   },
   "source": [
    "## Calculating the posterior for class 0"
   ]
  },
  {
   "cell_type": "code",
   "execution_count": 15,
   "id": "ce4bdf0e",
   "metadata": {
    "execution": {
     "iopub.execute_input": "2022-03-09T18:10:28.703490Z",
     "iopub.status.busy": "2022-03-09T18:10:28.702618Z",
     "iopub.status.idle": "2022-03-09T18:10:28.706726Z",
     "shell.execute_reply": "2022-03-09T18:10:28.707268Z",
     "shell.execute_reply.started": "2022-03-09T18:08:30.869652Z"
    },
    "papermill": {
     "duration": 0.042804,
     "end_time": "2022-03-09T18:10:28.707427",
     "exception": false,
     "start_time": "2022-03-09T18:10:28.664623",
     "status": "completed"
    },
    "tags": []
   },
   "outputs": [
    {
     "name": "stdout",
     "output_type": "stream",
     "text": [
      "Posterior for class :  (54, 1)\n"
     ]
    },
    {
     "data": {
      "text/plain": [
       "array([[0.45157645],\n",
       "       [0.57887917],\n",
       "       [0.63978073],\n",
       "       [0.57887917],\n",
       "       [0.6964926 ]])"
      ]
     },
     "execution_count": 15,
     "metadata": {},
     "output_type": "execute_result"
    }
   ],
   "source": [
    "posterior_0 = numerator_0/evidence\n",
    "\n",
    "#-------------------------------------------------------\n",
    "print(\"Posterior for class : \",posterior_0.shape)\n",
    "posterior_0[0:5]"
   ]
  },
  {
   "cell_type": "markdown",
   "id": "2e020bce",
   "metadata": {
    "papermill": {
     "duration": 0.03484,
     "end_time": "2022-03-09T18:10:28.775757",
     "exception": false,
     "start_time": "2022-03-09T18:10:28.740917",
     "status": "completed"
    },
    "tags": []
   },
   "source": [
    "## Calculating the posterior for class 1"
   ]
  },
  {
   "cell_type": "code",
   "execution_count": 16,
   "id": "b851cf9a",
   "metadata": {
    "execution": {
     "iopub.execute_input": "2022-03-09T18:10:28.846911Z",
     "iopub.status.busy": "2022-03-09T18:10:28.846284Z",
     "iopub.status.idle": "2022-03-09T18:10:28.853558Z",
     "shell.execute_reply": "2022-03-09T18:10:28.854408Z",
     "shell.execute_reply.started": "2022-03-09T18:08:30.883133Z"
    },
    "papermill": {
     "duration": 0.045377,
     "end_time": "2022-03-09T18:10:28.854689",
     "exception": false,
     "start_time": "2022-03-09T18:10:28.809312",
     "status": "completed"
    },
    "tags": []
   },
   "outputs": [
    {
     "name": "stdout",
     "output_type": "stream",
     "text": [
      "Posterior for class :  (54, 1)\n"
     ]
    },
    {
     "data": {
      "text/plain": [
       "array([[0.54842355],\n",
       "       [0.42112083],\n",
       "       [0.36021927],\n",
       "       [0.42112083],\n",
       "       [0.3035074 ]])"
      ]
     },
     "execution_count": 16,
     "metadata": {},
     "output_type": "execute_result"
    }
   ],
   "source": [
    "posterior_1 = numerator_1/evidence\n",
    "\n",
    "#-------------------------------------------------------\n",
    "print(\"Posterior for class : \",posterior_1.shape)\n",
    "posterior_1[0:5]"
   ]
  },
  {
   "cell_type": "markdown",
   "id": "505a457f",
   "metadata": {
    "papermill": {
     "duration": 0.034532,
     "end_time": "2022-03-09T18:10:28.924096",
     "exception": false,
     "start_time": "2022-03-09T18:10:28.889564",
     "status": "completed"
    },
    "tags": []
   },
   "source": [
    "## Verifying "
   ]
  },
  {
   "cell_type": "code",
   "execution_count": 17,
   "id": "7adb070c",
   "metadata": {
    "execution": {
     "iopub.execute_input": "2022-03-09T18:10:28.997050Z",
     "iopub.status.busy": "2022-03-09T18:10:28.996448Z",
     "iopub.status.idle": "2022-03-09T18:10:29.001444Z",
     "shell.execute_reply": "2022-03-09T18:10:29.001965Z",
     "shell.execute_reply.started": "2022-03-09T18:08:30.896909Z"
    },
    "papermill": {
     "duration": 0.043336,
     "end_time": "2022-03-09T18:10:29.002144",
     "exception": false,
     "start_time": "2022-03-09T18:10:28.958808",
     "status": "completed"
    },
    "tags": []
   },
   "outputs": [
    {
     "name": "stdout",
     "output_type": "stream",
     "text": [
      "Verifying if all corresponding values add upto 1 (since probability is between [0,1]) - Unique values :  [1. 1.]\n"
     ]
    }
   ],
   "source": [
    "print(\"Verifying if all corresponding values add upto 1 (since probability is between [0,1]) - Unique values : \",\n",
    "          np.unique(posterior_0 + posterior_1))"
   ]
  },
  {
   "cell_type": "markdown",
   "id": "9594b5e7",
   "metadata": {
    "papermill": {
     "duration": 0.03528,
     "end_time": "2022-03-09T18:10:29.071328",
     "exception": false,
     "start_time": "2022-03-09T18:10:29.036048",
     "status": "completed"
    },
    "tags": []
   },
   "source": [
    "## Plotting posterior probabilities"
   ]
  },
  {
   "cell_type": "code",
   "execution_count": 18,
   "id": "f3a0fd70",
   "metadata": {
    "execution": {
     "iopub.execute_input": "2022-03-09T18:10:29.144555Z",
     "iopub.status.busy": "2022-03-09T18:10:29.143932Z",
     "iopub.status.idle": "2022-03-09T18:10:29.369703Z",
     "shell.execute_reply": "2022-03-09T18:10:29.369149Z",
     "shell.execute_reply.started": "2022-03-09T18:09:50.482126Z"
    },
    "papermill": {
     "duration": 0.263856,
     "end_time": "2022-03-09T18:10:29.369854",
     "exception": false,
     "start_time": "2022-03-09T18:10:29.105998",
     "status": "completed"
    },
    "tags": []
   },
   "outputs": [
    {
     "data": {
      "image/png": "[encoded data removed]",
      "text/plain": [
       "<Figure size 864x288 with 1 Axes>"
      ]
     },
     "metadata": {
      "needs_background": "light"
     },
     "output_type": "display_data"
    }
   ],
   "source": [
    "#-------------------------------------------------------------------------------------------\n",
    "# plotting a line plot after changing it's width and height\n",
    "f = plt.figure()\n",
    "f.set_figwidth(12)\n",
    "f.set_figheight(4)\n",
    "\n",
    "# naming the x and y axis\n",
    "plt.xlabel('Class --->')\n",
    "plt.ylabel('Count unique records of X --->')\n",
    "\n",
    "#-------------------------------------------------------------------------------------\n",
    "x = data_arr_mod[:,0]\n",
    "y = [posterior_0,posterior_1]\n",
    "plt.title(\"Plotting the posterior probabilities for all 3 classes\")\n",
    "plt.xlabel(\"Value of independent variable - Sepal Length\")\n",
    "plt.ylabel(\"Posterior probabilities\")\n",
    "#Plotting\n",
    "plt.plot(posterior_0,x,marker='o',color='green',linestyle='none', label='wrt - class 0')\n",
    "plt.plot(posterior_1,x,marker='^',color='red',linestyle='none', label='wrt - class 1')\n",
    "plt.legend(loc=\"lower right\")\n",
    "plt.show()"
   ]
  },
  {
   "cell_type": "markdown",
   "id": "d0c68e6b",
   "metadata": {
    "papermill": {
     "duration": 0.035077,
     "end_time": "2022-03-09T18:10:29.441602",
     "exception": false,
     "start_time": "2022-03-09T18:10:29.406525",
     "status": "completed"
    },
    "tags": []
   },
   "source": [
    "# Classification \n",
    "- Taking decision based on posterior probabilities for class 0 & 1"
   ]
  },
  {
   "cell_type": "code",
   "execution_count": 19,
   "id": "a1f28982",
   "metadata": {
    "execution": {
     "iopub.execute_input": "2022-03-09T18:10:29.515314Z",
     "iopub.status.busy": "2022-03-09T18:10:29.514639Z",
     "iopub.status.idle": "2022-03-09T18:10:29.521985Z",
     "shell.execute_reply": "2022-03-09T18:10:29.522912Z",
     "shell.execute_reply.started": "2022-03-07T21:30:40.097497Z"
    },
    "papermill": {
     "duration": 0.046399,
     "end_time": "2022-03-09T18:10:29.523154",
     "exception": false,
     "start_time": "2022-03-09T18:10:29.476755",
     "status": "completed"
    },
    "tags": []
   },
   "outputs": [
    {
     "name": "stdout",
     "output_type": "stream",
     "text": [
      "[[0.45157645 0.54842355]\n",
      " [0.57887917 0.42112083]\n",
      " [0.63978073 0.36021927]\n",
      " [0.57887917 0.42112083]\n",
      " [0.6964926  0.3035074 ]\n",
      " [0.5154789  0.4845211 ]\n",
      " [0.57887917 0.42112083]]\n"
     ]
    },
    {
     "data": {
      "text/plain": [
       "array([1, 0, 0, 0, 0, 0, 0])"
      ]
     },
     "execution_count": 19,
     "metadata": {},
     "output_type": "execute_result"
    }
   ],
   "source": [
    "combined_posterior = np.append(posterior_0,posterior_1,axis=-1)\n",
    "print(combined_posterior[0:7])\n",
    "\n",
    "predictions = np.argmax(combined_posterior,axis=-1)\n",
    "predictions[0:7]"
   ]
  },
  {
   "cell_type": "code",
   "execution_count": null,
   "id": "e3080119",
   "metadata": {
    "papermill": {
     "duration": 0.035605,
     "end_time": "2022-03-09T18:10:29.595215",
     "exception": false,
     "start_time": "2022-03-09T18:10:29.559610",
     "status": "completed"
    },
    "tags": []
   },
   "outputs": [],
   "source": []
  },
  {
   "cell_type": "code",
   "execution_count": null,
   "id": "79855bcc",
   "metadata": {
    "papermill": {
     "duration": 0.035074,
     "end_time": "2022-03-09T18:10:29.666220",
     "exception": false,
     "start_time": "2022-03-09T18:10:29.631146",
     "status": "completed"
    },
    "tags": []
   },
   "outputs": [],
   "source": []
  },
  {
   "cell_type": "code",
   "execution_count": null,
   "id": "3967e044",
   "metadata": {
    "papermill": {
     "duration": 0.035624,
     "end_time": "2022-03-09T18:10:29.737291",
     "exception": false,
     "start_time": "2022-03-09T18:10:29.701667",
     "status": "completed"
    },
    "tags": []
   },
   "outputs": [],
   "source": []
  },
  {
   "cell_type": "code",
   "execution_count": null,
   "id": "8dba2a0c",
   "metadata": {
    "papermill": {
     "duration": 0.035744,
     "end_time": "2022-03-09T18:10:29.809032",
     "exception": false,
     "start_time": "2022-03-09T18:10:29.773288",
     "status": "completed"
    },
    "tags": []
   },
   "outputs": [],
   "source": []
  },
  {
   "cell_type": "code",
   "execution_count": null,
   "id": "7a87bbb3",
   "metadata": {
    "papermill": {
     "duration": 0.03568,
     "end_time": "2022-03-09T18:10:29.880544",
     "exception": false,
     "start_time": "2022-03-09T18:10:29.844864",
     "status": "completed"
    },
    "tags": []
   },
   "outputs": [],
   "source": []
  },
  {
   "cell_type": "code",
   "execution_count": null,
   "id": "09310396",
   "metadata": {
    "papermill": {
     "duration": 0.035976,
     "end_time": "2022-03-09T18:10:29.952535",
     "exception": false,
     "start_time": "2022-03-09T18:10:29.916559",
     "status": "completed"
    },
    "tags": []
   },
   "outputs": [],
   "source": []
  }
 ],
 "metadata": {
  "kernelspec": {
   "display_name": "Python 3",
   "language": "python",
   "name": "python3"
  },
  "language_info": {
   "codemirror_mode": {
    "name": "ipython",
    "version": 3
   },
   "file_extension": ".py",
   "mimetype": "text/x-python",
   "name": "python",
   "nbconvert_exporter": "python",
   "pygments_lexer": "ipython3",
   "version": "3.7.12"
  },
  "papermill": {
   "default_parameters": {},
   "duration": 12.971023,
   "end_time": "2022-03-09T18:10:30.599031",
   "environment_variables": {},
   "exception": null,
   "input_path": "__notebook__.ipynb",
   "output_path": "__notebook__.ipynb",
   "parameters": {},
   "start_time": "2022-03-09T18:10:17.628008",
   "version": "2.3.3"
  }
 },
 "nbformat": 4,
 "nbformat_minor": 5
}
