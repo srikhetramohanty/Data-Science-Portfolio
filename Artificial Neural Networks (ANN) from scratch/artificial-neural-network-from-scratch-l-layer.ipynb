{
 "cells": [
  {
   "cell_type": "code",
   "execution_count": 1,
   "id": "5c2bbb0d",
   "metadata": {
    "_cell_guid": "b1076dfc-b9ad-4769-8c92-a6c4dae69d19",
    "_uuid": "8f2839f25d086af736a60e9eeb907d3b93b6e0e5",
    "execution": {
     "iopub.execute_input": "2021-07-31T17:03:48.927372Z",
     "iopub.status.busy": "2021-07-31T17:03:48.926691Z",
     "iopub.status.idle": "2021-07-31T17:03:50.223224Z",
     "shell.execute_reply": "2021-07-31T17:03:50.223825Z",
     "shell.execute_reply.started": "2021-07-31T15:34:14.005112Z"
    },
    "papermill": {
     "duration": 1.341347,
     "end_time": "2021-07-31T17:03:50.224123",
     "exception": false,
     "start_time": "2021-07-31T17:03:48.882776",
     "status": "completed"
    },
    "tags": []
   },
   "outputs": [
    {
     "name": "stdout",
     "output_type": "stream",
     "text": [
      "/kaggle/input/titanic/train_data.csv\n",
      "/kaggle/input/titanic/test_data.csv\n"
     ]
    }
   ],
   "source": [
    "# This Python 3 environment comes with many helpful analytics libraries installed\n",
    "# It is defined by the kaggle/python Docker image: https://github.com/kaggle/docker-python\n",
    "# For example, here's several helpful packages to load\n",
    "\n",
    "import numpy as np # linear algebra\n",
    "import pandas as pd # data processing, CSV file I/O (e.g. pd.read_csv)\n",
    "from sklearn.preprocessing import StandardScaler\n",
    "from sklearn.metrics import mean_squared_error\n",
    "from sklearn.metrics import accuracy_score\n",
    "from sklearn.metrics import roc_auc_score\n",
    "import matplotlib.pyplot as pt\n",
    "import seaborn as sns\n",
    "from sklearn.model_selection import train_test_split\n",
    "pd.set_option('display.max_columns', None)\n",
    "# Input data files are available in the read-only \"../input/\" directory\n",
    "# For example, running this (by clicking run or pressing Shift+Enter) will list all files under the input directory\n",
    "\n",
    "import os\n",
    "for dirname, _, filenames in os.walk('/kaggle/input'):\n",
    "    for filename in filenames:\n",
    "        print(os.path.join(dirname, filename))\n",
    "\n",
    "# You can write up to 20GB to the current directory (/kaggle/working/) that gets preserved as output when you create a version using \"Save & Run All\" \n",
    "# You can also write temporary files to /kaggle/temp/, but they won't be saved outside of the current session"
   ]
  },
  {
   "cell_type": "markdown",
   "id": "501fe003",
   "metadata": {
    "papermill": {
     "duration": 0.02873,
     "end_time": "2021-07-31T17:03:50.283013",
     "exception": false,
     "start_time": "2021-07-31T17:03:50.254283",
     "status": "completed"
    },
    "tags": []
   },
   "source": [
    "# Importing data"
   ]
  },
  {
   "cell_type": "code",
   "execution_count": 2,
   "id": "781c78c8",
   "metadata": {
    "execution": {
     "iopub.execute_input": "2021-07-31T17:03:50.347217Z",
     "iopub.status.busy": "2021-07-31T17:03:50.346557Z",
     "iopub.status.idle": "2021-07-31T17:03:50.395692Z",
     "shell.execute_reply": "2021-07-31T17:03:50.396223Z",
     "shell.execute_reply.started": "2021-07-31T15:34:14.017151Z"
    },
    "papermill": {
     "duration": 0.08451,
     "end_time": "2021-07-31T17:03:50.396414",
     "exception": false,
     "start_time": "2021-07-31T17:03:50.311904",
     "status": "completed"
    },
    "tags": []
   },
   "outputs": [
    {
     "name": "stdout",
     "output_type": "stream",
     "text": [
      "(792, 12)\n"
     ]
    },
    {
     "data": {
      "text/html": [
       "<div>\n",
       "<style scoped>\n",
       "    .dataframe tbody tr th:only-of-type {\n",
       "        vertical-align: middle;\n",
       "    }\n",
       "\n",
       "    .dataframe tbody tr th {\n",
       "        vertical-align: top;\n",
       "    }\n",
       "\n",
       "    .dataframe thead th {\n",
       "        text-align: right;\n",
       "    }\n",
       "</style>\n",
       "<table border=\"1\" class=\"dataframe\">\n",
       "  <thead>\n",
       "    <tr style=\"text-align: right;\">\n",
       "      <th></th>\n",
       "      <th>PassengerId</th>\n",
       "      <th>Survived</th>\n",
       "      <th>Sex</th>\n",
       "      <th>Age</th>\n",
       "      <th>Fare</th>\n",
       "      <th>Pclass_1</th>\n",
       "      <th>Pclass_2</th>\n",
       "      <th>Pclass_3</th>\n",
       "      <th>Family_size</th>\n",
       "      <th>Emb_1</th>\n",
       "      <th>Emb_2</th>\n",
       "      <th>Emb_3</th>\n",
       "    </tr>\n",
       "  </thead>\n",
       "  <tbody>\n",
       "    <tr>\n",
       "      <th>0</th>\n",
       "      <td>1</td>\n",
       "      <td>0</td>\n",
       "      <td>1</td>\n",
       "      <td>0.2750</td>\n",
       "      <td>0.014151</td>\n",
       "      <td>0</td>\n",
       "      <td>0</td>\n",
       "      <td>1</td>\n",
       "      <td>0.1</td>\n",
       "      <td>0</td>\n",
       "      <td>0</td>\n",
       "      <td>1</td>\n",
       "    </tr>\n",
       "    <tr>\n",
       "      <th>1</th>\n",
       "      <td>2</td>\n",
       "      <td>1</td>\n",
       "      <td>0</td>\n",
       "      <td>0.4750</td>\n",
       "      <td>0.139136</td>\n",
       "      <td>1</td>\n",
       "      <td>0</td>\n",
       "      <td>0</td>\n",
       "      <td>0.1</td>\n",
       "      <td>1</td>\n",
       "      <td>0</td>\n",
       "      <td>0</td>\n",
       "    </tr>\n",
       "    <tr>\n",
       "      <th>2</th>\n",
       "      <td>3</td>\n",
       "      <td>1</td>\n",
       "      <td>0</td>\n",
       "      <td>0.3250</td>\n",
       "      <td>0.015469</td>\n",
       "      <td>0</td>\n",
       "      <td>0</td>\n",
       "      <td>1</td>\n",
       "      <td>0.0</td>\n",
       "      <td>0</td>\n",
       "      <td>0</td>\n",
       "      <td>1</td>\n",
       "    </tr>\n",
       "    <tr>\n",
       "      <th>3</th>\n",
       "      <td>4</td>\n",
       "      <td>1</td>\n",
       "      <td>0</td>\n",
       "      <td>0.4375</td>\n",
       "      <td>0.103644</td>\n",
       "      <td>1</td>\n",
       "      <td>0</td>\n",
       "      <td>0</td>\n",
       "      <td>0.1</td>\n",
       "      <td>0</td>\n",
       "      <td>0</td>\n",
       "      <td>1</td>\n",
       "    </tr>\n",
       "    <tr>\n",
       "      <th>4</th>\n",
       "      <td>5</td>\n",
       "      <td>0</td>\n",
       "      <td>1</td>\n",
       "      <td>0.4375</td>\n",
       "      <td>0.015713</td>\n",
       "      <td>0</td>\n",
       "      <td>0</td>\n",
       "      <td>1</td>\n",
       "      <td>0.0</td>\n",
       "      <td>0</td>\n",
       "      <td>0</td>\n",
       "      <td>1</td>\n",
       "    </tr>\n",
       "  </tbody>\n",
       "</table>\n",
       "</div>"
      ],
      "text/plain": [
       "   PassengerId  Survived  Sex     Age      Fare  Pclass_1  Pclass_2  Pclass_3  \\\n",
       "0            1         0    1  0.2750  0.014151         0         0         1   \n",
       "1            2         1    0  0.4750  0.139136         1         0         0   \n",
       "2            3         1    0  0.3250  0.015469         0         0         1   \n",
       "3            4         1    0  0.4375  0.103644         1         0         0   \n",
       "4            5         0    1  0.4375  0.015713         0         0         1   \n",
       "\n",
       "   Family_size  Emb_1  Emb_2  Emb_3  \n",
       "0          0.1      0      0      1  \n",
       "1          0.1      1      0      0  \n",
       "2          0.0      0      0      1  \n",
       "3          0.1      0      0      1  \n",
       "4          0.0      0      0      1  "
      ]
     },
     "execution_count": 2,
     "metadata": {},
     "output_type": "execute_result"
    }
   ],
   "source": [
    "input_ads = pd.read_csv('../input/titanic/train_data.csv')\n",
    "input_ads.drop(columns=['Unnamed: 0','Title_1','Title_2','Title_3','Title_4'],inplace=True) #Dropping un-necessary columns\n",
    "#-----------------------------------------------------------------\n",
    "print(input_ads.shape)\n",
    "input_ads.head()"
   ]
  },
  {
   "cell_type": "markdown",
   "id": "b397e36f",
   "metadata": {
    "papermill": {
     "duration": 0.029687,
     "end_time": "2021-07-31T17:03:50.456187",
     "exception": false,
     "start_time": "2021-07-31T17:03:50.426500",
     "status": "completed"
    },
    "tags": []
   },
   "source": [
    "# Null Check"
   ]
  },
  {
   "cell_type": "code",
   "execution_count": 3,
   "id": "8911b77f",
   "metadata": {
    "execution": {
     "iopub.execute_input": "2021-07-31T17:03:50.531174Z",
     "iopub.status.busy": "2021-07-31T17:03:50.530443Z",
     "iopub.status.idle": "2021-07-31T17:03:50.535490Z",
     "shell.execute_reply": "2021-07-31T17:03:50.534912Z",
     "shell.execute_reply.started": "2021-07-31T15:34:14.047396Z"
    },
    "papermill": {
     "duration": 0.049081,
     "end_time": "2021-07-31T17:03:50.535651",
     "exception": false,
     "start_time": "2021-07-31T17:03:50.486570",
     "status": "completed"
    },
    "tags": []
   },
   "outputs": [
    {
     "data": {
      "text/html": [
       "<div>\n",
       "<style scoped>\n",
       "    .dataframe tbody tr th:only-of-type {\n",
       "        vertical-align: middle;\n",
       "    }\n",
       "\n",
       "    .dataframe tbody tr th {\n",
       "        vertical-align: top;\n",
       "    }\n",
       "\n",
       "    .dataframe thead th {\n",
       "        text-align: right;\n",
       "    }\n",
       "</style>\n",
       "<table border=\"1\" class=\"dataframe\">\n",
       "  <thead>\n",
       "    <tr style=\"text-align: right;\">\n",
       "      <th></th>\n",
       "      <th>PassengerId</th>\n",
       "      <th>Survived</th>\n",
       "      <th>Sex</th>\n",
       "      <th>Age</th>\n",
       "      <th>Fare</th>\n",
       "      <th>Pclass_1</th>\n",
       "      <th>Pclass_2</th>\n",
       "      <th>Pclass_3</th>\n",
       "      <th>Family_size</th>\n",
       "      <th>Emb_1</th>\n",
       "      <th>Emb_2</th>\n",
       "      <th>Emb_3</th>\n",
       "    </tr>\n",
       "  </thead>\n",
       "  <tbody>\n",
       "    <tr>\n",
       "      <th>0</th>\n",
       "      <td>0</td>\n",
       "      <td>0</td>\n",
       "      <td>0</td>\n",
       "      <td>0</td>\n",
       "      <td>0</td>\n",
       "      <td>0</td>\n",
       "      <td>0</td>\n",
       "      <td>0</td>\n",
       "      <td>0</td>\n",
       "      <td>0</td>\n",
       "      <td>0</td>\n",
       "      <td>0</td>\n",
       "    </tr>\n",
       "  </tbody>\n",
       "</table>\n",
       "</div>"
      ],
      "text/plain": [
       "   PassengerId  Survived  Sex  Age  Fare  Pclass_1  Pclass_2  Pclass_3  \\\n",
       "0            0         0    0    0     0         0         0         0   \n",
       "\n",
       "   Family_size  Emb_1  Emb_2  Emb_3  \n",
       "0            0      0      0      0  "
      ]
     },
     "execution_count": 3,
     "metadata": {},
     "output_type": "execute_result"
    }
   ],
   "source": [
    "pd.DataFrame(input_ads.isnull().sum()).T"
   ]
  },
  {
   "cell_type": "markdown",
   "id": "4961d079",
   "metadata": {
    "papermill": {
     "duration": 0.030388,
     "end_time": "2021-07-31T17:03:50.597883",
     "exception": false,
     "start_time": "2021-07-31T17:03:50.567495",
     "status": "completed"
    },
    "tags": []
   },
   "source": [
    "# Description of the data"
   ]
  },
  {
   "cell_type": "code",
   "execution_count": 4,
   "id": "9ad85858",
   "metadata": {
    "execution": {
     "iopub.execute_input": "2021-07-31T17:03:50.662708Z",
     "iopub.status.busy": "2021-07-31T17:03:50.662020Z",
     "iopub.status.idle": "2021-07-31T17:03:50.715662Z",
     "shell.execute_reply": "2021-07-31T17:03:50.715101Z",
     "shell.execute_reply.started": "2021-07-31T15:34:14.060011Z"
    },
    "papermill": {
     "duration": 0.087387,
     "end_time": "2021-07-31T17:03:50.715828",
     "exception": false,
     "start_time": "2021-07-31T17:03:50.628441",
     "status": "completed"
    },
    "tags": []
   },
   "outputs": [
    {
     "data": {
      "text/html": [
       "<div>\n",
       "<style scoped>\n",
       "    .dataframe tbody tr th:only-of-type {\n",
       "        vertical-align: middle;\n",
       "    }\n",
       "\n",
       "    .dataframe tbody tr th {\n",
       "        vertical-align: top;\n",
       "    }\n",
       "\n",
       "    .dataframe thead th {\n",
       "        text-align: right;\n",
       "    }\n",
       "</style>\n",
       "<table border=\"1\" class=\"dataframe\">\n",
       "  <thead>\n",
       "    <tr style=\"text-align: right;\">\n",
       "      <th></th>\n",
       "      <th>PassengerId</th>\n",
       "      <th>Survived</th>\n",
       "      <th>Sex</th>\n",
       "      <th>Age</th>\n",
       "      <th>Fare</th>\n",
       "      <th>Pclass_1</th>\n",
       "      <th>Pclass_2</th>\n",
       "      <th>Pclass_3</th>\n",
       "      <th>Family_size</th>\n",
       "      <th>Emb_1</th>\n",
       "      <th>Emb_2</th>\n",
       "      <th>Emb_3</th>\n",
       "    </tr>\n",
       "  </thead>\n",
       "  <tbody>\n",
       "    <tr>\n",
       "      <th>count</th>\n",
       "      <td>792.000000</td>\n",
       "      <td>792.000000</td>\n",
       "      <td>792.000000</td>\n",
       "      <td>792.000000</td>\n",
       "      <td>792.000000</td>\n",
       "      <td>792.000000</td>\n",
       "      <td>792.000000</td>\n",
       "      <td>792.000000</td>\n",
       "      <td>792.000000</td>\n",
       "      <td>792.000000</td>\n",
       "      <td>792.000000</td>\n",
       "      <td>792.000000</td>\n",
       "    </tr>\n",
       "    <tr>\n",
       "      <th>mean</th>\n",
       "      <td>396.500000</td>\n",
       "      <td>0.386364</td>\n",
       "      <td>0.647727</td>\n",
       "      <td>0.368244</td>\n",
       "      <td>0.064677</td>\n",
       "      <td>0.243687</td>\n",
       "      <td>0.208333</td>\n",
       "      <td>0.547980</td>\n",
       "      <td>0.088636</td>\n",
       "      <td>0.185606</td>\n",
       "      <td>0.092172</td>\n",
       "      <td>0.720960</td>\n",
       "    </tr>\n",
       "    <tr>\n",
       "      <th>std</th>\n",
       "      <td>228.774999</td>\n",
       "      <td>0.487223</td>\n",
       "      <td>0.477980</td>\n",
       "      <td>0.162994</td>\n",
       "      <td>0.100987</td>\n",
       "      <td>0.429577</td>\n",
       "      <td>0.406373</td>\n",
       "      <td>0.498007</td>\n",
       "      <td>0.154485</td>\n",
       "      <td>0.389034</td>\n",
       "      <td>0.289451</td>\n",
       "      <td>0.448811</td>\n",
       "    </tr>\n",
       "    <tr>\n",
       "      <th>min</th>\n",
       "      <td>1.000000</td>\n",
       "      <td>0.000000</td>\n",
       "      <td>0.000000</td>\n",
       "      <td>0.008375</td>\n",
       "      <td>0.000000</td>\n",
       "      <td>0.000000</td>\n",
       "      <td>0.000000</td>\n",
       "      <td>0.000000</td>\n",
       "      <td>0.000000</td>\n",
       "      <td>0.000000</td>\n",
       "      <td>0.000000</td>\n",
       "      <td>0.000000</td>\n",
       "    </tr>\n",
       "    <tr>\n",
       "      <th>25%</th>\n",
       "      <td>198.750000</td>\n",
       "      <td>0.000000</td>\n",
       "      <td>0.000000</td>\n",
       "      <td>0.275000</td>\n",
       "      <td>0.015469</td>\n",
       "      <td>0.000000</td>\n",
       "      <td>0.000000</td>\n",
       "      <td>0.000000</td>\n",
       "      <td>0.000000</td>\n",
       "      <td>0.000000</td>\n",
       "      <td>0.000000</td>\n",
       "      <td>0.000000</td>\n",
       "    </tr>\n",
       "    <tr>\n",
       "      <th>50%</th>\n",
       "      <td>396.500000</td>\n",
       "      <td>0.000000</td>\n",
       "      <td>1.000000</td>\n",
       "      <td>0.350000</td>\n",
       "      <td>0.028302</td>\n",
       "      <td>0.000000</td>\n",
       "      <td>0.000000</td>\n",
       "      <td>1.000000</td>\n",
       "      <td>0.000000</td>\n",
       "      <td>0.000000</td>\n",
       "      <td>0.000000</td>\n",
       "      <td>1.000000</td>\n",
       "    </tr>\n",
       "    <tr>\n",
       "      <th>75%</th>\n",
       "      <td>594.250000</td>\n",
       "      <td>1.000000</td>\n",
       "      <td>1.000000</td>\n",
       "      <td>0.437500</td>\n",
       "      <td>0.061045</td>\n",
       "      <td>0.000000</td>\n",
       "      <td>0.000000</td>\n",
       "      <td>1.000000</td>\n",
       "      <td>0.100000</td>\n",
       "      <td>0.000000</td>\n",
       "      <td>0.000000</td>\n",
       "      <td>1.000000</td>\n",
       "    </tr>\n",
       "    <tr>\n",
       "      <th>max</th>\n",
       "      <td>792.000000</td>\n",
       "      <td>1.000000</td>\n",
       "      <td>1.000000</td>\n",
       "      <td>1.000000</td>\n",
       "      <td>1.000000</td>\n",
       "      <td>1.000000</td>\n",
       "      <td>1.000000</td>\n",
       "      <td>1.000000</td>\n",
       "      <td>1.000000</td>\n",
       "      <td>1.000000</td>\n",
       "      <td>1.000000</td>\n",
       "      <td>1.000000</td>\n",
       "    </tr>\n",
       "  </tbody>\n",
       "</table>\n",
       "</div>"
      ],
      "text/plain": [
       "       PassengerId    Survived         Sex         Age        Fare  \\\n",
       "count   792.000000  792.000000  792.000000  792.000000  792.000000   \n",
       "mean    396.500000    0.386364    0.647727    0.368244    0.064677   \n",
       "std     228.774999    0.487223    0.477980    0.162994    0.100987   \n",
       "min       1.000000    0.000000    0.000000    0.008375    0.000000   \n",
       "25%     198.750000    0.000000    0.000000    0.275000    0.015469   \n",
       "50%     396.500000    0.000000    1.000000    0.350000    0.028302   \n",
       "75%     594.250000    1.000000    1.000000    0.437500    0.061045   \n",
       "max     792.000000    1.000000    1.000000    1.000000    1.000000   \n",
       "\n",
       "         Pclass_1    Pclass_2    Pclass_3  Family_size       Emb_1  \\\n",
       "count  792.000000  792.000000  792.000000   792.000000  792.000000   \n",
       "mean     0.243687    0.208333    0.547980     0.088636    0.185606   \n",
       "std      0.429577    0.406373    0.498007     0.154485    0.389034   \n",
       "min      0.000000    0.000000    0.000000     0.000000    0.000000   \n",
       "25%      0.000000    0.000000    0.000000     0.000000    0.000000   \n",
       "50%      0.000000    0.000000    1.000000     0.000000    0.000000   \n",
       "75%      0.000000    0.000000    1.000000     0.100000    0.000000   \n",
       "max      1.000000    1.000000    1.000000     1.000000    1.000000   \n",
       "\n",
       "            Emb_2       Emb_3  \n",
       "count  792.000000  792.000000  \n",
       "mean     0.092172    0.720960  \n",
       "std      0.289451    0.448811  \n",
       "min      0.000000    0.000000  \n",
       "25%      0.000000    0.000000  \n",
       "50%      0.000000    1.000000  \n",
       "75%      0.000000    1.000000  \n",
       "max      1.000000    1.000000  "
      ]
     },
     "execution_count": 4,
     "metadata": {},
     "output_type": "execute_result"
    }
   ],
   "source": [
    "input_ads.describe()"
   ]
  },
  {
   "cell_type": "markdown",
   "id": "1a1af7b8",
   "metadata": {
    "papermill": {
     "duration": 0.033016,
     "end_time": "2021-07-31T17:03:50.781202",
     "exception": false,
     "start_time": "2021-07-31T17:03:50.748186",
     "status": "completed"
    },
    "tags": []
   },
   "source": [
    "# Description of target variable"
   ]
  },
  {
   "cell_type": "code",
   "execution_count": 5,
   "id": "86068e01",
   "metadata": {
    "execution": {
     "iopub.execute_input": "2021-07-31T17:03:50.850624Z",
     "iopub.status.busy": "2021-07-31T17:03:50.849566Z",
     "iopub.status.idle": "2021-07-31T17:03:50.856324Z",
     "shell.execute_reply": "2021-07-31T17:03:50.855767Z",
     "shell.execute_reply.started": "2021-07-31T15:34:14.109532Z"
    },
    "papermill": {
     "duration": 0.043925,
     "end_time": "2021-07-31T17:03:50.856462",
     "exception": false,
     "start_time": "2021-07-31T17:03:50.812537",
     "status": "completed"
    },
    "tags": []
   },
   "outputs": [
    {
     "data": {
      "text/plain": [
       "0    486\n",
       "1    306\n",
       "Name: Survived, dtype: int64"
      ]
     },
     "execution_count": 5,
     "metadata": {},
     "output_type": "execute_result"
    }
   ],
   "source": [
    "#Total survived vs not-survived split in the training data\n",
    "input_ads['Survived'].value_counts()"
   ]
  },
  {
   "cell_type": "markdown",
   "id": "15ff61b3",
   "metadata": {
    "papermill": {
     "duration": 0.031371,
     "end_time": "2021-07-31T17:03:50.919317",
     "exception": false,
     "start_time": "2021-07-31T17:03:50.887946",
     "status": "completed"
    },
    "tags": []
   },
   "source": [
    "# Manipulation of data into train-test"
   ]
  },
  {
   "cell_type": "code",
   "execution_count": 6,
   "id": "43b7ad67",
   "metadata": {
    "execution": {
     "iopub.execute_input": "2021-07-31T17:03:50.996234Z",
     "iopub.status.busy": "2021-07-31T17:03:50.993805Z",
     "iopub.status.idle": "2021-07-31T17:03:51.013714Z",
     "shell.execute_reply": "2021-07-31T17:03:51.014205Z",
     "shell.execute_reply.started": "2021-07-31T15:34:14.117542Z"
    },
    "papermill": {
     "duration": 0.061069,
     "end_time": "2021-07-31T17:03:51.014393",
     "exception": false,
     "start_time": "2021-07-31T17:03:50.953324",
     "status": "completed"
    },
    "tags": []
   },
   "outputs": [
    {
     "name": "stdout",
     "output_type": "stream",
     "text": [
      "Train % of total data: 88.78923766816143\n",
      "(792, 11)\n",
      "(100, 11)\n",
      "(792, 1)\n"
     ]
    }
   ],
   "source": [
    "target = 'Survived' #To predict\n",
    "\n",
    "#--------------------------------------------------------------------------------\n",
    "#Splitting into X & Y datasets (supervised training)\n",
    "X = input_ads[[cols for cols in list(input_ads.columns) if target not in cols]]\n",
    "y = input_ads[target]\n",
    "\n",
    "#--------------------------------------------------------------------------------\n",
    "#Since test data is already placed in the input folder separately, we will just import it\n",
    "test_ads = pd.read_csv('../input/titanic/test_data.csv')\n",
    "test_ads.drop(columns=['Unnamed: 0','Title_1','Title_2','Title_3','Title_4'],inplace=True) #Dropping un-necessary columns\n",
    "\n",
    "#Splitting into X & Y datasets (supervised training)\n",
    "X_test = test_ads[[cols for cols in list(test_ads.columns) if target not in cols]]\n",
    "y_test = test_ads[target]\n",
    "\n",
    "print('Train % of total data:',100 * X.shape[0]/(X.shape[0] + X_test.shape[0]))\n",
    "#--------------------------------------------------------------------------------\n",
    "#Manipulation of datasets for convenience and consistency\n",
    "X_arr = np.array(X)\n",
    "X_test_arr = np.array(X_test)\n",
    "\n",
    "y_arr = np.array(y).reshape(X_arr.shape[0],1)\n",
    "y_test_arr = np.array(y_test).reshape(X_test_arr.shape[0],1)\n",
    "\n",
    "#--------------------------------------------------------------------------------\n",
    "#Basic Summary\n",
    "print(X_arr.shape)\n",
    "print(X_test_arr.shape)\n",
    "print(y_arr.shape)"
   ]
  },
  {
   "cell_type": "markdown",
   "id": "8ac02b91",
   "metadata": {
    "papermill": {
     "duration": 0.031766,
     "end_time": "2021-07-31T17:03:51.078700",
     "exception": false,
     "start_time": "2021-07-31T17:03:51.046934",
     "status": "completed"
    },
    "tags": []
   },
   "source": [
    "# Standard scaling the x-data"
   ]
  },
  {
   "cell_type": "code",
   "execution_count": 7,
   "id": "a9de507e",
   "metadata": {
    "execution": {
     "iopub.execute_input": "2021-07-31T17:03:51.146244Z",
     "iopub.status.busy": "2021-07-31T17:03:51.145483Z",
     "iopub.status.idle": "2021-07-31T17:03:51.155303Z",
     "shell.execute_reply": "2021-07-31T17:03:51.154683Z",
     "shell.execute_reply.started": "2021-07-31T15:34:14.141162Z"
    },
    "papermill": {
     "duration": 0.045039,
     "end_time": "2021-07-31T17:03:51.155459",
     "exception": false,
     "start_time": "2021-07-31T17:03:51.110420",
     "status": "completed"
    },
    "tags": []
   },
   "outputs": [
    {
     "data": {
      "text/plain": [
       "array([[-1.72986525,  0.73746841, -0.57243072, -0.50063632, -0.56762987,\n",
       "        -0.51298918,  0.90823168,  0.07360462, -0.47739604, -0.31863757,\n",
       "         0.62212561],\n",
       "       [-1.72549138, -1.35599029,  0.65538585,  0.73777138,  1.76171137,\n",
       "        -0.51298918, -1.10104065,  0.07360462,  2.0946969 , -0.31863757,\n",
       "        -1.60739242],\n",
       "       [-1.72111752, -1.35599029, -0.26547658, -0.48758178, -0.56762987,\n",
       "        -0.51298918,  0.90823168, -0.57411602, -0.47739604, -0.31863757,\n",
       "         0.62212561]])"
      ]
     },
     "execution_count": 7,
     "metadata": {},
     "output_type": "execute_result"
    }
   ],
   "source": [
    "from sklearn.preprocessing import StandardScaler\n",
    "\n",
    "#----------------------------------------------------------\n",
    "scaler = StandardScaler()\n",
    "X_arr = scaler.fit_transform(X_arr)\n",
    "X_test_arr = scaler.transform(X_test_arr)\n",
    "\n",
    "#----------------------------------------------------------\n",
    "X_arr[0:3]"
   ]
  },
  {
   "cell_type": "markdown",
   "id": "e8c13daa",
   "metadata": {
    "papermill": {
     "duration": 0.032409,
     "end_time": "2021-07-31T17:03:51.220459",
     "exception": false,
     "start_time": "2021-07-31T17:03:51.188050",
     "status": "completed"
    },
    "tags": []
   },
   "source": [
    "# Artificial Neural Network (ANN) from Scratch"
   ]
  },
  {
   "cell_type": "markdown",
   "id": "ed4c3da0",
   "metadata": {
    "papermill": {
     "duration": 0.032171,
     "end_time": "2021-07-31T17:03:51.285451",
     "exception": false,
     "start_time": "2021-07-31T17:03:51.253280",
     "status": "completed"
    },
    "tags": []
   },
   "source": [
    "## UDFs for activation, initialization, layer_propagation"
   ]
  },
  {
   "cell_type": "code",
   "execution_count": 8,
   "id": "6f4738bc",
   "metadata": {
    "execution": {
     "iopub.execute_input": "2021-07-31T17:03:51.363399Z",
     "iopub.status.busy": "2021-07-31T17:03:51.362588Z",
     "iopub.status.idle": "2021-07-31T17:03:51.365921Z",
     "shell.execute_reply": "2021-07-31T17:03:51.365336Z",
     "shell.execute_reply.started": "2021-07-31T15:34:14.193040Z"
    },
    "papermill": {
     "duration": 0.048067,
     "end_time": "2021-07-31T17:03:51.366077",
     "exception": false,
     "start_time": "2021-07-31T17:03:51.318010",
     "status": "completed"
    },
    "tags": []
   },
   "outputs": [],
   "source": [
    "#All popular activation functions\n",
    "def activation_fn(z,type_):\n",
    "    \n",
    "    #print('Activation : ',type_)\n",
    "    \n",
    "    if type_=='linear':\n",
    "        activated_arr = z\n",
    "    \n",
    "    elif type_=='sigmoid':\n",
    "        activated_arr = 1/(1+np.exp(-z))\n",
    "    \n",
    "    elif type_=='relu': \n",
    "        activated_arr = np.maximum(np.zeros(z.shape),z)\n",
    "    \n",
    "    elif type_=='tanh':\n",
    "        activated_arr = (np.exp(z)-np.exp(-z))/(np.exp(z)+np.exp(-z))\n",
    "    \n",
    "    elif type_=='leaky_relu':\n",
    "        activated_arr = np.maximum(0.01*z,z)\n",
    "    \n",
    "    elif type_=='softmax':\n",
    "        exp_ = np.exp(z)\n",
    "        exp_sum = np.sum(exp_)\n",
    "        activated_arr = exp_/exp_sum\n",
    "        \n",
    "    return activated_arr\n",
    "\n",
    "#----------------------------------------------------------------------------------------------------------------------------\n",
    "#Initialization of params\n",
    "def generate_param_grid(a_prev,n_hidden,hidden_size_list):\n",
    "    \n",
    "    parameters = {}\n",
    "    features = a_prev.shape[0] #Total features\n",
    "    n_examples = a_prev.shape[1]\n",
    "    \n",
    "    for n_hidden_idx in range(1,n_hidden+1):\n",
    "        \n",
    "        n_hidden_nodes = hidden_size_list[n_hidden_idx] #Should start from 0\n",
    "        \n",
    "        #print('#------------ Layer :',n_hidden_idx,'---- Size :',n_hidden_nodes,'---- Prev features :',features,'------#')\n",
    "\n",
    "        parameters['w' + str(n_hidden_idx)] = np.random.rand(n_hidden_nodes,features) * 0.1 #Xavier Initialization\n",
    "        parameters['b' + str(n_hidden_idx)] = np.zeros((n_hidden_nodes,1)) * 0.1\n",
    "        \n",
    "        features = n_hidden_nodes\n",
    "    \n",
    "    return parameters#Return randomly initiated params\n",
    "    \n",
    "#---------------------------------------------------------------------------------------------------------------------------\n",
    "#Propagation between z and activation\n",
    "def layer_propagation(a_prev,w,b,activation):\n",
    "    \n",
    "    #print(a_prev.shape)\n",
    "    #print(w.shape)\n",
    "    #print(b.shape)\n",
    "    \n",
    "    z_ = np.dot(w,a_prev) + b\n",
    "    \n",
    "    a = activation_fn(z=z_,\n",
    "                      type_=activation)\n",
    "    \n",
    "    return z_,a"
   ]
  },
  {
   "cell_type": "markdown",
   "id": "4911ac20",
   "metadata": {
    "papermill": {
     "duration": 0.03282,
     "end_time": "2021-07-31T17:03:51.431658",
     "exception": false,
     "start_time": "2021-07-31T17:03:51.398838",
     "status": "completed"
    },
    "tags": []
   },
   "source": [
    "## UDF for forward propagation"
   ]
  },
  {
   "cell_type": "code",
   "execution_count": 9,
   "id": "30a71052",
   "metadata": {
    "execution": {
     "iopub.execute_input": "2021-07-31T17:03:51.505368Z",
     "iopub.status.busy": "2021-07-31T17:03:51.504598Z",
     "iopub.status.idle": "2021-07-31T17:03:51.507897Z",
     "shell.execute_reply": "2021-07-31T17:03:51.507313Z",
     "shell.execute_reply.started": "2021-07-31T15:34:14.206391Z"
    },
    "papermill": {
     "duration": 0.044133,
     "end_time": "2021-07-31T17:03:51.508041",
     "exception": false,
     "start_time": "2021-07-31T17:03:51.463908",
     "status": "completed"
    },
    "tags": []
   },
   "outputs": [],
   "source": [
    "def forward_propagation(params_dict,data_x,data_y,n_hidden,hidden_size_list,activation_list):\n",
    "    \n",
    "    cache = {'a0' : data_x.T}\n",
    "    a = data_x.T.copy()\n",
    "    \n",
    "    for layer_idx in range(1,n_hidden+1):\n",
    "        \n",
    "        #print('#---------- Layer :',layer_idx,'-- No of Nodes :',hidden_size_list[layer_idx])\n",
    "        #nodes = hidden_size_list[layer_idx]\n",
    "        activation_ = activation_list[layer_idx]\n",
    "        w_ = params_dict['w'+str(layer_idx)]\n",
    "        b_ = params_dict['b'+str(layer_idx)]\n",
    "        \n",
    "        z,a = layer_propagation(a_prev=a,\n",
    "                                 w=w_,\n",
    "                                 b=b_,\n",
    "                                 activation=activation_)\n",
    "        \n",
    "        cache['z'+str(layer_idx)] = z\n",
    "        cache['a'+str(layer_idx)] = a\n",
    "    \n",
    "    return cache,a"
   ]
  },
  {
   "cell_type": "markdown",
   "id": "4217772d",
   "metadata": {
    "papermill": {
     "duration": 0.032539,
     "end_time": "2021-07-31T17:03:51.572727",
     "exception": false,
     "start_time": "2021-07-31T17:03:51.540188",
     "status": "completed"
    },
    "tags": []
   },
   "source": [
    "## UDF for cost calculation, gradient calculation & back-propagation "
   ]
  },
  {
   "cell_type": "code",
   "execution_count": 10,
   "id": "a6e15051",
   "metadata": {
    "execution": {
     "iopub.execute_input": "2021-07-31T17:03:51.652553Z",
     "iopub.status.busy": "2021-07-31T17:03:51.646802Z",
     "iopub.status.idle": "2021-07-31T17:03:51.659301Z",
     "shell.execute_reply": "2021-07-31T17:03:51.658756Z",
     "shell.execute_reply.started": "2021-07-31T15:34:14.234763Z"
    },
    "papermill": {
     "duration": 0.054388,
     "end_time": "2021-07-31T17:03:51.659468",
     "exception": false,
     "start_time": "2021-07-31T17:03:51.605080",
     "status": "completed"
    },
    "tags": []
   },
   "outputs": [],
   "source": [
    "#Calculation of the total cost incurred by the model\n",
    "def cost_calculation(activation_list,y_true,y_pred):\n",
    "    \n",
    "    if activation_list[-1]=='sigmoid':\n",
    "        #print('sig')\n",
    "        m = y_true.shape[1]\n",
    "        cost = (-1/m) * np.sum((y_true * np.log(y_pred)) + ((1-y_true) * np.log(1 - y_pred)))\n",
    "        \n",
    "    elif activation_list[-1]=='linear':\n",
    "        \n",
    "        m = y_true.shape[1]\n",
    "        cost = (1/m) * np.sum(np.square(y_true-y_pred))\n",
    "        \n",
    "     ##-------------------->> Softmax to be added <<----------------------\n",
    "    \n",
    "    return cost\n",
    "\n",
    "#Gradient of the activation functions wrt corresponding z\n",
    "#--------------------------------------------------------------------------------------------\n",
    "#Gradient for each activation type\n",
    "def grad_fn_dz(activation,a):\n",
    "    \n",
    "    if activation=='linear':\n",
    "        grad = 1\n",
    "     \n",
    "    elif activation=='sigmoid':\n",
    "        grad = a*(1-a)\n",
    "        \n",
    "    elif activation=='tanh':\n",
    "        grad = np.square(1-a)\n",
    "        \n",
    "    elif activation=='relu':\n",
    "        grad = np.where(a>=0,1,0)\n",
    "    \n",
    "    elif activation=='leaky_relu':\n",
    "        grad = np.where(a>=0,1,0.01)\n",
    "    \n",
    "    ##-------------------->> Softmax to be added <<----------------------\n",
    "    \n",
    "    return grad\n",
    "        \n",
    "#--------------------------------------------------------------------------------------------\n",
    "#UDF for gradient of loss function wrt last layer\n",
    "def dL_last_layer(activation_list,y_true,y_pred):\n",
    "    \n",
    "    if activation_list[-1]=='sigmoid':\n",
    "        \n",
    "        #print('Last Layer y true shape :',y_true.shape)\n",
    "        #print('Last Layer y pred shape :',y_pred.shape)\n",
    "        \n",
    "        grad_final_layer = -((y_true/y_pred) - ((1-y_true)/(1-y_pred)))\n",
    "        #print('Last Layer gradient shape :',grad_final_layer.shape)\n",
    "        \n",
    "    elif activation_list[-1]=='linear':\n",
    "        \n",
    "        grad_final_layer = - 2 * (y_true-y_pred) #Check the sign\n",
    "        \n",
    "    return grad_final_layer\n",
    "\n",
    "#--------------------------------------------------------------------------------------------\n",
    "#Back=Propagation         \n",
    "def back_propagation(cache,params_dict,data_x,data_y,n_hidden,hidden_size_list,activation_list,y_pred):\n",
    "    \n",
    "    grads_cache = {}\n",
    "    #db_cache = {}\n",
    "    \n",
    "    da = dL_last_layer(activation_list=activation_list,\n",
    "                             y_true=data_y.T,\n",
    "                             y_pred=y_pred)\n",
    "    #print('Final da shape :',da.shape)\n",
    "    \n",
    "    m = data_y.shape[0] #Data in the batches\n",
    "    \n",
    "    #print('dm in backprop :',m)\n",
    "    for layer_idx in list(reversed(range(1,n_hidden+1))):\n",
    "        \n",
    "        #print('# -------- Layer :',layer_idx,'-------- Size :',hidden_size_list[layer_idx],'--------#')\n",
    "        \n",
    "        activation_ = activation_list[layer_idx]\n",
    "        a = cache['a'+str(layer_idx)]\n",
    "        a_prev = cache['a'+str(layer_idx-1)]\n",
    "        w = params_dict['w'+str(layer_idx)]\n",
    "        \n",
    "#         print('Shape of a:',a.shape)\n",
    "#         print('Shape of a_prev:',a_prev.shape)\n",
    "#         print('SHape of w:',w.shape)\n",
    "        \n",
    "        #z = \n",
    "        \n",
    "        dz =  da * (grad_fn_dz(activation=activation_,a=a))\n",
    "        \n",
    "        #print('dz shape :',dz.shape)\n",
    "                     \n",
    "        dw = (1/m) * np.dot(dz, a_prev.T)\n",
    "        #print('dw shape :',dw.shape)\n",
    "        grads_cache['dw'+str(layer_idx)] = dw\n",
    "                     \n",
    "        db = (1/m) * np.sum(dz, axis=1,keepdims=True)\n",
    "        #print('db shape :',db.shape)\n",
    "        grads_cache['db'+str(layer_idx)] = db\n",
    "        \n",
    "        da = np.dot(w.T,dz)\n",
    "        #print('da shape :',da.shape)\n",
    "\n",
    "    return grads_cache"
   ]
  },
  {
   "cell_type": "markdown",
   "id": "ad916487",
   "metadata": {
    "papermill": {
     "duration": 0.031711,
     "end_time": "2021-07-31T17:03:51.723978",
     "exception": false,
     "start_time": "2021-07-31T17:03:51.692267",
     "status": "completed"
    },
    "tags": []
   },
   "source": [
    "## UDF for updating weights through gradient descent"
   ]
  },
  {
   "cell_type": "code",
   "execution_count": 11,
   "id": "3df66a12",
   "metadata": {
    "execution": {
     "iopub.execute_input": "2021-07-31T17:03:51.796552Z",
     "iopub.status.busy": "2021-07-31T17:03:51.795559Z",
     "iopub.status.idle": "2021-07-31T17:03:51.798592Z",
     "shell.execute_reply": "2021-07-31T17:03:51.799090Z",
     "shell.execute_reply.started": "2021-07-31T15:41:59.045824Z"
    },
    "papermill": {
     "duration": 0.042132,
     "end_time": "2021-07-31T17:03:51.799289",
     "exception": false,
     "start_time": "2021-07-31T17:03:51.757157",
     "status": "completed"
    },
    "tags": []
   },
   "outputs": [],
   "source": [
    "def update_weights(params,grads_cache,alpha,n_hidden):\n",
    "    \n",
    "    for layer_idx in list(reversed(range(1,n_hidden+1))):\n",
    "        \n",
    "        #print('#---- layer :',layer_idx,'----#')\n",
    "        \n",
    "        dw = grads_cache['dw'+str(layer_idx)]\n",
    "        db = grads_cache['db'+str(layer_idx)]\n",
    "        \n",
    "#         print('dw shape :',dw.shape)\n",
    "#         print('db shape :',db.shape)\n",
    "#         print('w shape :',params['w'+str(layer_idx)].shape)\n",
    "        \n",
    "        params['w'+str(layer_idx)] -= alpha * dw\n",
    "        params['b'+str(layer_idx)] -= alpha * db\n",
    "\n",
    "    \n",
    "    return params"
   ]
  },
  {
   "cell_type": "markdown",
   "id": "990f5b41",
   "metadata": {
    "papermill": {
     "duration": 0.031864,
     "end_time": "2021-07-31T17:03:51.864144",
     "exception": false,
     "start_time": "2021-07-31T17:03:51.832280",
     "status": "completed"
    },
    "tags": []
   },
   "source": [
    "## UDF for predictions"
   ]
  },
  {
   "cell_type": "code",
   "execution_count": 12,
   "id": "e29fd7f6",
   "metadata": {
    "execution": {
     "iopub.execute_input": "2021-07-31T17:03:51.935699Z",
     "iopub.status.busy": "2021-07-31T17:03:51.934973Z",
     "iopub.status.idle": "2021-07-31T17:03:51.938214Z",
     "shell.execute_reply": "2021-07-31T17:03:51.937548Z",
     "shell.execute_reply.started": "2021-07-31T15:49:46.324593Z"
    },
    "papermill": {
     "duration": 0.041857,
     "end_time": "2021-07-31T17:03:51.938358",
     "exception": false,
     "start_time": "2021-07-31T17:03:51.896501",
     "status": "completed"
    },
    "tags": []
   },
   "outputs": [],
   "source": [
    "def prediction(params,test_x,n_hidden,hidden_size_list,activation_list,threshold):\n",
    "    \n",
    "    #-----------------------------------------------------------------\n",
    "    #Forward Propagation on trained weights\n",
    "    cache,y_pred = forward_propagation(params_dict=params,\n",
    "                                  data_x=test_x,\n",
    "                                  data_y=None,\n",
    "                                  n_hidden=n_hidden,\n",
    "                                  hidden_size_list=hidden_size_list,\n",
    "                                  activation_list=activation_list)\n",
    "    #print(cache)\n",
    "    preds = np.where(y_pred>threshold,1,0).astype(float)\n",
    "    return cache,np.round(y_pred,4),preds"
   ]
  },
  {
   "cell_type": "markdown",
   "id": "2af40914",
   "metadata": {
    "papermill": {
     "duration": 0.034441,
     "end_time": "2021-07-31T17:03:52.006017",
     "exception": false,
     "start_time": "2021-07-31T17:03:51.971576",
     "status": "completed"
    },
    "tags": []
   },
   "source": [
    "## Simple Gradient Descent"
   ]
  },
  {
   "cell_type": "code",
   "execution_count": 13,
   "id": "46fff3cb",
   "metadata": {
    "execution": {
     "iopub.execute_input": "2021-07-31T17:03:52.079051Z",
     "iopub.status.busy": "2021-07-31T17:03:52.077322Z",
     "iopub.status.idle": "2021-07-31T17:03:52.092462Z",
     "shell.execute_reply": "2021-07-31T17:03:52.091608Z",
     "shell.execute_reply.started": "2021-07-31T15:53:43.469026Z"
    },
    "papermill": {
     "duration": 0.053348,
     "end_time": "2021-07-31T17:03:52.092635",
     "exception": false,
     "start_time": "2021-07-31T17:03:52.039287",
     "status": "completed"
    },
    "tags": []
   },
   "outputs": [],
   "source": [
    "def ANN_train_gd(data_x,data_y,alpha,n_iters,n_hidden,hidden_size_list,activation_list):\n",
    "\n",
    "    cost_history = [] #Record of cost through epochs\n",
    "\n",
    "    #-------------------------------------------------------------------------\n",
    "    #Initialization of params\n",
    "    params_dict = generate_param_grid(a_prev=data_x.T,\n",
    "                             n_hidden=n_hidden,\n",
    "                             hidden_size_list=hidden_size_list)\n",
    "    print('#----------------- Initial params ------------------#')\n",
    "    print(params_dict)\n",
    "    initial_params_abcd = params_dict.copy()\n",
    "    \n",
    "    #-------------------------------------------------------------------------------------------\n",
    "    cache_tray = []\n",
    "\n",
    "    for epoch in range(n_iters):\n",
    "\n",
    "        if (epoch>0) & (epoch%1000==0):\n",
    "            print('#----------------------------------- Epoch :',epoch,'--------------------------------------#')\n",
    "            print('cost :',cost)\n",
    "\n",
    "        #-------------------------------------------------------------------------\n",
    "        #Forward Propagation\n",
    "        cache,y_pred = forward_propagation(params_dict=params_dict,\n",
    "                                      data_x=data_x,\n",
    "                                      data_y=data_y,\n",
    "                                      n_hidden=n_hidden,\n",
    "                                      hidden_size_list=hidden_size_list,\n",
    "                                      activation_list=activation_list)\n",
    "        #print(np.max(y_pred))\n",
    "        cache_tray.append(cache)\n",
    "        #-------------------------------------------------------------------------\n",
    "        #Cost calculation\n",
    "        cost = cost_calculation(activation_list=activation_list,\n",
    "                         y_true=data_y.T,\n",
    "                         y_pred=y_pred)\n",
    "\n",
    "        cost_history.append(cost)\n",
    "        #print('cost :',cost)\n",
    "\n",
    "        #-------------------------------------------------------------------------\n",
    "        #Back Propagation\n",
    "        grads_cache_ = back_propagation(cache=cache,\n",
    "                                       params_dict=params_dict,\n",
    "                                       data_x=data_x,\n",
    "                                       data_y=data_y,\n",
    "                                       n_hidden=n_hidden,\n",
    "                                       hidden_size_list=hidden_size_list,\n",
    "                                       activation_list=activation_list,\n",
    "                                       y_pred=y_pred)\n",
    "\n",
    "        #------------------------------------------------------------------------\n",
    "        #Updating weights\n",
    "        params_dict = update_weights(params=params_dict,\n",
    "                                     grads_cache=grads_cache_,\n",
    "                                     alpha=alpha,\n",
    "                                     n_hidden=n_hidden)\n",
    "\n",
    "\n",
    "\n",
    "    return initial_params_abcd,params_dict,grads_cache_,cost_history,y_pred,cache_tray\n"
   ]
  },
  {
   "cell_type": "code",
   "execution_count": 14,
   "id": "ad1cc81d",
   "metadata": {
    "execution": {
     "iopub.execute_input": "2021-07-31T17:03:52.173447Z",
     "iopub.status.busy": "2021-07-31T17:03:52.172388Z",
     "iopub.status.idle": "2021-07-31T17:03:52.175685Z",
     "shell.execute_reply": "2021-07-31T17:03:52.175045Z",
     "shell.execute_reply.started": "2021-07-31T16:55:40.151045Z"
    },
    "papermill": {
     "duration": 0.049413,
     "end_time": "2021-07-31T17:03:52.175830",
     "exception": false,
     "start_time": "2021-07-31T17:03:52.126417",
     "status": "completed"
    },
    "tags": []
   },
   "outputs": [],
   "source": [
    "def ANN_train_gd(data_x_overall,data_y_overall,batch_size,alpha,n_iters,n_hidden,hidden_size_list,activation_list):\n",
    "    \n",
    "    print('Total training rows :',data_x_overall.shape[0])\n",
    "    \n",
    "    #----------------------------------------------------------------------------------------\n",
    "    #Creating x-y batches according to the provided batch_size\n",
    "    \n",
    "    n_batches = data_x_overall.shape[0]//batch_size\n",
    "    print('Total Batches to create in each epoch/iter :',n_batches)\n",
    "    \n",
    "    batches_x = np.array_split(data_x_overall,n_batches)\n",
    "    print('Total Batches of X:',len(batches_x))\n",
    "\n",
    "    batches_y = np.array_split(data_y_overall,n_batches)\n",
    "    print('Total Batches of y:',len(batches_y))\n",
    "    #-------------------------------------------------------------------------------------------\n",
    "    cost_history = [] #Record of cost through epochs\n",
    "\n",
    "    #-------------------------------------------------------------------------------------------\n",
    "    #Initialization of params\n",
    "    params_dict = generate_param_grid(a_prev=data_x_overall.T,\n",
    "                             n_hidden=n_hidden,\n",
    "                             hidden_size_list=hidden_size_list)\n",
    "    print('#----------------- Initial params ------------------#')\n",
    "    print(params_dict)\n",
    "    initial_params_abcd = params_dict.copy()\n",
    "    \n",
    "    #-------------------------------------------------------------------------------------------\n",
    "    cache_tray = []\n",
    "\n",
    "    for epoch in range(n_iters):\n",
    "\n",
    "        if (epoch>0) & (epoch%1000==0):\n",
    "            print('#----------------------------------- Epoch :',epoch,'--------------------------------------#')\n",
    "            print('cost :',cost)\n",
    "            \n",
    "        for j in range(len(batches_x)): #For each batch created for each epoch/iter\n",
    "            \n",
    "            #-------------------------------------------------------------------------\n",
    "            #For each batch of data\n",
    "            data_x = batches_x[j]\n",
    "            data_y = batches_y[j]\n",
    "\n",
    "            #-------------------------------------------------------------------------\n",
    "            #Forward Propagation\n",
    "            cache,y_pred = forward_propagation(params_dict=params_dict,\n",
    "                                          data_x=data_x,\n",
    "                                          data_y=data_y,\n",
    "                                          n_hidden=n_hidden,\n",
    "                                          hidden_size_list=hidden_size_list,\n",
    "                                          activation_list=activation_list)\n",
    "            #print(np.max(y_pred))\n",
    "            #cache_tray.append(cache)\n",
    "            #-------------------------------------------------------------------------\n",
    "            #Cost calculation\n",
    "            cost = cost_calculation(activation_list=activation_list,\n",
    "                             y_true=data_y.T,\n",
    "                             y_pred=y_pred)\n",
    "\n",
    "            #cost_history.append(cost)\n",
    "            #print('cost :',cost)\n",
    "\n",
    "            #-------------------------------------------------------------------------\n",
    "            #Back Propagation\n",
    "            grads_cache_ = back_propagation(cache=cache,\n",
    "                                           params_dict=params_dict,\n",
    "                                           data_x=data_x,\n",
    "                                           data_y=data_y,\n",
    "                                           n_hidden=n_hidden,\n",
    "                                           hidden_size_list=hidden_size_list,\n",
    "                                           activation_list=activation_list,\n",
    "                                           y_pred=y_pred)\n",
    "\n",
    "            #------------------------------------------------------------------------\n",
    "            #Updating weights\n",
    "            params_dict = update_weights(params=params_dict,\n",
    "                                         grads_cache=grads_cache_,\n",
    "                                         alpha=alpha,\n",
    "                                         n_hidden=n_hidden)\n",
    "            \n",
    "        cost_history.append(cost) #Appending cost after each epoch\n",
    "\n",
    "\n",
    "    return initial_params_abcd,params_dict,grads_cache_,cost_history,y_pred,cache_tray\n"
   ]
  },
  {
   "cell_type": "code",
   "execution_count": 15,
   "id": "5bad5abc",
   "metadata": {
    "execution": {
     "iopub.execute_input": "2021-07-31T17:03:52.249437Z",
     "iopub.status.busy": "2021-07-31T17:03:52.248696Z",
     "iopub.status.idle": "2021-07-31T17:04:10.060741Z",
     "shell.execute_reply": "2021-07-31T17:04:10.060121Z",
     "shell.execute_reply.started": "2021-07-31T16:55:42.863642Z"
    },
    "papermill": {
     "duration": 17.852573,
     "end_time": "2021-07-31T17:04:10.060909",
     "exception": false,
     "start_time": "2021-07-31T17:03:52.208336",
     "status": "completed"
    },
    "tags": []
   },
   "outputs": [
    {
     "name": "stdout",
     "output_type": "stream",
     "text": [
      "Total training rows : 792\n",
      "Total Batches to create in each epoch/iter : 31\n",
      "Total Batches of X: 31\n",
      "Total Batches of y: 31\n",
      "#----------------- Initial params ------------------#\n",
      "{'w1': array([[0.04510764, 0.06361383, 0.00880061, 0.02615112, 0.08093248,\n",
      "        0.08311373, 0.08617793, 0.05548943, 0.03234432, 0.08278441,\n",
      "        0.04659102],\n",
      "       [0.00127643, 0.06493572, 0.0372784 , 0.05727731, 0.08548677,\n",
      "        0.08490235, 0.08945623, 0.03356363, 0.09211904, 0.01745288,\n",
      "        0.05916095],\n",
      "       [0.05493394, 0.09414194, 0.09378215, 0.05834174, 0.02307216,\n",
      "        0.05233622, 0.09354641, 0.05312116, 0.04589019, 0.07273628,\n",
      "        0.05006775]]), 'b1': array([[0.],\n",
      "       [0.],\n",
      "       [0.]]), 'w2': array([[0.0138827 , 0.05486773, 0.03538424]]), 'b2': array([[0.]])}\n",
      "#----------------------------------- Epoch : 1000 --------------------------------------#\n",
      "cost : 0.35543165709207286\n",
      "#----------------------------------- Epoch : 2000 --------------------------------------#\n",
      "cost : 0.35483754821235247\n",
      "#----------------------------------- Epoch : 3000 --------------------------------------#\n",
      "cost : 0.35470220388684787\n"
     ]
    }
   ],
   "source": [
    "#Defining hyper-parameters for ANN\n",
    "#--------------------------------------------------------------------------------------------------------------------------\n",
    "n_hidden = 2 #No of hidden layers\n",
    "alpha = 0.003 #Learning_rate\n",
    "n_iters = 3001 #Total epochs\n",
    "hidden_size_list = [0,3,1] #first element will be 0 and not counted in hidden layers\n",
    "activation_list = [0,'relu','sigmoid'] #first element will be 0 and not counted in hidden layers\n",
    "batch_size = 25 #Batch wise gradient descent\n",
    "\n",
    "#--------------------------------------------------------------------------------------------------------------------------\n",
    "initial_params_train,params_dict_train,grads,cost_history_train,y_pred_train,cache_tray = ANN_train_gd(data_x_overall=X_arr,\n",
    "                                                                                                       data_y_overall=y_arr,\n",
    "                                                                                                       batch_size=batch_size,\n",
    "                                                                                                       alpha=alpha,\n",
    "                                                                                                       n_iters=n_iters,\n",
    "                                                                                                       n_hidden=n_hidden,\n",
    "                                                                                                       hidden_size_list=hidden_size_list,\n",
    "                                                                                                       activation_list=activation_list)"
   ]
  },
  {
   "cell_type": "markdown",
   "id": "0477ddce",
   "metadata": {
    "papermill": {
     "duration": 0.034413,
     "end_time": "2021-07-31T17:04:10.135255",
     "exception": false,
     "start_time": "2021-07-31T17:04:10.100842",
     "status": "completed"
    },
    "tags": []
   },
   "source": [
    "# Cost-Epoch plot for the manual ANN training "
   ]
  },
  {
   "cell_type": "code",
   "execution_count": 16,
   "id": "0c0e8034",
   "metadata": {
    "execution": {
     "iopub.execute_input": "2021-07-31T17:04:10.214292Z",
     "iopub.status.busy": "2021-07-31T17:04:10.213613Z",
     "iopub.status.idle": "2021-07-31T17:04:10.633163Z",
     "shell.execute_reply": "2021-07-31T17:04:10.633695Z",
     "shell.execute_reply.started": "2021-07-31T16:56:00.509784Z"
    },
    "papermill": {
     "duration": 0.464811,
     "end_time": "2021-07-31T17:04:10.633882",
     "exception": false,
     "start_time": "2021-07-31T17:04:10.169071",
     "status": "completed"
    },
    "tags": []
   },
   "outputs": [
    {
     "data": {
      "text/plain": [
       "[Text(0.5, 0, 'epochs'),\n",
       " Text(0, 0.5, 'cost'),\n",
       " Text(0.5, 1.0, 'Cost vs epoch plot for Manual ANN')]"
      ]
     },
     "execution_count": 16,
     "metadata": {},
     "output_type": "execute_result"
    },
    {
     "data": {
      "image/png": "[encoded data removed]",
      "text/plain": [
       "<Figure size 432x288 with 1 Axes>"
      ]
     },
     "metadata": {
      "needs_background": "light"
     },
     "output_type": "display_data"
    }
   ],
   "source": [
    "#Cost plot over epochs (1 value at end of each epoch) - over the last batch\n",
    "ax = sns.lineplot(x=list(range(n_iters)),y=cost_history_train)\n",
    "ax.set(xlabel='epochs',ylabel='cost',title='Cost vs epoch plot for Manual ANN')"
   ]
  },
  {
   "cell_type": "markdown",
   "id": "00375981",
   "metadata": {
    "papermill": {
     "duration": 0.033977,
     "end_time": "2021-07-31T17:04:10.702161",
     "exception": false,
     "start_time": "2021-07-31T17:04:10.668184",
     "status": "completed"
    },
    "tags": []
   },
   "source": [
    "# Predict on the test data"
   ]
  },
  {
   "cell_type": "code",
   "execution_count": 17,
   "id": "dc7d743d",
   "metadata": {
    "execution": {
     "iopub.execute_input": "2021-07-31T17:04:10.781693Z",
     "iopub.status.busy": "2021-07-31T17:04:10.780981Z",
     "iopub.status.idle": "2021-07-31T17:04:10.788012Z",
     "shell.execute_reply": "2021-07-31T17:04:10.788582Z",
     "shell.execute_reply.started": "2021-07-31T16:56:06.116880Z"
    },
    "papermill": {
     "duration": 0.052254,
     "end_time": "2021-07-31T17:04:10.788834",
     "exception": false,
     "start_time": "2021-07-31T17:04:10.736580",
     "status": "completed"
    },
    "tags": []
   },
   "outputs": [
    {
     "name": "stdout",
     "output_type": "stream",
     "text": [
      "Shape of prediction array : (1, 100)\n",
      "Unique predictions : [0. 1.]\n",
      "Unique of predict proba : [0.0347 0.044  0.0732 0.0814 0.0895 0.0912 0.0951 0.1012 0.1024 0.1054\n",
      " 0.1109 0.1149 0.1161 0.1171 0.1173 0.1182 0.1186 0.1207 0.1233 0.1235\n",
      " 0.1236 0.1262 0.1266 0.1289 0.1291 0.1306 0.1316 0.1318 0.1319 0.136\n",
      " 0.1361 0.1375 0.1432 0.1458 0.1463 0.1492 0.1524 0.1555 0.1634 0.1653\n",
      " 0.1656 0.1805 0.1806 0.182  0.196  0.1968 0.1993 0.2134 0.2239 0.2274\n",
      " 0.2315 0.2406 0.244  0.2739 0.2789 0.2963 0.3293 0.3335 0.3454 0.4066\n",
      " 0.4291 0.4381 0.4485 0.4538 0.4688 0.5036 0.5119 0.5479 0.5732 0.5958\n",
      " 0.615  0.6153 0.631  0.6347 0.6356 0.6484 0.6619 0.7824 0.8017 0.8111\n",
      " 0.8112 0.8455 0.8651 0.912  0.9307 0.9363 0.9414 0.9464 0.9476 0.9498\n",
      " 0.9533 0.9554 0.9634 0.9723 0.9793 0.987  0.9874 0.9892 0.9895] \n",
      "\n",
      "#--------------------- Evaluation ----------------------#\n",
      "ROC AUC of test set : 0.8203125\n",
      "Accuracy of test set : 0.84\n"
     ]
    }
   ],
   "source": [
    "cache,preds_proba,manual_preds = prediction(params=params_dict_train,\n",
    "                                            test_x=X_test_arr,\n",
    "                                            n_hidden=n_hidden,\n",
    "                                            hidden_size_list=hidden_size_list,\n",
    "                                            activation_list=activation_list,\n",
    "                                            threshold=0.5)\n",
    "\n",
    "#-------------------------------------------------------------------------------------------\n",
    "print('Shape of prediction array :',preds_proba.shape)\n",
    "print('Unique predictions :',np.unique(manual_preds))\n",
    "print('Unique of predict proba :',np.unique(preds_proba),'\\n')\n",
    "\n",
    "print('#--------------------- Evaluation ----------------------#')\n",
    "#Evaluation of the predictions\n",
    "print('ROC AUC of test set :',roc_auc_score(y_test_arr.ravel(),manual_preds.ravel()))\n",
    "print('Accuracy of test set :',accuracy_score(y_test_arr.ravel(),manual_preds.ravel()))"
   ]
  },
  {
   "cell_type": "markdown",
   "id": "222dd509",
   "metadata": {
    "papermill": {
     "duration": 0.034625,
     "end_time": "2021-07-31T17:04:10.858644",
     "exception": false,
     "start_time": "2021-07-31T17:04:10.824019",
     "status": "completed"
    },
    "tags": []
   },
   "source": [
    "# Benchmarking with Keras functional API"
   ]
  },
  {
   "cell_type": "markdown",
   "id": "34d2fbbb",
   "metadata": {
    "papermill": {
     "duration": 0.03441,
     "end_time": "2021-07-31T17:04:10.927537",
     "exception": false,
     "start_time": "2021-07-31T17:04:10.893127",
     "status": "completed"
    },
    "tags": []
   },
   "source": [
    "## Importing necessary libraries"
   ]
  },
  {
   "cell_type": "code",
   "execution_count": 18,
   "id": "4b5d99b4",
   "metadata": {
    "execution": {
     "iopub.execute_input": "2021-07-31T17:04:11.000957Z",
     "iopub.status.busy": "2021-07-31T17:04:11.000042Z",
     "iopub.status.idle": "2021-07-31T17:04:17.334915Z",
     "shell.execute_reply": "2021-07-31T17:04:17.335475Z",
     "shell.execute_reply.started": "2021-07-31T16:15:01.241988Z"
    },
    "papermill": {
     "duration": 6.373071,
     "end_time": "2021-07-31T17:04:17.335677",
     "exception": false,
     "start_time": "2021-07-31T17:04:10.962606",
     "status": "completed"
    },
    "tags": []
   },
   "outputs": [],
   "source": [
    "import tensorflow as tf\n",
    "import keras\n",
    "import tensorflow.keras.models\n",
    "import tensorflow.keras.layers as tfl\n",
    "from tensorflow.keras import Input\n",
    "from tensorflow.keras import Model\n",
    "from sklearn.preprocessing import StandardScaler\n",
    "from keras.layers import BatchNormalization"
   ]
  },
  {
   "cell_type": "markdown",
   "id": "834724c6",
   "metadata": {
    "papermill": {
     "duration": 0.034361,
     "end_time": "2021-07-31T17:04:17.404817",
     "exception": false,
     "start_time": "2021-07-31T17:04:17.370456",
     "status": "completed"
    },
    "tags": []
   },
   "source": [
    "## Defining the model with same specifications as manual "
   ]
  },
  {
   "cell_type": "code",
   "execution_count": 19,
   "id": "f7b82228",
   "metadata": {
    "execution": {
     "iopub.execute_input": "2021-07-31T17:04:17.478591Z",
     "iopub.status.busy": "2021-07-31T17:04:17.477609Z",
     "iopub.status.idle": "2021-07-31T17:04:17.765121Z",
     "shell.execute_reply": "2021-07-31T17:04:17.764561Z",
     "shell.execute_reply.started": "2021-07-31T16:24:57.006110Z"
    },
    "papermill": {
     "duration": 0.325479,
     "end_time": "2021-07-31T17:04:17.765266",
     "exception": false,
     "start_time": "2021-07-31T17:04:17.439787",
     "status": "completed"
    },
    "tags": []
   },
   "outputs": [
    {
     "name": "stdout",
     "output_type": "stream",
     "text": [
      "Model: \"ANN_keras\"\n",
      "_________________________________________________________________\n",
      "Layer (type)                 Output Shape              Param #   \n",
      "=================================================================\n",
      "input_1 (InputLayer)         [(None, 11)]              0         \n",
      "_________________________________________________________________\n",
      "Dense_3 (Dense)              (None, 3)                 36        \n",
      "_________________________________________________________________\n",
      "pred (Dense)                 (None, 1)                 4         \n",
      "=================================================================\n",
      "Total params: 40\n",
      "Trainable params: 40\n",
      "Non-trainable params: 0\n",
      "_________________________________________________________________\n"
     ]
    }
   ],
   "source": [
    "def ANN_keras(x):\n",
    "    \n",
    "    input_ = tfl.Input(shape=(x.shape[1],))\n",
    "    \n",
    "    x = tfl.Dense(3,activation='relu', name = 'Dense_3')(input_) #Layer 1\n",
    "    \n",
    "    preds = tfl.Dense(1, activation=\"sigmoid\", name=\"pred\")(x) #Output layer\n",
    "    \n",
    "    model = Model(input_, preds, name=\"ANN_keras\")\n",
    "    model.compile(loss=\"binary_crossentropy\", optimizer=tf.keras.optimizers.Adam(learning_rate=alpha))\n",
    "    \n",
    "    return model\n",
    "    \n",
    "model = ANN_keras(X_arr)\n",
    "model.summary()"
   ]
  },
  {
   "cell_type": "markdown",
   "id": "8e5e4066",
   "metadata": {
    "papermill": {
     "duration": 0.036282,
     "end_time": "2021-07-31T17:04:17.836903",
     "exception": false,
     "start_time": "2021-07-31T17:04:17.800621",
     "status": "completed"
    },
    "tags": []
   },
   "source": [
    "## Training the model"
   ]
  },
  {
   "cell_type": "code",
   "execution_count": 20,
   "id": "8d0100d0",
   "metadata": {
    "execution": {
     "iopub.execute_input": "2021-07-31T17:04:17.913434Z",
     "iopub.status.busy": "2021-07-31T17:04:17.912616Z",
     "iopub.status.idle": "2021-07-31T17:04:25.277463Z",
     "shell.execute_reply": "2021-07-31T17:04:25.276287Z",
     "shell.execute_reply.started": "2021-07-31T16:51:31.943076Z"
    },
    "papermill": {
     "duration": 7.405541,
     "end_time": "2021-07-31T17:04:25.277662",
     "exception": false,
     "start_time": "2021-07-31T17:04:17.872121",
     "status": "completed"
    },
    "tags": []
   },
   "outputs": [],
   "source": [
    "history = model.fit(X_arr,y_arr, epochs=101, batch_size=X_arr.shape[0],\n",
    "                    validation_data = (X_test_arr,y_test_arr),verbose=0)"
   ]
  },
  {
   "cell_type": "code",
   "execution_count": 21,
   "id": "9a7ccee1",
   "metadata": {
    "execution": {
     "iopub.execute_input": "2021-07-31T17:04:25.355122Z",
     "iopub.status.busy": "2021-07-31T17:04:25.354435Z",
     "iopub.status.idle": "2021-07-31T17:04:36.492942Z",
     "shell.execute_reply": "2021-07-31T17:04:36.491820Z",
     "shell.execute_reply.started": "2021-07-31T16:57:34.397812Z"
    },
    "papermill": {
     "duration": 11.17995,
     "end_time": "2021-07-31T17:04:36.493114",
     "exception": false,
     "start_time": "2021-07-31T17:04:25.313164",
     "status": "completed"
    },
    "tags": []
   },
   "outputs": [],
   "source": [
    "history = model.fit(X_arr,y_arr, epochs=101, batch_size=25,\n",
    "                    validation_data = (X_test_arr,y_test_arr),verbose=0)"
   ]
  },
  {
   "cell_type": "markdown",
   "id": "40f4661e",
   "metadata": {
    "papermill": {
     "duration": 0.03585,
     "end_time": "2021-07-31T17:04:36.565189",
     "exception": false,
     "start_time": "2021-07-31T17:04:36.529339",
     "status": "completed"
    },
    "tags": []
   },
   "source": [
    "## Predicting through keras model"
   ]
  },
  {
   "cell_type": "code",
   "execution_count": 22,
   "id": "b3df3d8e",
   "metadata": {
    "execution": {
     "iopub.execute_input": "2021-07-31T17:04:36.643239Z",
     "iopub.status.busy": "2021-07-31T17:04:36.642539Z",
     "iopub.status.idle": "2021-07-31T17:04:36.761000Z",
     "shell.execute_reply": "2021-07-31T17:04:36.761469Z",
     "shell.execute_reply.started": "2021-07-31T16:57:46.506181Z"
    },
    "papermill": {
     "duration": 0.161253,
     "end_time": "2021-07-31T17:04:36.761686",
     "exception": false,
     "start_time": "2021-07-31T17:04:36.600433",
     "status": "completed"
    },
    "tags": []
   },
   "outputs": [
    {
     "name": "stdout",
     "output_type": "stream",
     "text": [
      "#--------------------- Evaluation ----------------------#\n",
      "ROC AUC of test set : 0.7907986111111112\n",
      "Accuracy of test set : 0.81\n"
     ]
    }
   ],
   "source": [
    "keras_pred = model.predict(X_test_arr)\n",
    "keras_pred = np.where(keras_pred>0.5,1,0)\n",
    "\n",
    "#print(np.unique(keras_pred))\n",
    "print('#--------------------- Evaluation ----------------------#')\n",
    "#Evaluation of the predictions\n",
    "print('ROC AUC of test set :',roc_auc_score(y_test_arr.ravel(),keras_pred.ravel()))\n",
    "print('Accuracy of test set :',accuracy_score(y_test_arr.ravel(),keras_pred.ravel()))"
   ]
  },
  {
   "cell_type": "code",
   "execution_count": null,
   "id": "22464e63",
   "metadata": {
    "papermill": {
     "duration": 0.035669,
     "end_time": "2021-07-31T17:04:36.834219",
     "exception": false,
     "start_time": "2021-07-31T17:04:36.798550",
     "status": "completed"
    },
    "tags": []
   },
   "outputs": [],
   "source": []
  }
 ],
 "metadata": {
  "kernelspec": {
   "display_name": "Python 3",
   "language": "python",
   "name": "python3"
  },
  "language_info": {
   "codemirror_mode": {
    "name": "ipython",
    "version": 3
   },
   "file_extension": ".py",
   "mimetype": "text/x-python",
   "name": "python",
   "nbconvert_exporter": "python",
   "pygments_lexer": "ipython3",
   "version": "3.7.10"
  },
  "papermill": {
   "default_parameters": {},
   "duration": 59.016438,
   "end_time": "2021-07-31T17:04:38.775052",
   "environment_variables": {},
   "exception": null,
   "input_path": "__notebook__.ipynb",
   "output_path": "__notebook__.ipynb",
   "parameters": {},
   "start_time": "2021-07-31T17:03:39.758614",
   "version": "2.3.3"
  }
 },
 "nbformat": 4,
 "nbformat_minor": 5
}
