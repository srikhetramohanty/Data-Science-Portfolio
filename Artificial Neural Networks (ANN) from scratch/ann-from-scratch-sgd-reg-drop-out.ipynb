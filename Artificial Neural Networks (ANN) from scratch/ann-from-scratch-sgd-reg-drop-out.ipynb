{
 "cells": [
  {
   "cell_type": "code",
   "execution_count": 1,
   "id": "b3f98920",
   "metadata": {
    "_cell_guid": "b1076dfc-b9ad-4769-8c92-a6c4dae69d19",
    "_uuid": "8f2839f25d086af736a60e9eeb907d3b93b6e0e5",
    "execution": {
     "iopub.execute_input": "2021-08-01T10:54:36.998397Z",
     "iopub.status.busy": "2021-08-01T10:54:36.997170Z",
     "iopub.status.idle": "2021-08-01T10:54:38.186895Z",
     "shell.execute_reply": "2021-08-01T10:54:38.187421Z",
     "shell.execute_reply.started": "2021-08-01T09:48:12.156891Z"
    },
    "papermill": {
     "duration": 1.226852,
     "end_time": "2021-08-01T10:54:38.187745",
     "exception": false,
     "start_time": "2021-08-01T10:54:36.960893",
     "status": "completed"
    },
    "tags": []
   },
   "outputs": [
    {
     "name": "stdout",
     "output_type": "stream",
     "text": [
      "/kaggle/input/titanic/train_data.csv\n",
      "/kaggle/input/titanic/test_data.csv\n"
     ]
    }
   ],
   "source": [
    "# This Python 3 environment comes with many helpful analytics libraries installed\n",
    "# It is defined by the kaggle/python Docker image: https://github.com/kaggle/docker-python\n",
    "# For example, here's several helpful packages to load\n",
    "\n",
    "import numpy as np # linear algebra\n",
    "import pandas as pd # data processing, CSV file I/O (e.g. pd.read_csv)\n",
    "from sklearn.preprocessing import StandardScaler\n",
    "from sklearn.metrics import mean_squared_error\n",
    "from sklearn.metrics import accuracy_score\n",
    "from sklearn.metrics import roc_auc_score\n",
    "import matplotlib.pyplot as pt\n",
    "import seaborn as sns\n",
    "from sklearn.model_selection import train_test_split\n",
    "pd.set_option('display.max_columns', None)\n",
    "# Input data files are available in the read-only \"../input/\" directory\n",
    "# For example, running this (by clicking run or pressing Shift+Enter) will list all files under the input directory\n",
    "\n",
    "import os\n",
    "for dirname, _, filenames in os.walk('/kaggle/input'):\n",
    "    for filename in filenames:\n",
    "        print(os.path.join(dirname, filename))\n",
    "\n",
    "# You can write up to 20GB to the current directory (/kaggle/working/) that gets preserved as output when you create a version using \"Save & Run All\" \n",
    "# You can also write temporary files to /kaggle/temp/, but they won't be saved outside of the current session"
   ]
  },
  {
   "cell_type": "markdown",
   "id": "3e5fe50b",
   "metadata": {
    "papermill": {
     "duration": 0.030035,
     "end_time": "2021-08-01T10:54:38.248501",
     "exception": false,
     "start_time": "2021-08-01T10:54:38.218466",
     "status": "completed"
    },
    "tags": []
   },
   "source": [
    "# Importing data"
   ]
  },
  {
   "cell_type": "code",
   "execution_count": 2,
   "id": "185de4ca",
   "metadata": {
    "execution": {
     "iopub.execute_input": "2021-08-01T10:54:38.312463Z",
     "iopub.status.busy": "2021-08-01T10:54:38.311495Z",
     "iopub.status.idle": "2021-08-01T10:54:38.366266Z",
     "shell.execute_reply": "2021-08-01T10:54:38.366825Z",
     "shell.execute_reply.started": "2021-08-01T09:48:13.327659Z"
    },
    "papermill": {
     "duration": 0.088334,
     "end_time": "2021-08-01T10:54:38.367007",
     "exception": false,
     "start_time": "2021-08-01T10:54:38.278673",
     "status": "completed"
    },
    "tags": []
   },
   "outputs": [
    {
     "name": "stdout",
     "output_type": "stream",
     "text": [
      "(792, 12)\n"
     ]
    },
    {
     "data": {
      "text/html": [
       "<div>\n",
       "<style scoped>\n",
       "    .dataframe tbody tr th:only-of-type {\n",
       "        vertical-align: middle;\n",
       "    }\n",
       "\n",
       "    .dataframe tbody tr th {\n",
       "        vertical-align: top;\n",
       "    }\n",
       "\n",
       "    .dataframe thead th {\n",
       "        text-align: right;\n",
       "    }\n",
       "</style>\n",
       "<table border=\"1\" class=\"dataframe\">\n",
       "  <thead>\n",
       "    <tr style=\"text-align: right;\">\n",
       "      <th></th>\n",
       "      <th>PassengerId</th>\n",
       "      <th>Survived</th>\n",
       "      <th>Sex</th>\n",
       "      <th>Age</th>\n",
       "      <th>Fare</th>\n",
       "      <th>Pclass_1</th>\n",
       "      <th>Pclass_2</th>\n",
       "      <th>Pclass_3</th>\n",
       "      <th>Family_size</th>\n",
       "      <th>Emb_1</th>\n",
       "      <th>Emb_2</th>\n",
       "      <th>Emb_3</th>\n",
       "    </tr>\n",
       "  </thead>\n",
       "  <tbody>\n",
       "    <tr>\n",
       "      <th>0</th>\n",
       "      <td>1</td>\n",
       "      <td>0</td>\n",
       "      <td>1</td>\n",
       "      <td>0.2750</td>\n",
       "      <td>0.014151</td>\n",
       "      <td>0</td>\n",
       "      <td>0</td>\n",
       "      <td>1</td>\n",
       "      <td>0.1</td>\n",
       "      <td>0</td>\n",
       "      <td>0</td>\n",
       "      <td>1</td>\n",
       "    </tr>\n",
       "    <tr>\n",
       "      <th>1</th>\n",
       "      <td>2</td>\n",
       "      <td>1</td>\n",
       "      <td>0</td>\n",
       "      <td>0.4750</td>\n",
       "      <td>0.139136</td>\n",
       "      <td>1</td>\n",
       "      <td>0</td>\n",
       "      <td>0</td>\n",
       "      <td>0.1</td>\n",
       "      <td>1</td>\n",
       "      <td>0</td>\n",
       "      <td>0</td>\n",
       "    </tr>\n",
       "    <tr>\n",
       "      <th>2</th>\n",
       "      <td>3</td>\n",
       "      <td>1</td>\n",
       "      <td>0</td>\n",
       "      <td>0.3250</td>\n",
       "      <td>0.015469</td>\n",
       "      <td>0</td>\n",
       "      <td>0</td>\n",
       "      <td>1</td>\n",
       "      <td>0.0</td>\n",
       "      <td>0</td>\n",
       "      <td>0</td>\n",
       "      <td>1</td>\n",
       "    </tr>\n",
       "    <tr>\n",
       "      <th>3</th>\n",
       "      <td>4</td>\n",
       "      <td>1</td>\n",
       "      <td>0</td>\n",
       "      <td>0.4375</td>\n",
       "      <td>0.103644</td>\n",
       "      <td>1</td>\n",
       "      <td>0</td>\n",
       "      <td>0</td>\n",
       "      <td>0.1</td>\n",
       "      <td>0</td>\n",
       "      <td>0</td>\n",
       "      <td>1</td>\n",
       "    </tr>\n",
       "    <tr>\n",
       "      <th>4</th>\n",
       "      <td>5</td>\n",
       "      <td>0</td>\n",
       "      <td>1</td>\n",
       "      <td>0.4375</td>\n",
       "      <td>0.015713</td>\n",
       "      <td>0</td>\n",
       "      <td>0</td>\n",
       "      <td>1</td>\n",
       "      <td>0.0</td>\n",
       "      <td>0</td>\n",
       "      <td>0</td>\n",
       "      <td>1</td>\n",
       "    </tr>\n",
       "  </tbody>\n",
       "</table>\n",
       "</div>"
      ],
      "text/plain": [
       "   PassengerId  Survived  Sex     Age      Fare  Pclass_1  Pclass_2  Pclass_3  \\\n",
       "0            1         0    1  0.2750  0.014151         0         0         1   \n",
       "1            2         1    0  0.4750  0.139136         1         0         0   \n",
       "2            3         1    0  0.3250  0.015469         0         0         1   \n",
       "3            4         1    0  0.4375  0.103644         1         0         0   \n",
       "4            5         0    1  0.4375  0.015713         0         0         1   \n",
       "\n",
       "   Family_size  Emb_1  Emb_2  Emb_3  \n",
       "0          0.1      0      0      1  \n",
       "1          0.1      1      0      0  \n",
       "2          0.0      0      0      1  \n",
       "3          0.1      0      0      1  \n",
       "4          0.0      0      0      1  "
      ]
     },
     "execution_count": 2,
     "metadata": {},
     "output_type": "execute_result"
    }
   ],
   "source": [
    "input_ads = pd.read_csv('../input/titanic/train_data.csv')\n",
    "input_ads.drop(columns=['Unnamed: 0','Title_1','Title_2','Title_3','Title_4'],inplace=True) #Dropping un-necessary columns\n",
    "#-----------------------------------------------------------------\n",
    "print(input_ads.shape)\n",
    "input_ads.head()"
   ]
  },
  {
   "cell_type": "markdown",
   "id": "865ae994",
   "metadata": {
    "papermill": {
     "duration": 0.03174,
     "end_time": "2021-08-01T10:54:38.432730",
     "exception": false,
     "start_time": "2021-08-01T10:54:38.400990",
     "status": "completed"
    },
    "tags": []
   },
   "source": [
    "# Null Check"
   ]
  },
  {
   "cell_type": "code",
   "execution_count": 3,
   "id": "06e7a7fc",
   "metadata": {
    "execution": {
     "iopub.execute_input": "2021-08-01T10:54:38.509987Z",
     "iopub.status.busy": "2021-08-01T10:54:38.509009Z",
     "iopub.status.idle": "2021-08-01T10:54:38.514586Z",
     "shell.execute_reply": "2021-08-01T10:54:38.514038Z",
     "shell.execute_reply.started": "2021-08-01T09:48:13.385590Z"
    },
    "papermill": {
     "duration": 0.05094,
     "end_time": "2021-08-01T10:54:38.514794",
     "exception": false,
     "start_time": "2021-08-01T10:54:38.463854",
     "status": "completed"
    },
    "tags": []
   },
   "outputs": [
    {
     "data": {
      "text/html": [
       "<div>\n",
       "<style scoped>\n",
       "    .dataframe tbody tr th:only-of-type {\n",
       "        vertical-align: middle;\n",
       "    }\n",
       "\n",
       "    .dataframe tbody tr th {\n",
       "        vertical-align: top;\n",
       "    }\n",
       "\n",
       "    .dataframe thead th {\n",
       "        text-align: right;\n",
       "    }\n",
       "</style>\n",
       "<table border=\"1\" class=\"dataframe\">\n",
       "  <thead>\n",
       "    <tr style=\"text-align: right;\">\n",
       "      <th></th>\n",
       "      <th>PassengerId</th>\n",
       "      <th>Survived</th>\n",
       "      <th>Sex</th>\n",
       "      <th>Age</th>\n",
       "      <th>Fare</th>\n",
       "      <th>Pclass_1</th>\n",
       "      <th>Pclass_2</th>\n",
       "      <th>Pclass_3</th>\n",
       "      <th>Family_size</th>\n",
       "      <th>Emb_1</th>\n",
       "      <th>Emb_2</th>\n",
       "      <th>Emb_3</th>\n",
       "    </tr>\n",
       "  </thead>\n",
       "  <tbody>\n",
       "    <tr>\n",
       "      <th>0</th>\n",
       "      <td>0</td>\n",
       "      <td>0</td>\n",
       "      <td>0</td>\n",
       "      <td>0</td>\n",
       "      <td>0</td>\n",
       "      <td>0</td>\n",
       "      <td>0</td>\n",
       "      <td>0</td>\n",
       "      <td>0</td>\n",
       "      <td>0</td>\n",
       "      <td>0</td>\n",
       "      <td>0</td>\n",
       "    </tr>\n",
       "  </tbody>\n",
       "</table>\n",
       "</div>"
      ],
      "text/plain": [
       "   PassengerId  Survived  Sex  Age  Fare  Pclass_1  Pclass_2  Pclass_3  \\\n",
       "0            0         0    0    0     0         0         0         0   \n",
       "\n",
       "   Family_size  Emb_1  Emb_2  Emb_3  \n",
       "0            0      0      0      0  "
      ]
     },
     "execution_count": 3,
     "metadata": {},
     "output_type": "execute_result"
    }
   ],
   "source": [
    "pd.DataFrame(input_ads.isnull().sum()).T"
   ]
  },
  {
   "cell_type": "markdown",
   "id": "77fd2016",
   "metadata": {
    "papermill": {
     "duration": 0.038872,
     "end_time": "2021-08-01T10:54:38.595525",
     "exception": false,
     "start_time": "2021-08-01T10:54:38.556653",
     "status": "completed"
    },
    "tags": []
   },
   "source": [
    "# Description of the data"
   ]
  },
  {
   "cell_type": "code",
   "execution_count": 4,
   "id": "f910027f",
   "metadata": {
    "execution": {
     "iopub.execute_input": "2021-08-01T10:54:38.673942Z",
     "iopub.status.busy": "2021-08-01T10:54:38.669759Z",
     "iopub.status.idle": "2021-08-01T10:54:38.721486Z",
     "shell.execute_reply": "2021-08-01T10:54:38.720815Z",
     "shell.execute_reply.started": "2021-08-01T09:48:13.402616Z"
    },
    "papermill": {
     "duration": 0.088385,
     "end_time": "2021-08-01T10:54:38.721646",
     "exception": false,
     "start_time": "2021-08-01T10:54:38.633261",
     "status": "completed"
    },
    "tags": []
   },
   "outputs": [
    {
     "data": {
      "text/html": [
       "<div>\n",
       "<style scoped>\n",
       "    .dataframe tbody tr th:only-of-type {\n",
       "        vertical-align: middle;\n",
       "    }\n",
       "\n",
       "    .dataframe tbody tr th {\n",
       "        vertical-align: top;\n",
       "    }\n",
       "\n",
       "    .dataframe thead th {\n",
       "        text-align: right;\n",
       "    }\n",
       "</style>\n",
       "<table border=\"1\" class=\"dataframe\">\n",
       "  <thead>\n",
       "    <tr style=\"text-align: right;\">\n",
       "      <th></th>\n",
       "      <th>PassengerId</th>\n",
       "      <th>Survived</th>\n",
       "      <th>Sex</th>\n",
       "      <th>Age</th>\n",
       "      <th>Fare</th>\n",
       "      <th>Pclass_1</th>\n",
       "      <th>Pclass_2</th>\n",
       "      <th>Pclass_3</th>\n",
       "      <th>Family_size</th>\n",
       "      <th>Emb_1</th>\n",
       "      <th>Emb_2</th>\n",
       "      <th>Emb_3</th>\n",
       "    </tr>\n",
       "  </thead>\n",
       "  <tbody>\n",
       "    <tr>\n",
       "      <th>count</th>\n",
       "      <td>792.000000</td>\n",
       "      <td>792.000000</td>\n",
       "      <td>792.000000</td>\n",
       "      <td>792.000000</td>\n",
       "      <td>792.000000</td>\n",
       "      <td>792.000000</td>\n",
       "      <td>792.000000</td>\n",
       "      <td>792.000000</td>\n",
       "      <td>792.000000</td>\n",
       "      <td>792.000000</td>\n",
       "      <td>792.000000</td>\n",
       "      <td>792.000000</td>\n",
       "    </tr>\n",
       "    <tr>\n",
       "      <th>mean</th>\n",
       "      <td>396.500000</td>\n",
       "      <td>0.386364</td>\n",
       "      <td>0.647727</td>\n",
       "      <td>0.368244</td>\n",
       "      <td>0.064677</td>\n",
       "      <td>0.243687</td>\n",
       "      <td>0.208333</td>\n",
       "      <td>0.547980</td>\n",
       "      <td>0.088636</td>\n",
       "      <td>0.185606</td>\n",
       "      <td>0.092172</td>\n",
       "      <td>0.720960</td>\n",
       "    </tr>\n",
       "    <tr>\n",
       "      <th>std</th>\n",
       "      <td>228.774999</td>\n",
       "      <td>0.487223</td>\n",
       "      <td>0.477980</td>\n",
       "      <td>0.162994</td>\n",
       "      <td>0.100987</td>\n",
       "      <td>0.429577</td>\n",
       "      <td>0.406373</td>\n",
       "      <td>0.498007</td>\n",
       "      <td>0.154485</td>\n",
       "      <td>0.389034</td>\n",
       "      <td>0.289451</td>\n",
       "      <td>0.448811</td>\n",
       "    </tr>\n",
       "    <tr>\n",
       "      <th>min</th>\n",
       "      <td>1.000000</td>\n",
       "      <td>0.000000</td>\n",
       "      <td>0.000000</td>\n",
       "      <td>0.008375</td>\n",
       "      <td>0.000000</td>\n",
       "      <td>0.000000</td>\n",
       "      <td>0.000000</td>\n",
       "      <td>0.000000</td>\n",
       "      <td>0.000000</td>\n",
       "      <td>0.000000</td>\n",
       "      <td>0.000000</td>\n",
       "      <td>0.000000</td>\n",
       "    </tr>\n",
       "    <tr>\n",
       "      <th>25%</th>\n",
       "      <td>198.750000</td>\n",
       "      <td>0.000000</td>\n",
       "      <td>0.000000</td>\n",
       "      <td>0.275000</td>\n",
       "      <td>0.015469</td>\n",
       "      <td>0.000000</td>\n",
       "      <td>0.000000</td>\n",
       "      <td>0.000000</td>\n",
       "      <td>0.000000</td>\n",
       "      <td>0.000000</td>\n",
       "      <td>0.000000</td>\n",
       "      <td>0.000000</td>\n",
       "    </tr>\n",
       "    <tr>\n",
       "      <th>50%</th>\n",
       "      <td>396.500000</td>\n",
       "      <td>0.000000</td>\n",
       "      <td>1.000000</td>\n",
       "      <td>0.350000</td>\n",
       "      <td>0.028302</td>\n",
       "      <td>0.000000</td>\n",
       "      <td>0.000000</td>\n",
       "      <td>1.000000</td>\n",
       "      <td>0.000000</td>\n",
       "      <td>0.000000</td>\n",
       "      <td>0.000000</td>\n",
       "      <td>1.000000</td>\n",
       "    </tr>\n",
       "    <tr>\n",
       "      <th>75%</th>\n",
       "      <td>594.250000</td>\n",
       "      <td>1.000000</td>\n",
       "      <td>1.000000</td>\n",
       "      <td>0.437500</td>\n",
       "      <td>0.061045</td>\n",
       "      <td>0.000000</td>\n",
       "      <td>0.000000</td>\n",
       "      <td>1.000000</td>\n",
       "      <td>0.100000</td>\n",
       "      <td>0.000000</td>\n",
       "      <td>0.000000</td>\n",
       "      <td>1.000000</td>\n",
       "    </tr>\n",
       "    <tr>\n",
       "      <th>max</th>\n",
       "      <td>792.000000</td>\n",
       "      <td>1.000000</td>\n",
       "      <td>1.000000</td>\n",
       "      <td>1.000000</td>\n",
       "      <td>1.000000</td>\n",
       "      <td>1.000000</td>\n",
       "      <td>1.000000</td>\n",
       "      <td>1.000000</td>\n",
       "      <td>1.000000</td>\n",
       "      <td>1.000000</td>\n",
       "      <td>1.000000</td>\n",
       "      <td>1.000000</td>\n",
       "    </tr>\n",
       "  </tbody>\n",
       "</table>\n",
       "</div>"
      ],
      "text/plain": [
       "       PassengerId    Survived         Sex         Age        Fare  \\\n",
       "count   792.000000  792.000000  792.000000  792.000000  792.000000   \n",
       "mean    396.500000    0.386364    0.647727    0.368244    0.064677   \n",
       "std     228.774999    0.487223    0.477980    0.162994    0.100987   \n",
       "min       1.000000    0.000000    0.000000    0.008375    0.000000   \n",
       "25%     198.750000    0.000000    0.000000    0.275000    0.015469   \n",
       "50%     396.500000    0.000000    1.000000    0.350000    0.028302   \n",
       "75%     594.250000    1.000000    1.000000    0.437500    0.061045   \n",
       "max     792.000000    1.000000    1.000000    1.000000    1.000000   \n",
       "\n",
       "         Pclass_1    Pclass_2    Pclass_3  Family_size       Emb_1  \\\n",
       "count  792.000000  792.000000  792.000000   792.000000  792.000000   \n",
       "mean     0.243687    0.208333    0.547980     0.088636    0.185606   \n",
       "std      0.429577    0.406373    0.498007     0.154485    0.389034   \n",
       "min      0.000000    0.000000    0.000000     0.000000    0.000000   \n",
       "25%      0.000000    0.000000    0.000000     0.000000    0.000000   \n",
       "50%      0.000000    0.000000    1.000000     0.000000    0.000000   \n",
       "75%      0.000000    0.000000    1.000000     0.100000    0.000000   \n",
       "max      1.000000    1.000000    1.000000     1.000000    1.000000   \n",
       "\n",
       "            Emb_2       Emb_3  \n",
       "count  792.000000  792.000000  \n",
       "mean     0.092172    0.720960  \n",
       "std      0.289451    0.448811  \n",
       "min      0.000000    0.000000  \n",
       "25%      0.000000    0.000000  \n",
       "50%      0.000000    1.000000  \n",
       "75%      0.000000    1.000000  \n",
       "max      1.000000    1.000000  "
      ]
     },
     "execution_count": 4,
     "metadata": {},
     "output_type": "execute_result"
    }
   ],
   "source": [
    "input_ads.describe()"
   ]
  },
  {
   "cell_type": "markdown",
   "id": "ee6b814b",
   "metadata": {
    "papermill": {
     "duration": 0.031816,
     "end_time": "2021-08-01T10:54:38.788818",
     "exception": false,
     "start_time": "2021-08-01T10:54:38.757002",
     "status": "completed"
    },
    "tags": []
   },
   "source": [
    "# Description of target variable"
   ]
  },
  {
   "cell_type": "code",
   "execution_count": 5,
   "id": "b697751f",
   "metadata": {
    "execution": {
     "iopub.execute_input": "2021-08-01T10:54:38.862050Z",
     "iopub.status.busy": "2021-08-01T10:54:38.861384Z",
     "iopub.status.idle": "2021-08-01T10:54:38.865548Z",
     "shell.execute_reply": "2021-08-01T10:54:38.864944Z",
     "shell.execute_reply.started": "2021-08-01T09:48:13.459143Z"
    },
    "papermill": {
     "duration": 0.044116,
     "end_time": "2021-08-01T10:54:38.865701",
     "exception": false,
     "start_time": "2021-08-01T10:54:38.821585",
     "status": "completed"
    },
    "tags": []
   },
   "outputs": [
    {
     "data": {
      "text/plain": [
       "0    486\n",
       "1    306\n",
       "Name: Survived, dtype: int64"
      ]
     },
     "execution_count": 5,
     "metadata": {},
     "output_type": "execute_result"
    }
   ],
   "source": [
    "#Total survived vs not-survived split in the training data\n",
    "input_ads['Survived'].value_counts()"
   ]
  },
  {
   "cell_type": "markdown",
   "id": "4825c01d",
   "metadata": {
    "papermill": {
     "duration": 0.032037,
     "end_time": "2021-08-01T10:54:38.930440",
     "exception": false,
     "start_time": "2021-08-01T10:54:38.898403",
     "status": "completed"
    },
    "tags": []
   },
   "source": [
    "# Manipulation of data into train-test"
   ]
  },
  {
   "cell_type": "code",
   "execution_count": 6,
   "id": "b669fb41",
   "metadata": {
    "execution": {
     "iopub.execute_input": "2021-08-01T10:54:39.005267Z",
     "iopub.status.busy": "2021-08-01T10:54:39.004529Z",
     "iopub.status.idle": "2021-08-01T10:54:39.028835Z",
     "shell.execute_reply": "2021-08-01T10:54:39.028080Z",
     "shell.execute_reply.started": "2021-08-01T09:48:13.470551Z"
    },
    "papermill": {
     "duration": 0.066122,
     "end_time": "2021-08-01T10:54:39.029005",
     "exception": false,
     "start_time": "2021-08-01T10:54:38.962883",
     "status": "completed"
    },
    "tags": []
   },
   "outputs": [
    {
     "name": "stdout",
     "output_type": "stream",
     "text": [
      "Train % of total data: 88.78923766816143\n",
      "(792, 11)\n",
      "(100, 11)\n",
      "(792, 1)\n"
     ]
    }
   ],
   "source": [
    "target = 'Survived' #To predict\n",
    "\n",
    "#--------------------------------------------------------------------------------\n",
    "#Splitting into X & Y datasets (supervised training)\n",
    "X = input_ads[[cols for cols in list(input_ads.columns) if target not in cols]]\n",
    "y = input_ads[target]\n",
    "\n",
    "#--------------------------------------------------------------------------------\n",
    "#Since test data is already placed in the input folder separately, we will just import it\n",
    "test_ads = pd.read_csv('../input/titanic/test_data.csv')\n",
    "test_ads.drop(columns=['Unnamed: 0','Title_1','Title_2','Title_3','Title_4'],inplace=True) #Dropping un-necessary columns\n",
    "\n",
    "#Splitting into X & Y datasets (supervised training)\n",
    "X_test = test_ads[[cols for cols in list(test_ads.columns) if target not in cols]]\n",
    "y_test = test_ads[target]\n",
    "\n",
    "print('Train % of total data:',100 * X.shape[0]/(X.shape[0] + X_test.shape[0]))\n",
    "#--------------------------------------------------------------------------------\n",
    "#Manipulation of datasets for convenience and consistency\n",
    "X_arr = np.array(X)\n",
    "X_test_arr = np.array(X_test)\n",
    "\n",
    "y_arr = np.array(y).reshape(X_arr.shape[0],1)\n",
    "y_test_arr = np.array(y_test).reshape(X_test_arr.shape[0],1)\n",
    "\n",
    "#--------------------------------------------------------------------------------\n",
    "#Basic Summary\n",
    "print(X_arr.shape)\n",
    "print(X_test_arr.shape)\n",
    "print(y_arr.shape)"
   ]
  },
  {
   "cell_type": "markdown",
   "id": "f6e7d7fb",
   "metadata": {
    "papermill": {
     "duration": 0.032675,
     "end_time": "2021-08-01T10:54:39.094795",
     "exception": false,
     "start_time": "2021-08-01T10:54:39.062120",
     "status": "completed"
    },
    "tags": []
   },
   "source": [
    "# Standard scaling the x-data"
   ]
  },
  {
   "cell_type": "code",
   "execution_count": 7,
   "id": "5abe7823",
   "metadata": {
    "execution": {
     "iopub.execute_input": "2021-08-01T10:54:39.166787Z",
     "iopub.status.busy": "2021-08-01T10:54:39.165767Z",
     "iopub.status.idle": "2021-08-01T10:54:39.173933Z",
     "shell.execute_reply": "2021-08-01T10:54:39.173340Z",
     "shell.execute_reply.started": "2021-08-01T09:48:13.498361Z"
    },
    "papermill": {
     "duration": 0.046665,
     "end_time": "2021-08-01T10:54:39.174089",
     "exception": false,
     "start_time": "2021-08-01T10:54:39.127424",
     "status": "completed"
    },
    "tags": []
   },
   "outputs": [
    {
     "data": {
      "text/plain": [
       "array([[-1.72986525,  0.73746841, -0.57243072, -0.50063632, -0.56762987,\n",
       "        -0.51298918,  0.90823168,  0.07360462, -0.47739604, -0.31863757,\n",
       "         0.62212561],\n",
       "       [-1.72549138, -1.35599029,  0.65538585,  0.73777138,  1.76171137,\n",
       "        -0.51298918, -1.10104065,  0.07360462,  2.0946969 , -0.31863757,\n",
       "        -1.60739242],\n",
       "       [-1.72111752, -1.35599029, -0.26547658, -0.48758178, -0.56762987,\n",
       "        -0.51298918,  0.90823168, -0.57411602, -0.47739604, -0.31863757,\n",
       "         0.62212561]])"
      ]
     },
     "execution_count": 7,
     "metadata": {},
     "output_type": "execute_result"
    }
   ],
   "source": [
    "from sklearn.preprocessing import StandardScaler\n",
    "\n",
    "#----------------------------------------------------------\n",
    "scaler = StandardScaler()\n",
    "X_arr = scaler.fit_transform(X_arr)\n",
    "X_test_arr = scaler.transform(X_test_arr)\n",
    "\n",
    "#----------------------------------------------------------\n",
    "X_arr[0:3]"
   ]
  },
  {
   "cell_type": "markdown",
   "id": "1c411d7c",
   "metadata": {
    "papermill": {
     "duration": 0.032655,
     "end_time": "2021-08-01T10:54:39.243000",
     "exception": false,
     "start_time": "2021-08-01T10:54:39.210345",
     "status": "completed"
    },
    "tags": []
   },
   "source": [
    "# Artificial Neural Network (ANN) from Scratch"
   ]
  },
  {
   "cell_type": "markdown",
   "id": "45084e63",
   "metadata": {
    "papermill": {
     "duration": 0.032621,
     "end_time": "2021-08-01T10:54:39.308368",
     "exception": false,
     "start_time": "2021-08-01T10:54:39.275747",
     "status": "completed"
    },
    "tags": []
   },
   "source": [
    "## UDFs for activation, initialization, layer_propagation"
   ]
  },
  {
   "cell_type": "code",
   "execution_count": 8,
   "id": "46dc8fe1",
   "metadata": {
    "execution": {
     "iopub.execute_input": "2021-08-01T10:54:39.387458Z",
     "iopub.status.busy": "2021-08-01T10:54:39.386385Z",
     "iopub.status.idle": "2021-08-01T10:54:39.389134Z",
     "shell.execute_reply": "2021-08-01T10:54:39.388592Z",
     "shell.execute_reply.started": "2021-08-01T09:48:13.509365Z"
    },
    "papermill": {
     "duration": 0.047848,
     "end_time": "2021-08-01T10:54:39.389269",
     "exception": false,
     "start_time": "2021-08-01T10:54:39.341421",
     "status": "completed"
    },
    "tags": []
   },
   "outputs": [],
   "source": [
    "#All popular activation functions\n",
    "def activation_fn(z,type_):\n",
    "    \n",
    "    #print('Activation : ',type_)\n",
    "    \n",
    "    if type_=='linear':\n",
    "        activated_arr = z\n",
    "    \n",
    "    elif type_=='sigmoid':\n",
    "        activated_arr = 1/(1+np.exp(-z))\n",
    "    \n",
    "    elif type_=='relu': \n",
    "        activated_arr = np.maximum(np.zeros(z.shape),z)\n",
    "    \n",
    "    elif type_=='tanh':\n",
    "        activated_arr = (np.exp(z)-np.exp(-z))/(np.exp(z)+np.exp(-z))\n",
    "    \n",
    "    elif type_=='leaky_relu':\n",
    "        activated_arr = np.maximum(0.01*z,z)\n",
    "    \n",
    "    elif type_=='softmax':\n",
    "        exp_ = np.exp(z)\n",
    "        exp_sum = np.sum(exp_)\n",
    "        activated_arr = exp_/exp_sum\n",
    "        \n",
    "    return activated_arr\n",
    "\n",
    "#----------------------------------------------------------------------------------------------------------------------------\n",
    "#Initialization of params\n",
    "def generate_param_grid(a_prev,n_hidden,hidden_size_list):\n",
    "    \n",
    "    parameters = {}\n",
    "    features = a_prev.shape[0] #Total features\n",
    "    n_examples = a_prev.shape[1]\n",
    "    \n",
    "    for n_hidden_idx in range(1,n_hidden+1):\n",
    "        \n",
    "        n_hidden_nodes = hidden_size_list[n_hidden_idx] #Should start from 0\n",
    "        \n",
    "        #print('#------------ Layer :',n_hidden_idx,'---- Size :',n_hidden_nodes,'---- Prev features :',features,'------#')\n",
    "\n",
    "        parameters['w' + str(n_hidden_idx)] = np.random.rand(n_hidden_nodes,features) * 0.1 #Xavier Initialization\n",
    "        parameters['b' + str(n_hidden_idx)] = np.zeros((n_hidden_nodes,1)) * 0.1\n",
    "        \n",
    "        features = n_hidden_nodes\n",
    "    \n",
    "    return parameters#Return randomly initiated params\n",
    "    \n",
    "#---------------------------------------------------------------------------------------------------------------------------\n",
    "#Propagation between z and activation\n",
    "def layer_propagation(a_prev,w,b,activation):\n",
    "    \n",
    "    #print(a_prev.shape)\n",
    "    #print(w.shape)\n",
    "    #print(b.shape)\n",
    "    \n",
    "    z_ = np.dot(w,a_prev) + b\n",
    "    \n",
    "    a = activation_fn(z=z_,\n",
    "                      type_=activation)\n",
    "    \n",
    "    return z_,a"
   ]
  },
  {
   "cell_type": "markdown",
   "id": "4f50d824",
   "metadata": {
    "papermill": {
     "duration": 0.032652,
     "end_time": "2021-08-01T10:54:39.455213",
     "exception": false,
     "start_time": "2021-08-01T10:54:39.422561",
     "status": "completed"
    },
    "tags": []
   },
   "source": [
    "## UDF for forward propagation (with inverted dropout)"
   ]
  },
  {
   "cell_type": "code",
   "execution_count": 9,
   "id": "635b9249",
   "metadata": {
    "execution": {
     "iopub.execute_input": "2021-08-01T10:54:39.531866Z",
     "iopub.status.busy": "2021-08-01T10:54:39.531198Z",
     "iopub.status.idle": "2021-08-01T10:54:39.533490Z",
     "shell.execute_reply": "2021-08-01T10:54:39.534068Z",
     "shell.execute_reply.started": "2021-08-01T10:14:51.396467Z"
    },
    "papermill": {
     "duration": 0.045585,
     "end_time": "2021-08-01T10:54:39.534229",
     "exception": false,
     "start_time": "2021-08-01T10:54:39.488644",
     "status": "completed"
    },
    "tags": []
   },
   "outputs": [],
   "source": [
    "def forward_propagation(params_dict,data_x,data_y,n_hidden,hidden_size_list,activation_list,mode='train',dropout_ratio_list=None):\n",
    "    \n",
    "    cache = {'a0' : data_x.T}\n",
    "    a = data_x.T.copy()\n",
    "    drop_mask_cache = {}\n",
    "    \n",
    "    for layer_idx in range(1,n_hidden+1):\n",
    "        \n",
    "        #print('#---------- Layer :',layer_idx,'-- No of Nodes :',hidden_size_list[layer_idx])\n",
    "        #nodes = hidden_size_list[layer_idx]\n",
    "        activation_ = activation_list[layer_idx]\n",
    "        w_ = params_dict['w'+str(layer_idx)]\n",
    "        b_ = params_dict['b'+str(layer_idx)]\n",
    "        \n",
    "        z,a = layer_propagation(a_prev=a,\n",
    "                                 w=w_,\n",
    "                                 b=b_,\n",
    "                                 activation=activation_)\n",
    "        \n",
    "        #--------------------------------------------------------------------------------------\n",
    "        #Applying drop out to forward propagation (only during training)\n",
    "        if (mode=='train') & (layer_idx not in [n_hidden]): #Ensuring dropout not applied to last layer (output layer) \n",
    "            keeprate = dropout_ratio_list[layer_idx]\n",
    "            drop_mask = (np.random.rand(a.shape[0],a.shape[1]) < keeprate).astype(int)\n",
    "            a = a * drop_mask\n",
    "            a = a/keeprate\n",
    "            drop_mask_cache[str(layer_idx)] = drop_mask\n",
    "            \n",
    "        cache['z'+str(layer_idx)] = z\n",
    "        cache['a'+str(layer_idx)] = a\n",
    "    \n",
    "    \n",
    "    if mode=='train':\n",
    "        return cache,a,drop_mask_cache\n",
    "    else:\n",
    "        return cache,a"
   ]
  },
  {
   "cell_type": "markdown",
   "id": "e4385834",
   "metadata": {
    "papermill": {
     "duration": 0.032537,
     "end_time": "2021-08-01T10:54:39.599941",
     "exception": false,
     "start_time": "2021-08-01T10:54:39.567404",
     "status": "completed"
    },
    "tags": []
   },
   "source": [
    "## UDF for cost calculation, gradient calculation & back-propagation (with inverted dropout) "
   ]
  },
  {
   "cell_type": "code",
   "execution_count": 10,
   "id": "1b1466dd",
   "metadata": {
    "execution": {
     "iopub.execute_input": "2021-08-01T10:54:39.669484Z",
     "iopub.status.busy": "2021-08-01T10:54:39.668838Z",
     "iopub.status.idle": "2021-08-01T10:54:39.691833Z",
     "shell.execute_reply": "2021-08-01T10:54:39.692322Z",
     "shell.execute_reply.started": "2021-08-01T10:24:41.239576Z"
    },
    "papermill": {
     "duration": 0.059077,
     "end_time": "2021-08-01T10:54:39.692505",
     "exception": false,
     "start_time": "2021-08-01T10:54:39.633428",
     "status": "completed"
    },
    "tags": []
   },
   "outputs": [],
   "source": [
    "#Calculation of the total cost incurred by the model\n",
    "def cost_calculation(activation_list,y_true,y_pred,regularization,reg_lambda,params_dict,n_hidden):\n",
    "\n",
    "    #----------------------------------------------------------------\n",
    "    w_ = params_dict['w'+str(n_hidden)]\n",
    "    \n",
    "    #Applying regularizations\n",
    "    if regularization=='L1':\n",
    "        reg = np.sum(abs(w_))\n",
    "    elif regularization=='L2':\n",
    "        reg = 0.5 * np.sum(np.square(w_))\n",
    "    elif regularization==None:\n",
    "        reg = 0\n",
    "    \n",
    "    #----------------------------------------------------------------\n",
    "    if activation_list[-1]=='sigmoid':\n",
    "        #print('sig')\n",
    "        m = y_true.shape[1]\n",
    "        cost = (-1/m) * (np.sum((y_true * np.log(y_pred)) + ((1-y_true) * np.log(1 - y_pred))) + (reg_lambda*reg))\n",
    "        \n",
    "    elif activation_list[-1]=='linear':\n",
    "        \n",
    "        m = y_true.shape[1]\n",
    "        cost = (1/m) * np.sum(np.square(y_true-y_pred)) + (reg_lambda*reg)\n",
    "        \n",
    "     ##-------------------->> Softmax to be added <<----------------------\n",
    "    \n",
    "    return cost\n",
    "\n",
    "#Gradient of the activation functions wrt corresponding z\n",
    "#--------------------------------------------------------------------------------------------\n",
    "#Gradient for each activation type\n",
    "def grad_fn_dz(activation,a):\n",
    "    \n",
    "    if activation=='linear':\n",
    "        grad = 1\n",
    "     \n",
    "    elif activation=='sigmoid':\n",
    "        grad = a*(1-a)\n",
    "        \n",
    "    elif activation=='tanh':\n",
    "        grad = np.square(1-a)\n",
    "        \n",
    "    elif activation=='relu':\n",
    "        grad = np.where(a>=0,1,0)\n",
    "    \n",
    "    elif activation=='leaky_relu':\n",
    "        grad = np.where(a>=0,1,0.01)\n",
    "    \n",
    "    ##-------------------->> Softmax to be added <<----------------------\n",
    "    \n",
    "    return grad\n",
    "        \n",
    "#--------------------------------------------------------------------------------------------\n",
    "#UDF for gradient of loss function wrt last layer\n",
    "def dL_last_layer(activation_list,y_true,y_pred,regularization,reg_lambda,params_dict,n_hidden):\n",
    "    \n",
    "#     #---------------------------------------------------------------------------------------\n",
    "#     w_ = params_dict['w'+str(n_hidden)]\n",
    "    \n",
    "#     #Applying regularization\n",
    "#     if regularization=='L1':\n",
    "#         reg_derivative = np.divide(w_, abs(w_), out=np.zeros_like(w_), where=abs(w_)!=0)\n",
    "#         reg_derivative = np.where(reg_derivative==np.inf,0,reg_derivative)\n",
    "#         print('Regularization L1 :',reg_derivative.shape)\n",
    "                \n",
    "#     elif regularization=='L2':            \n",
    "#         reg_derivative = w_\n",
    "#         print('Regularization L2 :',reg_derivative.shape)\n",
    "    \n",
    "#     elif regularization==None:\n",
    "#         reg_derivative = 0\n",
    "    \n",
    "    #----------------------------------------------------------------------------------------\n",
    "    if activation_list[-1]=='sigmoid':\n",
    "        \n",
    "        #print('Last Layer y true shape :',y_true.shape)\n",
    "        #print('Last Layer y pred shape :',y_pred.shape)\n",
    "        \n",
    "        #grad_final_layer = -((y_true/y_pred) - ((1-y_true)/(1-y_pred))) + (reg_lambda * reg_derivative)\n",
    "        grad_final_layer = -((y_true/y_pred) - ((1-y_true)/(1-y_pred)))\n",
    "        #print('Last Layer gradient shape :',grad_final_layer.shape)\n",
    "        \n",
    "    elif activation_list[-1]=='linear':\n",
    "        \n",
    "        #grad_final_layer = - 2 * (y_true-y_pred) + (reg_lambda * reg_derivative) #Check the sign\n",
    "        grad_final_layer = - 2 * (y_true-y_pred)\n",
    "        \n",
    "    return grad_final_layer\n",
    "\n",
    "#--------------------------------------------------------------------------------------------\n",
    "#Back=Propagation         \n",
    "def back_propagation(cache,params_dict,data_x,data_y,n_hidden,hidden_size_list,activation_list,y_pred,regularization,reg_lambda,drop_mask_cache,mode='train',dropout_ratio_list=None):\n",
    "    \n",
    "    grads_cache = {}\n",
    "    #db_cache = {}\n",
    "    \n",
    "    da = dL_last_layer(activation_list=activation_list,\n",
    "                             y_true=data_y.T,\n",
    "                             y_pred=y_pred,\n",
    "                             regularization=regularization,\n",
    "                             reg_lambda=reg_lambda,\n",
    "                             params_dict=params_dict,\n",
    "                             n_hidden=n_hidden)\n",
    "    #print('Final da shape :',da.shape)\n",
    "    \n",
    "    m = data_y.shape[0] #Data in the batches\n",
    "    \n",
    "    #print('dm in backprop :',m)\n",
    "    for layer_idx in list(reversed(range(1,n_hidden+1))):\n",
    "        \n",
    "        #print('# -------- Layer :',layer_idx,'-------- Size :',hidden_size_list[layer_idx],'--------#')\n",
    "        \n",
    "        activation_ = activation_list[layer_idx]\n",
    "        a = cache['a'+str(layer_idx)]\n",
    "        a_prev = cache['a'+str(layer_idx-1)]\n",
    "        w = params_dict['w'+str(layer_idx)]\n",
    "        \n",
    "        #-------------------------------------------------------------------------------------------\n",
    "        #Applying regularization\n",
    "        if regularization=='L1':\n",
    "            reg_derivative = np.divide(w, abs(w), out=np.zeros_like(w), where=abs(w)!=0)\n",
    "            reg_derivative = np.where(reg_derivative==np.inf,0,reg_derivative)\n",
    "            #print('Regularization L1 :',reg_derivative.shape)\n",
    "\n",
    "        elif regularization=='L2':            \n",
    "            reg_derivative = w\n",
    "            #print('Regularization L2 :',reg_derivative.shape)\n",
    "\n",
    "        elif regularization==None:\n",
    "            reg_derivative = 0\n",
    "        #_-------------------------------------------------------------------------------------------\n",
    "        \n",
    "        \n",
    "#         print('Shape of a:',a.shape)\n",
    "#         print('Shape of a_prev:',a_prev.shape)\n",
    "#         print('SHape of w:',w.shape)\n",
    "        \n",
    "        #z = \n",
    "        \n",
    "        dz =  da * (grad_fn_dz(activation=activation_,a=a))\n",
    "        \n",
    "        #print('dz shape :',dz.shape)\n",
    "                     \n",
    "        dw = (1/m) * (np.dot(dz, a_prev.T) + (reg_lambda * reg_derivative))\n",
    "        #print('dw shape :',dw.shape)\n",
    "        grads_cache['dw'+str(layer_idx)] = dw\n",
    "                     \n",
    "        db = (1/m) * np.sum(dz, axis=1,keepdims=True)\n",
    "        #print('db shape :',db.shape)\n",
    "        grads_cache['db'+str(layer_idx)] = db\n",
    "        \n",
    "        da = np.dot(w.T,dz)\n",
    "        \n",
    "        if (mode=='train') & (layer_idx>1):\n",
    "            drop_mask = drop_mask_cache[str(layer_idx-1)]\n",
    "            da = da * drop_mask #Applying same dropout mask to backprop element\n",
    "            da = da/dropout_ratio_list[layer_idx-1] #Scaling\n",
    "        \n",
    "        #print('da shape :',da.shape)\n",
    "\n",
    "    return grads_cache"
   ]
  },
  {
   "cell_type": "markdown",
   "id": "731f8b12",
   "metadata": {
    "papermill": {
     "duration": 0.032663,
     "end_time": "2021-08-01T10:54:39.759217",
     "exception": false,
     "start_time": "2021-08-01T10:54:39.726554",
     "status": "completed"
    },
    "tags": []
   },
   "source": [
    "## UDF for updating weights through gradient descent"
   ]
  },
  {
   "cell_type": "code",
   "execution_count": 11,
   "id": "9e899ea3",
   "metadata": {
    "execution": {
     "iopub.execute_input": "2021-08-01T10:54:39.828182Z",
     "iopub.status.busy": "2021-08-01T10:54:39.827521Z",
     "iopub.status.idle": "2021-08-01T10:54:39.832762Z",
     "shell.execute_reply": "2021-08-01T10:54:39.833222Z",
     "shell.execute_reply.started": "2021-08-01T10:18:16.755304Z"
    },
    "papermill": {
     "duration": 0.041368,
     "end_time": "2021-08-01T10:54:39.833389",
     "exception": false,
     "start_time": "2021-08-01T10:54:39.792021",
     "status": "completed"
    },
    "tags": []
   },
   "outputs": [],
   "source": [
    "def update_weights(params,grads_cache,alpha,n_hidden):\n",
    "    \n",
    "    for layer_idx in list(reversed(range(1,n_hidden+1))):\n",
    "        \n",
    "        #print('#---- layer :',layer_idx,'----#')\n",
    "        \n",
    "        dw = grads_cache['dw'+str(layer_idx)]\n",
    "        db = grads_cache['db'+str(layer_idx)]\n",
    "        \n",
    "#         print('dw shape :',dw.shape)\n",
    "#         print('db shape :',db.shape)\n",
    "#         print('w shape :',params['w'+str(layer_idx)].shape)\n",
    "        \n",
    "        params['w'+str(layer_idx)] -= alpha * dw\n",
    "        params['b'+str(layer_idx)] -= alpha * db\n",
    "\n",
    "    \n",
    "    return params"
   ]
  },
  {
   "cell_type": "markdown",
   "id": "ef524958",
   "metadata": {
    "papermill": {
     "duration": 0.032527,
     "end_time": "2021-08-01T10:54:39.898860",
     "exception": false,
     "start_time": "2021-08-01T10:54:39.866333",
     "status": "completed"
    },
    "tags": []
   },
   "source": [
    "## UDF for predictions"
   ]
  },
  {
   "cell_type": "code",
   "execution_count": 12,
   "id": "0c06c623",
   "metadata": {
    "execution": {
     "iopub.execute_input": "2021-08-01T10:54:39.967928Z",
     "iopub.status.busy": "2021-08-01T10:54:39.967286Z",
     "iopub.status.idle": "2021-08-01T10:54:39.972969Z",
     "shell.execute_reply": "2021-08-01T10:54:39.973436Z",
     "shell.execute_reply.started": "2021-08-01T10:25:47.504681Z"
    },
    "papermill": {
     "duration": 0.041816,
     "end_time": "2021-08-01T10:54:39.973627",
     "exception": false,
     "start_time": "2021-08-01T10:54:39.931811",
     "status": "completed"
    },
    "tags": []
   },
   "outputs": [],
   "source": [
    "def prediction(params,test_x,n_hidden,hidden_size_list,activation_list,threshold):\n",
    "    \n",
    "    #-----------------------------------------------------------------\n",
    "    #Forward Propagation on trained weights\n",
    "    cache,y_pred = forward_propagation(params_dict=params,\n",
    "                                  data_x=test_x,\n",
    "                                  data_y=None,\n",
    "                                  n_hidden=n_hidden,\n",
    "                                  hidden_size_list=hidden_size_list,\n",
    "                                  activation_list=activation_list,\n",
    "                                  mode='Test',\n",
    "                                  dropout_ratio_list=None)\n",
    "    #print(cache)\n",
    "    preds = np.where(y_pred>threshold,1,0).astype(float)\n",
    "    return cache,np.round(y_pred,4),preds"
   ]
  },
  {
   "cell_type": "markdown",
   "id": "e16e738d",
   "metadata": {
    "papermill": {
     "duration": 0.032538,
     "end_time": "2021-08-01T10:54:40.039278",
     "exception": false,
     "start_time": "2021-08-01T10:54:40.006740",
     "status": "completed"
    },
    "tags": []
   },
   "source": [
    "## Stochastic Gradient Descent (SGD) for training of the ANN "
   ]
  },
  {
   "cell_type": "code",
   "execution_count": 13,
   "id": "ff8a0953",
   "metadata": {
    "execution": {
     "iopub.execute_input": "2021-08-01T10:54:40.108966Z",
     "iopub.status.busy": "2021-08-01T10:54:40.108247Z",
     "iopub.status.idle": "2021-08-01T10:54:40.121835Z",
     "shell.execute_reply": "2021-08-01T10:54:40.122323Z",
     "shell.execute_reply.started": "2021-08-01T10:23:23.910682Z"
    },
    "papermill": {
     "duration": 0.050243,
     "end_time": "2021-08-01T10:54:40.122506",
     "exception": false,
     "start_time": "2021-08-01T10:54:40.072263",
     "status": "completed"
    },
    "tags": []
   },
   "outputs": [],
   "source": [
    "def ANN_train_sgd(data_x_overall,data_y_overall,batch_size,alpha,n_iters,n_hidden,hidden_size_list,activation_list,regularization,reg_lambda,dropout_ratio_list,mode='train'):\n",
    "    \n",
    "    print('Total training rows :',data_x_overall.shape[0])\n",
    "    \n",
    "    #----------------------------------------------------------------------------------------\n",
    "    #Creating x-y batches according to the provided batch_size\n",
    "    \n",
    "    n_batches = data_x_overall.shape[0]//batch_size\n",
    "    print('Total Batches to create in each epoch/iter :',n_batches)\n",
    "    \n",
    "    batches_x = np.array_split(data_x_overall,n_batches)\n",
    "    print('Total Batches of X:',len(batches_x))\n",
    "\n",
    "    batches_y = np.array_split(data_y_overall,n_batches)\n",
    "    print('Total Batches of y:',len(batches_y))\n",
    "    #-------------------------------------------------------------------------------------------\n",
    "    cost_history = [] #Record of cost through epochs\n",
    "\n",
    "    #-------------------------------------------------------------------------------------------\n",
    "    #Initialization of params\n",
    "    params_dict = generate_param_grid(a_prev=data_x_overall.T,\n",
    "                             n_hidden=n_hidden,\n",
    "                             hidden_size_list=hidden_size_list)\n",
    "    print('#----------------- Initial params ------------------#')\n",
    "    print(params_dict)\n",
    "    initial_params_abcd = params_dict.copy()\n",
    "    \n",
    "    #-------------------------------------------------------------------------------------------\n",
    "    cache_tray = []\n",
    "\n",
    "    for epoch in range(n_iters):\n",
    "\n",
    "        if (epoch>0) & (epoch%100==0):\n",
    "            print('#----------------------------------- Epoch :',epoch,'--------------------------------------#')\n",
    "            print('cost :',cost)\n",
    "            \n",
    "        for j in range(len(batches_x)): #For each batch created for each epoch/iter\n",
    "            \n",
    "            #-------------------------------------------------------------------------\n",
    "            #For each batch of data\n",
    "            data_x = batches_x[j]\n",
    "            data_y = batches_y[j]\n",
    "\n",
    "            #-------------------------------------------------------------------------\n",
    "            #Forward Propagation\n",
    "            cache,y_pred,drop_mask_cache = forward_propagation(params_dict=params_dict,\n",
    "                                                               data_x=data_x,\n",
    "                                                               data_y=data_y,\n",
    "                                                               n_hidden=n_hidden,\n",
    "                                                               hidden_size_list=hidden_size_list,\n",
    "                                                               activation_list=activation_list,\n",
    "                                                               mode='train',\n",
    "                                                               dropout_ratio_list=dropout_ratio_list)\n",
    "            #print(np.max(y_pred))\n",
    "            #cache_tray.append(cache)\n",
    "            #-------------------------------------------------------------------------\n",
    "            #Cost calculation\n",
    "            cost = cost_calculation(activation_list=activation_list,\n",
    "                             y_true=data_y.T,\n",
    "                             y_pred=y_pred,\n",
    "                             regularization=regularization,\n",
    "                             reg_lambda=reg_lambda,\n",
    "                             params_dict=params_dict,\n",
    "                             n_hidden=n_hidden)\n",
    "\n",
    "            #cost_history.append(cost)\n",
    "            #print('cost :',cost)\n",
    "\n",
    "            #-------------------------------------------------------------------------\n",
    "            #Back Propagation\n",
    "            grads_cache_ = back_propagation(cache=cache,\n",
    "                                           params_dict=params_dict,\n",
    "                                           data_x=data_x,\n",
    "                                           data_y=data_y,\n",
    "                                           n_hidden=n_hidden,\n",
    "                                           hidden_size_list=hidden_size_list,\n",
    "                                           activation_list=activation_list,\n",
    "                                           y_pred=y_pred,\n",
    "                                           regularization=regularization,\n",
    "                                           reg_lambda=reg_lambda,\n",
    "                                           drop_mask_cache=drop_mask_cache,\n",
    "                                           mode='train',\n",
    "                                           dropout_ratio_list=dropout_ratio_list)\n",
    "\n",
    "            #------------------------------------------------------------------------\n",
    "            #Updating weights\n",
    "            params_dict = update_weights(params=params_dict,\n",
    "                                         grads_cache=grads_cache_,\n",
    "                                         alpha=alpha,\n",
    "                                         n_hidden=n_hidden)\n",
    "            \n",
    "        cost_history.append(cost) #Appending cost after each epoch\n",
    "\n",
    "\n",
    "    return initial_params_abcd,params_dict,grads_cache_,cost_history,y_pred,cache_tray\n"
   ]
  },
  {
   "cell_type": "markdown",
   "id": "aa52ca3a",
   "metadata": {
    "papermill": {
     "duration": 0.032646,
     "end_time": "2021-08-01T10:54:40.188365",
     "exception": false,
     "start_time": "2021-08-01T10:54:40.155719",
     "status": "completed"
    },
    "tags": []
   },
   "source": [
    "# Training the model by invoking the above UDF"
   ]
  },
  {
   "cell_type": "code",
   "execution_count": 14,
   "id": "bce00a11",
   "metadata": {
    "execution": {
     "iopub.execute_input": "2021-08-01T10:54:40.257944Z",
     "iopub.status.busy": "2021-08-01T10:54:40.257289Z",
     "iopub.status.idle": "2021-08-01T10:54:43.054454Z",
     "shell.execute_reply": "2021-08-01T10:54:43.053684Z",
     "shell.execute_reply.started": "2021-08-01T10:47:41.781651Z"
    },
    "papermill": {
     "duration": 2.833342,
     "end_time": "2021-08-01T10:54:43.054644",
     "exception": false,
     "start_time": "2021-08-01T10:54:40.221302",
     "status": "completed"
    },
    "tags": []
   },
   "outputs": [
    {
     "name": "stdout",
     "output_type": "stream",
     "text": [
      "Total training rows : 792\n",
      "Total Batches to create in each epoch/iter : 15\n",
      "Total Batches of X: 15\n",
      "Total Batches of y: 15\n",
      "#----------------- Initial params ------------------#\n",
      "{'w1': array([[0.01969504, 0.08038849, 0.04558796, 0.03885373, 0.08728766,\n",
      "        0.01475095, 0.01390931, 0.00879712, 0.01337088, 0.08321983,\n",
      "        0.02709202],\n",
      "       [0.09495647, 0.06036213, 0.04474487, 0.00495821, 0.00971673,\n",
      "        0.00720743, 0.00261864, 0.06540441, 0.08404564, 0.06838748,\n",
      "        0.02659921],\n",
      "       [0.03994577, 0.03276146, 0.01746438, 0.0639513 , 0.01740135,\n",
      "        0.07691606, 0.04441942, 0.00271508, 0.09636714, 0.0573865 ,\n",
      "        0.03399123]]), 'b1': array([[0.],\n",
      "       [0.],\n",
      "       [0.]]), 'w2': array([[0.04187389, 0.00832198, 0.0181188 ]]), 'b2': array([[0.]])}\n",
      "#----------------------------------- Epoch : 100 --------------------------------------#\n",
      "cost : 0.6632801922667821\n",
      "#----------------------------------- Epoch : 200 --------------------------------------#\n",
      "cost : 0.6462451061768282\n",
      "#----------------------------------- Epoch : 300 --------------------------------------#\n",
      "cost : 0.5826531251450554\n",
      "#----------------------------------- Epoch : 400 --------------------------------------#\n",
      "cost : 0.5229064563912963\n",
      "#----------------------------------- Epoch : 500 --------------------------------------#\n",
      "cost : 0.532834746672382\n",
      "#----------------------------------- Epoch : 600 --------------------------------------#\n",
      "cost : 0.5199108339044576\n",
      "#----------------------------------- Epoch : 700 --------------------------------------#\n",
      "cost : 0.45590975556554536\n"
     ]
    }
   ],
   "source": [
    "#Defining hyper-parameters for ANN\n",
    "#--------------------------------------------------------------------------------------------------------------------------\n",
    "n_hidden = 2       #No of hidden layers\n",
    "alpha = 0.003      #Learning_rate\n",
    "n_iters = 701      #Total epochs\n",
    "hidden_size_list = [0,3,1]               #first element will be 0 and not counted in hidden layers\n",
    "activation_list = [0,'relu','sigmoid']   #first element will be 0 and not counted in hidden layers\n",
    "batch_size = 50    #Batch wise gradient descent\n",
    "regularization = 'L2'\n",
    "reg_lambda = 0.09\n",
    "dropout_ratio_list = [np.nan,0.6]\n",
    "\n",
    "#--------------------------------------------------------------------------------------------------------------------------\n",
    "initial_params_train,params_dict_train,grads,cost_history_train,y_pred_train,cache_tray = ANN_train_sgd(data_x_overall=X_arr,\n",
    "                                                                                                       data_y_overall=y_arr,\n",
    "                                                                                                       batch_size=batch_size,\n",
    "                                                                                                       alpha=alpha,\n",
    "                                                                                                       n_iters=n_iters,\n",
    "                                                                                                       n_hidden=n_hidden,\n",
    "                                                                                                       hidden_size_list=hidden_size_list,\n",
    "                                                                                                       activation_list=activation_list,\n",
    "                                                                                                       regularization=regularization,\n",
    "                                                                                                       reg_lambda=reg_lambda,\n",
    "                                                                                                       dropout_ratio_list=dropout_ratio_list)"
   ]
  },
  {
   "cell_type": "markdown",
   "id": "d1941730",
   "metadata": {
    "papermill": {
     "duration": 0.035884,
     "end_time": "2021-08-01T10:54:43.126974",
     "exception": false,
     "start_time": "2021-08-01T10:54:43.091090",
     "status": "completed"
    },
    "tags": []
   },
   "source": [
    "# Cost-Epoch plot for the manual ANN training "
   ]
  },
  {
   "cell_type": "code",
   "execution_count": 15,
   "id": "94dc71fc",
   "metadata": {
    "execution": {
     "iopub.execute_input": "2021-08-01T10:54:43.207438Z",
     "iopub.status.busy": "2021-08-01T10:54:43.206780Z",
     "iopub.status.idle": "2021-08-01T10:54:43.509555Z",
     "shell.execute_reply": "2021-08-01T10:54:43.509008Z",
     "shell.execute_reply.started": "2021-08-01T10:47:46.843040Z"
    },
    "papermill": {
     "duration": 0.346425,
     "end_time": "2021-08-01T10:54:43.509723",
     "exception": false,
     "start_time": "2021-08-01T10:54:43.163298",
     "status": "completed"
    },
    "tags": []
   },
   "outputs": [
    {
     "data": {
      "text/plain": [
       "[Text(0.5, 0, 'epochs'),\n",
       " Text(0, 0.5, 'cost'),\n",
       " Text(0.5, 1.0, 'Cost vs epoch plot for Manual ANN')]"
      ]
     },
     "execution_count": 15,
     "metadata": {},
     "output_type": "execute_result"
    },
    {
     "data": {
      "image/png": "[encoded data removed]",
      "text/plain": [
       "<Figure size 432x288 with 1 Axes>"
      ]
     },
     "metadata": {
      "needs_background": "light"
     },
     "output_type": "display_data"
    }
   ],
   "source": [
    "#Cost plot over epochs (1 value at end of each epoch) - over the last batch\n",
    "ax = sns.lineplot(x=list(range(n_iters)),y=cost_history_train)\n",
    "ax.set(xlabel='epochs',ylabel='cost',title='Cost vs epoch plot for Manual ANN')"
   ]
  },
  {
   "cell_type": "markdown",
   "id": "d6517299",
   "metadata": {
    "papermill": {
     "duration": 0.036463,
     "end_time": "2021-08-01T10:54:43.583314",
     "exception": false,
     "start_time": "2021-08-01T10:54:43.546851",
     "status": "completed"
    },
    "tags": []
   },
   "source": [
    "## Insights : The shaky behavior of the loss value might be due to the randomness in the drop out mask for each batch through every epoch. But the loss function still decreases overally"
   ]
  },
  {
   "cell_type": "markdown",
   "id": "373c7cff",
   "metadata": {
    "papermill": {
     "duration": 0.036503,
     "end_time": "2021-08-01T10:54:43.656576",
     "exception": false,
     "start_time": "2021-08-01T10:54:43.620073",
     "status": "completed"
    },
    "tags": []
   },
   "source": [
    "# Predict on the test data"
   ]
  },
  {
   "cell_type": "code",
   "execution_count": 16,
   "id": "c8650fbe",
   "metadata": {
    "execution": {
     "iopub.execute_input": "2021-08-01T10:54:43.741769Z",
     "iopub.status.busy": "2021-08-01T10:54:43.741016Z",
     "iopub.status.idle": "2021-08-01T10:54:43.749901Z",
     "shell.execute_reply": "2021-08-01T10:54:43.749037Z",
     "shell.execute_reply.started": "2021-08-01T10:36:28.165739Z"
    },
    "papermill": {
     "duration": 0.056789,
     "end_time": "2021-08-01T10:54:43.750099",
     "exception": false,
     "start_time": "2021-08-01T10:54:43.693310",
     "status": "completed"
    },
    "tags": []
   },
   "outputs": [
    {
     "name": "stdout",
     "output_type": "stream",
     "text": [
      "Shape of prediction array : (1, 100)\n",
      "Unique predictions : [0. 1.]\n",
      "Unique of predict proba : [0.0878 0.1136 0.1285 0.1297 0.1369 0.1389 0.1501 0.1569 0.162  0.1631\n",
      " 0.1679 0.1684 0.1686 0.1707 0.1711 0.1726 0.1732 0.1737 0.1744 0.1757\n",
      " 0.1758 0.1798 0.18   0.1851 0.1855 0.1862 0.1872 0.1875 0.1892 0.1924\n",
      " 0.1926 0.1934 0.1949 0.1967 0.197  0.1974 0.2058 0.2099 0.2103 0.2107\n",
      " 0.2474 0.2476 0.2584 0.2629 0.2782 0.2788 0.2795 0.2827 0.284  0.2911\n",
      " 0.2943 0.3058 0.309  0.3166 0.3208 0.3282 0.3291 0.3716 0.3717 0.3824\n",
      " 0.3998 0.437  0.4419 0.4441 0.4578 0.4591 0.4615 0.4628 0.4677 0.4819\n",
      " 0.4829 0.4895 0.5905 0.6859 0.6969 0.7111 0.7401 0.7547 0.7972 0.8398\n",
      " 0.8548 0.8605 0.8623 0.8679 0.8711 0.9104 0.9123 0.9129 0.9237 0.93\n",
      " 0.941  0.9441 0.9543 0.9611 0.9708] \n",
      "\n",
      "#--------------------- Evaluation ----------------------#\n",
      "ROC AUC of test set : 0.7760416666666667\n",
      "Accuracy of test set : 0.83\n"
     ]
    }
   ],
   "source": [
    "cache,preds_proba,manual_preds = prediction(params=params_dict_train,\n",
    "                                            test_x=X_test_arr,\n",
    "                                            n_hidden=n_hidden,\n",
    "                                            hidden_size_list=hidden_size_list,\n",
    "                                            activation_list=activation_list,\n",
    "                                            threshold=0.5)\n",
    "\n",
    "#-------------------------------------------------------------------------------------------\n",
    "print('Shape of prediction array :',preds_proba.shape)\n",
    "print('Unique predictions :',np.unique(manual_preds))\n",
    "print('Unique of predict proba :',np.unique(preds_proba),'\\n')\n",
    "\n",
    "print('#--------------------- Evaluation ----------------------#')\n",
    "#Evaluation of the predictions\n",
    "print('ROC AUC of test set :',roc_auc_score(y_test_arr.ravel(),manual_preds.ravel()))\n",
    "print('Accuracy of test set :',accuracy_score(y_test_arr.ravel(),manual_preds.ravel()))"
   ]
  },
  {
   "cell_type": "markdown",
   "id": "4519a810",
   "metadata": {
    "papermill": {
     "duration": 0.037489,
     "end_time": "2021-08-01T10:54:43.825438",
     "exception": false,
     "start_time": "2021-08-01T10:54:43.787949",
     "status": "completed"
    },
    "tags": []
   },
   "source": [
    "# Benchmarking with Keras functional API"
   ]
  },
  {
   "cell_type": "markdown",
   "id": "7be2d75a",
   "metadata": {
    "papermill": {
     "duration": 0.036931,
     "end_time": "2021-08-01T10:54:43.899853",
     "exception": false,
     "start_time": "2021-08-01T10:54:43.862922",
     "status": "completed"
    },
    "tags": []
   },
   "source": [
    "## Importing necessary libraries"
   ]
  },
  {
   "cell_type": "code",
   "execution_count": 17,
   "id": "dfb7b427",
   "metadata": {
    "execution": {
     "iopub.execute_input": "2021-08-01T10:54:43.980242Z",
     "iopub.status.busy": "2021-08-01T10:54:43.979547Z",
     "iopub.status.idle": "2021-08-01T10:54:49.577575Z",
     "shell.execute_reply": "2021-08-01T10:54:49.578528Z",
     "shell.execute_reply.started": "2021-08-01T10:36:31.832210Z"
    },
    "papermill": {
     "duration": 5.641622,
     "end_time": "2021-08-01T10:54:49.578845",
     "exception": false,
     "start_time": "2021-08-01T10:54:43.937223",
     "status": "completed"
    },
    "tags": []
   },
   "outputs": [],
   "source": [
    "import tensorflow as tf\n",
    "import keras\n",
    "import tensorflow.keras.models\n",
    "import tensorflow.keras.layers as tfl\n",
    "from tensorflow.keras import Input\n",
    "from tensorflow.keras import Model\n",
    "from sklearn.preprocessing import StandardScaler\n",
    "from keras.layers import BatchNormalization"
   ]
  },
  {
   "cell_type": "markdown",
   "id": "63c9d668",
   "metadata": {
    "papermill": {
     "duration": 0.039222,
     "end_time": "2021-08-01T10:54:49.667643",
     "exception": false,
     "start_time": "2021-08-01T10:54:49.628421",
     "status": "completed"
    },
    "tags": []
   },
   "source": [
    "## Defining the model with same specifications as manual "
   ]
  },
  {
   "cell_type": "code",
   "execution_count": 18,
   "id": "35e7347d",
   "metadata": {
    "execution": {
     "iopub.execute_input": "2021-08-01T10:54:49.755460Z",
     "iopub.status.busy": "2021-08-01T10:54:49.754432Z",
     "iopub.status.idle": "2021-08-01T10:54:50.063970Z",
     "shell.execute_reply": "2021-08-01T10:54:50.064435Z",
     "shell.execute_reply.started": "2021-08-01T10:38:12.432204Z"
    },
    "papermill": {
     "duration": 0.358454,
     "end_time": "2021-08-01T10:54:50.064731",
     "exception": false,
     "start_time": "2021-08-01T10:54:49.706277",
     "status": "completed"
    },
    "tags": []
   },
   "outputs": [
    {
     "name": "stdout",
     "output_type": "stream",
     "text": [
      "Regularization applied : L2\n",
      "Model: \"ANN_keras\"\n",
      "_________________________________________________________________\n",
      "Layer (type)                 Output Shape              Param #   \n",
      "=================================================================\n",
      "input_1 (InputLayer)         [(None, 11)]              0         \n",
      "_________________________________________________________________\n",
      "Dense_3 (Dense)              (None, 3)                 36        \n",
      "_________________________________________________________________\n",
      "dropout (Dropout)            (None, 3)                 0         \n",
      "_________________________________________________________________\n",
      "pred (Dense)                 (None, 1)                 4         \n",
      "=================================================================\n",
      "Total params: 40\n",
      "Trainable params: 40\n",
      "Non-trainable params: 0\n",
      "_________________________________________________________________\n"
     ]
    }
   ],
   "source": [
    "#Defining regularization application to the keras functional API\n",
    "if regularization=='L1':\n",
    "    print('Regularization applied :',regularization,'-:',reg_lambda)\n",
    "    reg_keras = tf.keras.regularizers.l1(reg_lambda)\n",
    "elif regularization=='L2':\n",
    "    print('Regularization applied :',regularization)\n",
    "    reg_keras = tf.keras.regularizers.l2(reg_lambda)\n",
    "elif regularization==None:\n",
    "    print('Regularization applied :',regularization)\n",
    "    reg_keras = None\n",
    "\n",
    "def ANN_keras(x):\n",
    "    \n",
    "    input_ = tfl.Input(shape=(x.shape[1],))\n",
    "    \n",
    "    x = tfl.Dense(3,activation='relu', kernel_regularizer=reg_keras,name = 'Dense_3')(input_) #Layer 1\n",
    "    x = tfl.Dropout(rate=0.2)(x)\n",
    "    \n",
    "    preds = tfl.Dense(1, activation=\"sigmoid\", name=\"pred\")(x) #Output layer\n",
    "    \n",
    "    model = Model(input_, preds, name=\"ANN_keras\")\n",
    "    model.compile(loss=\"binary_crossentropy\", optimizer=tf.keras.optimizers.SGD(learning_rate=alpha)) #Stochastic Gradient Descent with specified alpha\n",
    "    \n",
    "    return model\n",
    "    \n",
    "model = ANN_keras(X_arr)\n",
    "model.summary()"
   ]
  },
  {
   "cell_type": "markdown",
   "id": "cb9e8a8d",
   "metadata": {
    "papermill": {
     "duration": 0.038329,
     "end_time": "2021-08-01T10:54:50.144516",
     "exception": false,
     "start_time": "2021-08-01T10:54:50.106187",
     "status": "completed"
    },
    "tags": []
   },
   "source": [
    "## Training the model"
   ]
  },
  {
   "cell_type": "code",
   "execution_count": 19,
   "id": "362a03ea",
   "metadata": {
    "execution": {
     "iopub.execute_input": "2021-08-01T10:54:50.236132Z",
     "iopub.status.busy": "2021-08-01T10:54:50.235152Z",
     "iopub.status.idle": "2021-08-01T10:55:39.547752Z",
     "shell.execute_reply": "2021-08-01T10:55:39.548255Z",
     "shell.execute_reply.started": "2021-08-01T10:45:26.962761Z"
    },
    "papermill": {
     "duration": 49.356964,
     "end_time": "2021-08-01T10:55:39.548462",
     "exception": false,
     "start_time": "2021-08-01T10:54:50.191498",
     "status": "completed"
    },
    "tags": []
   },
   "outputs": [],
   "source": [
    "history = model.fit(X_arr,y_arr, epochs=n_iters, batch_size=batch_size,\n",
    "                    validation_data = (X_test_arr,y_test_arr),verbose=0) #Keeping verbosity 0 to minimize the length of the notebook"
   ]
  },
  {
   "cell_type": "markdown",
   "id": "0bfa2b1a",
   "metadata": {
    "papermill": {
     "duration": 0.037907,
     "end_time": "2021-08-01T10:55:39.625363",
     "exception": false,
     "start_time": "2021-08-01T10:55:39.587456",
     "status": "completed"
    },
    "tags": []
   },
   "source": [
    "## Predicting through keras model"
   ]
  },
  {
   "cell_type": "code",
   "execution_count": 20,
   "id": "0032e4c3",
   "metadata": {
    "execution": {
     "iopub.execute_input": "2021-08-01T10:55:39.705794Z",
     "iopub.status.busy": "2021-08-01T10:55:39.704848Z",
     "iopub.status.idle": "2021-08-01T10:55:39.828483Z",
     "shell.execute_reply": "2021-08-01T10:55:39.827809Z",
     "shell.execute_reply.started": "2021-08-01T10:40:25.870786Z"
    },
    "papermill": {
     "duration": 0.165236,
     "end_time": "2021-08-01T10:55:39.828670",
     "exception": false,
     "start_time": "2021-08-01T10:55:39.663434",
     "status": "completed"
    },
    "tags": []
   },
   "outputs": [
    {
     "name": "stdout",
     "output_type": "stream",
     "text": [
      "#--------------------- Keras Model Evaluation ----------------------#\n",
      "ROC AUC of test set : 0.8003472222222222\n",
      "Accuracy of test set : 0.83\n"
     ]
    }
   ],
   "source": [
    "keras_pred = model.predict(X_test_arr)\n",
    "keras_pred = np.where(keras_pred>0.5,1,0)\n",
    "\n",
    "#print(np.unique(keras_pred))\n",
    "print('#--------------------- Keras Model Evaluation ----------------------#')\n",
    "#Evaluation of the predictions\n",
    "print('ROC AUC of test set :',roc_auc_score(y_test_arr.ravel(),keras_pred.ravel()))\n",
    "print('Accuracy of test set :',accuracy_score(y_test_arr.ravel(),keras_pred.ravel()))"
   ]
  },
  {
   "cell_type": "code",
   "execution_count": 21,
   "id": "2dbdfc71",
   "metadata": {
    "execution": {
     "iopub.execute_input": "2021-08-01T10:55:39.938414Z",
     "iopub.status.busy": "2021-08-01T10:55:39.917277Z",
     "iopub.status.idle": "2021-08-01T10:55:40.188847Z",
     "shell.execute_reply": "2021-08-01T10:55:40.188270Z",
     "shell.execute_reply.started": "2021-08-01T10:44:18.613068Z"
    },
    "papermill": {
     "duration": 0.318755,
     "end_time": "2021-08-01T10:55:40.188985",
     "exception": false,
     "start_time": "2021-08-01T10:55:39.870230",
     "status": "completed"
    },
    "tags": []
   },
   "outputs": [
    {
     "name": "stdout",
     "output_type": "stream",
     "text": [
      "dict_keys(['loss', 'val_loss'])\n"
     ]
    },
    {
     "data": {
      "text/plain": [
       "[Text(0.5, 0, 'epochs'),\n",
       " Text(0, 0.5, 'cost'),\n",
       " Text(0.5, 1.0, 'Cost vs epoch plot for KERAS ANN')]"
      ]
     },
     "execution_count": 21,
     "metadata": {},
     "output_type": "execute_result"
    },
    {
     "data": {
      "image/png": "[encoded data removed]",
      "text/plain": [
       "<Figure size 432x288 with 1 Axes>"
      ]
     },
     "metadata": {
      "needs_background": "light"
     },
     "output_type": "display_data"
    }
   ],
   "source": [
    "# list all data in history\n",
    "print(history.history.keys())\n",
    "\n",
    "#Cost plot over epochs (1 value at end of each epoch) - over the last batch\n",
    "ax = sns.lineplot(x=list(range(n_iters)),y=history.history['loss'])\n",
    "ax.set(xlabel='epochs',ylabel='cost',title='Cost vs epoch plot for KERAS ANN')"
   ]
  },
  {
   "cell_type": "markdown",
   "id": "31e66a5c",
   "metadata": {
    "papermill": {
     "duration": 0.039818,
     "end_time": "2021-08-01T10:55:40.269282",
     "exception": false,
     "start_time": "2021-08-01T10:55:40.229464",
     "status": "completed"
    },
    "tags": []
   },
   "source": [
    "# Insights : The manual implementation of ANN is giving very similar predictions (better by ~7% !!) as that to the Keras counterparts, indicating the implementation is correct and comparable"
   ]
  },
  {
   "cell_type": "markdown",
   "id": "7602761e",
   "metadata": {
    "papermill": {
     "duration": 0.039985,
     "end_time": "2021-08-01T10:55:40.349342",
     "exception": false,
     "start_time": "2021-08-01T10:55:40.309357",
     "status": "completed"
    },
    "tags": []
   },
   "source": [
    "# END"
   ]
  },
  {
   "cell_type": "code",
   "execution_count": null,
   "id": "07759c42",
   "metadata": {
    "papermill": {
     "duration": 0.039633,
     "end_time": "2021-08-01T10:55:40.428994",
     "exception": false,
     "start_time": "2021-08-01T10:55:40.389361",
     "status": "completed"
    },
    "tags": []
   },
   "outputs": [],
   "source": []
  }
 ],
 "metadata": {
  "kernelspec": {
   "display_name": "Python 3",
   "language": "python",
   "name": "python3"
  },
  "language_info": {
   "codemirror_mode": {
    "name": "ipython",
    "version": 3
   },
   "file_extension": ".py",
   "mimetype": "text/x-python",
   "name": "python",
   "nbconvert_exporter": "python",
   "pygments_lexer": "ipython3",
   "version": "3.7.10"
  },
  "papermill": {
   "default_parameters": {},
   "duration": 73.923483,
   "end_time": "2021-08-01T10:55:42.751631",
   "environment_variables": {},
   "exception": null,
   "input_path": "__notebook__.ipynb",
   "output_path": "__notebook__.ipynb",
   "parameters": {},
   "start_time": "2021-08-01T10:54:28.828148",
   "version": "2.3.3"
  }
 },
 "nbformat": 4,
 "nbformat_minor": 5
}
